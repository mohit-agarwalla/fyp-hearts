{
 "cells": [
  {
   "cell_type": "code",
   "execution_count": 26,
   "metadata": {},
   "outputs": [],
   "source": [
    "import os\n",
    "os.chdir(r\"C:\\Mohit\\Imperial\\fyp-hearts\")"
   ]
  },
  {
   "cell_type": "code",
   "execution_count": 27,
   "metadata": {},
   "outputs": [],
   "source": [
    "import pandas as pd\n",
    "import numpy as np\n",
    "import matplotlib.pyplot as plt\n",
    "import utils"
   ]
  },
  {
   "cell_type": "code",
   "execution_count": 28,
   "metadata": {},
   "outputs": [],
   "source": [
    "datafolder = os.getcwd()+'/datasets/PTB-XL/'\n",
    "data, raw_labels = utils.load_dataset(datafolder, 100)"
   ]
  },
  {
   "cell_type": "code",
   "execution_count": 29,
   "metadata": {},
   "outputs": [
    {
     "data": {
      "text/plain": [
       "9     692\n",
       "1     683\n",
       "2     681\n",
       "10    678\n",
       "6     677\n",
       "7     676\n",
       "3     673\n",
       "4     669\n",
       "5     669\n",
       "8     650\n",
       "Name: strat_fold, dtype: int64"
      ]
     },
     "execution_count": 29,
     "metadata": {},
     "output_type": "execute_result"
    }
   ],
   "source": [
    "raw_labels.dropna(subset=['weight','age', 'sex', 'height'])['strat_fold'].value_counts()"
   ]
  },
  {
   "cell_type": "code",
   "execution_count": 30,
   "metadata": {},
   "outputs": [
    {
     "data": {
      "text/plain": [
       "10    2198\n",
       "3     2192\n",
       "9     2183\n",
       "2     2181\n",
       "7     2176\n",
       "1     2175\n",
       "5     2174\n",
       "4     2174\n",
       "8     2173\n",
       "6     2173\n",
       "Name: strat_fold, dtype: int64"
      ]
     },
     "execution_count": 30,
     "metadata": {},
     "output_type": "execute_result"
    }
   ],
   "source": [
    "raw_labels['strat_fold'].value_counts()"
   ]
  },
  {
   "cell_type": "code",
   "execution_count": 31,
   "metadata": {},
   "outputs": [
    {
     "data": {
      "text/html": [
       "<div>\n",
       "<style scoped>\n",
       "    .dataframe tbody tr th:only-of-type {\n",
       "        vertical-align: middle;\n",
       "    }\n",
       "\n",
       "    .dataframe tbody tr th {\n",
       "        vertical-align: top;\n",
       "    }\n",
       "\n",
       "    .dataframe thead th {\n",
       "        text-align: right;\n",
       "    }\n",
       "</style>\n",
       "<table border=\"1\" class=\"dataframe\">\n",
       "  <thead>\n",
       "    <tr style=\"text-align: right;\">\n",
       "      <th></th>\n",
       "      <th>patient_id</th>\n",
       "      <th>age</th>\n",
       "      <th>sex</th>\n",
       "      <th>height</th>\n",
       "      <th>weight</th>\n",
       "      <th>nurse</th>\n",
       "      <th>site</th>\n",
       "      <th>device</th>\n",
       "      <th>recording_date</th>\n",
       "      <th>report</th>\n",
       "      <th>...</th>\n",
       "      <th>validated_by_human</th>\n",
       "      <th>baseline_drift</th>\n",
       "      <th>static_noise</th>\n",
       "      <th>burst_noise</th>\n",
       "      <th>electrodes_problems</th>\n",
       "      <th>extra_beats</th>\n",
       "      <th>pacemaker</th>\n",
       "      <th>strat_fold</th>\n",
       "      <th>filename_lr</th>\n",
       "      <th>filename_hr</th>\n",
       "    </tr>\n",
       "    <tr>\n",
       "      <th>ecg_id</th>\n",
       "      <th></th>\n",
       "      <th></th>\n",
       "      <th></th>\n",
       "      <th></th>\n",
       "      <th></th>\n",
       "      <th></th>\n",
       "      <th></th>\n",
       "      <th></th>\n",
       "      <th></th>\n",
       "      <th></th>\n",
       "      <th></th>\n",
       "      <th></th>\n",
       "      <th></th>\n",
       "      <th></th>\n",
       "      <th></th>\n",
       "      <th></th>\n",
       "      <th></th>\n",
       "      <th></th>\n",
       "      <th></th>\n",
       "      <th></th>\n",
       "      <th></th>\n",
       "    </tr>\n",
       "  </thead>\n",
       "  <tbody>\n",
       "    <tr>\n",
       "      <th>101</th>\n",
       "      <td>9086.0</td>\n",
       "      <td>48.0</td>\n",
       "      <td>1</td>\n",
       "      <td>172.0</td>\n",
       "      <td>72.0</td>\n",
       "      <td>0.0</td>\n",
       "      <td>0.0</td>\n",
       "      <td>CS-12   E</td>\n",
       "      <td>1985-12-11 11:50:40</td>\n",
       "      <td>sinusrytm normalt ekg</td>\n",
       "      <td>...</td>\n",
       "      <td>True</td>\n",
       "      <td>NaN</td>\n",
       "      <td>, I-AVF,</td>\n",
       "      <td>NaN</td>\n",
       "      <td>NaN</td>\n",
       "      <td>NaN</td>\n",
       "      <td>NaN</td>\n",
       "      <td>4</td>\n",
       "      <td>records100/00000/00101_lr</td>\n",
       "      <td>records500/00000/00101_hr</td>\n",
       "    </tr>\n",
       "    <tr>\n",
       "      <th>116</th>\n",
       "      <td>19695.0</td>\n",
       "      <td>49.0</td>\n",
       "      <td>1</td>\n",
       "      <td>174.0</td>\n",
       "      <td>74.0</td>\n",
       "      <td>2.0</td>\n",
       "      <td>0.0</td>\n",
       "      <td>CS-12   E</td>\n",
       "      <td>1986-01-10 14:00:09</td>\n",
       "      <td>sinusrhythmus linkstyp unspezifisches abnormal...</td>\n",
       "      <td>...</td>\n",
       "      <td>True</td>\n",
       "      <td>NaN</td>\n",
       "      <td>, I,III-AVR,</td>\n",
       "      <td>NaN</td>\n",
       "      <td>NaN</td>\n",
       "      <td>NaN</td>\n",
       "      <td>NaN</td>\n",
       "      <td>10</td>\n",
       "      <td>records100/00000/00116_lr</td>\n",
       "      <td>records500/00000/00116_hr</td>\n",
       "    </tr>\n",
       "    <tr>\n",
       "      <th>136</th>\n",
       "      <td>13445.0</td>\n",
       "      <td>52.0</td>\n",
       "      <td>0</td>\n",
       "      <td>167.0</td>\n",
       "      <td>72.0</td>\n",
       "      <td>NaN</td>\n",
       "      <td>3.0</td>\n",
       "      <td>CS-12   E</td>\n",
       "      <td>1986-02-21 16:49:02</td>\n",
       "      <td>sinusrytm normalt ekg</td>\n",
       "      <td>...</td>\n",
       "      <td>True</td>\n",
       "      <td>NaN</td>\n",
       "      <td>NaN</td>\n",
       "      <td>NaN</td>\n",
       "      <td>NaN</td>\n",
       "      <td>NaN</td>\n",
       "      <td>NaN</td>\n",
       "      <td>5</td>\n",
       "      <td>records100/00000/00136_lr</td>\n",
       "      <td>records500/00000/00136_hr</td>\n",
       "    </tr>\n",
       "    <tr>\n",
       "      <th>146</th>\n",
       "      <td>13447.0</td>\n",
       "      <td>45.0</td>\n",
       "      <td>0</td>\n",
       "      <td>182.0</td>\n",
       "      <td>90.0</td>\n",
       "      <td>NaN</td>\n",
       "      <td>3.0</td>\n",
       "      <td>CS-12   E</td>\n",
       "      <td>1986-02-23 11:41:43</td>\n",
       "      <td>sinusrytm ospecifikt skÄnkelblock avvikande qr...</td>\n",
       "      <td>...</td>\n",
       "      <td>True</td>\n",
       "      <td>NaN</td>\n",
       "      <td>NaN</td>\n",
       "      <td>NaN</td>\n",
       "      <td>NaN</td>\n",
       "      <td>NaN</td>\n",
       "      <td>NaN</td>\n",
       "      <td>7</td>\n",
       "      <td>records100/00000/00146_lr</td>\n",
       "      <td>records500/00000/00146_hr</td>\n",
       "    </tr>\n",
       "    <tr>\n",
       "      <th>156</th>\n",
       "      <td>19547.0</td>\n",
       "      <td>49.0</td>\n",
       "      <td>1</td>\n",
       "      <td>159.0</td>\n",
       "      <td>70.0</td>\n",
       "      <td>NaN</td>\n",
       "      <td>3.0</td>\n",
       "      <td>CS-12   E</td>\n",
       "      <td>1986-03-05 08:34:41</td>\n",
       "      <td>sinusrytm avvikande qrs(t) fÖrlopp    inferior...</td>\n",
       "      <td>...</td>\n",
       "      <td>True</td>\n",
       "      <td>NaN</td>\n",
       "      <td>NaN</td>\n",
       "      <td>NaN</td>\n",
       "      <td>NaN</td>\n",
       "      <td>NaN</td>\n",
       "      <td>NaN</td>\n",
       "      <td>7</td>\n",
       "      <td>records100/00000/00156_lr</td>\n",
       "      <td>records500/00000/00156_hr</td>\n",
       "    </tr>\n",
       "    <tr>\n",
       "      <th>...</th>\n",
       "      <td>...</td>\n",
       "      <td>...</td>\n",
       "      <td>...</td>\n",
       "      <td>...</td>\n",
       "      <td>...</td>\n",
       "      <td>...</td>\n",
       "      <td>...</td>\n",
       "      <td>...</td>\n",
       "      <td>...</td>\n",
       "      <td>...</td>\n",
       "      <td>...</td>\n",
       "      <td>...</td>\n",
       "      <td>...</td>\n",
       "      <td>...</td>\n",
       "      <td>...</td>\n",
       "      <td>...</td>\n",
       "      <td>...</td>\n",
       "      <td>...</td>\n",
       "      <td>...</td>\n",
       "      <td>...</td>\n",
       "      <td>...</td>\n",
       "    </tr>\n",
       "    <tr>\n",
       "      <th>20943</th>\n",
       "      <td>8542.0</td>\n",
       "      <td>52.0</td>\n",
       "      <td>0</td>\n",
       "      <td>174.0</td>\n",
       "      <td>80.0</td>\n",
       "      <td>1.0</td>\n",
       "      <td>2.0</td>\n",
       "      <td>CS-12</td>\n",
       "      <td>1999-12-18 17:15:19</td>\n",
       "      <td>sinusrhythmus lagetyp normal unspezifische abn...</td>\n",
       "      <td>...</td>\n",
       "      <td>True</td>\n",
       "      <td>NaN</td>\n",
       "      <td>NaN</td>\n",
       "      <td>NaN</td>\n",
       "      <td>NaN</td>\n",
       "      <td>NaN</td>\n",
       "      <td>NaN</td>\n",
       "      <td>10</td>\n",
       "      <td>records100/20000/20943_lr</td>\n",
       "      <td>records500/20000/20943_hr</td>\n",
       "    </tr>\n",
       "    <tr>\n",
       "      <th>20970</th>\n",
       "      <td>18531.0</td>\n",
       "      <td>58.0</td>\n",
       "      <td>0</td>\n",
       "      <td>168.0</td>\n",
       "      <td>74.0</td>\n",
       "      <td>1.0</td>\n",
       "      <td>2.0</td>\n",
       "      <td>AT-60    3</td>\n",
       "      <td>2000-01-04 09:17:10</td>\n",
       "      <td>sinustachykardie p-sinistrocardiale linkstyp p...</td>\n",
       "      <td>...</td>\n",
       "      <td>True</td>\n",
       "      <td>NaN</td>\n",
       "      <td>NaN</td>\n",
       "      <td>NaN</td>\n",
       "      <td>NaN</td>\n",
       "      <td>NaN</td>\n",
       "      <td>NaN</td>\n",
       "      <td>6</td>\n",
       "      <td>records100/20000/20970_lr</td>\n",
       "      <td>records500/20000/20970_hr</td>\n",
       "    </tr>\n",
       "    <tr>\n",
       "      <th>21040</th>\n",
       "      <td>18531.0</td>\n",
       "      <td>58.0</td>\n",
       "      <td>0</td>\n",
       "      <td>168.0</td>\n",
       "      <td>74.0</td>\n",
       "      <td>1.0</td>\n",
       "      <td>2.0</td>\n",
       "      <td>AT-60    3</td>\n",
       "      <td>2000-01-22 09:04:39</td>\n",
       "      <td>sinusrhythmus a-v block i p-sinistrocardiale l...</td>\n",
       "      <td>...</td>\n",
       "      <td>True</td>\n",
       "      <td>NaN</td>\n",
       "      <td>NaN</td>\n",
       "      <td>NaN</td>\n",
       "      <td>NaN</td>\n",
       "      <td>NaN</td>\n",
       "      <td>NaN</td>\n",
       "      <td>6</td>\n",
       "      <td>records100/21000/21040_lr</td>\n",
       "      <td>records500/21000/21040_hr</td>\n",
       "    </tr>\n",
       "    <tr>\n",
       "      <th>21106</th>\n",
       "      <td>9502.0</td>\n",
       "      <td>47.0</td>\n",
       "      <td>1</td>\n",
       "      <td>160.0</td>\n",
       "      <td>50.0</td>\n",
       "      <td>1.0</td>\n",
       "      <td>2.0</td>\n",
       "      <td>AT-60    3</td>\n",
       "      <td>2000-05-19 11:38:28</td>\n",
       "      <td>sinusrhythmus lagetyp normal normales ekg 4.46...</td>\n",
       "      <td>...</td>\n",
       "      <td>True</td>\n",
       "      <td>NaN</td>\n",
       "      <td>NaN</td>\n",
       "      <td>NaN</td>\n",
       "      <td>NaN</td>\n",
       "      <td>NaN</td>\n",
       "      <td>NaN</td>\n",
       "      <td>1</td>\n",
       "      <td>records100/21000/21106_lr</td>\n",
       "      <td>records500/21000/21106_hr</td>\n",
       "    </tr>\n",
       "    <tr>\n",
       "      <th>21344</th>\n",
       "      <td>15901.0</td>\n",
       "      <td>57.0</td>\n",
       "      <td>1</td>\n",
       "      <td>168.0</td>\n",
       "      <td>97.0</td>\n",
       "      <td>1.0</td>\n",
       "      <td>2.0</td>\n",
       "      <td>CS-12</td>\n",
       "      <td>2000-09-10 12:20:36</td>\n",
       "      <td>sinusrhythmus lagetyp normal normales ekg</td>\n",
       "      <td>...</td>\n",
       "      <td>True</td>\n",
       "      <td>NaN</td>\n",
       "      <td>NaN</td>\n",
       "      <td>NaN</td>\n",
       "      <td>NaN</td>\n",
       "      <td>NaN</td>\n",
       "      <td>NaN</td>\n",
       "      <td>1</td>\n",
       "      <td>records100/21000/21344_lr</td>\n",
       "      <td>records500/21000/21344_hr</td>\n",
       "    </tr>\n",
       "  </tbody>\n",
       "</table>\n",
       "<p>6748 rows × 27 columns</p>\n",
       "</div>"
      ],
      "text/plain": [
       "        patient_id   age  sex  height  weight  nurse  site      device  \\\n",
       "ecg_id                                                                   \n",
       "101         9086.0  48.0    1   172.0    72.0    0.0   0.0   CS-12   E   \n",
       "116        19695.0  49.0    1   174.0    74.0    2.0   0.0   CS-12   E   \n",
       "136        13445.0  52.0    0   167.0    72.0    NaN   3.0   CS-12   E   \n",
       "146        13447.0  45.0    0   182.0    90.0    NaN   3.0   CS-12   E   \n",
       "156        19547.0  49.0    1   159.0    70.0    NaN   3.0   CS-12   E   \n",
       "...            ...   ...  ...     ...     ...    ...   ...         ...   \n",
       "20943       8542.0  52.0    0   174.0    80.0    1.0   2.0       CS-12   \n",
       "20970      18531.0  58.0    0   168.0    74.0    1.0   2.0  AT-60    3   \n",
       "21040      18531.0  58.0    0   168.0    74.0    1.0   2.0  AT-60    3   \n",
       "21106       9502.0  47.0    1   160.0    50.0    1.0   2.0  AT-60    3   \n",
       "21344      15901.0  57.0    1   168.0    97.0    1.0   2.0       CS-12   \n",
       "\n",
       "             recording_date  \\\n",
       "ecg_id                        \n",
       "101     1985-12-11 11:50:40   \n",
       "116     1986-01-10 14:00:09   \n",
       "136     1986-02-21 16:49:02   \n",
       "146     1986-02-23 11:41:43   \n",
       "156     1986-03-05 08:34:41   \n",
       "...                     ...   \n",
       "20943   1999-12-18 17:15:19   \n",
       "20970   2000-01-04 09:17:10   \n",
       "21040   2000-01-22 09:04:39   \n",
       "21106   2000-05-19 11:38:28   \n",
       "21344   2000-09-10 12:20:36   \n",
       "\n",
       "                                                   report  ...  \\\n",
       "ecg_id                                                     ...   \n",
       "101                                 sinusrytm normalt ekg  ...   \n",
       "116     sinusrhythmus linkstyp unspezifisches abnormal...  ...   \n",
       "136                                 sinusrytm normalt ekg  ...   \n",
       "146     sinusrytm ospecifikt skÄnkelblock avvikande qr...  ...   \n",
       "156     sinusrytm avvikande qrs(t) fÖrlopp    inferior...  ...   \n",
       "...                                                   ...  ...   \n",
       "20943   sinusrhythmus lagetyp normal unspezifische abn...  ...   \n",
       "20970   sinustachykardie p-sinistrocardiale linkstyp p...  ...   \n",
       "21040   sinusrhythmus a-v block i p-sinistrocardiale l...  ...   \n",
       "21106   sinusrhythmus lagetyp normal normales ekg 4.46...  ...   \n",
       "21344           sinusrhythmus lagetyp normal normales ekg  ...   \n",
       "\n",
       "       validated_by_human baseline_drift     static_noise burst_noise  \\\n",
       "ecg_id                                                                  \n",
       "101                  True            NaN       , I-AVF,           NaN   \n",
       "116                  True            NaN   , I,III-AVR,           NaN   \n",
       "136                  True            NaN              NaN         NaN   \n",
       "146                  True            NaN              NaN         NaN   \n",
       "156                  True            NaN              NaN         NaN   \n",
       "...                   ...            ...              ...         ...   \n",
       "20943                True            NaN              NaN         NaN   \n",
       "20970                True            NaN              NaN         NaN   \n",
       "21040                True            NaN              NaN         NaN   \n",
       "21106                True            NaN              NaN         NaN   \n",
       "21344                True            NaN              NaN         NaN   \n",
       "\n",
       "        electrodes_problems  extra_beats  pacemaker  strat_fold  \\\n",
       "ecg_id                                                            \n",
       "101                     NaN          NaN        NaN           4   \n",
       "116                     NaN          NaN        NaN          10   \n",
       "136                     NaN          NaN        NaN           5   \n",
       "146                     NaN          NaN        NaN           7   \n",
       "156                     NaN          NaN        NaN           7   \n",
       "...                     ...          ...        ...         ...   \n",
       "20943                   NaN          NaN        NaN          10   \n",
       "20970                   NaN          NaN        NaN           6   \n",
       "21040                   NaN          NaN        NaN           6   \n",
       "21106                   NaN          NaN        NaN           1   \n",
       "21344                   NaN          NaN        NaN           1   \n",
       "\n",
       "                      filename_lr                filename_hr  \n",
       "ecg_id                                                        \n",
       "101     records100/00000/00101_lr  records500/00000/00101_hr  \n",
       "116     records100/00000/00116_lr  records500/00000/00116_hr  \n",
       "136     records100/00000/00136_lr  records500/00000/00136_hr  \n",
       "146     records100/00000/00146_lr  records500/00000/00146_hr  \n",
       "156     records100/00000/00156_lr  records500/00000/00156_hr  \n",
       "...                           ...                        ...  \n",
       "20943   records100/20000/20943_lr  records500/20000/20943_hr  \n",
       "20970   records100/20000/20970_lr  records500/20000/20970_hr  \n",
       "21040   records100/21000/21040_lr  records500/21000/21040_hr  \n",
       "21106   records100/21000/21106_lr  records500/21000/21106_hr  \n",
       "21344   records100/21000/21344_lr  records500/21000/21344_hr  \n",
       "\n",
       "[6748 rows x 27 columns]"
      ]
     },
     "execution_count": 31,
     "metadata": {},
     "output_type": "execute_result"
    }
   ],
   "source": [
    "raw_labels.dropna(subset=['weight','age', 'sex', 'height'])"
   ]
  },
  {
   "cell_type": "code",
   "execution_count": null,
   "metadata": {},
   "outputs": [],
   "source": []
  },
  {
   "cell_type": "code",
   "execution_count": 32,
   "metadata": {},
   "outputs": [
    {
     "data": {
      "text/plain": [
       "(6748, 1000, 12)"
      ]
     },
     "execution_count": 32,
     "metadata": {},
     "output_type": "execute_result"
    }
   ],
   "source": [
    "nan_indices = np.where(pd.isnull(raw_labels[['weight','age', 'sex', 'height']]))[0]\n",
    "np.delete(data, nan_indices, axis=0).shape"
   ]
  },
  {
   "cell_type": "code",
   "execution_count": 33,
   "metadata": {},
   "outputs": [
    {
     "data": {
      "text/plain": [
       "ecg_id\n",
       "1         56.0\n",
       "2         19.0\n",
       "3         37.0\n",
       "4         24.0\n",
       "5         19.0\n",
       "         ...  \n",
       "21833     67.0\n",
       "21834    300.0\n",
       "21835     59.0\n",
       "21836     64.0\n",
       "21837     68.0\n",
       "Name: age, Length: 21799, dtype: float64"
      ]
     },
     "execution_count": 33,
     "metadata": {},
     "output_type": "execute_result"
    }
   ],
   "source": [
    "raw_labels['age'] "
   ]
  },
  {
   "cell_type": "code",
   "execution_count": 34,
   "metadata": {},
   "outputs": [
    {
     "data": {
      "text/plain": [
       "(21799, 1000, 12)"
      ]
     },
     "execution_count": 34,
     "metadata": {},
     "output_type": "execute_result"
    }
   ],
   "source": [
    "arr = data[~np.isnan(raw_labels['age']) & ~np.isnan(raw_labels['sex'])]\n",
    "arr.shape"
   ]
  },
  {
   "cell_type": "code",
   "execution_count": 35,
   "metadata": {},
   "outputs": [],
   "source": [
    "labels, data = utils.select_subset(raw_labels, data)"
   ]
  },
  {
   "cell_type": "code",
   "execution_count": 36,
   "metadata": {},
   "outputs": [],
   "source": [
    "demographics = np.array(labels[['weight','age', 'sex', 'height']])"
   ]
  },
  {
   "cell_type": "code",
   "execution_count": 37,
   "metadata": {},
   "outputs": [],
   "source": [
    "from models.wavelet_demo import get_ecg_features"
   ]
  },
  {
   "cell_type": "code",
   "execution_count": 38,
   "metadata": {},
   "outputs": [],
   "source": [
    "X_values = get_ecg_features(data)"
   ]
  },
  {
   "cell_type": "code",
   "execution_count": 39,
   "metadata": {},
   "outputs": [
    {
     "data": {
      "text/plain": [
       "(6748, 864)"
      ]
     },
     "execution_count": 39,
     "metadata": {},
     "output_type": "execute_result"
    }
   ],
   "source": [
    "X_values.shape"
   ]
  },
  {
   "cell_type": "code",
   "execution_count": 40,
   "metadata": {},
   "outputs": [
    {
     "data": {
      "text/plain": [
       "(6748, 4)"
      ]
     },
     "execution_count": 40,
     "metadata": {},
     "output_type": "execute_result"
    }
   ],
   "source": [
    "demographics.shape"
   ]
  },
  {
   "cell_type": "code",
   "execution_count": 41,
   "metadata": {},
   "outputs": [
    {
     "data": {
      "text/plain": [
       "(6748, 868)"
      ]
     },
     "execution_count": 41,
     "metadata": {},
     "output_type": "execute_result"
    }
   ],
   "source": [
    "np.concatenate((X_values, demographics), axis=1).shape"
   ]
  }
 ],
 "metadata": {
  "kernelspec": {
   "display_name": "Python 3",
   "language": "python",
   "name": "python3"
  },
  "language_info": {
   "codemirror_mode": {
    "name": "ipython",
    "version": 3
   },
   "file_extension": ".py",
   "mimetype": "text/x-python",
   "name": "python",
   "nbconvert_exporter": "python",
   "pygments_lexer": "ipython3",
   "version": "3.10.4"
  }
 },
 "nbformat": 4,
 "nbformat_minor": 2
}
