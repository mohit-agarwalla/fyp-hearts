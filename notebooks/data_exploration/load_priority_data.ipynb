{
 "cells": [
  {
   "cell_type": "code",
   "execution_count": 1,
   "metadata": {},
   "outputs": [],
   "source": [
    "import os\n",
    "\n",
    "os.chdir('../..')\n",
    "\n",
    "import utils"
   ]
  },
  {
   "cell_type": "code",
   "execution_count": 3,
   "metadata": {},
   "outputs": [],
   "source": [
    "outputfolder = os.getcwd() + '/output/'\n",
    "datafolder = os.getcwd() + '/datasets/PTB-XL/'\n",
    "sampling_rate = 100\n",
    "task = 'priority'\n",
    "experiment_name = 'exp4'\n",
    "\n",
    "data, raw_labels = utils.load_dataset(datafolder, sampling_rate=sampling_rate)\n",
    "labels = utils.compute_label_aggregations(raw_labels, datafolder, task)\n",
    "data, labels, Y, _ = utils.select_data(data, labels, task, 0, outputfolder+experiment_name+'/data/')"
   ]
  },
  {
   "cell_type": "code",
   "execution_count": 7,
   "metadata": {},
   "outputs": [
    {
     "name": "stdout",
     "output_type": "stream",
     "text": [
      "(2138, 1000, 12)\n",
      "(2143, 1000, 12)\n",
      "(2146, 1000, 12)\n",
      "(2134, 1000, 12)\n",
      "(2132, 1000, 12)\n",
      "(2126, 1000, 12)\n",
      "(2135, 1000, 12)\n",
      "(2126, 1000, 12)\n",
      "(2135, 1000, 12)\n",
      "(2148, 1000, 12)\n"
     ]
    }
   ],
   "source": [
    "for i in range(1,11):\n",
    "    print(data[labels.strat_fold == i].shape)"
   ]
  }
 ],
 "metadata": {
  "kernelspec": {
   "display_name": "Python 3",
   "language": "python",
   "name": "python3"
  },
  "language_info": {
   "codemirror_mode": {
    "name": "ipython",
    "version": 3
   },
   "file_extension": ".py",
   "mimetype": "text/x-python",
   "name": "python",
   "nbconvert_exporter": "python",
   "pygments_lexer": "ipython3",
   "version": "3.10.4"
  }
 },
 "nbformat": 4,
 "nbformat_minor": 2
}
