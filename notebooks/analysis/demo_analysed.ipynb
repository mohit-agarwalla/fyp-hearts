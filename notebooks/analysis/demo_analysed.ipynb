{
 "cells": [
  {
   "cell_type": "code",
   "execution_count": 1,
   "metadata": {},
   "outputs": [
    {
     "data": {
      "text/plain": [
       "'c:\\\\Mohit\\\\Imperial\\\\fyp-hearts'"
      ]
     },
     "execution_count": 1,
     "metadata": {},
     "output_type": "execute_result"
    }
   ],
   "source": [
    "import os\n",
    "\n",
    "os.chdir(\"../..\")\n",
    "os.getcwd()"
   ]
  },
  {
   "cell_type": "code",
   "execution_count": 2,
   "metadata": {},
   "outputs": [],
   "source": [
    "import utils\n",
    "import numpy as np\n",
    "import pandas as pd\n",
    "import matplotlib.pyplot as plt\n",
    "from configs.wavelet_configs import *\n",
    "import glob\n",
    "from experiments.ecg_experiment import ECG_Experiment\n",
    "import matplotlib.pyplot as plt"
   ]
  },
  {
   "cell_type": "code",
   "execution_count": 3,
   "metadata": {},
   "outputs": [],
   "source": [
    "outputfolder = os.getcwd()+'/output'\n",
    "datafolder = os.getcwd()+'/datasets/PTB-XL/'"
   ]
  },
  {
   "cell_type": "code",
   "execution_count": 4,
   "metadata": {},
   "outputs": [],
   "source": [
    "experiments = [\n",
    "        ('exp0', 'all'),\n",
    "        ('exp1', 'diagnostic'),\n",
    "        ('exp1.1', 'subdiagnostic'),\n",
    "        ('exp1.1.1', 'superdiagnostic'),\n",
    "        ('exp2', 'form'),\n",
    "        ('exp3', 'rhythm')\n",
    "    ]\n",
    "\n",
    "models = [\n",
    "    conf_wavelet_standard_rf,\n",
    "        conf_wavelet_standard_nn,\n",
    "        conf_wavelet_single_nn,\n",
    "        conf_wavelet_single_rf,\n",
    "        conf_wavelet_single_xgb,\n",
    "        conf_wavelet_standard_xgb,\n",
    "]"
   ]
  },
  {
   "cell_type": "code",
   "execution_count": 5,
   "metadata": {},
   "outputs": [
    {
     "ename": "AttributeError",
     "evalue": "'DataFrame' object has no attribute 'all_scp_len'",
     "output_type": "error",
     "traceback": [
      "\u001b[1;31m---------------------------------------------------------------------------\u001b[0m",
      "\u001b[1;31mAttributeError\u001b[0m                            Traceback (most recent call last)",
      "Input \u001b[1;32mIn [5]\u001b[0m, in \u001b[0;36m<cell line: 1>\u001b[1;34m()\u001b[0m\n\u001b[0;32m      1\u001b[0m \u001b[38;5;28;01mfor\u001b[39;00m exp \u001b[38;5;129;01min\u001b[39;00m experiments:\n\u001b[1;32m----> 2\u001b[0m     auc_exp \u001b[38;5;241m=\u001b[39m \u001b[43mutils\u001b[49m\u001b[38;5;241;43m.\u001b[39;49m\u001b[43manalyse_by_sex\u001b[49m\u001b[43m(\u001b[49m\u001b[43mexp\u001b[49m\u001b[43m,\u001b[49m\u001b[43m \u001b[49m\u001b[43mmodels\u001b[49m\u001b[43m,\u001b[49m\u001b[43m \u001b[49m\u001b[43mdatafolder\u001b[49m\u001b[43m,\u001b[49m\u001b[43m \u001b[49m\u001b[43moutputfolder\u001b[49m\u001b[43m,\u001b[49m\u001b[43m \u001b[49m\u001b[43msampling_rate\u001b[49m\u001b[38;5;241;43m=\u001b[39;49m\u001b[38;5;241;43m100\u001b[39;49m\u001b[43m)\u001b[49m\n\u001b[0;32m      3\u001b[0m     a \u001b[38;5;241m=\u001b[39m pd\u001b[38;5;241m.\u001b[39mDataFrame(auc_exp)\u001b[38;5;241m.\u001b[39mT\n\u001b[0;32m      4\u001b[0m     a\u001b[38;5;241m.\u001b[39mplot\u001b[38;5;241m.\u001b[39mbar()\n",
      "File \u001b[1;32mc:\\Mohit\\Imperial\\fyp-hearts\\utils.py:562\u001b[0m, in \u001b[0;36manalyse_by_sex\u001b[1;34m(experiment, models, datafolder, outputfolder, sampling_rate)\u001b[0m\n\u001b[0;32m    560\u001b[0m _, raw_labels \u001b[38;5;241m=\u001b[39m load_dataset(datafolder, sampling_rate\u001b[38;5;241m=\u001b[39msampling_rate)\n\u001b[0;32m    561\u001b[0m labels \u001b[38;5;241m=\u001b[39m compute_label_aggregations(raw_labels, datafolder, task)\n\u001b[1;32m--> 562\u001b[0m test_labels \u001b[38;5;241m=\u001b[39m \u001b[43mvalid_labels\u001b[49m\u001b[43m(\u001b[49m\u001b[43mtask\u001b[49m\u001b[43m,\u001b[49m\u001b[43m \u001b[49m\u001b[43mlabels\u001b[49m\u001b[43m)\u001b[49m\n\u001b[0;32m    563\u001b[0m test_labels \u001b[38;5;241m=\u001b[39m test_labels[test_labels\u001b[38;5;241m.\u001b[39mstrat_fold\u001b[38;5;241m==\u001b[39m\u001b[38;5;241m10\u001b[39m] \u001b[38;5;66;03m# only consider test folds\u001b[39;00m\n\u001b[0;32m    564\u001b[0m \u001b[38;5;28mprint\u001b[39m(test_labels\u001b[38;5;241m.\u001b[39mshape)\n",
      "File \u001b[1;32mc:\\Mohit\\Imperial\\fyp-hearts\\utils.py:542\u001b[0m, in \u001b[0;36mvalid_labels\u001b[1;34m(task, labels)\u001b[0m\n\u001b[0;32m    540\u001b[0m \u001b[38;5;28;01mdef\u001b[39;00m \u001b[38;5;21mvalid_labels\u001b[39m(task,labels):\n\u001b[0;32m    541\u001b[0m     \u001b[38;5;28;01mif\u001b[39;00m task \u001b[38;5;241m==\u001b[39m \u001b[38;5;124m'\u001b[39m\u001b[38;5;124mall\u001b[39m\u001b[38;5;124m'\u001b[39m:\n\u001b[1;32m--> 542\u001b[0m         labels \u001b[38;5;241m=\u001b[39m labels[\u001b[43mlabels\u001b[49m\u001b[38;5;241;43m.\u001b[39;49m\u001b[43mall_scp_len\u001b[49m \u001b[38;5;241m>\u001b[39m \u001b[38;5;241m0\u001b[39m]\n\u001b[0;32m    543\u001b[0m     \u001b[38;5;28;01melif\u001b[39;00m task \u001b[38;5;241m==\u001b[39m \u001b[38;5;124m'\u001b[39m\u001b[38;5;124mrhythm\u001b[39m\u001b[38;5;124m'\u001b[39m:\n\u001b[0;32m    544\u001b[0m         labels \u001b[38;5;241m=\u001b[39m labels[labels\u001b[38;5;241m.\u001b[39mrhythm_len \u001b[38;5;241m>\u001b[39m \u001b[38;5;241m0\u001b[39m]\n",
      "File \u001b[1;32mc:\\Users\\agarw\\AppData\\Local\\Programs\\Python\\Python310\\lib\\site-packages\\pandas\\core\\generic.py:5575\u001b[0m, in \u001b[0;36mNDFrame.__getattr__\u001b[1;34m(self, name)\u001b[0m\n\u001b[0;32m   5568\u001b[0m \u001b[38;5;28;01mif\u001b[39;00m (\n\u001b[0;32m   5569\u001b[0m     name \u001b[38;5;129;01mnot\u001b[39;00m \u001b[38;5;129;01min\u001b[39;00m \u001b[38;5;28mself\u001b[39m\u001b[38;5;241m.\u001b[39m_internal_names_set\n\u001b[0;32m   5570\u001b[0m     \u001b[38;5;129;01mand\u001b[39;00m name \u001b[38;5;129;01mnot\u001b[39;00m \u001b[38;5;129;01min\u001b[39;00m \u001b[38;5;28mself\u001b[39m\u001b[38;5;241m.\u001b[39m_metadata\n\u001b[0;32m   5571\u001b[0m     \u001b[38;5;129;01mand\u001b[39;00m name \u001b[38;5;129;01mnot\u001b[39;00m \u001b[38;5;129;01min\u001b[39;00m \u001b[38;5;28mself\u001b[39m\u001b[38;5;241m.\u001b[39m_accessors\n\u001b[0;32m   5572\u001b[0m     \u001b[38;5;129;01mand\u001b[39;00m \u001b[38;5;28mself\u001b[39m\u001b[38;5;241m.\u001b[39m_info_axis\u001b[38;5;241m.\u001b[39m_can_hold_identifiers_and_holds_name(name)\n\u001b[0;32m   5573\u001b[0m ):\n\u001b[0;32m   5574\u001b[0m     \u001b[38;5;28;01mreturn\u001b[39;00m \u001b[38;5;28mself\u001b[39m[name]\n\u001b[1;32m-> 5575\u001b[0m \u001b[38;5;28;01mreturn\u001b[39;00m \u001b[38;5;28;43mobject\u001b[39;49m\u001b[38;5;241;43m.\u001b[39;49m\u001b[38;5;21;43m__getattribute__\u001b[39;49m\u001b[43m(\u001b[49m\u001b[38;5;28;43mself\u001b[39;49m\u001b[43m,\u001b[49m\u001b[43m \u001b[49m\u001b[43mname\u001b[49m\u001b[43m)\u001b[49m\n",
      "\u001b[1;31mAttributeError\u001b[0m: 'DataFrame' object has no attribute 'all_scp_len'"
     ]
    }
   ],
   "source": [
    "for exp in experiments:\n",
    "    auc_exp = utils.analyse_by_sex(exp, models, datafolder, outputfolder, sampling_rate=100)\n",
    "    a = pd.DataFrame(auc_exp).T\n",
    "    a.plot.bar()\n",
    "    plt.title(exp)\n",
    "    plt.tight_layout()\n",
    "    plt.savefig(r\"C:\\Mohit\\Imperial\\fyp-hearts\\img\"+f\"\\\\{exp[0]}_by_sex_test.png\")\n",
    "    plt.show()"
   ]
  },
  {
   "cell_type": "code",
   "execution_count": null,
   "metadata": {},
   "outputs": [
    {
     "data": {
      "text/plain": [
       "<AxesSubplot:>"
      ]
     },
     "execution_count": 6,
     "metadata": {},
     "output_type": "execute_result"
    },
    {
     "data": {
      "image/png": "[encoded data removed]",
      "text/plain": [
       "<Figure size 432x288 with 1 Axes>"
      ]
     },
     "metadata": {
      "needs_background": "light"
     },
     "output_type": "display_data"
    }
   ],
   "source": [
    "a = pd.DataFrame(auc_exp).T\n",
    "a.plot.bar()"
   ]
  },
  {
   "cell_type": "code",
   "execution_count": null,
   "metadata": {},
   "outputs": [],
   "source": [
    "from configs.demo_wavelet_configs import *\n",
    "demo_outputfolder = os.getcwd()+'/demo_experiment/output'\n",
    "experiments = [\n",
    "        ('exp0', 'all'),\n",
    "        ('exp1', 'diagnostic'),\n",
    "        ('exp1.1', 'subdiagnostic'),\n",
    "        ('exp1.1.1', 'superdiagnostic'),\n",
    "        ('exp2', 'form'),\n",
    "        ('exp3', 'rhythm')\n",
    "    ]\n",
    "\n",
    "models = [\n",
    "    conf_wavelet_standard_rf,\n",
    "        conf_wavelet_demo_standard_rf,\n",
    "        conf_wavelet_standard_nn,\n",
    "        conf_wavelet_single_nn,\n",
    "        conf_wavelet_single_rf,\n",
    "        conf_wavelet_demo_single_rf,\n",
    "        conf_wavelet_single_xgb,\n",
    "        conf_wavelet_standard_xgb,\n",
    "        conf_wavelet_demo_standard_lr,\n",
    "        conf_wavelet_demo_standard_rf,\n",
    "        conf_wavelet_demo_standard_nn,\n",
    "        conf_wavelet_demo_single_rf,\n",
    "        conf_wavelet_demo_single_nn,\n",
    "        conf_wavelet_demo_standard_xgb,\n",
    "        conf_wavelet_demo_single_xgb,\n",
    "]"
   ]
  },
  {
   "cell_type": "code",
   "execution_count": null,
   "metadata": {},
   "outputs": [],
   "source": [
    "# for exp in experiments:\n",
    "#     auc_exp = utils.analyse_by_sex(exp, models, datafolder, demo_outputfolder, sampling_rate=100)"
   ]
  },
  {
   "cell_type": "code",
   "execution_count": null,
   "metadata": {},
   "outputs": [
    {
     "data": {
      "text/plain": [
       "(2198, 71)"
      ]
     },
     "execution_count": 9,
     "metadata": {},
     "output_type": "execute_result"
    }
   ],
   "source": [
    "np.load(r\"C:\\Mohit\\Imperial\\fyp-hearts\\output\\exp0\\data\\y_test.npy\", allow_pickle=True).shape"
   ]
  }
 ],
 "metadata": {
  "kernelspec": {
   "display_name": "Python 3",
   "language": "python",
   "name": "python3"
  },
  "language_info": {
   "codemirror_mode": {
    "name": "ipython",
    "version": 3
   },
   "file_extension": ".py",
   "mimetype": "text/x-python",
   "name": "python",
   "nbconvert_exporter": "python",
   "pygments_lexer": "ipython3",
   "version": "3.10.4"
  }
 },
 "nbformat": 4,
 "nbformat_minor": 2
}
