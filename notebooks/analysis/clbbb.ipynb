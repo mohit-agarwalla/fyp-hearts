{
 "cells": [
  {
   "cell_type": "code",
   "execution_count": 3,
   "metadata": {},
   "outputs": [],
   "source": [
    "import os\n",
    "\n",
    "os.chdir(\"../..\")"
   ]
  },
  {
   "cell_type": "code",
   "execution_count": 4,
   "metadata": {},
   "outputs": [],
   "source": [
    "import utils\n",
    "import matplotlib.pyplot as plt\n",
    "import numpy as np\n",
    "import pandas as pd"
   ]
  },
  {
   "cell_type": "code",
   "execution_count": 5,
   "metadata": {},
   "outputs": [],
   "source": [
    "import seaborn as sns\n",
    "import pickle\n",
    "from sklearn.metrics import roc_auc_score"
   ]
  },
  {
   "cell_type": "code",
   "execution_count": 6,
   "metadata": {},
   "outputs": [
    {
     "name": "stderr",
     "output_type": "stream",
     "text": [
      "C:\\Users\\agarw\\AppData\\Local\\Temp\\ipykernel_11892\\2379245209.py:9: FutureWarning: The default value of regex will change from True to False in a future version.\n",
      "  results.index = results.index.str.replace(r'models\\\\', '')\n"
     ]
    }
   ],
   "source": [
    "results = pd.read_csv(\"output/results_ptbxl.csv\", index_col=\"Method\")\n",
    "results = results['exp4_AUC'].to_frame()\n",
    "results = results[results['exp4_AUC']!='---']\n",
    "results['AUC'] = results['exp4_AUC'].str.extract(r'(\\d+\\.\\d+)', expand=False).astype(float)\n",
    "results['CI'] = results['exp4_AUC'].str.extract(r'\\((\\d+)\\)', expand=False).astype(float)\n",
    "results['CI'] = results['CI']/1000\n",
    "\n",
    "results.sort_index(inplace=True)\n",
    "results.index = results.index.str.replace(r'models\\\\', '')\n",
    "results = results.sort_values(\"AUC\")"
   ]
  },
  {
   "cell_type": "code",
   "execution_count": 7,
   "metadata": {},
   "outputs": [
    {
     "data": {
      "text/html": [
       "<div>\n",
       "<style scoped>\n",
       "    .dataframe tbody tr th:only-of-type {\n",
       "        vertical-align: middle;\n",
       "    }\n",
       "\n",
       "    .dataframe tbody tr th {\n",
       "        vertical-align: top;\n",
       "    }\n",
       "\n",
       "    .dataframe thead th {\n",
       "        text-align: right;\n",
       "    }\n",
       "</style>\n",
       "<table border=\"1\" class=\"dataframe\">\n",
       "  <thead>\n",
       "    <tr style=\"text-align: right;\">\n",
       "      <th></th>\n",
       "      <th>exp4_AUC</th>\n",
       "      <th>AUC</th>\n",
       "      <th>CI</th>\n",
       "    </tr>\n",
       "    <tr>\n",
       "      <th>Method</th>\n",
       "      <th></th>\n",
       "      <th></th>\n",
       "      <th></th>\n",
       "    </tr>\n",
       "  </thead>\n",
       "  <tbody>\n",
       "    <tr>\n",
       "      <th>naive</th>\n",
       "      <td>0.500(00)</td>\n",
       "      <td>0.500</td>\n",
       "      <td>0.000</td>\n",
       "    </tr>\n",
       "    <tr>\n",
       "      <th>Simple+Baseline+lead1</th>\n",
       "      <td>0.681(28)</td>\n",
       "      <td>0.681</td>\n",
       "      <td>0.028</td>\n",
       "    </tr>\n",
       "    <tr>\n",
       "      <th>Wavelet+NN+lead1</th>\n",
       "      <td>0.735(24)</td>\n",
       "      <td>0.735</td>\n",
       "      <td>0.024</td>\n",
       "    </tr>\n",
       "    <tr>\n",
       "      <th>Wavelet+RF+lead1</th>\n",
       "      <td>0.735(24)</td>\n",
       "      <td>0.735</td>\n",
       "      <td>0.024</td>\n",
       "    </tr>\n",
       "    <tr>\n",
       "      <th>InceptionSE+lead1</th>\n",
       "      <td>0.758(14)</td>\n",
       "      <td>0.758</td>\n",
       "      <td>0.014</td>\n",
       "    </tr>\n",
       "    <tr>\n",
       "      <th>NewWavelet+NN+lead1</th>\n",
       "      <td>0.766(25)</td>\n",
       "      <td>0.766</td>\n",
       "      <td>0.025</td>\n",
       "    </tr>\n",
       "    <tr>\n",
       "      <th>LeNetAttn+lead1</th>\n",
       "      <td>0.807(14)</td>\n",
       "      <td>0.807</td>\n",
       "      <td>0.014</td>\n",
       "    </tr>\n",
       "    <tr>\n",
       "      <th>Wavelet+NN</th>\n",
       "      <td>0.818(20)</td>\n",
       "      <td>0.818</td>\n",
       "      <td>0.020</td>\n",
       "    </tr>\n",
       "    <tr>\n",
       "      <th>Simple+Baseline</th>\n",
       "      <td>0.819(17)</td>\n",
       "      <td>0.819</td>\n",
       "      <td>0.017</td>\n",
       "    </tr>\n",
       "    <tr>\n",
       "      <th>VGGNet+lead1</th>\n",
       "      <td>0.819(14)</td>\n",
       "      <td>0.819</td>\n",
       "      <td>0.014</td>\n",
       "    </tr>\n",
       "    <tr>\n",
       "      <th>LeNet+lead1</th>\n",
       "      <td>0.825(11)</td>\n",
       "      <td>0.825</td>\n",
       "      <td>0.011</td>\n",
       "    </tr>\n",
       "    <tr>\n",
       "      <th>AttNet+dp02+lead1</th>\n",
       "      <td>0.830(15)</td>\n",
       "      <td>0.830</td>\n",
       "      <td>0.015</td>\n",
       "    </tr>\n",
       "    <tr>\n",
       "      <th>AlexNetAttn+lead1</th>\n",
       "      <td>0.834(12)</td>\n",
       "      <td>0.834</td>\n",
       "      <td>0.012</td>\n",
       "    </tr>\n",
       "    <tr>\n",
       "      <th>AlexNet+lead1</th>\n",
       "      <td>0.839(11)</td>\n",
       "      <td>0.839</td>\n",
       "      <td>0.011</td>\n",
       "    </tr>\n",
       "    <tr>\n",
       "      <th>ResNet+Baseline+lead1</th>\n",
       "      <td>0.845(14)</td>\n",
       "      <td>0.845</td>\n",
       "      <td>0.014</td>\n",
       "    </tr>\n",
       "    <tr>\n",
       "      <th>AttNet+Baseline+lead1</th>\n",
       "      <td>0.853(15)</td>\n",
       "      <td>0.853</td>\n",
       "      <td>0.015</td>\n",
       "    </tr>\n",
       "  </tbody>\n",
       "</table>\n",
       "</div>"
      ],
      "text/plain": [
       "                        exp4_AUC    AUC     CI\n",
       "Method                                        \n",
       "naive                  0.500(00)  0.500  0.000\n",
       "Simple+Baseline+lead1  0.681(28)  0.681  0.028\n",
       "Wavelet+NN+lead1       0.735(24)  0.735  0.024\n",
       "Wavelet+RF+lead1       0.735(24)  0.735  0.024\n",
       "InceptionSE+lead1      0.758(14)  0.758  0.014\n",
       "NewWavelet+NN+lead1    0.766(25)  0.766  0.025\n",
       "LeNetAttn+lead1        0.807(14)  0.807  0.014\n",
       "Wavelet+NN             0.818(20)  0.818  0.020\n",
       "Simple+Baseline        0.819(17)  0.819  0.017\n",
       "VGGNet+lead1           0.819(14)  0.819  0.014\n",
       "LeNet+lead1            0.825(11)  0.825  0.011\n",
       "AttNet+dp02+lead1      0.830(15)  0.830  0.015\n",
       "AlexNetAttn+lead1      0.834(12)  0.834  0.012\n",
       "AlexNet+lead1          0.839(11)  0.839  0.011\n",
       "ResNet+Baseline+lead1  0.845(14)  0.845  0.014\n",
       "AttNet+Baseline+lead1  0.853(15)  0.853  0.015"
      ]
     },
     "execution_count": 7,
     "metadata": {},
     "output_type": "execute_result"
    }
   ],
   "source": [
    "results"
   ]
  },
  {
   "cell_type": "code",
   "execution_count": 8,
   "metadata": {},
   "outputs": [],
   "source": [
    "methods = results.index.to_list()\n",
    "methods.remove(\"naive\")"
   ]
  },
  {
   "cell_type": "code",
   "execution_count": 9,
   "metadata": {},
   "outputs": [],
   "source": [
    "raw_test_preds = []\n",
    "raw_val_preds = []\n",
    "\n",
    "for method in methods:\n",
    "    test = np.load(f\"output/exp4/models/{method}/y_test_pred.npy\", allow_pickle=True)\n",
    "    val = np.load(f\"output/exp4/models/{method}/y_val_pred.npy\", allow_pickle=True)\n",
    "    raw_test_preds += [test]\n",
    "    raw_val_preds += [val]"
   ]
  },
  {
   "cell_type": "code",
   "execution_count": 10,
   "metadata": {},
   "outputs": [],
   "source": [
    "with open(r\"C:\\Mohit\\Imperial\\fyp-hearts\\output\\exp4\\data\\mlb.pkl\", 'rb') as f:\n",
    "    mlb = pickle.load(f).classes_\n",
    "y_test =np.load(r\"C:\\Mohit\\Imperial\\fyp-hearts\\output\\exp4\\data\\y_test.npy\", allow_pickle=True)\n",
    "y_val =np.load(r\"C:\\Mohit\\Imperial\\fyp-hearts\\output\\exp4\\data\\y_val.npy\", allow_pickle=True)"
   ]
  },
  {
   "cell_type": "code",
   "execution_count": 11,
   "metadata": {},
   "outputs": [],
   "source": [
    "attnet_test = raw_test_preds[-1]"
   ]
  },
  {
   "cell_type": "code",
   "execution_count": 12,
   "metadata": {},
   "outputs": [
    {
     "data": {
      "text/plain": [
       "8"
      ]
     },
     "execution_count": 12,
     "metadata": {},
     "output_type": "execute_result"
    }
   ],
   "source": [
    "list(mlb).index(\"CLBBB\")"
   ]
  },
  {
   "cell_type": "code",
   "execution_count": 13,
   "metadata": {},
   "outputs": [
    {
     "data": {
      "text/plain": [
       "(array([0, 1]), array([2100,   48], dtype=int64))"
      ]
     },
     "execution_count": 13,
     "metadata": {},
     "output_type": "execute_result"
    }
   ],
   "source": [
    "np.unique((attnet_test[:,8]>0.5).astype(int), return_counts=True)"
   ]
  },
  {
   "cell_type": "code",
   "execution_count": 14,
   "metadata": {},
   "outputs": [],
   "source": [
    "clbbb_diag = attnet_test[(attnet_test[:,8]>0.5)]"
   ]
  },
  {
   "cell_type": "code",
   "execution_count": 15,
   "metadata": {},
   "outputs": [
    {
     "data": {
      "text/plain": [
       "2AVB      0\n",
       "3AVB      0\n",
       "ABQRS     0\n",
       "AFIB      8\n",
       "AFLT      0\n",
       "ALMI      0\n",
       "AMI       0\n",
       "ASMI      0\n",
       "CLBBB    48\n",
       "CRBBB     0\n",
       "EL        0\n",
       "ILMI      0\n",
       "IMI       0\n",
       "INJAL     0\n",
       "INJAS     0\n",
       "INJIL     0\n",
       "INJIN     0\n",
       "INJLA     0\n",
       "IPLMI     0\n",
       "IPMI      0\n",
       "ISCAL     0\n",
       "ISCAN     0\n",
       "ISCAS     0\n",
       "ISCIL     0\n",
       "ISCIN     0\n",
       "ISCLA     0\n",
       "ISC_      0\n",
       "LMI       0\n",
       "LNGQT     0\n",
       "NDT       0\n",
       "NORM      0\n",
       "NST_      0\n",
       "PAC       0\n",
       "PMI       0\n",
       "PSVT      0\n",
       "PVC       3\n",
       "SBRAD     0\n",
       "SR       35\n",
       "STD_      0\n",
       "STE_      0\n",
       "SVTAC     0\n",
       "TAB_      0\n",
       "WPW       0\n",
       "dtype: int64"
      ]
     },
     "execution_count": 15,
     "metadata": {},
     "output_type": "execute_result"
    }
   ],
   "source": [
    "clbbb_diag = pd.DataFrame((clbbb_diag>0.5).astype(int), columns=mlb)\n",
    "\n",
    "clbbb_diag.sum(axis=0)"
   ]
  },
  {
   "cell_type": "code",
   "execution_count": 16,
   "metadata": {},
   "outputs": [
    {
     "ename": "NameError",
     "evalue": "name 'multiple_clbbb' is not defined",
     "output_type": "error",
     "traceback": [
      "\u001b[1;31m---------------------------------------------------------------------------\u001b[0m",
      "\u001b[1;31mNameError\u001b[0m                                 Traceback (most recent call last)",
      "Input \u001b[1;32mIn [16]\u001b[0m, in \u001b[0;36m<cell line: 1>\u001b[1;34m()\u001b[0m\n\u001b[1;32m----> 1\u001b[0m \u001b[43mmultiple_clbbb\u001b[49m\u001b[38;5;241m.\u001b[39msum(axis\u001b[38;5;241m=\u001b[39m\u001b[38;5;241m0\u001b[39m)\n",
      "\u001b[1;31mNameError\u001b[0m: name 'multiple_clbbb' is not defined"
     ]
    }
   ],
   "source": [
    "multiple_clbbb.sum(axis=0)"
   ]
  },
  {
   "cell_type": "code",
   "execution_count": 17,
   "metadata": {},
   "outputs": [],
   "source": [
    "y_test = pd.DataFrame(y_test, columns=mlb)\n",
    "attnet_test = pd.DataFrame((raw_test_preds[-1]>0.5).astype(int), columns=mlb)"
   ]
  },
  {
   "cell_type": "code",
   "execution_count": 18,
   "metadata": {},
   "outputs": [],
   "source": [
    "y_test_clbbb = y_test[attnet_test['CLBBB']==1]\n",
    "attnet_test_clbbb = attnet_test[attnet_test['CLBBB']==1]"
   ]
  },
  {
   "cell_type": "code",
   "execution_count": 19,
   "metadata": {},
   "outputs": [
    {
     "data": {
      "text/plain": [
       "2AVB      0\n",
       "3AVB      0\n",
       "ABQRS     1\n",
       "AFIB      8\n",
       "AFLT      0\n",
       "ALMI      0\n",
       "AMI       0\n",
       "ASMI      4\n",
       "CLBBB    43\n",
       "CRBBB     1\n",
       "EL        0\n",
       "ILMI      3\n",
       "IMI       1\n",
       "INJAL     0\n",
       "INJAS     0\n",
       "INJIL     0\n",
       "INJIN     0\n",
       "INJLA     0\n",
       "IPLMI     1\n",
       "IPMI      0\n",
       "ISCAL     0\n",
       "ISCAN     0\n",
       "ISCAS     0\n",
       "ISCIL     0\n",
       "ISCIN     0\n",
       "ISCLA     0\n",
       "ISC_      2\n",
       "LMI       0\n",
       "LNGQT     0\n",
       "NDT       0\n",
       "NORM      0\n",
       "NST_      1\n",
       "PAC       1\n",
       "PMI       0\n",
       "PSVT      0\n",
       "PVC       6\n",
       "SBRAD     2\n",
       "SR       29\n",
       "STD_      0\n",
       "STE_      0\n",
       "SVTAC     0\n",
       "TAB_      0\n",
       "WPW       0\n",
       "dtype: int64"
      ]
     },
     "execution_count": 19,
     "metadata": {},
     "output_type": "execute_result"
    }
   ],
   "source": [
    "y_test_clbbb.sum(axis=0)"
   ]
  },
  {
   "cell_type": "code",
   "execution_count": 20,
   "metadata": {},
   "outputs": [
    {
     "data": {
      "text/plain": [
       "0       0\n",
       "1       0\n",
       "2       0\n",
       "3       0\n",
       "4       0\n",
       "       ..\n",
       "2143    0\n",
       "2144    0\n",
       "2145    0\n",
       "2146    0\n",
       "2147    0\n",
       "Name: CLBBB, Length: 2148, dtype: int32"
      ]
     },
     "execution_count": 20,
     "metadata": {},
     "output_type": "execute_result"
    }
   ],
   "source": [
    "(raw_test_preds[-1][:,8]>0.5).astype(int).shape\n",
    "\n",
    "y_test['CLBBB']"
   ]
  },
  {
   "cell_type": "code",
   "execution_count": 21,
   "metadata": {},
   "outputs": [
    {
     "name": "stdout",
     "output_type": "stream",
     "text": [
      "f1 score: 0.8431372549019608\n",
      "AUC: 0.896954260851109\n",
      "Accuracy: 0.9925512104283054\n",
      "Specificity: 0.9976122254059216\n",
      "Sensitivity: 0.7962962962962963\n",
      "Precision: 0.8958333333333334\n"
     ]
    }
   ],
   "source": [
    "from sklearn.metrics import f1_score, roc_auc_score,accuracy_score, recall_score, precision_score\n",
    "\n",
    "print(f\"f1 score: {f1_score(y_test['CLBBB'],(raw_test_preds[-1][:,8]>0.5).astype(int))}\")\n",
    "print(f\"AUC: {roc_auc_score(y_test['CLBBB'],(raw_test_preds[-1][:,8]>0.5).astype(int))}\")\n",
    "print(f\"Accuracy: {accuracy_score(y_test['CLBBB'],(raw_test_preds[-1][:,8]>0.5).astype(int))}\")\n",
    "print(f\"Specificity: {recall_score(y_test['CLBBB'],(raw_test_preds[-1][:,8]>0.5).astype(int), pos_label=0)}\")\n",
    "print(f\"Sensitivity: {recall_score(y_test['CLBBB'],(raw_test_preds[-1][:,8]>0.5).astype(int), pos_label=1)}\")\n",
    "print(f\"Precision: {precision_score(y_test['CLBBB'],(raw_test_preds[-1][:,8]>0.5).astype(int))}\")\n"
   ]
  },
  {
   "cell_type": "code",
   "execution_count": null,
   "metadata": {},
   "outputs": [],
   "source": []
  },
  {
   "cell_type": "code",
   "execution_count": null,
   "metadata": {},
   "outputs": [],
   "source": []
  },
  {
   "cell_type": "code",
   "execution_count": 23,
   "metadata": {},
   "outputs": [],
   "source": [
    "from sklearn.metrics import recall_score, precision_score"
   ]
  },
  {
   "cell_type": "code",
   "execution_count": 24,
   "metadata": {},
   "outputs": [
    {
     "name": "stderr",
     "output_type": "stream",
     "text": [
      "C:\\Users\\agarw\\AppData\\Local\\Temp\\ipykernel_11892\\2575258946.py:20: SettingWithCopyWarning: \n",
      "A value is trying to be set on a copy of a slice from a DataFrame\n",
      "\n",
      "See the caveats in the documentation: https://pandas.pydata.org/pandas-docs/stable/user_guide/indexing.html#returning-a-view-versus-a-copy\n",
      "  test_aucs[\"F1 Score\"][methods[method]] = f1_score(true, (pred>0.5).astype(int))\n",
      "C:\\Users\\agarw\\AppData\\Local\\Temp\\ipykernel_11892\\2575258946.py:21: SettingWithCopyWarning: \n",
      "A value is trying to be set on a copy of a slice from a DataFrame\n",
      "\n",
      "See the caveats in the documentation: https://pandas.pydata.org/pandas-docs/stable/user_guide/indexing.html#returning-a-view-versus-a-copy\n",
      "  test_aucs[\"Accuracy\"][methods[method]] = accuracy_score(true, (pred>0.5).astype(int))\n",
      "C:\\Users\\agarw\\AppData\\Local\\Temp\\ipykernel_11892\\2575258946.py:22: SettingWithCopyWarning: \n",
      "A value is trying to be set on a copy of a slice from a DataFrame\n",
      "\n",
      "See the caveats in the documentation: https://pandas.pydata.org/pandas-docs/stable/user_guide/indexing.html#returning-a-view-versus-a-copy\n",
      "  test_aucs[\"Sensitivity\"][methods[method]] = recall_score(true, (pred>0.5).astype(int), pos_label=1)\n",
      "C:\\Users\\agarw\\AppData\\Local\\Temp\\ipykernel_11892\\2575258946.py:23: SettingWithCopyWarning: \n",
      "A value is trying to be set on a copy of a slice from a DataFrame\n",
      "\n",
      "See the caveats in the documentation: https://pandas.pydata.org/pandas-docs/stable/user_guide/indexing.html#returning-a-view-versus-a-copy\n",
      "  test_aucs[\"Specificity\"][methods[method]] = recall_score(true, (pred>0.5).astype(int), pos_label=0)\n",
      "C:\\Users\\agarw\\AppData\\Local\\Temp\\ipykernel_11892\\2575258946.py:24: SettingWithCopyWarning: \n",
      "A value is trying to be set on a copy of a slice from a DataFrame\n",
      "\n",
      "See the caveats in the documentation: https://pandas.pydata.org/pandas-docs/stable/user_guide/indexing.html#returning-a-view-versus-a-copy\n",
      "  test_aucs[\"Precision\"][methods[method]] = precision_score(true, (pred>0.5).astype(int))\n",
      "c:\\Users\\agarw\\AppData\\Local\\Programs\\Python\\Python310\\lib\\site-packages\\sklearn\\metrics\\_classification.py:1344: UndefinedMetricWarning: Precision is ill-defined and being set to 0.0 due to no predicted samples. Use `zero_division` parameter to control this behavior.\n",
      "  _warn_prf(average, modifier, msg_start, len(result))\n"
     ]
    },
    {
     "data": {
      "text/html": [
       "<div>\n",
       "<style scoped>\n",
       "    .dataframe tbody tr th:only-of-type {\n",
       "        vertical-align: middle;\n",
       "    }\n",
       "\n",
       "    .dataframe tbody tr th {\n",
       "        vertical-align: top;\n",
       "    }\n",
       "\n",
       "    .dataframe thead th {\n",
       "        text-align: right;\n",
       "    }\n",
       "</style>\n",
       "<table border=\"1\" class=\"dataframe\">\n",
       "  <thead>\n",
       "    <tr style=\"text-align: right;\">\n",
       "      <th></th>\n",
       "      <th>CLBBB</th>\n",
       "      <th>F1 Score</th>\n",
       "      <th>Accuracy</th>\n",
       "      <th>Sensitivity</th>\n",
       "      <th>Specificity</th>\n",
       "      <th>Precision</th>\n",
       "    </tr>\n",
       "  </thead>\n",
       "  <tbody>\n",
       "    <tr>\n",
       "      <th>Simple+Baseline+lead1</th>\n",
       "      <td>0.838074</td>\n",
       "      <td>0.208955</td>\n",
       "      <td>0.975326</td>\n",
       "      <td>0.129630</td>\n",
       "      <td>0.997135</td>\n",
       "      <td>0.538462</td>\n",
       "    </tr>\n",
       "    <tr>\n",
       "      <th>Wavelet+NN+lead1</th>\n",
       "      <td>0.987884</td>\n",
       "      <td>0.775510</td>\n",
       "      <td>0.989758</td>\n",
       "      <td>0.703704</td>\n",
       "      <td>0.997135</td>\n",
       "      <td>0.863636</td>\n",
       "    </tr>\n",
       "    <tr>\n",
       "      <th>Wavelet+RF+lead1</th>\n",
       "      <td>0.991037</td>\n",
       "      <td>0.774194</td>\n",
       "      <td>0.990223</td>\n",
       "      <td>0.666667</td>\n",
       "      <td>0.998567</td>\n",
       "      <td>0.923077</td>\n",
       "    </tr>\n",
       "    <tr>\n",
       "      <th>InceptionSE+lead1</th>\n",
       "      <td>0.873015</td>\n",
       "      <td>0.000000</td>\n",
       "      <td>0.974860</td>\n",
       "      <td>0.000000</td>\n",
       "      <td>1.000000</td>\n",
       "      <td>0.000000</td>\n",
       "    </tr>\n",
       "    <tr>\n",
       "      <th>NewWavelet+NN+lead1</th>\n",
       "      <td>0.989343</td>\n",
       "      <td>0.803922</td>\n",
       "      <td>0.990689</td>\n",
       "      <td>0.759259</td>\n",
       "      <td>0.996657</td>\n",
       "      <td>0.854167</td>\n",
       "    </tr>\n",
       "    <tr>\n",
       "      <th>LeNetAttn+lead1</th>\n",
       "      <td>0.987336</td>\n",
       "      <td>0.760870</td>\n",
       "      <td>0.989758</td>\n",
       "      <td>0.648148</td>\n",
       "      <td>0.998567</td>\n",
       "      <td>0.921053</td>\n",
       "    </tr>\n",
       "    <tr>\n",
       "      <th>Wavelet+NN</th>\n",
       "      <td>0.997144</td>\n",
       "      <td>0.860000</td>\n",
       "      <td>0.993482</td>\n",
       "      <td>0.796296</td>\n",
       "      <td>0.998567</td>\n",
       "      <td>0.934783</td>\n",
       "    </tr>\n",
       "    <tr>\n",
       "      <th>Simple+Baseline</th>\n",
       "      <td>0.990113</td>\n",
       "      <td>0.707071</td>\n",
       "      <td>0.986499</td>\n",
       "      <td>0.648148</td>\n",
       "      <td>0.995224</td>\n",
       "      <td>0.777778</td>\n",
       "    </tr>\n",
       "    <tr>\n",
       "      <th>VGGNet+lead1</th>\n",
       "      <td>0.993341</td>\n",
       "      <td>0.741573</td>\n",
       "      <td>0.989292</td>\n",
       "      <td>0.611111</td>\n",
       "      <td>0.999045</td>\n",
       "      <td>0.942857</td>\n",
       "    </tr>\n",
       "    <tr>\n",
       "      <th>LeNet+lead1</th>\n",
       "      <td>0.996524</td>\n",
       "      <td>0.795918</td>\n",
       "      <td>0.990689</td>\n",
       "      <td>0.722222</td>\n",
       "      <td>0.997612</td>\n",
       "      <td>0.886364</td>\n",
       "    </tr>\n",
       "    <tr>\n",
       "      <th>AttNet+dp02+lead1</th>\n",
       "      <td>0.993297</td>\n",
       "      <td>0.865385</td>\n",
       "      <td>0.993482</td>\n",
       "      <td>0.833333</td>\n",
       "      <td>0.997612</td>\n",
       "      <td>0.900000</td>\n",
       "    </tr>\n",
       "    <tr>\n",
       "      <th>AlexNetAttn+lead1</th>\n",
       "      <td>0.992386</td>\n",
       "      <td>0.747253</td>\n",
       "      <td>0.989292</td>\n",
       "      <td>0.629630</td>\n",
       "      <td>0.998567</td>\n",
       "      <td>0.918919</td>\n",
       "    </tr>\n",
       "    <tr>\n",
       "      <th>AlexNet+lead1</th>\n",
       "      <td>0.998037</td>\n",
       "      <td>0.843137</td>\n",
       "      <td>0.992551</td>\n",
       "      <td>0.796296</td>\n",
       "      <td>0.997612</td>\n",
       "      <td>0.895833</td>\n",
       "    </tr>\n",
       "    <tr>\n",
       "      <th>ResNet+Baseline+lead1</th>\n",
       "      <td>0.994773</td>\n",
       "      <td>0.760870</td>\n",
       "      <td>0.989758</td>\n",
       "      <td>0.648148</td>\n",
       "      <td>0.998567</td>\n",
       "      <td>0.921053</td>\n",
       "    </tr>\n",
       "    <tr>\n",
       "      <th>AttNet+Baseline+lead1</th>\n",
       "      <td>0.995525</td>\n",
       "      <td>0.843137</td>\n",
       "      <td>0.992551</td>\n",
       "      <td>0.796296</td>\n",
       "      <td>0.997612</td>\n",
       "      <td>0.895833</td>\n",
       "    </tr>\n",
       "  </tbody>\n",
       "</table>\n",
       "</div>"
      ],
      "text/plain": [
       "                          CLBBB  F1 Score  Accuracy  Sensitivity  Specificity  \\\n",
       "Simple+Baseline+lead1  0.838074  0.208955  0.975326     0.129630     0.997135   \n",
       "Wavelet+NN+lead1       0.987884  0.775510  0.989758     0.703704     0.997135   \n",
       "Wavelet+RF+lead1       0.991037  0.774194  0.990223     0.666667     0.998567   \n",
       "InceptionSE+lead1      0.873015  0.000000  0.974860     0.000000     1.000000   \n",
       "NewWavelet+NN+lead1    0.989343  0.803922  0.990689     0.759259     0.996657   \n",
       "LeNetAttn+lead1        0.987336  0.760870  0.989758     0.648148     0.998567   \n",
       "Wavelet+NN             0.997144  0.860000  0.993482     0.796296     0.998567   \n",
       "Simple+Baseline        0.990113  0.707071  0.986499     0.648148     0.995224   \n",
       "VGGNet+lead1           0.993341  0.741573  0.989292     0.611111     0.999045   \n",
       "LeNet+lead1            0.996524  0.795918  0.990689     0.722222     0.997612   \n",
       "AttNet+dp02+lead1      0.993297  0.865385  0.993482     0.833333     0.997612   \n",
       "AlexNetAttn+lead1      0.992386  0.747253  0.989292     0.629630     0.998567   \n",
       "AlexNet+lead1          0.998037  0.843137  0.992551     0.796296     0.997612   \n",
       "ResNet+Baseline+lead1  0.994773  0.760870  0.989758     0.648148     0.998567   \n",
       "AttNet+Baseline+lead1  0.995525  0.843137  0.992551     0.796296     0.997612   \n",
       "\n",
       "                       Precision  \n",
       "Simple+Baseline+lead1   0.538462  \n",
       "Wavelet+NN+lead1        0.863636  \n",
       "Wavelet+RF+lead1        0.923077  \n",
       "InceptionSE+lead1       0.000000  \n",
       "NewWavelet+NN+lead1     0.854167  \n",
       "LeNetAttn+lead1         0.921053  \n",
       "Wavelet+NN              0.934783  \n",
       "Simple+Baseline         0.777778  \n",
       "VGGNet+lead1            0.942857  \n",
       "LeNet+lead1             0.886364  \n",
       "AttNet+dp02+lead1       0.900000  \n",
       "AlexNetAttn+lead1       0.918919  \n",
       "AlexNet+lead1           0.895833  \n",
       "ResNet+Baseline+lead1   0.921053  \n",
       "AttNet+Baseline+lead1   0.895833  "
      ]
     },
     "execution_count": 24,
     "metadata": {},
     "output_type": "execute_result"
    }
   ],
   "source": [
    "test_aucs = pd.DataFrame(columns=methods, index=mlb)\n",
    "\n",
    "\n",
    "true = y_test['CLBBB']\n",
    "for method in range(len(methods)):\n",
    "    pred = raw_test_preds[method][:,8]\n",
    "    test_aucs[methods[method]][mlb[8]] = roc_auc_score(true, pred)\n",
    "\n",
    "test_aucs = test_aucs.dropna().T\n",
    "test_aucs['F1 Score'] = 0\n",
    "test_aucs['Accuracy'] = 0\n",
    "test_aucs['Sensitivity'] = 0\n",
    "test_aucs['Specificity'] = 0\n",
    "test_aucs['Precision'] = 0\n",
    "\n",
    "\n",
    "\n",
    "for method in range(len(methods)):\n",
    "    pred = raw_test_preds[method][:,8]\n",
    "    test_aucs[\"F1 Score\"][methods[method]] = f1_score(true, (pred>0.5).astype(int))\n",
    "    test_aucs[\"Accuracy\"][methods[method]] = accuracy_score(true, (pred>0.5).astype(int))\n",
    "    test_aucs[\"Sensitivity\"][methods[method]] = recall_score(true, (pred>0.5).astype(int), pos_label=1)\n",
    "    test_aucs[\"Specificity\"][methods[method]] = recall_score(true, (pred>0.5).astype(int), pos_label=0)\n",
    "    test_aucs[\"Precision\"][methods[method]] = precision_score(true, (pred>0.5).astype(int))\n",
    "    \n",
    "\n",
    "test_aucs"
   ]
  },
  {
   "cell_type": "code",
   "execution_count": 27,
   "metadata": {},
   "outputs": [
    {
     "name": "stderr",
     "output_type": "stream",
     "text": [
      "C:\\Users\\agarw\\AppData\\Local\\Temp\\ipykernel_34692\\652944992.py:9: SettingWithCopyWarning: \n",
      "A value is trying to be set on a copy of a slice from a DataFrame\n",
      "\n",
      "See the caveats in the documentation: https://pandas.pydata.org/pandas-docs/stable/user_guide/indexing.html#returning-a-view-versus-a-copy\n",
      "  test_aucs[\"CLBBB\"][\"SMV\"] = roc_auc_score(true, smv)\n",
      "C:\\Users\\agarw\\AppData\\Local\\Temp\\ipykernel_34692\\652944992.py:10: SettingWithCopyWarning: \n",
      "A value is trying to be set on a copy of a slice from a DataFrame\n",
      "\n",
      "See the caveats in the documentation: https://pandas.pydata.org/pandas-docs/stable/user_guide/indexing.html#returning-a-view-versus-a-copy\n",
      "  test_aucs[\"F1 Score\"][\"SMV\"] = f1_score(true, (smv>0.5).astype(int))\n",
      "C:\\Users\\agarw\\AppData\\Local\\Temp\\ipykernel_34692\\652944992.py:11: SettingWithCopyWarning: \n",
      "A value is trying to be set on a copy of a slice from a DataFrame\n",
      "\n",
      "See the caveats in the documentation: https://pandas.pydata.org/pandas-docs/stable/user_guide/indexing.html#returning-a-view-versus-a-copy\n",
      "  test_aucs[\"Accuracy\"][\"SMV\"] = accuracy_score(true, (smv>0.5).astype(int))\n",
      "C:\\Users\\agarw\\AppData\\Local\\Temp\\ipykernel_34692\\652944992.py:12: SettingWithCopyWarning: \n",
      "A value is trying to be set on a copy of a slice from a DataFrame\n",
      "\n",
      "See the caveats in the documentation: https://pandas.pydata.org/pandas-docs/stable/user_guide/indexing.html#returning-a-view-versus-a-copy\n",
      "  test_aucs[\"Sensitivity\"][\"SMV\"] = recall_score(true, (smv>0.5).astype(int), pos_label=1)\n",
      "C:\\Users\\agarw\\AppData\\Local\\Temp\\ipykernel_34692\\652944992.py:13: SettingWithCopyWarning: \n",
      "A value is trying to be set on a copy of a slice from a DataFrame\n",
      "\n",
      "See the caveats in the documentation: https://pandas.pydata.org/pandas-docs/stable/user_guide/indexing.html#returning-a-view-versus-a-copy\n",
      "  test_aucs[\"Specificity\"][\"SMV\"] = recall_score(true, (smv>0.5).astype(int), pos_label=0)\n",
      "C:\\Users\\agarw\\AppData\\Local\\Temp\\ipykernel_34692\\652944992.py:14: SettingWithCopyWarning: \n",
      "A value is trying to be set on a copy of a slice from a DataFrame\n",
      "\n",
      "See the caveats in the documentation: https://pandas.pydata.org/pandas-docs/stable/user_guide/indexing.html#returning-a-view-versus-a-copy\n",
      "  test_aucs[\"Precision\"][\"SMV\"] = precision_score(true, (smv>0.5).astype(int))\n"
     ]
    },
    {
     "data": {
      "text/html": [
       "<div>\n",
       "<style scoped>\n",
       "    .dataframe tbody tr th:only-of-type {\n",
       "        vertical-align: middle;\n",
       "    }\n",
       "\n",
       "    .dataframe tbody tr th {\n",
       "        vertical-align: top;\n",
       "    }\n",
       "\n",
       "    .dataframe thead th {\n",
       "        text-align: right;\n",
       "    }\n",
       "</style>\n",
       "<table border=\"1\" class=\"dataframe\">\n",
       "  <thead>\n",
       "    <tr style=\"text-align: right;\">\n",
       "      <th></th>\n",
       "      <th>CLBBB</th>\n",
       "      <th>F1 Score</th>\n",
       "      <th>Accuracy</th>\n",
       "      <th>Sensitivity</th>\n",
       "      <th>Specificity</th>\n",
       "      <th>Precision</th>\n",
       "    </tr>\n",
       "  </thead>\n",
       "  <tbody>\n",
       "    <tr>\n",
       "      <th>Simple+Baseline+lead1</th>\n",
       "      <td>0.838074</td>\n",
       "      <td>0.208955</td>\n",
       "      <td>0.975326</td>\n",
       "      <td>0.129630</td>\n",
       "      <td>0.997135</td>\n",
       "      <td>0.538462</td>\n",
       "    </tr>\n",
       "    <tr>\n",
       "      <th>Wavelet+NN+lead1</th>\n",
       "      <td>0.987884</td>\n",
       "      <td>0.775510</td>\n",
       "      <td>0.989758</td>\n",
       "      <td>0.703704</td>\n",
       "      <td>0.997135</td>\n",
       "      <td>0.863636</td>\n",
       "    </tr>\n",
       "    <tr>\n",
       "      <th>Wavelet+RF+lead1</th>\n",
       "      <td>0.991037</td>\n",
       "      <td>0.774194</td>\n",
       "      <td>0.990223</td>\n",
       "      <td>0.666667</td>\n",
       "      <td>0.998567</td>\n",
       "      <td>0.923077</td>\n",
       "    </tr>\n",
       "    <tr>\n",
       "      <th>InceptionSE+lead1</th>\n",
       "      <td>0.873015</td>\n",
       "      <td>0.000000</td>\n",
       "      <td>0.974860</td>\n",
       "      <td>0.000000</td>\n",
       "      <td>1.000000</td>\n",
       "      <td>0.000000</td>\n",
       "    </tr>\n",
       "    <tr>\n",
       "      <th>NewWavelet+NN+lead1</th>\n",
       "      <td>0.989343</td>\n",
       "      <td>0.803922</td>\n",
       "      <td>0.990689</td>\n",
       "      <td>0.759259</td>\n",
       "      <td>0.996657</td>\n",
       "      <td>0.854167</td>\n",
       "    </tr>\n",
       "    <tr>\n",
       "      <th>VGGNet+lead1</th>\n",
       "      <td>0.993341</td>\n",
       "      <td>0.741573</td>\n",
       "      <td>0.989292</td>\n",
       "      <td>0.611111</td>\n",
       "      <td>0.999045</td>\n",
       "      <td>0.942857</td>\n",
       "    </tr>\n",
       "    <tr>\n",
       "      <th>LeNetAttn+lead1</th>\n",
       "      <td>0.987336</td>\n",
       "      <td>0.760870</td>\n",
       "      <td>0.989758</td>\n",
       "      <td>0.648148</td>\n",
       "      <td>0.998567</td>\n",
       "      <td>0.921053</td>\n",
       "    </tr>\n",
       "    <tr>\n",
       "      <th>Wavelet+NN</th>\n",
       "      <td>0.997144</td>\n",
       "      <td>0.860000</td>\n",
       "      <td>0.993482</td>\n",
       "      <td>0.796296</td>\n",
       "      <td>0.998567</td>\n",
       "      <td>0.934783</td>\n",
       "    </tr>\n",
       "    <tr>\n",
       "      <th>LeNet+lead1</th>\n",
       "      <td>0.996524</td>\n",
       "      <td>0.795918</td>\n",
       "      <td>0.990689</td>\n",
       "      <td>0.722222</td>\n",
       "      <td>0.997612</td>\n",
       "      <td>0.886364</td>\n",
       "    </tr>\n",
       "    <tr>\n",
       "      <th>Simple+Baseline</th>\n",
       "      <td>0.990113</td>\n",
       "      <td>0.707071</td>\n",
       "      <td>0.986499</td>\n",
       "      <td>0.648148</td>\n",
       "      <td>0.995224</td>\n",
       "      <td>0.777778</td>\n",
       "    </tr>\n",
       "    <tr>\n",
       "      <th>AttNet+dp02+lead1</th>\n",
       "      <td>0.993297</td>\n",
       "      <td>0.865385</td>\n",
       "      <td>0.993482</td>\n",
       "      <td>0.833333</td>\n",
       "      <td>0.997612</td>\n",
       "      <td>0.900000</td>\n",
       "    </tr>\n",
       "    <tr>\n",
       "      <th>AlexNetAttn+lead1</th>\n",
       "      <td>0.992386</td>\n",
       "      <td>0.747253</td>\n",
       "      <td>0.989292</td>\n",
       "      <td>0.629630</td>\n",
       "      <td>0.998567</td>\n",
       "      <td>0.918919</td>\n",
       "    </tr>\n",
       "    <tr>\n",
       "      <th>AlexNet+lead1</th>\n",
       "      <td>0.998037</td>\n",
       "      <td>0.843137</td>\n",
       "      <td>0.992551</td>\n",
       "      <td>0.796296</td>\n",
       "      <td>0.997612</td>\n",
       "      <td>0.895833</td>\n",
       "    </tr>\n",
       "    <tr>\n",
       "      <th>ResNet+Baseline+lead1</th>\n",
       "      <td>0.994773</td>\n",
       "      <td>0.760870</td>\n",
       "      <td>0.989758</td>\n",
       "      <td>0.648148</td>\n",
       "      <td>0.998567</td>\n",
       "      <td>0.921053</td>\n",
       "    </tr>\n",
       "    <tr>\n",
       "      <th>AttNet+Baseline+lead1</th>\n",
       "      <td>0.995525</td>\n",
       "      <td>0.843137</td>\n",
       "      <td>0.992551</td>\n",
       "      <td>0.796296</td>\n",
       "      <td>0.997612</td>\n",
       "      <td>0.895833</td>\n",
       "    </tr>\n",
       "    <tr>\n",
       "      <th>SMV</th>\n",
       "      <td>0.998373</td>\n",
       "      <td>0.812500</td>\n",
       "      <td>0.991620</td>\n",
       "      <td>0.722222</td>\n",
       "      <td>0.998567</td>\n",
       "      <td>0.928571</td>\n",
       "    </tr>\n",
       "  </tbody>\n",
       "</table>\n",
       "</div>"
      ],
      "text/plain": [
       "                          CLBBB  F1 Score  Accuracy  Sensitivity  Specificity  \\\n",
       "Simple+Baseline+lead1  0.838074  0.208955  0.975326     0.129630     0.997135   \n",
       "Wavelet+NN+lead1       0.987884  0.775510  0.989758     0.703704     0.997135   \n",
       "Wavelet+RF+lead1       0.991037  0.774194  0.990223     0.666667     0.998567   \n",
       "InceptionSE+lead1      0.873015  0.000000  0.974860     0.000000     1.000000   \n",
       "NewWavelet+NN+lead1    0.989343  0.803922  0.990689     0.759259     0.996657   \n",
       "VGGNet+lead1           0.993341  0.741573  0.989292     0.611111     0.999045   \n",
       "LeNetAttn+lead1        0.987336  0.760870  0.989758     0.648148     0.998567   \n",
       "Wavelet+NN             0.997144  0.860000  0.993482     0.796296     0.998567   \n",
       "LeNet+lead1            0.996524  0.795918  0.990689     0.722222     0.997612   \n",
       "Simple+Baseline        0.990113  0.707071  0.986499     0.648148     0.995224   \n",
       "AttNet+dp02+lead1      0.993297  0.865385  0.993482     0.833333     0.997612   \n",
       "AlexNetAttn+lead1      0.992386  0.747253  0.989292     0.629630     0.998567   \n",
       "AlexNet+lead1          0.998037  0.843137  0.992551     0.796296     0.997612   \n",
       "ResNet+Baseline+lead1  0.994773  0.760870  0.989758     0.648148     0.998567   \n",
       "AttNet+Baseline+lead1  0.995525  0.843137  0.992551     0.796296     0.997612   \n",
       "SMV                    0.998373  0.812500  0.991620     0.722222     0.998567   \n",
       "\n",
       "                       Precision  \n",
       "Simple+Baseline+lead1   0.538462  \n",
       "Wavelet+NN+lead1        0.863636  \n",
       "Wavelet+RF+lead1        0.923077  \n",
       "InceptionSE+lead1       0.000000  \n",
       "NewWavelet+NN+lead1     0.854167  \n",
       "VGGNet+lead1            0.942857  \n",
       "LeNetAttn+lead1         0.921053  \n",
       "Wavelet+NN              0.934783  \n",
       "LeNet+lead1             0.886364  \n",
       "Simple+Baseline         0.777778  \n",
       "AttNet+dp02+lead1       0.900000  \n",
       "AlexNetAttn+lead1       0.918919  \n",
       "AlexNet+lead1           0.895833  \n",
       "ResNet+Baseline+lead1   0.921053  \n",
       "AttNet+Baseline+lead1   0.895833  \n",
       "SMV                     0.928571  "
      ]
     },
     "execution_count": 27,
     "metadata": {},
     "output_type": "execute_result"
    }
   ],
   "source": [
    "preds = []\n",
    "for method in range(len(methods)):\n",
    "    preds += [raw_test_preds[method][:,8]]\n",
    "\n",
    "smv = np.array(preds).mean(axis=0)\n",
    "\n",
    "test_aucs.loc['SMV']= 0\n",
    "\n",
    "test_aucs[\"CLBBB\"][\"SMV\"] = roc_auc_score(true, smv)\n",
    "test_aucs[\"F1 Score\"][\"SMV\"] = f1_score(true, (smv>0.5).astype(int))\n",
    "test_aucs[\"Accuracy\"][\"SMV\"] = accuracy_score(true, (smv>0.5).astype(int))\n",
    "test_aucs[\"Sensitivity\"][\"SMV\"] = recall_score(true, (smv>0.5).astype(int), pos_label=1)\n",
    "test_aucs[\"Specificity\"][\"SMV\"] = recall_score(true, (smv>0.5).astype(int), pos_label=0)\n",
    "test_aucs[\"Precision\"][\"SMV\"] = precision_score(true, (smv>0.5).astype(int))\n",
    "\n",
    "test_aucs"
   ]
  },
  {
   "cell_type": "code",
   "execution_count": 28,
   "metadata": {},
   "outputs": [
    {
     "data": {
      "text/plain": [
       "0.059843711074504986"
      ]
     },
     "execution_count": 28,
     "metadata": {},
     "output_type": "execute_result"
    }
   ],
   "source": [
    "(test_aucs['CLBBB']['SMV']-0.942)/0.942"
   ]
  },
  {
   "cell_type": "code",
   "execution_count": 26,
   "metadata": {},
   "outputs": [],
   "source": [
    "chosen_ones = ['Wavelet+NN+lead1', 'NewWavelet+NN+lead1', 'VGGNet+lead1',\n",
    "               'LeNet+lead1', 'AlexNet+lead1', 'ResNet+Baseline+lead1', \n",
    "               'AttNet+Baseline+lead1']\n",
    "\n",
    "new_names = ['Wavelet', 'HCF', 'VGGNet', 'LeNet', 'AlexNet', 'ResNet', 'AttNet']\n",
    "\n",
    "res = test_aucs.loc[chosen_ones]\n",
    "res.index = new_names\n",
    "\n",
    "res.sort_values(by=['CLBBB'], inplace=True, ascending=False)"
   ]
  },
  {
   "cell_type": "code",
   "execution_count": 27,
   "metadata": {},
   "outputs": [
    {
     "name": "stderr",
     "output_type": "stream",
     "text": [
      "C:\\Users\\agarw\\AppData\\Local\\Temp\\ipykernel_11892\\3370043224.py:9: SettingWithCopyWarning: \n",
      "A value is trying to be set on a copy of a slice from a DataFrame\n",
      "\n",
      "See the caveats in the documentation: https://pandas.pydata.org/pandas-docs/stable/user_guide/indexing.html#returning-a-view-versus-a-copy\n",
      "  res[\"CLBBB\"][\"SMV\"] = roc_auc_score(true, smv)\n",
      "C:\\Users\\agarw\\AppData\\Local\\Temp\\ipykernel_11892\\3370043224.py:10: SettingWithCopyWarning: \n",
      "A value is trying to be set on a copy of a slice from a DataFrame\n",
      "\n",
      "See the caveats in the documentation: https://pandas.pydata.org/pandas-docs/stable/user_guide/indexing.html#returning-a-view-versus-a-copy\n",
      "  res[\"F1 Score\"][\"SMV\"] = f1_score(true, (smv>0.5).astype(int))\n",
      "C:\\Users\\agarw\\AppData\\Local\\Temp\\ipykernel_11892\\3370043224.py:11: SettingWithCopyWarning: \n",
      "A value is trying to be set on a copy of a slice from a DataFrame\n",
      "\n",
      "See the caveats in the documentation: https://pandas.pydata.org/pandas-docs/stable/user_guide/indexing.html#returning-a-view-versus-a-copy\n",
      "  res[\"Accuracy\"][\"SMV\"] = accuracy_score(true, (smv>0.5).astype(int))\n",
      "C:\\Users\\agarw\\AppData\\Local\\Temp\\ipykernel_11892\\3370043224.py:12: SettingWithCopyWarning: \n",
      "A value is trying to be set on a copy of a slice from a DataFrame\n",
      "\n",
      "See the caveats in the documentation: https://pandas.pydata.org/pandas-docs/stable/user_guide/indexing.html#returning-a-view-versus-a-copy\n",
      "  res[\"Sensitivity\"][\"SMV\"] = recall_score(true, (smv>0.5).astype(int), pos_label=1)\n",
      "C:\\Users\\agarw\\AppData\\Local\\Temp\\ipykernel_11892\\3370043224.py:13: SettingWithCopyWarning: \n",
      "A value is trying to be set on a copy of a slice from a DataFrame\n",
      "\n",
      "See the caveats in the documentation: https://pandas.pydata.org/pandas-docs/stable/user_guide/indexing.html#returning-a-view-versus-a-copy\n",
      "  res[\"Specificity\"][\"SMV\"] = recall_score(true, (smv>0.5).astype(int), pos_label=0)\n",
      "C:\\Users\\agarw\\AppData\\Local\\Temp\\ipykernel_11892\\3370043224.py:14: SettingWithCopyWarning: \n",
      "A value is trying to be set on a copy of a slice from a DataFrame\n",
      "\n",
      "See the caveats in the documentation: https://pandas.pydata.org/pandas-docs/stable/user_guide/indexing.html#returning-a-view-versus-a-copy\n",
      "  res[\"Precision\"][\"SMV\"] = precision_score(true, (smv>0.5).astype(int))\n"
     ]
    },
    {
     "data": {
      "text/html": [
       "<div>\n",
       "<style scoped>\n",
       "    .dataframe tbody tr th:only-of-type {\n",
       "        vertical-align: middle;\n",
       "    }\n",
       "\n",
       "    .dataframe tbody tr th {\n",
       "        vertical-align: top;\n",
       "    }\n",
       "\n",
       "    .dataframe thead th {\n",
       "        text-align: right;\n",
       "    }\n",
       "</style>\n",
       "<table border=\"1\" class=\"dataframe\">\n",
       "  <thead>\n",
       "    <tr style=\"text-align: right;\">\n",
       "      <th></th>\n",
       "      <th>CLBBB</th>\n",
       "      <th>F1 Score</th>\n",
       "      <th>Accuracy</th>\n",
       "      <th>Sensitivity</th>\n",
       "      <th>Specificity</th>\n",
       "      <th>Precision</th>\n",
       "    </tr>\n",
       "  </thead>\n",
       "  <tbody>\n",
       "    <tr>\n",
       "      <th>AlexNet</th>\n",
       "      <td>0.998037</td>\n",
       "      <td>0.843137</td>\n",
       "      <td>0.992551</td>\n",
       "      <td>0.796296</td>\n",
       "      <td>0.997612</td>\n",
       "      <td>0.895833</td>\n",
       "    </tr>\n",
       "    <tr>\n",
       "      <th>LeNet</th>\n",
       "      <td>0.996524</td>\n",
       "      <td>0.795918</td>\n",
       "      <td>0.990689</td>\n",
       "      <td>0.722222</td>\n",
       "      <td>0.997612</td>\n",
       "      <td>0.886364</td>\n",
       "    </tr>\n",
       "    <tr>\n",
       "      <th>AttNet</th>\n",
       "      <td>0.995525</td>\n",
       "      <td>0.843137</td>\n",
       "      <td>0.992551</td>\n",
       "      <td>0.796296</td>\n",
       "      <td>0.997612</td>\n",
       "      <td>0.895833</td>\n",
       "    </tr>\n",
       "    <tr>\n",
       "      <th>ResNet</th>\n",
       "      <td>0.994773</td>\n",
       "      <td>0.760870</td>\n",
       "      <td>0.989758</td>\n",
       "      <td>0.648148</td>\n",
       "      <td>0.998567</td>\n",
       "      <td>0.921053</td>\n",
       "    </tr>\n",
       "    <tr>\n",
       "      <th>VGGNet</th>\n",
       "      <td>0.993341</td>\n",
       "      <td>0.741573</td>\n",
       "      <td>0.989292</td>\n",
       "      <td>0.611111</td>\n",
       "      <td>0.999045</td>\n",
       "      <td>0.942857</td>\n",
       "    </tr>\n",
       "    <tr>\n",
       "      <th>HCF</th>\n",
       "      <td>0.989343</td>\n",
       "      <td>0.803922</td>\n",
       "      <td>0.990689</td>\n",
       "      <td>0.759259</td>\n",
       "      <td>0.996657</td>\n",
       "      <td>0.854167</td>\n",
       "    </tr>\n",
       "    <tr>\n",
       "      <th>Wavelet</th>\n",
       "      <td>0.987884</td>\n",
       "      <td>0.775510</td>\n",
       "      <td>0.989758</td>\n",
       "      <td>0.703704</td>\n",
       "      <td>0.997135</td>\n",
       "      <td>0.863636</td>\n",
       "    </tr>\n",
       "    <tr>\n",
       "      <th>SMV</th>\n",
       "      <td>0.996047</td>\n",
       "      <td>0.704545</td>\n",
       "      <td>0.987896</td>\n",
       "      <td>0.574074</td>\n",
       "      <td>0.998567</td>\n",
       "      <td>0.911765</td>\n",
       "    </tr>\n",
       "  </tbody>\n",
       "</table>\n",
       "</div>"
      ],
      "text/plain": [
       "            CLBBB  F1 Score  Accuracy  Sensitivity  Specificity  Precision\n",
       "AlexNet  0.998037  0.843137  0.992551     0.796296     0.997612   0.895833\n",
       "LeNet    0.996524  0.795918  0.990689     0.722222     0.997612   0.886364\n",
       "AttNet   0.995525  0.843137  0.992551     0.796296     0.997612   0.895833\n",
       "ResNet   0.994773  0.760870  0.989758     0.648148     0.998567   0.921053\n",
       "VGGNet   0.993341  0.741573  0.989292     0.611111     0.999045   0.942857\n",
       "HCF      0.989343  0.803922  0.990689     0.759259     0.996657   0.854167\n",
       "Wavelet  0.987884  0.775510  0.989758     0.703704     0.997135   0.863636\n",
       "SMV      0.996047  0.704545  0.987896     0.574074     0.998567   0.911765"
      ]
     },
     "execution_count": 27,
     "metadata": {},
     "output_type": "execute_result"
    }
   ],
   "source": [
    "preds = []\n",
    "for method in range(len(new_names)):\n",
    "    preds += [raw_test_preds[method][:,8]]\n",
    "\n",
    "smv = np.array(preds).mean(axis=0)\n",
    "\n",
    "res.loc['SMV']= 0\n",
    "\n",
    "res[\"CLBBB\"][\"SMV\"] = roc_auc_score(true, smv)\n",
    "res[\"F1 Score\"][\"SMV\"] = f1_score(true, (smv>0.5).astype(int))\n",
    "res[\"Accuracy\"][\"SMV\"] = accuracy_score(true, (smv>0.5).astype(int))\n",
    "res[\"Sensitivity\"][\"SMV\"] = recall_score(true, (smv>0.5).astype(int), pos_label=1)\n",
    "res[\"Specificity\"][\"SMV\"] = recall_score(true, (smv>0.5).astype(int), pos_label=0)\n",
    "res[\"Precision\"][\"SMV\"] = precision_score(true, (smv>0.5).astype(int))\n",
    "\n",
    "res"
   ]
  },
  {
   "cell_type": "code",
   "execution_count": 28,
   "metadata": {},
   "outputs": [],
   "source": [
    "import seaborn as sns"
   ]
  },
  {
   "cell_type": "code",
   "execution_count": 59,
   "metadata": {},
   "outputs": [
    {
     "data": {
      "image/png": "[encoded data removed]",
      "text/plain": [
       "<Figure size 576x432 with 1 Axes>"
      ]
     },
     "metadata": {
      "needs_background": "light"
     },
     "output_type": "display_data"
    }
   ],
   "source": [
    "import matplotlib\n",
    "matplotlib.rcParams['font.family'] = 'Arial'\n",
    "matplotlib.rcParams['font.size'] = 14  # Increase font size\n",
    "\n",
    "clbbb_values = res['CLBBB']\n",
    "benchmark_value = 0.942 # Replace with your desired benchmark value\n",
    "\n",
    "# Create a figure and axis\n",
    "fig, ax = plt.subplots(figsize=(8, 6))\n",
    "\n",
    "# Plot the horizontal bar chart\n",
    "ax.barh(range(len(clbbb_values)), clbbb_values, color='#ADD8E6')\n",
    "\n",
    "# Set the x-axis and y-axis labels\n",
    "ax.set_xlabel('AUC', fontsize=14, fontweight='bold')\n",
    "ax.set_yticks(range(len(clbbb_values)))\n",
    "ax.set_yticklabels(res.index)\n",
    "ax.set_xlim(0.92,1)\n",
    "\n",
    "# Add a vertical line for the benchmark value\n",
    "ax.axvline(benchmark_value, color='#F08080', linestyle='--', label='Chen et al. [12]')\n",
    "\n",
    "# Add a legend\n",
    "ax.legend()\n",
    "\n",
    "# Adjust the spacing between subplots\n",
    "plt.tight_layout()\n",
    "plt.savefig(r\"C:\\Users\\agarw\\OneDrive - Imperial College London\\Year 4\\Final Year Project\\Report Images\\clbb_auc.png\", dpi=1000, bbox_inches='tight')"
   ]
  },
  {
   "cell_type": "code",
   "execution_count": 58,
   "metadata": {},
   "outputs": [
    {
     "data": {
      "image/png": "[encoded data removed]",
      "text/plain": [
       "<Figure size 576x432 with 1 Axes>"
      ]
     },
     "metadata": {
      "needs_background": "light"
     },
     "output_type": "display_data"
    }
   ],
   "source": [
    "import matplotlib\n",
    "matplotlib.rcParams['font.family'] = 'Arial'\n",
    "matplotlib.rcParams['font.size'] = 14  # Increase font size\n",
    "\n",
    "res.sort_values(by=['F1 Score'], ascending=False)\n",
    "clbbb_values = res['F1 Score']\n",
    "benchmark_value = 0.884 # Replace with your desired benchmark value\n",
    "\n",
    "# Create a figure and axis\n",
    "fig, ax = plt.subplots(figsize=(8, 6))\n",
    "\n",
    "# Plot the horizontal bar chart\n",
    "ax.barh(range(len(clbbb_values)), clbbb_values, color='#FFA500')\n",
    "\n",
    "# Set the x-axis and y-axis labels\n",
    "ax.set_xlabel('F1 Score', fontsize=14, fontweight='bold')\n",
    "ax.set_yticks(range(len(clbbb_values)))\n",
    "ax.set_yticklabels(res.index)\n",
    "ax.set_xlim(0.7,1)\n",
    "\n",
    "# Add a vertical line for the benchmark value\n",
    "ax.axvline(benchmark_value, color='#F08080', linestyle='--', label='Chen et al. [12]')\n",
    "\n",
    "# Add a legend\n",
    "ax.legend()\n",
    "\n",
    "# Adjust the spacing between subplots\n",
    "plt.tight_layout()\n",
    "plt.savefig(r\"C:\\Users\\agarw\\OneDrive - Imperial College London\\Year 4\\Final Year Project\\Report Images\\clbb_f1.png\", dpi=1000, bbox_inches='tight')"
   ]
  },
  {
   "cell_type": "code",
   "execution_count": 70,
   "metadata": {},
   "outputs": [
    {
     "data": {
      "text/plain": [
       "Text(29.0, 0.5, 'True labels')"
      ]
     },
     "execution_count": 70,
     "metadata": {},
     "output_type": "execute_result"
    },
    {
     "data": {
      "image/png": "[encoded data removed]",
      "text/plain": [
       "<Figure size 432x288 with 2 Axes>"
      ]
     },
     "metadata": {
      "needs_background": "light"
     },
     "output_type": "display_data"
    }
   ],
   "source": [
    "from sklearn.metrics import *\n",
    "\n",
    "cm = confusion_matrix(true, (smv>0.5).astype(int), normalize='pred')\n",
    "sns.heatmap(cm, annot=True, cmap=\"Blues\")\n",
    "plt.xlabel(\"Predicted labels\")\n",
    "plt.ylabel(\"True labels\")"
   ]
  },
  {
   "cell_type": "code",
   "execution_count": 71,
   "metadata": {},
   "outputs": [
    {
     "data": {
      "text/html": [
       "<div>\n",
       "<style scoped>\n",
       "    .dataframe tbody tr th:only-of-type {\n",
       "        vertical-align: middle;\n",
       "    }\n",
       "\n",
       "    .dataframe tbody tr th {\n",
       "        vertical-align: top;\n",
       "    }\n",
       "\n",
       "    .dataframe thead th {\n",
       "        text-align: right;\n",
       "    }\n",
       "</style>\n",
       "<table border=\"1\" class=\"dataframe\">\n",
       "  <thead>\n",
       "    <tr style=\"text-align: right;\">\n",
       "      <th></th>\n",
       "      <th>CLBBB</th>\n",
       "      <th>F1 Score</th>\n",
       "      <th>Accuracy</th>\n",
       "      <th>Sensitivity</th>\n",
       "      <th>Specificity</th>\n",
       "      <th>Precision</th>\n",
       "    </tr>\n",
       "  </thead>\n",
       "  <tbody>\n",
       "    <tr>\n",
       "      <th>SMV</th>\n",
       "      <td>0.998373</td>\n",
       "      <td>0.812500</td>\n",
       "      <td>0.991620</td>\n",
       "      <td>0.722222</td>\n",
       "      <td>0.998567</td>\n",
       "      <td>0.928571</td>\n",
       "    </tr>\n",
       "    <tr>\n",
       "      <th>AlexNet</th>\n",
       "      <td>0.998037</td>\n",
       "      <td>0.843137</td>\n",
       "      <td>0.992551</td>\n",
       "      <td>0.796296</td>\n",
       "      <td>0.997612</td>\n",
       "      <td>0.895833</td>\n",
       "    </tr>\n",
       "    <tr>\n",
       "      <th>LeNet</th>\n",
       "      <td>0.996524</td>\n",
       "      <td>0.795918</td>\n",
       "      <td>0.990689</td>\n",
       "      <td>0.722222</td>\n",
       "      <td>0.997612</td>\n",
       "      <td>0.886364</td>\n",
       "    </tr>\n",
       "    <tr>\n",
       "      <th>AttNet</th>\n",
       "      <td>0.995525</td>\n",
       "      <td>0.843137</td>\n",
       "      <td>0.992551</td>\n",
       "      <td>0.796296</td>\n",
       "      <td>0.997612</td>\n",
       "      <td>0.895833</td>\n",
       "    </tr>\n",
       "    <tr>\n",
       "      <th>ResNet</th>\n",
       "      <td>0.994773</td>\n",
       "      <td>0.760870</td>\n",
       "      <td>0.989758</td>\n",
       "      <td>0.648148</td>\n",
       "      <td>0.998567</td>\n",
       "      <td>0.921053</td>\n",
       "    </tr>\n",
       "    <tr>\n",
       "      <th>VGGNet</th>\n",
       "      <td>0.993341</td>\n",
       "      <td>0.741573</td>\n",
       "      <td>0.989292</td>\n",
       "      <td>0.611111</td>\n",
       "      <td>0.999045</td>\n",
       "      <td>0.942857</td>\n",
       "    </tr>\n",
       "    <tr>\n",
       "      <th>HCF</th>\n",
       "      <td>0.989343</td>\n",
       "      <td>0.803922</td>\n",
       "      <td>0.990689</td>\n",
       "      <td>0.759259</td>\n",
       "      <td>0.996657</td>\n",
       "      <td>0.854167</td>\n",
       "    </tr>\n",
       "    <tr>\n",
       "      <th>Wavelet</th>\n",
       "      <td>0.987884</td>\n",
       "      <td>0.775510</td>\n",
       "      <td>0.989758</td>\n",
       "      <td>0.703704</td>\n",
       "      <td>0.997135</td>\n",
       "      <td>0.863636</td>\n",
       "    </tr>\n",
       "  </tbody>\n",
       "</table>\n",
       "</div>"
      ],
      "text/plain": [
       "            CLBBB  F1 Score  Accuracy  Sensitivity  Specificity  Precision\n",
       "SMV      0.998373  0.812500  0.991620     0.722222     0.998567   0.928571\n",
       "AlexNet  0.998037  0.843137  0.992551     0.796296     0.997612   0.895833\n",
       "LeNet    0.996524  0.795918  0.990689     0.722222     0.997612   0.886364\n",
       "AttNet   0.995525  0.843137  0.992551     0.796296     0.997612   0.895833\n",
       "ResNet   0.994773  0.760870  0.989758     0.648148     0.998567   0.921053\n",
       "VGGNet   0.993341  0.741573  0.989292     0.611111     0.999045   0.942857\n",
       "HCF      0.989343  0.803922  0.990689     0.759259     0.996657   0.854167\n",
       "Wavelet  0.987884  0.775510  0.989758     0.703704     0.997135   0.863636"
      ]
     },
     "execution_count": 71,
     "metadata": {},
     "output_type": "execute_result"
    }
   ],
   "source": [
    "res"
   ]
  },
  {
   "cell_type": "code",
   "execution_count": 74,
   "metadata": {},
   "outputs": [
    {
     "data": {
      "text/plain": [
       "<matplotlib.legend.Legend at 0x1e22aac44c0>"
      ]
     },
     "execution_count": 74,
     "metadata": {},
     "output_type": "execute_result"
    },
    {
     "data": {
      "image/png": "[encoded data removed]",
      "text/plain": [
       "<Figure size 576x432 with 1 Axes>"
      ]
     },
     "metadata": {
      "needs_background": "light"
     },
     "output_type": "display_data"
    }
   ],
   "source": [
    "from sklearn.utils import resample\n",
    "\n",
    "pred = raw_test_preds[2][:,8]\n",
    "fpr, tpr, thresholds = roc_curve(true, pred)\n",
    "roc_auc = roc_auc_score(true, pred)\n",
    "\n",
    "# Bootstrap to get confidence intervals\n",
    "n_bootstraps = 1000\n",
    "roc_aucs = []\n",
    "\n",
    "for _ in range(n_bootstraps):\n",
    "    y_true_boot, y_score_boot = resample(true, pred)\n",
    "    roc_aucs.append(roc_auc_score(y_true_boot, y_score_boot))\n",
    "\n",
    "roc_aucs = np.array(roc_aucs)\n",
    "roc_aucs.sort()\n",
    "\n",
    "# Plot the ROC curve with confidence intervals\n",
    "plt.figure(figsize=(8, 6))\n",
    "plt.plot(fpr, tpr, lw=2, label=f'ROC curve (AUC = {roc_auc:.2f})')\n",
    "\n",
    "# Plot the confidence intervals\n",
    "# plt.fill_between(fpr, \n",
    "#                  tpr, \n",
    "#                  np.concatenate([[0], tpr]), \n",
    "#                  alpha=0.3, \n",
    "#                  label=f'95% CI: [{roc_aucs[25]:.2f}, {roc_aucs[975]:.2f}]')\n",
    "plt.fill_between(fpr, tpr, alpha=0.3, label=f'95% CI: [{roc_aucs[25]:.2f}, {roc_aucs[975]:.2f}]')\n",
    "\n",
    "plt.plot([0, 1], [0, 1], linestyle='--', lw=2, color='r')\n",
    "plt.xlim([-0.05, 1.05])\n",
    "plt.ylim([-0.05, 1.05])\n",
    "plt.xlabel('False Positive Rate')\n",
    "plt.ylabel('True Positive Rate')\n",
    "plt.title('Receiver Operating Characteristic (ROC) Curve')\n",
    "plt.legend(loc=\"lower right\")"
   ]
  },
  {
   "cell_type": "code",
   "execution_count": 89,
   "metadata": {},
   "outputs": [
    {
     "data": {
      "text/plain": [
       "0.2918362912303564"
      ]
     },
     "execution_count": 89,
     "metadata": {},
     "output_type": "execute_result"
    }
   ],
   "source": [
    "smv[true==1][smv[true==1]<0.5].mean()"
   ]
  },
  {
   "cell_type": "code",
   "execution_count": 90,
   "metadata": {},
   "outputs": [
    {
     "data": {
      "text/plain": [
       "0.007529017848712098"
      ]
     },
     "execution_count": 90,
     "metadata": {},
     "output_type": "execute_result"
    }
   ],
   "source": [
    "smv[true==0].mean()"
   ]
  },
  {
   "cell_type": "code",
   "execution_count": 97,
   "metadata": {},
   "outputs": [
    {
     "data": {
      "text/plain": [
       "0.8490566037735849"
      ]
     },
     "execution_count": 97,
     "metadata": {},
     "output_type": "execute_result"
    }
   ],
   "source": [
    "f1_score(true, (smv>0.2).astype(int))"
   ]
  },
  {
   "cell_type": "code",
   "execution_count": 1,
   "metadata": {},
   "outputs": [
    {
     "data": {
      "image/png": "[encoded data removed]",
      "text/plain": [
       "<Figure size 720x432 with 1 Axes>"
      ]
     },
     "metadata": {
      "needs_background": "light"
     },
     "output_type": "display_data"
    }
   ],
   "source": [
    "import matplotlib.pyplot as plt\n",
    "import pandas as pd\n",
    "import matplotlib\n",
    "matplotlib.rcParams['font.family'] = 'Arial'\n",
    "matplotlib.rcParams['font.size'] = 14  # Increase font size\n",
    "\n",
    "# Data from the user-provided table\n",
    "data = {\n",
    "    'Model': ['Wavelet', 'HCF', 'VGGNet', 'LeNet', 'AlexNet', 'AttNet', 'ResNet', 'Chen et al. (12 leads) [3]'],\n",
    "    'AUC': [0.988, 0.989, 0.996, 0.996 ,0.998, 0.997, 0.995, 0.942]\n",
    "}\n",
    "\n",
    "# Colors specified by the user\n",
    "colors = ['#E59EDD', '#90EE90', '#FFA500', '#ADD8E6', '#F4442E', '#9370DB', '#FFD700', '#0000cd']\n",
    "\n",
    "# Creating DataFrame\n",
    "df = pd.DataFrame(data)\n",
    "\n",
    "# Plotting the bar chart with the specified updates\n",
    "plt.figure(figsize=(10, 6))\n",
    "bars = plt.bar(df['Model'], df['AUC'], color=colors)\n",
    "\n",
    "# Adding labels and title\n",
    "plt.xlabel('Model', fontweight=\"bold\")\n",
    "plt.ylabel('AUC', fontweight=\"bold\")\n",
    "plt.ylim(0.9, 1.00)\n",
    "\n",
    "# Adding the horizontal line at the Chen et al. AUC value with the same color and thicker line\n",
    "plt.axhline(y=0.942, color='#0000cd', linestyle='--')\n",
    "\n",
    "# Adjusting tick labels to ensure they do not coincide\n",
    "plt.xticks(rotation=45, ha='right')\n",
    "\n",
    "# Displaying the plot\n",
    "plt.savefig(r\"C:\\Users\\agarw\\OneDrive - Imperial College London\\Year 4\\Final Year Project\\Report Images\\clbb_auc.png\", dpi=1000, bbox_inches='tight')\n",
    "plt.show()\n"
   ]
  },
  {
   "cell_type": "code",
   "execution_count": 57,
   "metadata": {},
   "outputs": [
    {
     "data": {
      "image/png": "[encoded data removed]",
      "text/plain": [
       "<Figure size 720x432 with 1 Axes>"
      ]
     },
     "metadata": {
      "needs_background": "light"
     },
     "output_type": "display_data"
    }
   ],
   "source": [
    "import matplotlib.pyplot as plt\n",
    "import pandas as pd\n",
    "\n",
    "error_bars = [0.0019, 0.0025, 0.0024, 0.0012, 0.0005, 0.0003, 0.0010, 0]\n",
    "# Data from the user-provided table\n",
    "data = {\n",
    "    'Model': ['Wavelet', 'HCF', 'VGGNet', 'LeNet', 'AlexNet', 'AttNet', 'ResNet', 'Chen et al. (12 leads)'],\n",
    "    'AUC': [0.988, 0.989, 0.996, 0.996 ,0.998, 0.997, 0.995, 0.942]\n",
    "}\n",
    "\n",
    "# Colors specified by the user\n",
    "colors = ['#E59EDD', '#90EE90', '#FFA500', '#ADD8E6', '#F4442E', '#9370DB', '#FFD700', '#0000cd']\n",
    "\n",
    "# Creating DataFrame\n",
    "df = pd.DataFrame(data)\n",
    "\n",
    "# Plotting the bar chart with the specified updates\n",
    "plt.figure(figsize=(10, 6))\n",
    "bars = plt.bar(df['Model'], df['AUC'], color=colors, clip_on=True)\n",
    "\n",
    "# Adding labels and title\n",
    "plt.xlabel('Model')\n",
    "plt.ylabel('AUC')\n",
    "plt.title('AUC Scores for Different Models')\n",
    "plt.ylim(0.9, 1.00)\n",
    "\n",
    "# Adding the horizontal line at the Chen et al. AUC value with the same color and thicker line\n",
    "plt.axhline(y=0.942, color='#0000cd', linestyle='--', linewidth=2)\n",
    "\n",
    "# Adjusting tick labels to ensure they do not coincide\n",
    "plt.xticks(rotation=45, ha='right')\n",
    "\n",
    "# Displaying the plot\n",
    "plt.show()"
   ]
  },
  {
   "cell_type": "code",
   "execution_count": 31,
   "metadata": {},
   "outputs": [
    {
     "name": "stdout",
     "output_type": "stream",
     "text": [
      "95% CI for AUC: (0.240, 1.000)\n"
     ]
    }
   ],
   "source": [
    "import numpy as np\n",
    "from sklearn.metrics import roc_auc_score\n",
    "from sklearn.utils import resample\n",
    "\n",
    "def bootstrap_auc_ci(y_true, y_pred, num_bootstrap=1000, alpha=0.95):\n",
    "    \"\"\"\n",
    "    Calculate the 95% confidence interval for the AUC using bootstrapping.\n",
    "\n",
    "    Parameters:\n",
    "    y_true (array-like): True binary labels.\n",
    "    y_pred (array-like): Predicted probabilities.\n",
    "    num_bootstrap (int): Number of bootstrap samples to generate.\n",
    "    alpha (float): Confidence level, default is 0.95 for 95% confidence interval.\n",
    "\n",
    "    Returns:\n",
    "    tuple: Lower and upper bounds of the 95% confidence interval for the AUC.\n",
    "    \"\"\"\n",
    "    # Calculate the original AUC\n",
    "    auc_original = roc_auc_score(y_true, y_pred)\n",
    "    \n",
    "    # Generate bootstrap samples and calculate AUCs\n",
    "    bootstrapped_aucs = []\n",
    "    n = len(y_true)\n",
    "    \n",
    "    for _ in range(num_bootstrap):\n",
    "        indices = np.random.randint(0, n, n)\n",
    "        if len(np.unique(y_true[indices])) < 2:\n",
    "            # Skip this iteration if only one class is present in the sample\n",
    "            continue\n",
    "        auc = roc_auc_score(y_true[indices], y_pred[indices])\n",
    "        bootstrapped_aucs.append(auc)\n",
    "    \n",
    "    # Calculate the confidence interval\n",
    "    sorted_aucs = np.sort(bootstrapped_aucs)\n",
    "    lower_bound = np.percentile(sorted_aucs, ((1 - alpha) / 2) * 100)\n",
    "    upper_bound = np.percentile(sorted_aucs, (1 - (1 - alpha) / 2) * 100)\n",
    "    \n",
    "    return lower_bound, upper_bound\n",
    "\n",
    "# Example usage\n",
    "y_true = np.array([0, 1, 1, 0, 1, 0, 1, 0, 1, 0])\n",
    "y_pred = np.array([0.1, 0.4, 0.35, 0.8, 0.45, 0.3, 0.7, 0.2, 0.65, 0.5])\n",
    "lower, upper = bootstrap_auc_ci(y_true, y_pred)\n",
    "return lower, upper\n"
   ]
  },
  {
   "cell_type": "code",
   "execution_count": 56,
   "metadata": {},
   "outputs": [
    {
     "name": "stdout",
     "output_type": "stream",
     "text": [
      "0.02031607131584956\n",
      "0.023746393410925437\n",
      "0.02394280315429953\n",
      "0.012157343108940899\n",
      "0.004561936100397568\n",
      "0.0029022192133825175\n",
      "0.010313576035490213\n",
      "0.008819958830052599\n"
     ]
    }
   ],
   "source": [
    "for i in [1,4,5,8,9,12,13,14]:\n",
    "    a,b = bootstrap_auc_ci(y_test['CLBBB'], raw_test_preds[i][:,8])\n",
    "    print((b - a))"
   ]
  },
  {
   "cell_type": "code",
   "execution_count": 47,
   "metadata": {},
   "outputs": [
    {
     "data": {
      "text/plain": [
       "0       0\n",
       "1       0\n",
       "2       0\n",
       "3       0\n",
       "4       0\n",
       "       ..\n",
       "2143    0\n",
       "2144    0\n",
       "2145    0\n",
       "2146    0\n",
       "2147    0\n",
       "Name: CLBBB, Length: 2148, dtype: int32"
      ]
     },
     "execution_count": 47,
     "metadata": {},
     "output_type": "execute_result"
    }
   ],
   "source": [
    "y_test['CLBBB']"
   ]
  }
 ],
 "metadata": {
  "kernelspec": {
   "display_name": "Python 3",
   "language": "python",
   "name": "python3"
  },
  "language_info": {
   "codemirror_mode": {
    "name": "ipython",
    "version": 3
   },
   "file_extension": ".py",
   "mimetype": "text/x-python",
   "name": "python",
   "nbconvert_exporter": "python",
   "pygments_lexer": "ipython3",
   "version": "3.10.4"
  }
 },
 "nbformat": 4,
 "nbformat_minor": 2
}
