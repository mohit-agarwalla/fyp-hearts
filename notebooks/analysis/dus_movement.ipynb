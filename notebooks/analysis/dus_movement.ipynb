{
 "cells": [
  {
   "cell_type": "code",
   "execution_count": 1,
   "metadata": {},
   "outputs": [],
   "source": [
    "import os\n",
    "\n",
    "os.chdir(\"../..\")\n",
    "\n",
    "import utils"
   ]
  },
  {
   "cell_type": "code",
   "execution_count": 2,
   "metadata": {},
   "outputs": [],
   "source": [
    "outputfolder = os.getcwd() + '/output/'\n",
    "datafolder = os.getcwd() + '/datasets/PTB-XL/'\n",
    "sampling_rate = 100\n",
    "task = 'priority'\n",
    "experiment_name = 'exp4'\n",
    "\n",
    "data, raw_labels = utils.load_dataset(datafolder, sampling_rate=sampling_rate)\n",
    "labels = utils.compute_label_aggregations(raw_labels, datafolder, task)\n",
    "data, labels, Y, _ = utils.select_data(data, labels, task, 0, outputfolder+experiment_name+'/data/')"
   ]
  },
  {
   "cell_type": "code",
   "execution_count": 3,
   "metadata": {},
   "outputs": [
    {
     "name": "stdout",
     "output_type": "stream",
     "text": [
      "This experiment has 43 classes\n"
     ]
    }
   ],
   "source": [
    "X_test = data[labels.strat_fold == 10]\n",
    "y_test = Y[labels.strat_fold == 10]\n",
    "\n",
    "X_val = data[labels.strat_fold == 9]\n",
    "y_val = Y[labels.strat_fold == 9]\n",
    "\n",
    "X_train = data[labels.strat_fold <= 8]\n",
    "y_train = Y[labels.strat_fold <= 8]\n",
    "\n",
    "n_classes = y_train.shape[1]\n",
    "\n",
    "print(f\"This experiment has {n_classes} classes\")\n",
    "\n",
    "X_train = X_train[:,:,0]\n",
    "X_test = X_test[:,:,0]\n",
    "X_val = X_val[:,:,0]"
   ]
  },
  {
   "cell_type": "code",
   "execution_count": 4,
   "metadata": {},
   "outputs": [],
   "source": [
    "import matplotlib.pyplot as plt\n",
    "import pandas as pd\n",
    "import numpy as np\n",
    "import seaborn as sns"
   ]
  },
  {
   "cell_type": "code",
   "execution_count": 5,
   "metadata": {},
   "outputs": [],
   "source": [
    "results = pd.read_csv(\"output/results_ptbxl.csv\", index_col=\"Method\")\n",
    "results = results['exp4_AUC'].to_frame()\n",
    "results = results[results['exp4_AUC']!='---']"
   ]
  },
  {
   "cell_type": "code",
   "execution_count": 6,
   "metadata": {},
   "outputs": [
    {
     "data": {
      "text/html": [
       "<div>\n",
       "<style scoped>\n",
       "    .dataframe tbody tr th:only-of-type {\n",
       "        vertical-align: middle;\n",
       "    }\n",
       "\n",
       "    .dataframe tbody tr th {\n",
       "        vertical-align: top;\n",
       "    }\n",
       "\n",
       "    .dataframe thead th {\n",
       "        text-align: right;\n",
       "    }\n",
       "</style>\n",
       "<table border=\"1\" class=\"dataframe\">\n",
       "  <thead>\n",
       "    <tr style=\"text-align: right;\">\n",
       "      <th></th>\n",
       "      <th>exp4_AUC</th>\n",
       "    </tr>\n",
       "    <tr>\n",
       "      <th>Method</th>\n",
       "      <th></th>\n",
       "    </tr>\n",
       "  </thead>\n",
       "  <tbody>\n",
       "    <tr>\n",
       "      <th>models\\Wavelet+NN+lead1</th>\n",
       "      <td>0.735(24)</td>\n",
       "    </tr>\n",
       "    <tr>\n",
       "      <th>models\\Wavelet+NN</th>\n",
       "      <td>0.818(20)</td>\n",
       "    </tr>\n",
       "    <tr>\n",
       "      <th>models\\AttNet+Baseline+lead1</th>\n",
       "      <td>0.848(15)</td>\n",
       "    </tr>\n",
       "    <tr>\n",
       "      <th>models\\NewWavelet+NN+lead1</th>\n",
       "      <td>0.766(25)</td>\n",
       "    </tr>\n",
       "    <tr>\n",
       "      <th>models\\Wavelet+RF+lead1</th>\n",
       "      <td>0.735(24)</td>\n",
       "    </tr>\n",
       "    <tr>\n",
       "      <th>models\\AttNet+dp02+lead1</th>\n",
       "      <td>0.830(15)</td>\n",
       "    </tr>\n",
       "    <tr>\n",
       "      <th>models\\Simple+Baseline</th>\n",
       "      <td>0.819(17)</td>\n",
       "    </tr>\n",
       "    <tr>\n",
       "      <th>models\\AlexNetAttn+lead1</th>\n",
       "      <td>0.834(12)</td>\n",
       "    </tr>\n",
       "    <tr>\n",
       "      <th>models\\InceptionSE+lead1</th>\n",
       "      <td>0.758(14)</td>\n",
       "    </tr>\n",
       "    <tr>\n",
       "      <th>models\\Simple+Baseline+lead1</th>\n",
       "      <td>0.681(28)</td>\n",
       "    </tr>\n",
       "    <tr>\n",
       "      <th>models\\LeNetAttn+lead1</th>\n",
       "      <td>0.807(14)</td>\n",
       "    </tr>\n",
       "    <tr>\n",
       "      <th>models\\AlexNet+lead1</th>\n",
       "      <td>0.838(16)</td>\n",
       "    </tr>\n",
       "    <tr>\n",
       "      <th>models\\LeNet+lead1</th>\n",
       "      <td>0.819(16)</td>\n",
       "    </tr>\n",
       "    <tr>\n",
       "      <th>models\\naive</th>\n",
       "      <td>0.500(00)</td>\n",
       "    </tr>\n",
       "    <tr>\n",
       "      <th>models\\VGGNet+lead1</th>\n",
       "      <td>0.805(15)</td>\n",
       "    </tr>\n",
       "    <tr>\n",
       "      <th>models\\ResNet+Baseline+lead1</th>\n",
       "      <td>0.845(14)</td>\n",
       "    </tr>\n",
       "  </tbody>\n",
       "</table>\n",
       "</div>"
      ],
      "text/plain": [
       "                               exp4_AUC\n",
       "Method                                 \n",
       "models\\Wavelet+NN+lead1       0.735(24)\n",
       "models\\Wavelet+NN             0.818(20)\n",
       "models\\AttNet+Baseline+lead1  0.848(15)\n",
       "models\\NewWavelet+NN+lead1    0.766(25)\n",
       "models\\Wavelet+RF+lead1       0.735(24)\n",
       "models\\AttNet+dp02+lead1      0.830(15)\n",
       "models\\Simple+Baseline        0.819(17)\n",
       "models\\AlexNetAttn+lead1      0.834(12)\n",
       "models\\InceptionSE+lead1      0.758(14)\n",
       "models\\Simple+Baseline+lead1  0.681(28)\n",
       "models\\LeNetAttn+lead1        0.807(14)\n",
       "models\\AlexNet+lead1          0.838(16)\n",
       "models\\LeNet+lead1            0.819(16)\n",
       "models\\naive                  0.500(00)\n",
       "models\\VGGNet+lead1           0.805(15)\n",
       "models\\ResNet+Baseline+lead1  0.845(14)"
      ]
     },
     "execution_count": 6,
     "metadata": {},
     "output_type": "execute_result"
    }
   ],
   "source": [
    "results"
   ]
  },
  {
   "cell_type": "code",
   "execution_count": 7,
   "metadata": {},
   "outputs": [
    {
     "name": "stderr",
     "output_type": "stream",
     "text": [
      "C:\\Users\\agarw\\AppData\\Local\\Temp\\ipykernel_33068\\4282170335.py:6: FutureWarning: The default value of regex will change from True to False in a future version.\n",
      "  results.index = results.index.str.replace(r'models\\\\', '')\n"
     ]
    }
   ],
   "source": [
    "results['AUC'] = results['exp4_AUC'].str.extract(r'(\\d+\\.\\d+)', expand=False).astype(float)\n",
    "results['AUC CI'] = results['exp4_AUC'].str.extract(r'\\((\\d+)\\)', expand=False).astype(float)\n",
    "results['AUC CI'] = results['AUC CI']/1000\n",
    "results.index = pd.Categorical(results.index)\n",
    "results.sort_index(inplace=True)\n",
    "results.index = results.index.str.replace(r'models\\\\', '')\n",
    "results = results.sort_values(\"AUC\")"
   ]
  },
  {
   "cell_type": "code",
   "execution_count": 8,
   "metadata": {},
   "outputs": [
    {
     "data": {
      "text/html": [
       "<div>\n",
       "<style scoped>\n",
       "    .dataframe tbody tr th:only-of-type {\n",
       "        vertical-align: middle;\n",
       "    }\n",
       "\n",
       "    .dataframe tbody tr th {\n",
       "        vertical-align: top;\n",
       "    }\n",
       "\n",
       "    .dataframe thead th {\n",
       "        text-align: right;\n",
       "    }\n",
       "</style>\n",
       "<table border=\"1\" class=\"dataframe\">\n",
       "  <thead>\n",
       "    <tr style=\"text-align: right;\">\n",
       "      <th></th>\n",
       "      <th>exp4_AUC</th>\n",
       "      <th>AUC</th>\n",
       "      <th>AUC CI</th>\n",
       "    </tr>\n",
       "  </thead>\n",
       "  <tbody>\n",
       "    <tr>\n",
       "      <th>VGGNet+lead1</th>\n",
       "      <td>0.805(15)</td>\n",
       "      <td>0.805</td>\n",
       "      <td>0.015</td>\n",
       "    </tr>\n",
       "    <tr>\n",
       "      <th>LeNetAttn+lead1</th>\n",
       "      <td>0.807(14)</td>\n",
       "      <td>0.807</td>\n",
       "      <td>0.014</td>\n",
       "    </tr>\n",
       "    <tr>\n",
       "      <th>Wavelet+NN</th>\n",
       "      <td>0.818(20)</td>\n",
       "      <td>0.818</td>\n",
       "      <td>0.020</td>\n",
       "    </tr>\n",
       "    <tr>\n",
       "      <th>LeNet+lead1</th>\n",
       "      <td>0.819(16)</td>\n",
       "      <td>0.819</td>\n",
       "      <td>0.016</td>\n",
       "    </tr>\n",
       "    <tr>\n",
       "      <th>Simple+Baseline</th>\n",
       "      <td>0.819(17)</td>\n",
       "      <td>0.819</td>\n",
       "      <td>0.017</td>\n",
       "    </tr>\n",
       "    <tr>\n",
       "      <th>AttNet+dp02+lead1</th>\n",
       "      <td>0.830(15)</td>\n",
       "      <td>0.830</td>\n",
       "      <td>0.015</td>\n",
       "    </tr>\n",
       "    <tr>\n",
       "      <th>AlexNetAttn+lead1</th>\n",
       "      <td>0.834(12)</td>\n",
       "      <td>0.834</td>\n",
       "      <td>0.012</td>\n",
       "    </tr>\n",
       "    <tr>\n",
       "      <th>AlexNet+lead1</th>\n",
       "      <td>0.838(16)</td>\n",
       "      <td>0.838</td>\n",
       "      <td>0.016</td>\n",
       "    </tr>\n",
       "    <tr>\n",
       "      <th>ResNet+Baseline+lead1</th>\n",
       "      <td>0.845(14)</td>\n",
       "      <td>0.845</td>\n",
       "      <td>0.014</td>\n",
       "    </tr>\n",
       "    <tr>\n",
       "      <th>AttNet+Baseline+lead1</th>\n",
       "      <td>0.848(15)</td>\n",
       "      <td>0.848</td>\n",
       "      <td>0.015</td>\n",
       "    </tr>\n",
       "  </tbody>\n",
       "</table>\n",
       "</div>"
      ],
      "text/plain": [
       "                        exp4_AUC    AUC  AUC CI\n",
       "VGGNet+lead1           0.805(15)  0.805   0.015\n",
       "LeNetAttn+lead1        0.807(14)  0.807   0.014\n",
       "Wavelet+NN             0.818(20)  0.818   0.020\n",
       "LeNet+lead1            0.819(16)  0.819   0.016\n",
       "Simple+Baseline        0.819(17)  0.819   0.017\n",
       "AttNet+dp02+lead1      0.830(15)  0.830   0.015\n",
       "AlexNetAttn+lead1      0.834(12)  0.834   0.012\n",
       "AlexNet+lead1          0.838(16)  0.838   0.016\n",
       "ResNet+Baseline+lead1  0.845(14)  0.845   0.014\n",
       "AttNet+Baseline+lead1  0.848(15)  0.848   0.015"
      ]
     },
     "execution_count": 8,
     "metadata": {},
     "output_type": "execute_result"
    }
   ],
   "source": [
    "results = results[results['AUC']>0.8]\n",
    "results"
   ]
  },
  {
   "cell_type": "code",
   "execution_count": 12,
   "metadata": {},
   "outputs": [
    {
     "data": {
      "text/plain": [
       "(0.75, 0.90615)"
      ]
     },
     "execution_count": 12,
     "metadata": {},
     "output_type": "execute_result"
    },
    {
     "data": {
      "image/png": "[encoded data removed]",
      "text/plain": [
       "<Figure size 576x360 with 1 Axes>"
      ]
     },
     "metadata": {
      "needs_background": "light"
     },
     "output_type": "display_data"
    }
   ],
   "source": [
    "plt.figure(figsize=(8,5))\n",
    "ax = sns.barplot(y=results.index, x=results['AUC'], orient='h')\n",
    "ax.errorbar(y=results.index, xerr=results['AUC CI'], x=results['AUC'], capsize=3, ecolor='black', linestyle='none')\n",
    "plt.xlim(left=0.75)"
   ]
  },
  {
   "cell_type": "code",
   "execution_count": 62,
   "metadata": {},
   "outputs": [],
   "source": [
    "methods = results.index.to_list()"
   ]
  },
  {
   "cell_type": "code",
   "execution_count": 63,
   "metadata": {},
   "outputs": [],
   "source": [
    "raw_test_preds = []\n",
    "raw_val_preds = []\n",
    "\n",
    "for method in methods:\n",
    "    test = np.load(f\"output/exp4/models/{method}/y_test_pred.npy\", allow_pickle=True)\n",
    "    val = np.load(f\"output/exp4/models/{method}/y_val_pred.npy\", allow_pickle=True)\n",
    "    raw_test_preds += [test]\n",
    "    raw_val_preds += [val]"
   ]
  },
  {
   "cell_type": "code",
   "execution_count": 64,
   "metadata": {},
   "outputs": [],
   "source": [
    "import pickle\n",
    "\n",
    "with open(r\"C:\\Mohit\\Imperial\\fyp-hearts\\output\\exp4\\data\\mlb.pkl\", 'rb') as f:\n",
    "    mlb = pickle.load(f).classes_\n",
    "y_test =np.load(r\"C:\\Mohit\\Imperial\\fyp-hearts\\output\\exp4\\data\\y_test.npy\", allow_pickle=True)\n",
    "y_val =np.load(r\"C:\\Mohit\\Imperial\\fyp-hearts\\output\\exp4\\data\\y_val.npy\", allow_pickle=True)"
   ]
  },
  {
   "cell_type": "code",
   "execution_count": null,
   "metadata": {},
   "outputs": [],
   "source": [
    "from sklearn.metrics import roc_auc_score, f1_score"
   ]
  },
  {
   "cell_type": "code",
   "execution_count": 65,
   "metadata": {},
   "outputs": [],
   "source": [
    "mean_ensemble_vals = pd.DataFrame(columns=mlb)\n",
    "mean_raw_test = np.array(raw_test_preds).mean(axis=0)\n",
    "ensemble_results['Mean'] = [roc_auc_score(y_test, mean_raw_test), \"---\"]\n"
   ]
  }
 ],
 "metadata": {
  "kernelspec": {
   "display_name": "Python 3",
   "language": "python",
   "name": "python3"
  },
  "language_info": {
   "codemirror_mode": {
    "name": "ipython",
    "version": 3
   },
   "file_extension": ".py",
   "mimetype": "text/x-python",
   "name": "python",
   "nbconvert_exporter": "python",
   "pygments_lexer": "ipython3",
   "version": "3.10.4"
  }
 },
 "nbformat": 4,
 "nbformat_minor": 2
}
