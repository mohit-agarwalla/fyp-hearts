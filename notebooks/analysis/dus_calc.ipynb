{
 "cells": [
  {
   "cell_type": "code",
   "execution_count": 1,
   "metadata": {},
   "outputs": [],
   "source": [
    "import os\n",
    "\n",
    "os.chdir(\"../..\")\n",
    "\n",
    "import utils"
   ]
  },
  {
   "cell_type": "code",
   "execution_count": 2,
   "metadata": {},
   "outputs": [],
   "source": [
    "outputfolder = os.getcwd() + '/output/'\n",
    "datafolder = os.getcwd() + '/datasets/PTB-XL/'\n",
    "sampling_rate = 100\n",
    "task = 'priority'\n",
    "experiment_name = 'exp4'\n",
    "\n",
    "data, raw_labels = utils.load_dataset(datafolder, sampling_rate=sampling_rate)\n",
    "labels = utils.compute_label_aggregations(raw_labels, datafolder, task)\n",
    "data, labels, Y, _ = utils.select_data(data, labels, task, 0, outputfolder+experiment_name+'/data/')"
   ]
  },
  {
   "cell_type": "code",
   "execution_count": 3,
   "metadata": {},
   "outputs": [
    {
     "name": "stdout",
     "output_type": "stream",
     "text": [
      "This experiment has 43 classes\n"
     ]
    }
   ],
   "source": [
    "X_test = data[labels.strat_fold == 10]\n",
    "y_test = Y[labels.strat_fold == 10]\n",
    "\n",
    "X_val = data[labels.strat_fold == 9]\n",
    "y_val = Y[labels.strat_fold == 9]\n",
    "\n",
    "X_train = data[labels.strat_fold <= 8]\n",
    "y_train = Y[labels.strat_fold <= 8]\n",
    "\n",
    "n_classes = y_train.shape[1]\n",
    "\n",
    "print(f\"This experiment has {n_classes} classes\")\n",
    "\n",
    "X_train = X_train[:,:,0]\n",
    "X_test = X_test[:,:,0]\n",
    "X_val = X_val[:,:,0]"
   ]
  },
  {
   "cell_type": "code",
   "execution_count": 4,
   "metadata": {},
   "outputs": [],
   "source": [
    "import numpy as np"
   ]
  },
  {
   "cell_type": "code",
   "execution_count": 5,
   "metadata": {},
   "outputs": [],
   "source": [
    "preds = np.load(f\"output/exp4/models/AlexNet+lead1/y_test_pred.npy\", allow_pickle=True)"
   ]
  },
  {
   "cell_type": "code",
   "execution_count": 10,
   "metadata": {},
   "outputs": [],
   "source": [
    "preds0 = preds[:,8]\n",
    "y_test0 = y_test[:,8]"
   ]
  },
  {
   "cell_type": "code",
   "execution_count": 15,
   "metadata": {},
   "outputs": [],
   "source": [
    "from sklearn.metrics import confusion_matrix, roc_auc_score\n",
    "import pickle"
   ]
  },
  {
   "cell_type": "code",
   "execution_count": 16,
   "metadata": {},
   "outputs": [],
   "source": [
    "with open(r\"C:\\Mohit\\Imperial\\fyp-hearts\\output\\exp4\\data\\mlb.pkl\", 'rb') as f:\n",
    "    mlb = pickle.load(f).classes_"
   ]
  },
  {
   "cell_type": "code",
   "execution_count": 20,
   "metadata": {},
   "outputs": [
    {
     "name": "stdout",
     "output_type": "stream",
     "text": [
      "2AVB: 0.9895203692476358\n",
      "3AVB: 0.9715754571755342\n",
      "ABQRS: 0.752583537909259\n",
      "AFIB: 0.9760585809470552\n",
      "AFLT: 0.9440234764604806\n",
      "ALMI: 0.9127462992375321\n",
      "AMI: 0.8333341926056751\n",
      "ASMI: 0.8670135142154021\n",
      "CLBBB: 0.9893933995250339\n",
      "CRBBB: 0.9910177581657149\n",
      "EL: 0.9437779695983289\n",
      "ILMI: 0.8495485418329343\n",
      "IMI: 0.7717843148404715\n",
      "INJAL: 0.9314881086392346\n",
      "INJAS: 0.93394506509728\n",
      "INJIL: 0.9009789986480412\n",
      "INJIN: 0.9804291384430086\n",
      "INJLA: 0.8794272745101102\n",
      "IPLMI: 0.87933076032051\n",
      "IPMI: 0.9249427016186793\n",
      "ISCAL: 0.9322215074935922\n",
      "ISCAN: 0.9702092930945829\n",
      "ISCAS: 0.8884573280142968\n",
      "ISCIL: 0.8946233057355097\n",
      "ISCIN: 0.8467240781820315\n",
      "ISCLA: 0.9420649038356704\n",
      "ISC_: 0.9257310921712807\n",
      "LMI: 0.8301953053898714\n",
      "LNGQT: 0.9162934369801016\n",
      "NDT: 0.8650179366583091\n",
      "NORM: 0.9056558019270342\n",
      "NST_: 0.9006551156057238\n",
      "PAC: 0.9212570870391769\n",
      "PMI: 0.97343939007395\n",
      "PSVT: 0.9981365009779575\n",
      "PVC: 0.9725861291591894\n",
      "SBRAD: 0.9578829118257577\n",
      "SR: 0.9156438669359802\n",
      "STD_: 0.8941463623632547\n",
      "STE_: 0.7195036961796738\n",
      "SVTAC: 0.9832177598937375\n",
      "TAB_: 0.792697169373147\n",
      "WPW: 0.8547081941036216\n",
      "Overall is 0.9075345960942179\n"
     ]
    }
   ],
   "source": [
    "duses =[]\n",
    "\n",
    "for i in range(43):\n",
    "    predsx = preds[:,i]\n",
    "    y_testx = y_test[:,i]\n",
    "    \n",
    "    tp = confusion_matrix(y_testx, (predsx>0.5).astype(int))[0][0]\n",
    "    tn = confusion_matrix(y_testx, (predsx>0.5).astype(int))[1][1]\n",
    "    fp = confusion_matrix(y_testx, (predsx>0.5).astype(int))[0][1]\n",
    "    fn = confusion_matrix(y_testx, (predsx>0.5).astype(int))[1][0]\n",
    "\n",
    "    dus = 0.5*roc_auc_score(y_testx, predsx) + 0.5*((tp+tn+fp)/(tp+tn+fp+fn))\n",
    "    duses += [dus]\n",
    "    print(f\"{mlb[i]}: {dus}\")\n",
    "\n",
    "print(f\"Overall is {np.array(duses).mean()}\")"
   ]
  }
 ],
 "metadata": {
  "kernelspec": {
   "display_name": "Python 3",
   "language": "python",
   "name": "python3"
  },
  "language_info": {
   "codemirror_mode": {
    "name": "ipython",
    "version": 3
   },
   "file_extension": ".py",
   "mimetype": "text/x-python",
   "name": "python",
   "nbconvert_exporter": "python",
   "pygments_lexer": "ipython3",
   "version": "3.10.4"
  }
 },
 "nbformat": 4,
 "nbformat_minor": 2
}
