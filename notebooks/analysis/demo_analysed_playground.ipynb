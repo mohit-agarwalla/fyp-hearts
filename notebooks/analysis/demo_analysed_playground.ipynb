{
 "cells": [
  {
   "cell_type": "code",
   "execution_count": 1,
   "metadata": {},
   "outputs": [
    {
     "data": {
      "text/plain": [
       "'c:\\\\Mohit\\\\Imperial\\\\fyp-hearts'"
      ]
     },
     "execution_count": 1,
     "metadata": {},
     "output_type": "execute_result"
    }
   ],
   "source": [
    "import os\n",
    "\n",
    "os.chdir(\"../..\")\n",
    "os.getcwd()"
   ]
  },
  {
   "cell_type": "code",
   "execution_count": 2,
   "metadata": {},
   "outputs": [],
   "source": [
    "import utils\n",
    "import numpy as np\n",
    "import pandas as pd\n",
    "import matplotlib.pyplot as plt\n",
    "from configs.wavelet_configs import *\n",
    "import glob\n",
    "from experiments.ecg_experiment import ECG_Experiment"
   ]
  },
  {
   "cell_type": "code",
   "execution_count": 3,
   "metadata": {},
   "outputs": [
    {
     "name": "stdout",
     "output_type": "stream",
     "text": [
      "             Method   exp0_AUC   exp1_AUC exp1.1_AUC exp1.1.1_AUC   exp2_AUC  \\\n",
      "0  Wavelet+RF+lead1  0.727(18)  0.740(17)  0.741(16)    0.760(12)  0.632(26)   \n",
      "\n",
      "    exp3_AUC  \n",
      "0  0.804(22)  \n",
      "----\n"
     ]
    }
   ],
   "source": [
    "outputfolder = os.getcwd()+'/output/'\n",
    "datafolder = os.getcwd()+'/datasets/PTB-XL/'\n",
    "\n",
    "model = conf_wavelet_single_rf\n",
    "models = [model]\n",
    "\n",
    "def generate_summary_table(selection=None, exps=None, folder='output/'):\n",
    "    if exps is None:\n",
    "        exps = ['exp0', 'exp1', 'exp1.1', 'exp1.1.1', 'exp2', 'exp3']\n",
    "    metric1 = 'macro_auc'\n",
    "    \n",
    "    # getmodels\n",
    "    models = {}\n",
    "    for i,exp in enumerate(exps):\n",
    "        if selection is None:\n",
    "            exp_models = [m.split('/')[-1] for m in glob.glob(f'{folder}{exp}/models/*')]\n",
    "        else:\n",
    "            exp_models = selection\n",
    "        if i==0:\n",
    "            models = set(exp_models)\n",
    "        else:\n",
    "            models = models.union(set(exp_models))\n",
    "    \n",
    "    results_dic = {'Method': []}\n",
    "    for exp in exps:\n",
    "        results_dic[f'{exp}_AUC'] = []\n",
    "    \n",
    "    for model in models:\n",
    "        results_dic['Method'].append(model)\n",
    "        \n",
    "        for e in exps:\n",
    "            try:\n",
    "                me_res = pd.read_csv(folder+str(e)+'/models/'+str(model)+'/results/te_results.csv', index_col=0)\n",
    "                \n",
    "                mean1 = me_res.loc['point'][metric1]\n",
    "                unc1 = max(me_res.loc['upper'][metric1]-me_res.loc['point'][metric1], me_res.loc['point'][metric1]-me_res.loc['lower'][metric1])\n",
    "                \n",
    "                results_dic[e+'_AUC'].append(\"%.3f(%.2d)\" %(np.round(mean1,3), int(unc1*1000)))\n",
    "            except FileNotFoundError:\n",
    "                results_dic[e+'_AUC'].append(\"---\")\n",
    "    \n",
    "    df = pd.DataFrame(results_dic)\n",
    "    df_index = df[df.Method.isin(['naive', 'ensemble'])]\n",
    "    df_rest = df[~df.Method.isin(['naive', 'ensemble'])]\n",
    "    df = pd.concat([df_rest, df_index])\n",
    "    df.to_csv(folder+'results_ptbxl.csv')\n",
    "    \n",
    "    print(df)\n",
    "    return df\n",
    "\n",
    "generate_summary_table(selection=[model['modelname']])\n",
    "print(\"----\")"
   ]
  },
  {
   "cell_type": "code",
   "execution_count": 4,
   "metadata": {},
   "outputs": [
    {
     "name": "stdout",
     "output_type": "stream",
     "text": [
      "[{'modelname': 'Wavelet+RF+lead1', 'modeltype': 'WAVELET', 'modelparams': {'regularizer_C': 0.001, 'classifier': 'RF'}}]\n",
      "c:\\Mohit\\Imperial\\fyp-hearts/output/exp0/data/\n",
      "prepared\n"
     ]
    }
   ],
   "source": [
    "name = 'exp0'\n",
    "task = 'all'\n",
    "e = ECG_Experiment(name, task, datafolder, outputfolder, models)\n",
    "e.prepare()"
   ]
  },
  {
   "cell_type": "code",
   "execution_count": 6,
   "metadata": {},
   "outputs": [],
   "source": [
    "data, raw_labels = utils.load_dataset(datafolder, 100)\n"
   ]
  },
  {
   "cell_type": "code",
   "execution_count": 9,
   "metadata": {},
   "outputs": [],
   "source": [
    "labels = utils.compute_label_aggregations(raw_labels, datafolder, task)"
   ]
  },
  {
   "cell_type": "code",
   "execution_count": 15,
   "metadata": {},
   "outputs": [],
   "source": [
    "test_labels = labels[labels.strat_fold==10]\n",
    "test_data = data[labels.strat_fold==10]"
   ]
  },
  {
   "cell_type": "code",
   "execution_count": 22,
   "metadata": {},
   "outputs": [],
   "source": [
    "test_labels_male = test_labels[test_labels.sex==0]\n",
    "test_data_male = test_data[test_labels.sex==0]\n",
    "\n",
    "test_labels_female = test_labels[test_labels.sex==1]\n",
    "test_data_female = test_data[test_labels.sex==1]"
   ]
  },
  {
   "cell_type": "code",
   "execution_count": 26,
   "metadata": {},
   "outputs": [
    {
     "data": {
      "text/plain": [
       "((1132, 1000, 12), (1066, 1000, 12))"
      ]
     },
     "execution_count": 26,
     "metadata": {},
     "output_type": "execute_result"
    }
   ],
   "source": [
    "test_data_male.shape, test_data_female.shape"
   ]
  },
  {
   "cell_type": "code",
   "execution_count": 80,
   "metadata": {},
   "outputs": [
    {
     "name": "stdout",
     "output_type": "stream",
     "text": [
      "exp3\n",
      "{'modelname': 'Wavelet+RF', 'modeltype': 'WAVELET', 'modelparams': {'regularizer_C': 0.001, 'classifier': 'RF'}}\n",
      "   macro_auc\n",
      "0        1.0    macro_auc\n",
      "0        1.0\n",
      "{'modelname': 'Wavelet+NN', 'modeltype': 'WAVELET', 'modelparams': {'regularizer_C': 0.001, 'classifier': 'NN'}}\n",
      "   macro_auc\n",
      "0    0.92623    macro_auc\n",
      "0   0.931088\n",
      "{'modelname': 'Wavelet+NN+lead1', 'modeltype': 'WAVELET', 'modelparams': {'regularizer_C': 0.001, 'classifier': 'NN'}}\n",
      "   macro_auc\n",
      "0   0.848188    macro_auc\n",
      "0    0.86611\n",
      "{'modelname': 'Wavelet+RF+lead1', 'modeltype': 'WAVELET', 'modelparams': {'regularizer_C': 0.001, 'classifier': 'RF'}}\n",
      "   macro_auc\n",
      "0        1.0    macro_auc\n",
      "0        1.0\n",
      "{'modelname': 'Wavelet+XGB+lead1', 'modeltype': 'WAVELET', 'modelparams': {'tree': 'hist', 'classifier': 'XGB'}}\n",
      "   macro_auc\n",
      "0   0.994035    macro_auc\n",
      "0   0.994518\n",
      "{'modelname': 'Wavelet+XGB', 'modeltype': 'WAVELET', 'modelparams': {'tree': 'hist', 'classifier': 'XGB'}}\n",
      "   macro_auc\n",
      "0   0.999955    macro_auc\n",
      "0   0.999868\n"
     ]
    }
   ],
   "source": [
    "experiments = [\n",
    "        # ('exp0', 'all'),\n",
    "        # ('exp1', 'diagnostic'),\n",
    "        # ('exp1.1', 'subdiagnostic'),\n",
    "        # ('exp1.1.1', 'superdiagnostic'),\n",
    "        # ('exp2', 'form'),\n",
    "        ('exp3', 'rhythm')\n",
    "    ]\n",
    "\n",
    "models = [\n",
    "    conf_wavelet_standard_rf,\n",
    "        conf_wavelet_standard_nn,\n",
    "        conf_wavelet_single_nn,\n",
    "        conf_wavelet_single_rf,\n",
    "        conf_wavelet_single_xgb,\n",
    "        conf_wavelet_standard_xgb,\n",
    "]\n",
    "\n",
    "for name, task in experiments:\n",
    "    print(name)\n",
    "    data, raw_labels = utils.load_dataset(datafolder, 100)\n",
    "    labels = utils.compute_label_aggregations(raw_labels, datafolder, task)\n",
    "    labels = labels[labels.rhythm_len > 0]\n",
    "    test_labels = labels[labels.strat_fold<9]\n",
    "    \n",
    "        \n",
    "    test_labels_male = np.where(test_labels.sex==0)\n",
    "\n",
    "    test_labels_female = np.where(test_labels.sex==1)\n",
    "    \n",
    "    for model in models:\n",
    "        print(model)\n",
    "        modelname = model['modelname']\n",
    "        y_path = os.getcwd()+\"\\\\output\\\\\"+name+\"\\\\data\\y_train.npy\"\n",
    "        y_pred_path = os.getcwd()+\"\\\\output\\\\\"+name+\"\\\\models\\\\\"+modelname+\"\\\\y_train_pred.npy\"\n",
    "        y = np.load(y_path, allow_pickle=True)\n",
    "        y_pred = np.load(y_pred_path, allow_pickle=True)\n",
    "        \n",
    "        y_male = y[test_labels_male]\n",
    "        y_male = y_male[:,[i for i in range(y_male.shape[1]) if len(np.unique(y_male[:,i])) == 2]]\n",
    "        y_female = y[test_labels_female]\n",
    "        y_female = y_female[:,[i for i in range(y_female.shape[1]) if len(np.unique(y_female[:,i])) == 2]]\n",
    "        \n",
    "        \n",
    "        y_pred_male = y_pred[test_labels_male]\n",
    "        y_pred_male = y_pred_male[:,[i for i in range(y_male.shape[1]) if len(np.unique(y_male[:,i])) == 2]]\n",
    "        y_pred_female = y_pred[test_labels_female]\n",
    "        y_pred_female = y_pred_female[:,[i for i in range(y_female.shape[1]) if len(np.unique(y_female[:,i])) == 2]]\n",
    "        auc_male = utils.evaluate_experiment(y_male, y_pred_male, thresholds=None)\n",
    "        auc_female = utils.evaluate_experiment(y_female, y_pred_female, thresholds=None)\n",
    "        print(auc_male, auc_female)"
   ]
  },
  {
   "cell_type": "code",
   "execution_count": 86,
   "metadata": {},
   "outputs": [
    {
     "data": {
      "text/plain": [
       "0.9999549549549549"
      ]
     },
     "execution_count": 86,
     "metadata": {},
     "output_type": "execute_result"
    }
   ],
   "source": [
    "auc_male.values[0][0]"
   ]
  },
  {
   "cell_type": "code",
   "execution_count": 52,
   "metadata": {},
   "outputs": [
    {
     "name": "stderr",
     "output_type": "stream",
     "text": [
      "C:\\Users\\agarw\\AppData\\Local\\Temp\\ipykernel_21216\\1477625422.py:4: FutureWarning: Using a non-tuple sequence for multidimensional indexing is deprecated; use `arr[tuple(seq)]` instead of `arr[seq]`. In the future this will be interpreted as an array index, `arr[np.array(seq)]`, which will result either in an error or a different result.\n",
      "  test_labels_np[list(a)]\n"
     ]
    },
    {
     "data": {
      "text/plain": [
       "array([[18792.0, 55.0, 0, ..., 'records500/00000/00009_hr', 2,\n",
       "        list(['SR', 'NORM'])],\n",
       "       [17076.0, 40.0, 0, ..., 'records500/00000/00038_hr', 2,\n",
       "        list(['SR', 'NORM'])],\n",
       "       [19501.0, 60.0, 0, ..., 'records500/00000/00040_hr', 2,\n",
       "        list(['SR', 'NORM'])],\n",
       "       ...,\n",
       "       [17746.0, 85.0, 0, ..., 'records500/21000/21796_hr', 5,\n",
       "        list(['AFIB', 'ASMI', 'IRBBB', 'IMI', 'ABQRS'])],\n",
       "       [20789.0, 67.0, 0, ..., 'records500/21000/21812_hr', 5,\n",
       "        list(['SVARR', '1AVB', 'LAFB', 'ABQRS', 'CRBBB'])],\n",
       "       [9843.0, 54.0, 0, ..., 'records500/21000/21819_hr', 3,\n",
       "        list(['LAFB', 'SR', 'IRBBB'])]], dtype=object)"
      ]
     },
     "execution_count": 52,
     "metadata": {},
     "output_type": "execute_result"
    }
   ],
   "source": [
    "test_labels_np = np.array(test_labels)\n",
    "a = np.where(test_labels.sex==0)\n",
    "len(a[0])\n",
    "test_labels_np[list(a)]"
   ]
  },
  {
   "cell_type": "code",
   "execution_count": 54,
   "metadata": {},
   "outputs": [
    {
     "data": {
      "text/plain": [
       "'c:\\\\Mohit\\\\Imperial\\\\fyp-hearts'"
      ]
     },
     "execution_count": 54,
     "metadata": {},
     "output_type": "execute_result"
    }
   ],
   "source": []
  }
 ],
 "metadata": {
  "kernelspec": {
   "display_name": "Python 3",
   "language": "python",
   "name": "python3"
  },
  "language_info": {
   "codemirror_mode": {
    "name": "ipython",
    "version": 3
   },
   "file_extension": ".py",
   "mimetype": "text/x-python",
   "name": "python",
   "nbconvert_exporter": "python",
   "pygments_lexer": "ipython3",
   "version": "3.10.4"
  }
 },
 "nbformat": 4,
 "nbformat_minor": 2
}
