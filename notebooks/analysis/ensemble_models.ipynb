{
 "cells": [
  {
   "cell_type": "code",
   "execution_count": 1,
   "metadata": {},
   "outputs": [],
   "source": [
    "import os\n",
    "\n",
    "os.chdir(\"../..\")\n",
    "\n",
    "import utils\n",
    "import pandas as pd\n",
    "import numpy as np\n",
    "import seaborn as sns\n",
    "import matplotlib.pyplot as plt\n",
    "import pickle\n",
    "from sklearn.metrics import roc_auc_score"
   ]
  },
  {
   "cell_type": "code",
   "execution_count": 2,
   "metadata": {},
   "outputs": [],
   "source": [
    "results = pd.read_csv(\"output/results_ptbxl.csv\", index_col=\"Method\")\n",
    "results = results['exp4_AUC'].to_frame()\n",
    "results = results[results['exp4_AUC']!='---']"
   ]
  },
  {
   "cell_type": "code",
   "execution_count": 3,
   "metadata": {},
   "outputs": [
    {
     "name": "stderr",
     "output_type": "stream",
     "text": [
      "C:\\Users\\agarw\\AppData\\Local\\Temp\\ipykernel_35864\\3660842115.py:6: FutureWarning: The default value of regex will change from True to False in a future version.\n",
      "  results.index = results.index.str.replace(r'models\\\\', '')\n"
     ]
    }
   ],
   "source": [
    "results['AUC'] = results['exp4_AUC'].str.extract(r'(\\d+\\.\\d+)', expand=False).astype(float)\n",
    "results['CI'] = results['exp4_AUC'].str.extract(r'\\((\\d+)\\)', expand=False).astype(float)\n",
    "results['CI'] = results['CI']/1000\n",
    "\n",
    "results.sort_index(inplace=True)\n",
    "results.index = results.index.str.replace(r'models\\\\', '')\n",
    "results = results.sort_values(\"AUC\")"
   ]
  },
  {
   "cell_type": "code",
   "execution_count": 4,
   "metadata": {},
   "outputs": [],
   "source": [
    "methods = results.index.to_list()\n",
    "methods.remove(\"naive\")"
   ]
  },
  {
   "cell_type": "code",
   "execution_count": 5,
   "metadata": {},
   "outputs": [],
   "source": [
    "methods = ['AttNet+Baseline+lead1', 'ResNet+Baseline+lead1', \n",
    "          'VGGNet+lead1', 'AlexNet+lead1', 'LeNet+lead1']"
   ]
  },
  {
   "cell_type": "code",
   "execution_count": 6,
   "metadata": {},
   "outputs": [],
   "source": [
    "raw_test_preds = []\n",
    "raw_val_preds = []\n",
    "\n",
    "for method in methods:\n",
    "    test = np.load(f\"output/exp4/models/{method}/y_test_pred.npy\", allow_pickle=True)\n",
    "    val = np.load(f\"output/exp4/models/{method}/y_val_pred.npy\", allow_pickle=True)\n",
    "    raw_test_preds += [test]\n",
    "    raw_val_preds += [val]"
   ]
  },
  {
   "cell_type": "code",
   "execution_count": 7,
   "metadata": {},
   "outputs": [],
   "source": [
    "with open(r\"C:\\Mohit\\Imperial\\fyp-hearts\\output\\exp4\\data\\mlb.pkl\", 'rb') as f:\n",
    "    mlb = pickle.load(f).classes_\n",
    "y_test =np.load(r\"C:\\Mohit\\Imperial\\fyp-hearts\\output\\exp4\\data\\y_test.npy\", allow_pickle=True)\n",
    "y_val =np.load(r\"C:\\Mohit\\Imperial\\fyp-hearts\\output\\exp4\\data\\y_val.npy\", allow_pickle=True)"
   ]
  },
  {
   "cell_type": "code",
   "execution_count": 8,
   "metadata": {},
   "outputs": [
    {
     "data": {
      "text/html": [
       "<div>\n",
       "<style scoped>\n",
       "    .dataframe tbody tr th:only-of-type {\n",
       "        vertical-align: middle;\n",
       "    }\n",
       "\n",
       "    .dataframe tbody tr th {\n",
       "        vertical-align: top;\n",
       "    }\n",
       "\n",
       "    .dataframe thead th {\n",
       "        text-align: right;\n",
       "    }\n",
       "</style>\n",
       "<table border=\"1\" class=\"dataframe\">\n",
       "  <thead>\n",
       "    <tr style=\"text-align: right;\">\n",
       "      <th></th>\n",
       "      <th>AttNet+Baseline+lead1</th>\n",
       "      <th>ResNet+Baseline+lead1</th>\n",
       "      <th>VGGNet+lead1</th>\n",
       "      <th>AlexNet+lead1</th>\n",
       "      <th>LeNet+lead1</th>\n",
       "    </tr>\n",
       "  </thead>\n",
       "  <tbody>\n",
       "    <tr>\n",
       "      <th>2AVB</th>\n",
       "      <td>0.943768</td>\n",
       "      <td>0.942362</td>\n",
       "      <td>0.945173</td>\n",
       "      <td>0.947985</td>\n",
       "      <td>0.761949</td>\n",
       "    </tr>\n",
       "    <tr>\n",
       "      <th>3AVB</th>\n",
       "      <td>0.974684</td>\n",
       "      <td>0.996718</td>\n",
       "      <td>0.907642</td>\n",
       "      <td>0.911158</td>\n",
       "      <td>0.966479</td>\n",
       "    </tr>\n",
       "    <tr>\n",
       "      <th>ABQRS</th>\n",
       "      <td>0.619343</td>\n",
       "      <td>0.619621</td>\n",
       "      <td>0.585254</td>\n",
       "      <td>0.611522</td>\n",
       "      <td>0.62649</td>\n",
       "    </tr>\n",
       "    <tr>\n",
       "      <th>AFIB</th>\n",
       "      <td>0.985981</td>\n",
       "      <td>0.981504</td>\n",
       "      <td>0.965162</td>\n",
       "      <td>0.975599</td>\n",
       "      <td>0.924495</td>\n",
       "    </tr>\n",
       "    <tr>\n",
       "      <th>AFLT</th>\n",
       "      <td>0.970193</td>\n",
       "      <td>0.998724</td>\n",
       "      <td>0.991139</td>\n",
       "      <td>0.985164</td>\n",
       "      <td>0.947033</td>\n",
       "    </tr>\n",
       "    <tr>\n",
       "      <th>ALMI</th>\n",
       "      <td>0.944395</td>\n",
       "      <td>0.932459</td>\n",
       "      <td>0.824623</td>\n",
       "      <td>0.890264</td>\n",
       "      <td>0.894505</td>\n",
       "    </tr>\n",
       "    <tr>\n",
       "      <th>AMI</th>\n",
       "      <td>0.64139</td>\n",
       "      <td>0.652745</td>\n",
       "      <td>0.645387</td>\n",
       "      <td>0.630181</td>\n",
       "      <td>0.68878</td>\n",
       "    </tr>\n",
       "    <tr>\n",
       "      <th>ASMI</th>\n",
       "      <td>0.849539</td>\n",
       "      <td>0.866553</td>\n",
       "      <td>0.823071</td>\n",
       "      <td>0.849554</td>\n",
       "      <td>0.849892</td>\n",
       "    </tr>\n",
       "    <tr>\n",
       "      <th>CLBBB</th>\n",
       "      <td>0.977486</td>\n",
       "      <td>0.986349</td>\n",
       "      <td>0.972556</td>\n",
       "      <td>0.99038</td>\n",
       "      <td>0.988903</td>\n",
       "    </tr>\n",
       "    <tr>\n",
       "      <th>CRBBB</th>\n",
       "      <td>0.994187</td>\n",
       "      <td>0.991337</td>\n",
       "      <td>0.963448</td>\n",
       "      <td>0.988488</td>\n",
       "      <td>0.982998</td>\n",
       "    </tr>\n",
       "    <tr>\n",
       "      <th>EL</th>\n",
       "      <td>0.819012</td>\n",
       "      <td>0.869271</td>\n",
       "      <td>0.797741</td>\n",
       "      <td>0.858447</td>\n",
       "      <td>0.815153</td>\n",
       "    </tr>\n",
       "    <tr>\n",
       "      <th>ILMI</th>\n",
       "      <td>0.745516</td>\n",
       "      <td>0.797556</td>\n",
       "      <td>0.7237</td>\n",
       "      <td>0.759334</td>\n",
       "      <td>0.70708</td>\n",
       "    </tr>\n",
       "    <tr>\n",
       "      <th>IMI</th>\n",
       "      <td>0.714227</td>\n",
       "      <td>0.685399</td>\n",
       "      <td>0.689993</td>\n",
       "      <td>0.70193</td>\n",
       "      <td>0.694948</td>\n",
       "    </tr>\n",
       "    <tr>\n",
       "      <th>INJAL</th>\n",
       "      <td>0.835031</td>\n",
       "      <td>0.874465</td>\n",
       "      <td>0.877358</td>\n",
       "      <td>0.856101</td>\n",
       "      <td>0.804245</td>\n",
       "    </tr>\n",
       "    <tr>\n",
       "      <th>INJAS</th>\n",
       "      <td>0.898838</td>\n",
       "      <td>0.924629</td>\n",
       "      <td>0.914403</td>\n",
       "      <td>0.877844</td>\n",
       "      <td>0.843943</td>\n",
       "    </tr>\n",
       "    <tr>\n",
       "      <th>INJIL</th>\n",
       "      <td>0.856774</td>\n",
       "      <td>0.898265</td>\n",
       "      <td>0.805204</td>\n",
       "      <td>0.875996</td>\n",
       "      <td>0.812471</td>\n",
       "    </tr>\n",
       "    <tr>\n",
       "      <th>INJIN</th>\n",
       "      <td>0.748945</td>\n",
       "      <td>0.858181</td>\n",
       "      <td>0.6376</td>\n",
       "      <td>0.702063</td>\n",
       "      <td>0.712846</td>\n",
       "    </tr>\n",
       "    <tr>\n",
       "      <th>INJLA</th>\n",
       "      <td>0.975387</td>\n",
       "      <td>0.940928</td>\n",
       "      <td>0.885373</td>\n",
       "      <td>0.975856</td>\n",
       "      <td>0.957571</td>\n",
       "    </tr>\n",
       "    <tr>\n",
       "      <th>IPLMI</th>\n",
       "      <td>0.942347</td>\n",
       "      <td>0.92</td>\n",
       "      <td>0.90507</td>\n",
       "      <td>0.953427</td>\n",
       "      <td>0.787512</td>\n",
       "    </tr>\n",
       "    <tr>\n",
       "      <th>IPMI</th>\n",
       "      <td>0.8374</td>\n",
       "      <td>0.915885</td>\n",
       "      <td>0.828602</td>\n",
       "      <td>0.814641</td>\n",
       "      <td>0.836227</td>\n",
       "    </tr>\n",
       "    <tr>\n",
       "      <th>ISCAL</th>\n",
       "      <td>0.911698</td>\n",
       "      <td>0.927538</td>\n",
       "      <td>0.899666</td>\n",
       "      <td>0.903335</td>\n",
       "      <td>0.882113</td>\n",
       "    </tr>\n",
       "    <tr>\n",
       "      <th>ISCAN</th>\n",
       "      <td>0.856338</td>\n",
       "      <td>0.904601</td>\n",
       "      <td>0.884319</td>\n",
       "      <td>0.883944</td>\n",
       "      <td>0.821596</td>\n",
       "    </tr>\n",
       "    <tr>\n",
       "      <th>ISCAS</th>\n",
       "      <td>0.843387</td>\n",
       "      <td>0.821252</td>\n",
       "      <td>0.778773</td>\n",
       "      <td>0.769288</td>\n",
       "      <td>0.737322</td>\n",
       "    </tr>\n",
       "    <tr>\n",
       "      <th>ISCIL</th>\n",
       "      <td>0.784968</td>\n",
       "      <td>0.826746</td>\n",
       "      <td>0.77064</td>\n",
       "      <td>0.803207</td>\n",
       "      <td>0.827665</td>\n",
       "    </tr>\n",
       "    <tr>\n",
       "      <th>ISCIN</th>\n",
       "      <td>0.623035</td>\n",
       "      <td>0.643173</td>\n",
       "      <td>0.619836</td>\n",
       "      <td>0.629781</td>\n",
       "      <td>0.614723</td>\n",
       "    </tr>\n",
       "    <tr>\n",
       "      <th>ISCLA</th>\n",
       "      <td>0.792046</td>\n",
       "      <td>0.795245</td>\n",
       "      <td>0.760726</td>\n",
       "      <td>0.806796</td>\n",
       "      <td>0.657675</td>\n",
       "    </tr>\n",
       "    <tr>\n",
       "      <th>ISC_</th>\n",
       "      <td>0.926782</td>\n",
       "      <td>0.918452</td>\n",
       "      <td>0.897914</td>\n",
       "      <td>0.916939</td>\n",
       "      <td>0.919546</td>\n",
       "    </tr>\n",
       "    <tr>\n",
       "      <th>LMI</th>\n",
       "      <td>0.783191</td>\n",
       "      <td>0.858156</td>\n",
       "      <td>0.628534</td>\n",
       "      <td>0.752222</td>\n",
       "      <td>0.813995</td>\n",
       "    </tr>\n",
       "    <tr>\n",
       "      <th>LNGQT</th>\n",
       "      <td>0.814885</td>\n",
       "      <td>0.808172</td>\n",
       "      <td>0.792393</td>\n",
       "      <td>0.836395</td>\n",
       "      <td>0.672358</td>\n",
       "    </tr>\n",
       "    <tr>\n",
       "      <th>NDT</th>\n",
       "      <td>0.817373</td>\n",
       "      <td>0.832816</td>\n",
       "      <td>0.788476</td>\n",
       "      <td>0.839092</td>\n",
       "      <td>0.809816</td>\n",
       "    </tr>\n",
       "    <tr>\n",
       "      <th>NORM</th>\n",
       "      <td>0.887459</td>\n",
       "      <td>0.882658</td>\n",
       "      <td>0.886405</td>\n",
       "      <td>0.889189</td>\n",
       "      <td>0.867682</td>\n",
       "    </tr>\n",
       "    <tr>\n",
       "      <th>NST_</th>\n",
       "      <td>0.780259</td>\n",
       "      <td>0.825528</td>\n",
       "      <td>0.774259</td>\n",
       "      <td>0.781023</td>\n",
       "      <td>0.781696</td>\n",
       "    </tr>\n",
       "    <tr>\n",
       "      <th>PAC</th>\n",
       "      <td>0.913544</td>\n",
       "      <td>0.71111</td>\n",
       "      <td>0.76963</td>\n",
       "      <td>0.870036</td>\n",
       "      <td>0.650358</td>\n",
       "    </tr>\n",
       "    <tr>\n",
       "      <th>PMI</th>\n",
       "      <td>0.936709</td>\n",
       "      <td>0.994609</td>\n",
       "      <td>0.519925</td>\n",
       "      <td>0.853258</td>\n",
       "      <td>0.759025</td>\n",
       "    </tr>\n",
       "    <tr>\n",
       "      <th>PSVT</th>\n",
       "      <td>0.988118</td>\n",
       "      <td>0.997498</td>\n",
       "      <td>0.994059</td>\n",
       "      <td>0.996873</td>\n",
       "      <td>0.992495</td>\n",
       "    </tr>\n",
       "    <tr>\n",
       "      <th>PVC</th>\n",
       "      <td>0.984375</td>\n",
       "      <td>0.93351</td>\n",
       "      <td>0.943566</td>\n",
       "      <td>0.960474</td>\n",
       "      <td>0.844193</td>\n",
       "    </tr>\n",
       "    <tr>\n",
       "      <th>SBRAD</th>\n",
       "      <td>0.950982</td>\n",
       "      <td>0.961379</td>\n",
       "      <td>0.929804</td>\n",
       "      <td>0.929887</td>\n",
       "      <td>0.934263</td>\n",
       "    </tr>\n",
       "    <tr>\n",
       "      <th>SR</th>\n",
       "      <td>0.92252</td>\n",
       "      <td>0.859408</td>\n",
       "      <td>0.895632</td>\n",
       "      <td>0.910912</td>\n",
       "      <td>0.819938</td>\n",
       "    </tr>\n",
       "    <tr>\n",
       "      <th>STD_</th>\n",
       "      <td>0.825511</td>\n",
       "      <td>0.847961</td>\n",
       "      <td>0.809211</td>\n",
       "      <td>0.843205</td>\n",
       "      <td>0.843726</td>\n",
       "    </tr>\n",
       "    <tr>\n",
       "      <th>STE_</th>\n",
       "      <td>0.551282</td>\n",
       "      <td>0.598812</td>\n",
       "      <td>0.542996</td>\n",
       "      <td>0.511413</td>\n",
       "      <td>0.51157</td>\n",
       "    </tr>\n",
       "    <tr>\n",
       "      <th>SVTAC</th>\n",
       "      <td>0.9606</td>\n",
       "      <td>0.973108</td>\n",
       "      <td>0.987805</td>\n",
       "      <td>0.988743</td>\n",
       "      <td>0.993277</td>\n",
       "    </tr>\n",
       "    <tr>\n",
       "      <th>TAB_</th>\n",
       "      <td>0.686063</td>\n",
       "      <td>0.810183</td>\n",
       "      <td>0.815462</td>\n",
       "      <td>0.824261</td>\n",
       "      <td>0.897349</td>\n",
       "    </tr>\n",
       "    <tr>\n",
       "      <th>WPW</th>\n",
       "      <td>0.686829</td>\n",
       "      <td>0.820354</td>\n",
       "      <td>0.7692</td>\n",
       "      <td>0.809815</td>\n",
       "      <td>0.692535</td>\n",
       "    </tr>\n",
       "  </tbody>\n",
       "</table>\n",
       "</div>"
      ],
      "text/plain": [
       "      AttNet+Baseline+lead1 ResNet+Baseline+lead1 VGGNet+lead1 AlexNet+lead1  \\\n",
       "2AVB               0.943768              0.942362     0.945173      0.947985   \n",
       "3AVB               0.974684              0.996718     0.907642      0.911158   \n",
       "ABQRS              0.619343              0.619621     0.585254      0.611522   \n",
       "AFIB               0.985981              0.981504     0.965162      0.975599   \n",
       "AFLT               0.970193              0.998724     0.991139      0.985164   \n",
       "ALMI               0.944395              0.932459     0.824623      0.890264   \n",
       "AMI                 0.64139              0.652745     0.645387      0.630181   \n",
       "ASMI               0.849539              0.866553     0.823071      0.849554   \n",
       "CLBBB              0.977486              0.986349     0.972556       0.99038   \n",
       "CRBBB              0.994187              0.991337     0.963448      0.988488   \n",
       "EL                 0.819012              0.869271     0.797741      0.858447   \n",
       "ILMI               0.745516              0.797556       0.7237      0.759334   \n",
       "IMI                0.714227              0.685399     0.689993       0.70193   \n",
       "INJAL              0.835031              0.874465     0.877358      0.856101   \n",
       "INJAS              0.898838              0.924629     0.914403      0.877844   \n",
       "INJIL              0.856774              0.898265     0.805204      0.875996   \n",
       "INJIN              0.748945              0.858181       0.6376      0.702063   \n",
       "INJLA              0.975387              0.940928     0.885373      0.975856   \n",
       "IPLMI              0.942347                  0.92      0.90507      0.953427   \n",
       "IPMI                 0.8374              0.915885     0.828602      0.814641   \n",
       "ISCAL              0.911698              0.927538     0.899666      0.903335   \n",
       "ISCAN              0.856338              0.904601     0.884319      0.883944   \n",
       "ISCAS              0.843387              0.821252     0.778773      0.769288   \n",
       "ISCIL              0.784968              0.826746      0.77064      0.803207   \n",
       "ISCIN              0.623035              0.643173     0.619836      0.629781   \n",
       "ISCLA              0.792046              0.795245     0.760726      0.806796   \n",
       "ISC_               0.926782              0.918452     0.897914      0.916939   \n",
       "LMI                0.783191              0.858156     0.628534      0.752222   \n",
       "LNGQT              0.814885              0.808172     0.792393      0.836395   \n",
       "NDT                0.817373              0.832816     0.788476      0.839092   \n",
       "NORM               0.887459              0.882658     0.886405      0.889189   \n",
       "NST_               0.780259              0.825528     0.774259      0.781023   \n",
       "PAC                0.913544               0.71111      0.76963      0.870036   \n",
       "PMI                0.936709              0.994609     0.519925      0.853258   \n",
       "PSVT               0.988118              0.997498     0.994059      0.996873   \n",
       "PVC                0.984375               0.93351     0.943566      0.960474   \n",
       "SBRAD              0.950982              0.961379     0.929804      0.929887   \n",
       "SR                  0.92252              0.859408     0.895632      0.910912   \n",
       "STD_               0.825511              0.847961     0.809211      0.843205   \n",
       "STE_               0.551282              0.598812     0.542996      0.511413   \n",
       "SVTAC                0.9606              0.973108     0.987805      0.988743   \n",
       "TAB_               0.686063              0.810183     0.815462      0.824261   \n",
       "WPW                0.686829              0.820354       0.7692      0.809815   \n",
       "\n",
       "      LeNet+lead1  \n",
       "2AVB     0.761949  \n",
       "3AVB     0.966479  \n",
       "ABQRS     0.62649  \n",
       "AFIB     0.924495  \n",
       "AFLT     0.947033  \n",
       "ALMI     0.894505  \n",
       "AMI       0.68878  \n",
       "ASMI     0.849892  \n",
       "CLBBB    0.988903  \n",
       "CRBBB    0.982998  \n",
       "EL       0.815153  \n",
       "ILMI      0.70708  \n",
       "IMI      0.694948  \n",
       "INJAL    0.804245  \n",
       "INJAS    0.843943  \n",
       "INJIL    0.812471  \n",
       "INJIN    0.712846  \n",
       "INJLA    0.957571  \n",
       "IPLMI    0.787512  \n",
       "IPMI     0.836227  \n",
       "ISCAL    0.882113  \n",
       "ISCAN    0.821596  \n",
       "ISCAS    0.737322  \n",
       "ISCIL    0.827665  \n",
       "ISCIN    0.614723  \n",
       "ISCLA    0.657675  \n",
       "ISC_     0.919546  \n",
       "LMI      0.813995  \n",
       "LNGQT    0.672358  \n",
       "NDT      0.809816  \n",
       "NORM     0.867682  \n",
       "NST_     0.781696  \n",
       "PAC      0.650358  \n",
       "PMI      0.759025  \n",
       "PSVT     0.992495  \n",
       "PVC      0.844193  \n",
       "SBRAD    0.934263  \n",
       "SR       0.819938  \n",
       "STD_     0.843726  \n",
       "STE_      0.51157  \n",
       "SVTAC    0.993277  \n",
       "TAB_     0.897349  \n",
       "WPW      0.692535  "
      ]
     },
     "execution_count": 8,
     "metadata": {},
     "output_type": "execute_result"
    }
   ],
   "source": [
    "val_aucs = pd.DataFrame(columns=methods, index=mlb)\n",
    "\n",
    "for index in range(43):\n",
    "    true = y_val[:,index]\n",
    "    for method in range(len(methods)):\n",
    "        pred = raw_val_preds[method][:,index]\n",
    "        val_aucs[methods[method]][mlb[index]] = roc_auc_score(true, pred)\n",
    "\n",
    "val_aucs"
   ]
  },
  {
   "cell_type": "markdown",
   "metadata": {},
   "source": [
    "## SVM Mean ensembler"
   ]
  },
  {
   "cell_type": "code",
   "execution_count": 10,
   "metadata": {},
   "outputs": [],
   "source": [
    "# Introduce DataFrame for ensembler\n",
    "\n",
    "ensemble_results = pd.DataFrame(index=['AUC Test', 'CI'])"
   ]
  },
  {
   "cell_type": "code",
   "execution_count": 11,
   "metadata": {},
   "outputs": [],
   "source": [
    "mean_ensemble_vals = pd.DataFrame(columns=mlb)"
   ]
  },
  {
   "cell_type": "code",
   "execution_count": 12,
   "metadata": {},
   "outputs": [],
   "source": [
    "mean_raw_test = np.array(raw_test_preds).mean(axis=0)"
   ]
  },
  {
   "cell_type": "code",
   "execution_count": 13,
   "metadata": {},
   "outputs": [],
   "source": [
    "ensemble_results['Mean'] = [roc_auc_score(y_test, mean_raw_test), \"---\"]"
   ]
  },
  {
   "cell_type": "code",
   "execution_count": 14,
   "metadata": {},
   "outputs": [
    {
     "data": {
      "text/html": [
       "<div>\n",
       "<style scoped>\n",
       "    .dataframe tbody tr th:only-of-type {\n",
       "        vertical-align: middle;\n",
       "    }\n",
       "\n",
       "    .dataframe tbody tr th {\n",
       "        vertical-align: top;\n",
       "    }\n",
       "\n",
       "    .dataframe thead th {\n",
       "        text-align: right;\n",
       "    }\n",
       "</style>\n",
       "<table border=\"1\" class=\"dataframe\">\n",
       "  <thead>\n",
       "    <tr style=\"text-align: right;\">\n",
       "      <th></th>\n",
       "      <th>Mean</th>\n",
       "    </tr>\n",
       "  </thead>\n",
       "  <tbody>\n",
       "    <tr>\n",
       "      <th>AUC Test</th>\n",
       "      <td>0.862223</td>\n",
       "    </tr>\n",
       "    <tr>\n",
       "      <th>CI</th>\n",
       "      <td>---</td>\n",
       "    </tr>\n",
       "  </tbody>\n",
       "</table>\n",
       "</div>"
      ],
      "text/plain": [
       "              Mean\n",
       "AUC Test  0.862223\n",
       "CI             ---"
      ]
     },
     "execution_count": 14,
     "metadata": {},
     "output_type": "execute_result"
    }
   ],
   "source": [
    "ensemble_results"
   ]
  },
  {
   "cell_type": "markdown",
   "metadata": {},
   "source": [
    "## Voting Mean"
   ]
  },
  {
   "cell_type": "code",
   "execution_count": 14,
   "metadata": {},
   "outputs": [],
   "source": [
    "def get_middle_80_columns(row):\n",
    "    \"\"\"\n",
    "    Function to get the indices of the columns with the middle 80% values for a given row.\n",
    "    \"\"\"\n",
    "    # Sort the values in ascending order\n",
    "    sorted_values = row.sort_values().values\n",
    "    \n",
    "    # Calculate the indices for the middle 80%\n",
    "    lower_idx = int(len(sorted_values) * 0.1)\n",
    "    upper_idx = int(len(sorted_values) * 0.9)\n",
    "    \n",
    "    # Get the middle 80% values\n",
    "    middle_80_values = sorted_values[lower_idx:upper_idx]\n",
    "    \n",
    "    # Get the indices of the columns with the middle 80% values\n",
    "    middle_80_columns = row[row.isin(middle_80_values)].index.tolist()\n",
    "    \n",
    "    return [row.index.get_loc(col) for col in middle_80_columns]\n",
    "\n",
    "val_aucs[r'Middle 80% Methods'] = val_aucs.apply(get_middle_80_columns, axis=1)"
   ]
  },
  {
   "cell_type": "code",
   "execution_count": 15,
   "metadata": {},
   "outputs": [],
   "source": [
    "voting_preds = []\n",
    "\n",
    "for i in range(len(mlb)):\n",
    "    v = []\n",
    "    selections = val_aucs[r'Middle 80% Methods'][mlb[i]]\n",
    "    for j in range(len(methods)):\n",
    "        if j in selections:\n",
    "            v += [raw_test_preds[j][:,i]]\n",
    "    voting_preds += [np.array(v).mean(axis=0)]\n",
    "\n",
    "voting_preds = np.array(voting_preds).T\n",
    "\n",
    "ensemble_results['Voting'] = [roc_auc_score(y_test, voting_preds), \"---\"]"
   ]
  },
  {
   "cell_type": "markdown",
   "metadata": {},
   "source": [
    "## Trimmed SMV"
   ]
  },
  {
   "cell_type": "code",
   "execution_count": 18,
   "metadata": {},
   "outputs": [],
   "source": [
    "from sklearn.metrics import *"
   ]
  },
  {
   "cell_type": "code",
   "execution_count": 19,
   "metadata": {},
   "outputs": [],
   "source": [
    "a = np.array(raw_test_preds)\n",
    "a.sort(axis=0)\n",
    "roc_auc_score(y_test, a[1:-1,:].mean(axis=0))"
   ]
  },
  {
   "cell_type": "code",
   "execution_count": 25,
   "metadata": {},
   "outputs": [],
   "source": [
    "a.sort(axis=0)"
   ]
  },
  {
   "cell_type": "code",
   "execution_count": 27,
   "metadata": {},
   "outputs": [
    {
     "data": {
      "text/plain": [
       "(0.8616869957811726, 0.8041237113402061)"
      ]
     },
     "execution_count": 27,
     "metadata": {},
     "output_type": "execute_result"
    }
   ],
   "source": [
    "roc_auc_score(y_test, a[1:-1,:].mean(axis=0)), f1_score(y_test[:,8], (a[1:-1,:,8].mean(axis=0)>0.5).astype(int))"
   ]
  },
  {
   "cell_type": "code",
   "execution_count": 84,
   "metadata": {},
   "outputs": [
    {
     "data": {
      "text/plain": [
       "0.8616869957811726"
      ]
     },
     "execution_count": 84,
     "metadata": {},
     "output_type": "execute_result"
    }
   ],
   "source": [
    "a = np.sort(a, axis=0)\n",
    "\n",
    "roc_auc_score(y_test, a[1:-1,:,:].mean(axis=0))"
   ]
  },
  {
   "cell_type": "code",
   "execution_count": 18,
   "metadata": {},
   "outputs": [
    {
     "data": {
      "text/html": [
       "<div>\n",
       "<style scoped>\n",
       "    .dataframe tbody tr th:only-of-type {\n",
       "        vertical-align: middle;\n",
       "    }\n",
       "\n",
       "    .dataframe tbody tr th {\n",
       "        vertical-align: top;\n",
       "    }\n",
       "\n",
       "    .dataframe thead th {\n",
       "        text-align: right;\n",
       "    }\n",
       "</style>\n",
       "<table border=\"1\" class=\"dataframe\">\n",
       "  <thead>\n",
       "    <tr style=\"text-align: right;\">\n",
       "      <th></th>\n",
       "      <th>Mean</th>\n",
       "      <th>Voting</th>\n",
       "      <th>Trim SMV</th>\n",
       "    </tr>\n",
       "  </thead>\n",
       "  <tbody>\n",
       "    <tr>\n",
       "      <th>AUC Test</th>\n",
       "      <td>0.862223</td>\n",
       "      <td>0.854955</td>\n",
       "      <td>0.861687</td>\n",
       "    </tr>\n",
       "    <tr>\n",
       "      <th>CI</th>\n",
       "      <td>---</td>\n",
       "      <td>---</td>\n",
       "      <td>---</td>\n",
       "    </tr>\n",
       "  </tbody>\n",
       "</table>\n",
       "</div>"
      ],
      "text/plain": [
       "              Mean    Voting  Trim SMV\n",
       "AUC Test  0.862223  0.854955  0.861687\n",
       "CI             ---       ---       ---"
      ]
     },
     "execution_count": 18,
     "metadata": {},
     "output_type": "execute_result"
    }
   ],
   "source": [
    "ensemble_results['Trim SMV'] = [roc_auc_score(y_test, a[1:-1,:,:].mean(axis=0)), \"---\"]\n",
    "\n",
    "ensemble_results"
   ]
  },
  {
   "cell_type": "code",
   "execution_count": 19,
   "metadata": {},
   "outputs": [
    {
     "data": {
      "text/plain": [
       "0.8616869957811726"
      ]
     },
     "execution_count": 19,
     "metadata": {},
     "output_type": "execute_result"
    }
   ],
   "source": [
    "roc_auc_score(y_test, a[1:-1,:,:].mean(axis=0))"
   ]
  },
  {
   "cell_type": "code",
   "execution_count": 28,
   "metadata": {},
   "outputs": [
    {
     "data": {
      "text/plain": [
       "0.9975856945770986"
      ]
     },
     "execution_count": 28,
     "metadata": {},
     "output_type": "execute_result"
    }
   ],
   "source": [
    "roc_auc_score(y_test[:,8], a[1:-1,:,8].mean(axis=0))"
   ]
  },
  {
   "cell_type": "code",
   "execution_count": 44,
   "metadata": {},
   "outputs": [
    {
     "data": {
      "text/plain": [
       "[array([[1.34762289e-04, 5.41464069e-05, 7.76977018e-02, ...,\n",
       "         2.86966497e-06, 1.54039252e-03, 3.92198446e-04],\n",
       "        [5.65799382e-05, 2.67043160e-05, 8.03687647e-02, ...,\n",
       "         1.27472993e-06, 1.31970574e-03, 4.57699061e-04],\n",
       "        [7.79107650e-05, 1.51027823e-04, 3.40114146e-01, ...,\n",
       "         3.44123873e-05, 1.60098798e-03, 1.13267545e-02],\n",
       "        ...,\n",
       "        [6.09051494e-05, 2.30187561e-05, 1.04368858e-01, ...,\n",
       "         6.44572901e-06, 1.75869907e-03, 1.09690451e-03],\n",
       "        [3.69883637e-05, 2.18367277e-05, 3.19353074e-01, ...,\n",
       "         1.52657003e-06, 5.57789463e-04, 1.69560302e-03],\n",
       "        [1.24889659e-04, 6.43841631e-05, 1.82759523e-01, ...,\n",
       "         1.19893637e-04, 1.55549671e-03, 4.21226228e-04]], dtype=float32),\n",
       " array([[4.97635374e-05, 8.67456322e-07, 7.52055869e-02, ...,\n",
       "         2.55614214e-05, 5.94671292e-04, 5.03657066e-05],\n",
       "        [1.85971658e-05, 8.69795713e-07, 7.69104138e-02, ...,\n",
       "         1.19501256e-05, 6.07117545e-04, 6.05522364e-05],\n",
       "        [4.79249902e-05, 9.35054777e-05, 1.56378180e-01, ...,\n",
       "         1.66046550e-04, 9.62057209e-04, 9.52643156e-03],\n",
       "        ...,\n",
       "        [5.52180827e-05, 2.34259660e-05, 9.31363329e-02, ...,\n",
       "         7.85071825e-05, 9.23891261e-04, 4.58916882e-04],\n",
       "        [1.84989258e-05, 1.15302128e-05, 1.81024045e-01, ...,\n",
       "         1.21202895e-04, 5.11167280e-04, 2.13054591e-03],\n",
       "        [3.02745084e-05, 4.01010766e-05, 1.10176295e-01, ...,\n",
       "         7.47937956e-05, 1.37312117e-03, 8.67017196e-04]], dtype=float32),\n",
       " array([[2.0109277e-05, 3.4743791e-06, 9.2047863e-02, ..., 2.0967618e-06,\n",
       "         2.3939554e-03, 2.6729415e-04],\n",
       "        [1.8016031e-05, 2.9936302e-06, 9.3419909e-02, ..., 1.7363586e-06,\n",
       "         2.1900202e-03, 2.6066866e-04],\n",
       "        [6.7756057e-04, 2.6246472e-04, 2.1099864e-01, ..., 1.5867071e-04,\n",
       "         1.8285121e-03, 5.5350941e-03],\n",
       "        ...,\n",
       "        [5.9775412e-06, 7.8038806e-07, 8.2721114e-02, ..., 4.4835048e-07,\n",
       "         1.2906663e-03, 1.1725776e-04],\n",
       "        [1.7198053e-04, 3.9097646e-05, 1.2984630e-01, ..., 2.8150787e-05,\n",
       "         3.8922483e-03, 1.3798532e-03],\n",
       "        [1.3100333e-04, 3.0495656e-05, 1.2404161e-01, ..., 2.0247018e-05,\n",
       "         4.1759457e-03, 1.1234725e-03]], dtype=float32),\n",
       " array([[3.00617012e-05, 5.24679217e-06, 7.49052390e-02, ...,\n",
       "         1.52753873e-05, 2.72623473e-03, 1.30610657e-04],\n",
       "        [8.06164026e-05, 1.67791059e-05, 8.81168544e-02, ...,\n",
       "         2.87915846e-05, 4.93088411e-03, 4.34850605e-04],\n",
       "        [1.31026303e-04, 9.84267972e-05, 9.53346193e-02, ...,\n",
       "         6.41745282e-05, 3.39734205e-03, 1.39143108e-03],\n",
       "        ...,\n",
       "        [2.71812382e-07, 2.84740871e-08, 6.62840307e-02, ...,\n",
       "         4.08566230e-08, 6.80553319e-04, 1.04118764e-04],\n",
       "        [1.77672646e-05, 7.82495681e-06, 2.63857573e-01, ...,\n",
       "         7.38682274e-06, 1.77845079e-03, 1.47332931e-02],\n",
       "        [1.05074641e-05, 3.07025584e-06, 2.04756960e-01, ...,\n",
       "         2.88333717e-06, 1.98458135e-03, 7.38421874e-03]], dtype=float32),\n",
       " array([[2.8265078e-04, 9.4916533e-05, 5.6033067e-02, ..., 5.3684191e-05,\n",
       "         1.5488371e-03, 5.8760744e-04],\n",
       "        [2.6012890e-04, 2.4859104e-04, 1.1519195e-01, ..., 4.7109943e-06,\n",
       "         3.0279602e-03, 9.7240316e-04],\n",
       "        [6.8006804e-05, 4.7513953e-04, 9.5489651e-02, ..., 1.3422291e-05,\n",
       "         5.9343791e-03, 2.0936294e-03],\n",
       "        ...,\n",
       "        [2.0981207e-04, 2.3689781e-05, 3.7856407e-02, ..., 9.6299831e-05,\n",
       "         2.3208328e-03, 1.9745257e-04],\n",
       "        [1.2040163e-04, 6.8385617e-07, 7.2858088e-02, ..., 6.6910201e-04,\n",
       "         2.6924221e-03, 5.4424256e-04],\n",
       "        [1.8770965e-05, 3.2961387e-05, 1.0058490e-01, ..., 3.4459976e-05,\n",
       "         1.6589731e-03, 1.2873239e-03]], dtype=float32)]"
      ]
     },
     "execution_count": 44,
     "metadata": {},
     "output_type": "execute_result"
    }
   ],
   "source": [
    "raw_test_preds"
   ]
  },
  {
   "cell_type": "markdown",
   "metadata": {},
   "source": [
    "## Weighted SMV"
   ]
  },
  {
   "cell_type": "code",
   "execution_count": 29,
   "metadata": {},
   "outputs": [],
   "source": [
    "weights = pd.DataFrame(index=mlb, columns=methods)\n",
    "\n",
    "for i in range(len(mlb)):\n",
    "    aucs = [roc_auc_score(y_val[:,i], raw_val_preds[method][:,i]) for method in range(len(methods))]\n",
    "    aucs = np.array(aucs)\n",
    "    aucs /= aucs.sum()\n",
    "    weights.loc[mlb[i]] = aucs\n",
    "\n",
    "weights = weights.to_numpy().astype(float)"
   ]
  },
  {
   "cell_type": "code",
   "execution_count": 30,
   "metadata": {},
   "outputs": [],
   "source": [
    "transposed_preds = np.transpose(np.array(raw_test_preds), (1, 2, 0))\n",
    "\n",
    "# Perform the weighted sum using np.einsum\n",
    "# \"ijk,kj->ij\" means:\n",
    "# ijk -> 2148 samples, 43 classes, 5 models (transposed_preds)\n",
    "# kj -> 43 classes, 5 models (weights)\n",
    "# ij -> 2148 samples, 43 classes (final output)\n",
    "result = np.einsum('ijk,kj->ij', transposed_preds, weights.T)"
   ]
  },
  {
   "cell_type": "code",
   "execution_count": 31,
   "metadata": {},
   "outputs": [],
   "source": [
    "from sklearn.metrics import *"
   ]
  },
  {
   "cell_type": "code",
   "execution_count": 35,
   "metadata": {},
   "outputs": [
    {
     "data": {
      "text/plain": [
       "(0.8625616366191902, 0.8041237113402061)"
      ]
     },
     "execution_count": 35,
     "metadata": {},
     "output_type": "execute_result"
    }
   ],
   "source": [
    "roc_auc_score(y_test, result), f1_score(y_test[:,8], (result[:,8]>0.5).astype(int))"
   ]
  },
  {
   "cell_type": "code",
   "execution_count": 33,
   "metadata": {},
   "outputs": [
    {
     "data": {
      "text/plain": [
       "0.7222222222222222"
      ]
     },
     "execution_count": 33,
     "metadata": {},
     "output_type": "execute_result"
    }
   ],
   "source": [
    "recall_score(y_test[:,8], (result[:,8]>0.5).astype(int))"
   ]
  },
  {
   "cell_type": "markdown",
   "metadata": {},
   "source": [
    "# Linear Regression"
   ]
  },
  {
   "cell_type": "code",
   "execution_count": 20,
   "metadata": {},
   "outputs": [],
   "source": [
    "from sklearn.linear_model import LinearRegression"
   ]
  },
  {
   "cell_type": "code",
   "execution_count": 21,
   "metadata": {},
   "outputs": [],
   "source": [
    "models = []\n",
    "linear_preds = []\n",
    "\n",
    "for i in range(43):\n",
    "    a =np.array(raw_val_preds)[:,:,i].T\n",
    "    model = LinearRegression().fit(a, y_val[:,i])\n",
    "    models += [model]\n",
    "    \n",
    "    linear_preds += [model.predict(np.array(raw_test_preds)[:,:,i].T)]\n",
    "\n",
    "linear_preds = np.array(linear_preds).T"
   ]
  },
  {
   "cell_type": "code",
   "execution_count": 22,
   "metadata": {},
   "outputs": [
    {
     "data": {
      "text/html": [
       "<div>\n",
       "<style scoped>\n",
       "    .dataframe tbody tr th:only-of-type {\n",
       "        vertical-align: middle;\n",
       "    }\n",
       "\n",
       "    .dataframe tbody tr th {\n",
       "        vertical-align: top;\n",
       "    }\n",
       "\n",
       "    .dataframe thead th {\n",
       "        text-align: right;\n",
       "    }\n",
       "</style>\n",
       "<table border=\"1\" class=\"dataframe\">\n",
       "  <thead>\n",
       "    <tr style=\"text-align: right;\">\n",
       "      <th></th>\n",
       "      <th>Mean</th>\n",
       "      <th>Voting</th>\n",
       "      <th>Trim SMV</th>\n",
       "      <th>Linear Reg</th>\n",
       "    </tr>\n",
       "  </thead>\n",
       "  <tbody>\n",
       "    <tr>\n",
       "      <th>AUC Test</th>\n",
       "      <td>0.862223</td>\n",
       "      <td>0.854955</td>\n",
       "      <td>0.861687</td>\n",
       "      <td>0.791441</td>\n",
       "    </tr>\n",
       "    <tr>\n",
       "      <th>CI</th>\n",
       "      <td>---</td>\n",
       "      <td>---</td>\n",
       "      <td>---</td>\n",
       "      <td>---</td>\n",
       "    </tr>\n",
       "  </tbody>\n",
       "</table>\n",
       "</div>"
      ],
      "text/plain": [
       "              Mean    Voting  Trim SMV Linear Reg\n",
       "AUC Test  0.862223  0.854955  0.861687   0.791441\n",
       "CI             ---       ---       ---        ---"
      ]
     },
     "execution_count": 22,
     "metadata": {},
     "output_type": "execute_result"
    }
   ],
   "source": [
    "ensemble_results['Linear Reg'] = [roc_auc_score(y_test, linear_preds), \"---\"]\n",
    "\n",
    "ensemble_results"
   ]
  },
  {
   "cell_type": "markdown",
   "metadata": {},
   "source": [
    "## Lasso Regression"
   ]
  },
  {
   "cell_type": "code",
   "execution_count": 23,
   "metadata": {},
   "outputs": [],
   "source": [
    "from sklearn.linear_model import Lasso"
   ]
  },
  {
   "cell_type": "code",
   "execution_count": 24,
   "metadata": {},
   "outputs": [],
   "source": [
    "lasso_models = []\n",
    "lasso_preds = []\n",
    "\n",
    "for i in range(43):\n",
    "    a =np.array(raw_val_preds)[:,:,i].T\n",
    "    model = Lasso(alpha=1e-5).fit(a, y_val[:,i])\n",
    "    lasso_models += [model]\n",
    "    \n",
    "    lasso_preds += [model.predict(np.array(raw_test_preds)[:,:,i].T)]\n",
    "\n",
    "lasso_preds = np.array(lasso_preds).T"
   ]
  },
  {
   "cell_type": "code",
   "execution_count": 25,
   "metadata": {},
   "outputs": [
    {
     "data": {
      "text/html": [
       "<div>\n",
       "<style scoped>\n",
       "    .dataframe tbody tr th:only-of-type {\n",
       "        vertical-align: middle;\n",
       "    }\n",
       "\n",
       "    .dataframe tbody tr th {\n",
       "        vertical-align: top;\n",
       "    }\n",
       "\n",
       "    .dataframe thead th {\n",
       "        text-align: right;\n",
       "    }\n",
       "</style>\n",
       "<table border=\"1\" class=\"dataframe\">\n",
       "  <thead>\n",
       "    <tr style=\"text-align: right;\">\n",
       "      <th></th>\n",
       "      <th>Mean</th>\n",
       "      <th>Voting</th>\n",
       "      <th>Trim SMV</th>\n",
       "      <th>Linear Reg</th>\n",
       "      <th>Lasso</th>\n",
       "    </tr>\n",
       "  </thead>\n",
       "  <tbody>\n",
       "    <tr>\n",
       "      <th>AUC Test</th>\n",
       "      <td>0.862223</td>\n",
       "      <td>0.854955</td>\n",
       "      <td>0.861687</td>\n",
       "      <td>0.791441</td>\n",
       "      <td>0.789766</td>\n",
       "    </tr>\n",
       "    <tr>\n",
       "      <th>CI</th>\n",
       "      <td>---</td>\n",
       "      <td>---</td>\n",
       "      <td>---</td>\n",
       "      <td>---</td>\n",
       "      <td>---</td>\n",
       "    </tr>\n",
       "  </tbody>\n",
       "</table>\n",
       "</div>"
      ],
      "text/plain": [
       "              Mean    Voting  Trim SMV Linear Reg     Lasso\n",
       "AUC Test  0.862223  0.854955  0.861687   0.791441  0.789766\n",
       "CI             ---       ---       ---        ---       ---"
      ]
     },
     "execution_count": 25,
     "metadata": {},
     "output_type": "execute_result"
    }
   ],
   "source": [
    "ensemble_results['Lasso'] = [roc_auc_score(y_test, lasso_preds), \"---\"]\n",
    "\n",
    "ensemble_results"
   ]
  },
  {
   "cell_type": "markdown",
   "metadata": {},
   "source": [
    "Need to write something about how having the alpha results in changes and why linear regression is therefore more robust"
   ]
  },
  {
   "cell_type": "markdown",
   "metadata": {},
   "source": [
    "## Ridge Regression"
   ]
  },
  {
   "cell_type": "code",
   "execution_count": 36,
   "metadata": {},
   "outputs": [],
   "source": [
    "from sklearn.linear_model import Ridge"
   ]
  },
  {
   "cell_type": "code",
   "execution_count": 37,
   "metadata": {},
   "outputs": [],
   "source": [
    "ridge_models = []\n",
    "ridge_preds = []\n",
    "\n",
    "for i in range(43):\n",
    "    a =np.array(raw_val_preds)[:,:,i].T\n",
    "    model = Ridge().fit(a, y_val[:,i])\n",
    "    ridge_models += [model]\n",
    "    \n",
    "    ridge_preds += [model.predict(np.array(raw_test_preds)[:,:,i].T)]\n",
    "\n",
    "ridge_preds = np.array(ridge_preds).T"
   ]
  },
  {
   "cell_type": "code",
   "execution_count": 38,
   "metadata": {},
   "outputs": [
    {
     "data": {
      "text/html": [
       "<div>\n",
       "<style scoped>\n",
       "    .dataframe tbody tr th:only-of-type {\n",
       "        vertical-align: middle;\n",
       "    }\n",
       "\n",
       "    .dataframe tbody tr th {\n",
       "        vertical-align: top;\n",
       "    }\n",
       "\n",
       "    .dataframe thead th {\n",
       "        text-align: right;\n",
       "    }\n",
       "</style>\n",
       "<table border=\"1\" class=\"dataframe\">\n",
       "  <thead>\n",
       "    <tr style=\"text-align: right;\">\n",
       "      <th></th>\n",
       "      <th>Mean</th>\n",
       "      <th>Ridge</th>\n",
       "    </tr>\n",
       "  </thead>\n",
       "  <tbody>\n",
       "    <tr>\n",
       "      <th>AUC Test</th>\n",
       "      <td>0.862223</td>\n",
       "      <td>0.855927</td>\n",
       "    </tr>\n",
       "    <tr>\n",
       "      <th>CI</th>\n",
       "      <td>---</td>\n",
       "      <td>---</td>\n",
       "    </tr>\n",
       "  </tbody>\n",
       "</table>\n",
       "</div>"
      ],
      "text/plain": [
       "              Mean     Ridge\n",
       "AUC Test  0.862223  0.855927\n",
       "CI             ---       ---"
      ]
     },
     "execution_count": 38,
     "metadata": {},
     "output_type": "execute_result"
    }
   ],
   "source": [
    "ensemble_results['Ridge'] = [roc_auc_score(y_test, ridge_preds), \"---\"]\n",
    "\n",
    "ensemble_results"
   ]
  },
  {
   "cell_type": "markdown",
   "metadata": {},
   "source": [
    "## Elastic Net"
   ]
  },
  {
   "cell_type": "code",
   "execution_count": 29,
   "metadata": {},
   "outputs": [],
   "source": [
    "from sklearn.linear_model import ElasticNet"
   ]
  },
  {
   "cell_type": "code",
   "execution_count": 30,
   "metadata": {},
   "outputs": [],
   "source": [
    "en_models = []\n",
    "en_preds = []\n",
    "\n",
    "for i in range(43):\n",
    "    a =np.array(raw_val_preds)[:,:,i].T\n",
    "    model = ElasticNet(alpha=0.0005, l1_ratio=0.00005).fit(a, y_val[:,i])\n",
    "    en_models += [model]\n",
    "    \n",
    "    en_preds += [model.predict(np.array(raw_test_preds)[:,:,i].T)]\n",
    "\n",
    "en_preds = np.array(en_preds)"
   ]
  },
  {
   "cell_type": "code",
   "execution_count": 31,
   "metadata": {},
   "outputs": [
    {
     "data": {
      "text/plain": [
       "0.8560853176926999"
      ]
     },
     "execution_count": 31,
     "metadata": {},
     "output_type": "execute_result"
    }
   ],
   "source": [
    "roc_auc_score(y_test, en_preds.T)"
   ]
  },
  {
   "cell_type": "markdown",
   "metadata": {},
   "source": [
    "## Logistic Regression"
   ]
  },
  {
   "cell_type": "code",
   "execution_count": 32,
   "metadata": {},
   "outputs": [],
   "source": [
    "from sklearn.linear_model import LogisticRegression, Perceptron, BayesianRidge"
   ]
  },
  {
   "cell_type": "code",
   "execution_count": 33,
   "metadata": {},
   "outputs": [],
   "source": [
    "logistic_models = []\n",
    "logistic_preds = []\n",
    "\n",
    "for i in range(43):\n",
    "    a =np.array(raw_val_preds)[:,:,i].T\n",
    "    model = BayesianRidge().fit(a, y_val[:,i])\n",
    "    logistic_models += [model]\n",
    "    \n",
    "    logistic_preds += [model.predict(np.array(raw_test_preds)[:,:,i].T)]\n",
    "\n",
    "logistic_preds = np.array(logistic_preds).T"
   ]
  },
  {
   "cell_type": "code",
   "execution_count": 34,
   "metadata": {},
   "outputs": [
    {
     "data": {
      "text/html": [
       "<div>\n",
       "<style scoped>\n",
       "    .dataframe tbody tr th:only-of-type {\n",
       "        vertical-align: middle;\n",
       "    }\n",
       "\n",
       "    .dataframe tbody tr th {\n",
       "        vertical-align: top;\n",
       "    }\n",
       "\n",
       "    .dataframe thead th {\n",
       "        text-align: right;\n",
       "    }\n",
       "</style>\n",
       "<table border=\"1\" class=\"dataframe\">\n",
       "  <thead>\n",
       "    <tr style=\"text-align: right;\">\n",
       "      <th></th>\n",
       "      <th>Mean</th>\n",
       "      <th>Voting</th>\n",
       "      <th>Trim SMV</th>\n",
       "      <th>Linear Reg</th>\n",
       "      <th>Lasso</th>\n",
       "      <th>Ridge</th>\n",
       "      <th>Bayesian Ridge</th>\n",
       "    </tr>\n",
       "  </thead>\n",
       "  <tbody>\n",
       "    <tr>\n",
       "      <th>AUC Test</th>\n",
       "      <td>0.862223</td>\n",
       "      <td>0.854955</td>\n",
       "      <td>0.861687</td>\n",
       "      <td>0.791441</td>\n",
       "      <td>0.789766</td>\n",
       "      <td>0.855927</td>\n",
       "      <td>0.801588</td>\n",
       "    </tr>\n",
       "    <tr>\n",
       "      <th>CI</th>\n",
       "      <td>---</td>\n",
       "      <td>---</td>\n",
       "      <td>---</td>\n",
       "      <td>---</td>\n",
       "      <td>---</td>\n",
       "      <td>---</td>\n",
       "      <td>---</td>\n",
       "    </tr>\n",
       "  </tbody>\n",
       "</table>\n",
       "</div>"
      ],
      "text/plain": [
       "              Mean    Voting  Trim SMV Linear Reg     Lasso     Ridge  \\\n",
       "AUC Test  0.862223  0.854955  0.861687   0.791441  0.789766  0.855927   \n",
       "CI             ---       ---       ---        ---       ---       ---   \n",
       "\n",
       "         Bayesian Ridge  \n",
       "AUC Test       0.801588  \n",
       "CI                  ---  "
      ]
     },
     "execution_count": 34,
     "metadata": {},
     "output_type": "execute_result"
    }
   ],
   "source": [
    "ensemble_results['Bayesian Ridge'] = [roc_auc_score(y_test, logistic_preds), \"---\"]\n",
    "\n",
    "ensemble_results"
   ]
  },
  {
   "cell_type": "markdown",
   "metadata": {},
   "source": [
    "## Basic NN"
   ]
  },
  {
   "cell_type": "code",
   "execution_count": 35,
   "metadata": {},
   "outputs": [],
   "source": [
    "import tensorflow as tf\n",
    "from tensorflow.keras.layers import Dense\n",
    "from tensorflow.keras.models import Sequential"
   ]
  },
  {
   "cell_type": "code",
   "execution_count": 36,
   "metadata": {},
   "outputs": [
    {
     "data": {
      "text/plain": [
       "[array([[6.0179151e-05, 2.4283143e-05, 9.1353767e-02, ..., 2.3074786e-06,\n",
       "         1.4730772e-03, 7.0924649e-04],\n",
       "        [9.8845638e-05, 4.7098176e-05, 7.1037225e-02, ..., 1.9506342e-06,\n",
       "         1.6217484e-03, 4.8385854e-04],\n",
       "        [5.8813919e-03, 3.3104658e-04, 1.9658443e-01, ..., 4.2521615e-02,\n",
       "         1.5925575e-03, 2.1239974e-04],\n",
       "        ...,\n",
       "        [7.5658623e-05, 7.0432303e-05, 2.9876527e-01, ..., 8.2741084e-05,\n",
       "         1.4772760e-03, 1.7481470e-03],\n",
       "        [5.6307585e-05, 1.5889229e-05, 3.2927729e-02, ..., 1.0772507e-06,\n",
       "         1.9791883e-03, 1.6263618e-04],\n",
       "        [1.9376166e-04, 7.0649447e-05, 9.1415964e-02, ..., 1.3518085e-05,\n",
       "         2.1183689e-03, 7.8869757e-04]], dtype=float32),\n",
       " array([[8.7204771e-06, 6.0962561e-06, 1.0931303e-01, ..., 7.6190488e-05,\n",
       "         4.4771921e-04, 1.4203624e-03],\n",
       "        [3.3224776e-05, 1.6001170e-06, 8.2197107e-02, ..., 4.1880339e-05,\n",
       "         9.4639428e-04, 1.8696608e-04],\n",
       "        [1.5226708e-03, 8.2305130e-05, 3.4702948e-01, ..., 3.4285706e-02,\n",
       "         1.3112194e-03, 6.5999720e-03],\n",
       "        ...,\n",
       "        [5.8923429e-06, 3.6324964e-05, 2.9948848e-01, ..., 1.1104716e-05,\n",
       "         6.7912118e-04, 1.1184317e-03],\n",
       "        [1.6975335e-05, 1.4340021e-06, 1.0907329e-01, ..., 5.3941902e-05,\n",
       "         6.0438155e-04, 8.4915664e-04],\n",
       "        [2.7862285e-05, 1.3470135e-05, 1.4789835e-01, ..., 2.1468912e-05,\n",
       "         6.1312207e-04, 7.7677215e-04]], dtype=float32),\n",
       " array([[6.9521516e-06, 8.2800267e-07, 8.7551728e-02, ..., 4.6189982e-07,\n",
       "         1.1506452e-03, 1.4746665e-04],\n",
       "        [8.3355089e-06, 1.2708917e-06, 7.9856083e-02, ..., 7.7157733e-07,\n",
       "         1.7354377e-03, 1.3127318e-04],\n",
       "        [2.1954814e-02, 5.2923150e-03, 1.3242055e-01, ..., 1.0667398e-01,\n",
       "         1.7012116e-03, 1.2833250e-03],\n",
       "        ...,\n",
       "        [7.1148254e-04, 2.5183495e-04, 1.9936332e-01, ..., 1.8094579e-04,\n",
       "         2.2994045e-03, 4.8660873e-03],\n",
       "        [1.3677983e-06, 1.4473979e-07, 6.4699076e-02, ..., 8.9526324e-08,\n",
       "         7.4975973e-04, 3.3711945e-05],\n",
       "        [3.3318342e-05, 6.6151997e-06, 9.4841354e-02, ..., 4.2918414e-06,\n",
       "         3.1874885e-03, 3.5326832e-04]], dtype=float32),\n",
       " array([[2.8931426e-08, 1.8718258e-09, 8.1132077e-02, ..., 3.8606851e-09,\n",
       "         3.1223395e-04, 9.3999406e-05],\n",
       "        [3.8656794e-06, 4.4816196e-07, 6.9888696e-02, ..., 1.5440640e-06,\n",
       "         1.5132913e-03, 6.9213187e-05],\n",
       "        [1.1154890e-02, 7.4416213e-03, 1.6307956e-01, ..., 1.5223461e-01,\n",
       "         3.1378099e-03, 1.5996890e-03],\n",
       "        ...,\n",
       "        [1.5818454e-05, 6.5995973e-06, 2.2233830e-01, ..., 5.0468266e-06,\n",
       "         1.6837624e-03, 7.6348367e-03],\n",
       "        [4.0536971e-08, 2.6936096e-09, 4.1865788e-02, ..., 4.5580744e-09,\n",
       "         3.3680347e-04, 1.6246197e-05],\n",
       "        [2.5805311e-06, 2.3463645e-07, 4.8898615e-02, ..., 5.7568843e-07,\n",
       "         1.6216001e-03, 2.4791232e-05]], dtype=float32),\n",
       " array([[4.0443610e-05, 1.1325321e-05, 4.9329340e-02, ..., 8.5139225e-05,\n",
       "         5.9101195e-04, 1.6642269e-03],\n",
       "        [9.0481299e-05, 1.5536667e-05, 6.7727327e-02, ..., 7.9552192e-06,\n",
       "         1.2210789e-03, 3.7076461e-04],\n",
       "        [7.9146441e-04, 3.6926906e-06, 1.2233908e-01, ..., 1.5271436e-02,\n",
       "         1.5450331e-03, 7.2306651e-04],\n",
       "        ...,\n",
       "        [9.3235822e-06, 1.4171480e-04, 2.3087852e-01, ..., 1.7378214e-06,\n",
       "         1.9485496e-03, 2.1538453e-03],\n",
       "        [8.2434010e-05, 3.7730708e-06, 5.1829670e-02, ..., 2.9556773e-04,\n",
       "         1.6844228e-03, 2.8523745e-04],\n",
       "        [5.7210829e-05, 8.9902045e-05, 8.0771759e-02, ..., 1.5265482e-06,\n",
       "         1.8820874e-03, 6.7691033e-04]], dtype=float32)]"
      ]
     },
     "execution_count": 36,
     "metadata": {},
     "output_type": "execute_result"
    }
   ],
   "source": [
    "raw_val_preds"
   ]
  },
  {
   "cell_type": "code",
   "execution_count": 37,
   "metadata": {},
   "outputs": [
    {
     "name": "stdout",
     "output_type": "stream",
     "text": [
      "67/67 [==============================] - 1s 2ms/step - loss: 0.6016\n",
      "68/68 [==============================] - 0s 1ms/step\n",
      "67/67 [==============================] - 1s 1ms/step - loss: 0.6025\n",
      "68/68 [==============================] - 0s 1ms/step\n",
      "67/67 [==============================] - 1s 2ms/step - loss: 0.6204\n",
      "68/68 [==============================] - 0s 1ms/step\n",
      "67/67 [==============================] - 1s 2ms/step - loss: 0.5920\n",
      "68/68 [==============================] - 0s 2ms/step\n",
      "67/67 [==============================] - 1s 3ms/step - loss: 0.6422\n",
      "68/68 [==============================] - 0s 2ms/step\n",
      "67/67 [==============================] - 1s 1ms/step - loss: 0.6266\n",
      "68/68 [==============================] - 0s 838us/step\n",
      "67/67 [==============================] - 1s 2ms/step - loss: 0.5728\n",
      "68/68 [==============================] - 0s 1ms/step\n",
      "67/67 [==============================] - 1s 3ms/step - loss: 0.6219\n",
      "68/68 [==============================] - 0s 2ms/step\n",
      "67/67 [==============================] - 1s 1ms/step - loss: 0.6275\n",
      "68/68 [==============================] - 0s 826us/step\n",
      "67/67 [==============================] - 1s 2ms/step - loss: 0.6270\n",
      "68/68 [==============================] - 0s 1ms/step\n",
      "67/67 [==============================] - 1s 1ms/step - loss: 0.6414\n",
      "68/68 [==============================] - 0s 1ms/step\n",
      "67/67 [==============================] - 1s 1ms/step - loss: 0.6434\n",
      "68/68 [==============================] - 0s 743us/step\n",
      "67/67 [==============================] - 1s 2ms/step - loss: 0.5754\n",
      "68/68 [==============================] - 0s 1ms/step\n",
      "67/67 [==============================] - 1s 1ms/step - loss: 0.6120\n",
      "68/68 [==============================] - 0s 821us/step\n",
      "67/67 [==============================] - 1s 1ms/step - loss: 0.6699\n",
      "68/68 [==============================] - 0s 1ms/step\n",
      "67/67 [==============================] - 1s 2ms/step - loss: 0.6010\n",
      "68/68 [==============================] - 0s 3ms/step\n",
      "67/67 [==============================] - 1s 1ms/step - loss: 0.6570\n",
      "68/68 [==============================] - 0s 808us/step\n",
      "67/67 [==============================] - 1s 1ms/step - loss: 0.5979\n",
      "68/68 [==============================] - 0s 709us/step\n",
      "67/67 [==============================] - 1s 1ms/step - loss: 0.6354\n",
      "68/68 [==============================] - 0s 737us/step\n",
      "67/67 [==============================] - 1s 981us/step - loss: 0.6457\n",
      "68/68 [==============================] - 0s 756us/step\n",
      "67/67 [==============================] - 1s 1ms/step - loss: 0.5675\n",
      "68/68 [==============================] - 0s 1ms/step\n",
      "67/67 [==============================] - 1s 1ms/step - loss: 0.6509\n",
      "68/68 [==============================] - 0s 679us/step\n",
      "67/67 [==============================] - 1s 1ms/step - loss: 0.5876\n",
      "68/68 [==============================] - 0s 790us/step\n",
      "67/67 [==============================] - 1s 1ms/step - loss: 0.6061\n",
      "68/68 [==============================] - 0s 808us/step\n",
      "67/67 [==============================] - 1s 969us/step - loss: 0.6573\n",
      "68/68 [==============================] - 0s 871us/step\n",
      "67/67 [==============================] - 1s 973us/step - loss: 0.6385\n",
      "68/68 [==============================] - 0s 868us/step\n",
      "67/67 [==============================] - 1s 2ms/step - loss: 0.6620\n",
      "68/68 [==============================] - 0s 1ms/step\n",
      "67/67 [==============================] - 2s 3ms/step - loss: 0.6439\n",
      "68/68 [==============================] - 0s 2ms/step\n",
      "67/67 [==============================] - 1s 1ms/step - loss: 0.5521\n",
      "68/68 [==============================] - 0s 1ms/step\n",
      "67/67 [==============================] - 1s 2ms/step - loss: 0.6540\n",
      "68/68 [==============================] - 0s 1ms/step\n",
      "67/67 [==============================] - 1s 1ms/step - loss: 0.7029\n",
      "68/68 [==============================] - 0s 844us/step\n",
      "67/67 [==============================] - 1s 1ms/step - loss: 0.5875\n",
      "68/68 [==============================] - 0s 790us/step\n",
      "67/67 [==============================] - 1s 2ms/step - loss: 0.6260\n",
      "68/68 [==============================] - 0s 3ms/step\n",
      "67/67 [==============================] - 2s 1ms/step - loss: 0.6389\n",
      "68/68 [==============================] - 0s 1ms/step\n",
      "67/67 [==============================] - 1s 2ms/step - loss: 0.5497\n",
      "68/68 [==============================] - 0s 1ms/step\n",
      "67/67 [==============================] - 1s 1ms/step - loss: 0.6437\n",
      "68/68 [==============================] - 0s 954us/step\n",
      "67/67 [==============================] - 1s 1ms/step - loss: 0.6365\n",
      "68/68 [==============================] - 0s 860us/step\n",
      "67/67 [==============================] - 1s 1ms/step - loss: 0.6456\n",
      "68/68 [==============================] - 0s 974us/step\n",
      "67/67 [==============================] - 1s 902us/step - loss: 0.6388\n",
      "68/68 [==============================] - 0s 730us/step\n",
      "67/67 [==============================] - 1s 1ms/step - loss: 0.6413\n",
      "68/68 [==============================] - 0s 1ms/step\n",
      "67/67 [==============================] - 1s 2ms/step - loss: 0.6058\n",
      "68/68 [==============================] - 0s 2ms/step\n",
      "67/67 [==============================] - 1s 2ms/step - loss: 0.6251\n",
      "68/68 [==============================] - 0s 1ms/step\n",
      "67/67 [==============================] - 1s 1ms/step - loss: 0.5955\n",
      "68/68 [==============================] - 0s 723us/step\n"
     ]
    }
   ],
   "source": [
    "nn_models = []\n",
    "nn_preds = []\n",
    "\n",
    "for i in range(43):\n",
    "    a =np.array(raw_val_preds)[:,:,i].T\n",
    "    model = Sequential()\n",
    "    # model.add(Dense(a.shape[1], activation='relu'))\n",
    "    model.add(Dense(16, activation='relu', input_shape=(a.shape[1],)))\n",
    "    model.add(Dense(8, activation='relu'))\n",
    "    model.add(Dense(1, activation='sigmoid'))\n",
    "    model.compile(optimizer='adam', loss='binary_crossentropy')\n",
    "    model.fit(a, np.array([y_val[:,i]]).T)\n",
    "    nn_models += [model]\n",
    "    \n",
    "    nn_preds += [model.predict(np.array(raw_test_preds)[:,:,i].T)]\n",
    "\n",
    "nn_preds = np.array(nn_preds).T"
   ]
  },
  {
   "cell_type": "code",
   "execution_count": 38,
   "metadata": {},
   "outputs": [
    {
     "data": {
      "text/html": [
       "<div>\n",
       "<style scoped>\n",
       "    .dataframe tbody tr th:only-of-type {\n",
       "        vertical-align: middle;\n",
       "    }\n",
       "\n",
       "    .dataframe tbody tr th {\n",
       "        vertical-align: top;\n",
       "    }\n",
       "\n",
       "    .dataframe thead th {\n",
       "        text-align: right;\n",
       "    }\n",
       "</style>\n",
       "<table border=\"1\" class=\"dataframe\">\n",
       "  <thead>\n",
       "    <tr style=\"text-align: right;\">\n",
       "      <th></th>\n",
       "      <th>Mean</th>\n",
       "      <th>Voting</th>\n",
       "      <th>Trim SMV</th>\n",
       "      <th>Linear Reg</th>\n",
       "      <th>Lasso</th>\n",
       "      <th>Ridge</th>\n",
       "      <th>Bayesian Ridge</th>\n",
       "      <th>NN</th>\n",
       "    </tr>\n",
       "  </thead>\n",
       "  <tbody>\n",
       "    <tr>\n",
       "      <th>AUC Test</th>\n",
       "      <td>0.862223</td>\n",
       "      <td>0.854955</td>\n",
       "      <td>0.861687</td>\n",
       "      <td>0.791441</td>\n",
       "      <td>0.789766</td>\n",
       "      <td>0.855927</td>\n",
       "      <td>0.801588</td>\n",
       "      <td>0.363726</td>\n",
       "    </tr>\n",
       "    <tr>\n",
       "      <th>CI</th>\n",
       "      <td>---</td>\n",
       "      <td>---</td>\n",
       "      <td>---</td>\n",
       "      <td>---</td>\n",
       "      <td>---</td>\n",
       "      <td>---</td>\n",
       "      <td>---</td>\n",
       "      <td>---</td>\n",
       "    </tr>\n",
       "  </tbody>\n",
       "</table>\n",
       "</div>"
      ],
      "text/plain": [
       "              Mean    Voting  Trim SMV Linear Reg     Lasso     Ridge  \\\n",
       "AUC Test  0.862223  0.854955  0.861687   0.791441  0.789766  0.855927   \n",
       "CI             ---       ---       ---        ---       ---       ---   \n",
       "\n",
       "         Bayesian Ridge        NN  \n",
       "AUC Test       0.801588  0.363726  \n",
       "CI                  ---       ---  "
      ]
     },
     "execution_count": 38,
     "metadata": {},
     "output_type": "execute_result"
    }
   ],
   "source": [
    "ensemble_results['NN'] = [roc_auc_score(y_test, nn_preds[0]), \"---\"]\n",
    "\n",
    "ensemble_results"
   ]
  },
  {
   "cell_type": "code",
   "execution_count": 39,
   "metadata": {},
   "outputs": [],
   "source": [
    "from sklearn.metrics import f1_score"
   ]
  },
  {
   "cell_type": "code",
   "execution_count": 40,
   "metadata": {},
   "outputs": [
    {
     "data": {
      "text/plain": [
       "0.15988172310884416"
      ]
     },
     "execution_count": 40,
     "metadata": {},
     "output_type": "execute_result"
    }
   ],
   "source": [
    "f1_score(y_test, (linear_preds > 0.5).astype(int), average=\"macro\")"
   ]
  },
  {
   "cell_type": "code",
   "execution_count": 41,
   "metadata": {},
   "outputs": [
    {
     "data": {
      "text/plain": [
       "0.5643940531702584"
      ]
     },
     "execution_count": 41,
     "metadata": {},
     "output_type": "execute_result"
    }
   ],
   "source": [
    "roc_auc_score(y_test, (linear_preds > 0.5).astype(int))"
   ]
  },
  {
   "cell_type": "markdown",
   "metadata": {},
   "source": [
    "## Decision Trees"
   ]
  },
  {
   "cell_type": "code",
   "execution_count": 37,
   "metadata": {},
   "outputs": [],
   "source": [
    "from sklearn.ensemble import RandomForestClassifier"
   ]
  },
  {
   "cell_type": "code",
   "execution_count": 38,
   "metadata": {},
   "outputs": [
    {
     "data": {
      "text/plain": [
       "<sklearn.metrics._plot.confusion_matrix.ConfusionMatrixDisplay at 0x248d2a0bbb0>"
      ]
     },
     "execution_count": 38,
     "metadata": {},
     "output_type": "execute_result"
    },
    {
     "data": {
      "image/png": "[encoded data removed]",
      "text/plain": [
       "<Figure size 432x288 with 2 Axes>"
      ]
     },
     "metadata": {
      "needs_background": "light"
     },
     "output_type": "display_data"
    }
   ],
   "source": [
    "from sklearn.metrics import confusion_matrix, ConfusionMatrixDisplay\n",
    "cm = confusion_matrix(y_test[:,8],(linear_preds[:,8]>0.5).astype(int))\n",
    "disp = ConfusionMatrixDisplay(cm)\n",
    "disp.plot()"
   ]
  },
  {
   "cell_type": "code",
   "execution_count": 39,
   "metadata": {},
   "outputs": [],
   "source": [
    "rf_models = []\n",
    "rf_preds = []\n",
    "\n",
    "for i in range(43):\n",
    "    a =np.array(raw_val_preds)[:,:,i].T\n",
    "    model = RandomForestClassifier(criterion=\"gini\").fit(a, y_val[:,i])\n",
    "    rf_models += [model]\n",
    "    \n",
    "    rf_preds += [model.predict(np.array(raw_test_preds)[:,:,i].T)]\n",
    "\n",
    "rf_preds = np.array(rf_preds).T"
   ]
  },
  {
   "cell_type": "code",
   "execution_count": 40,
   "metadata": {},
   "outputs": [
    {
     "data": {
      "text/plain": [
       "0.5662544685817484"
      ]
     },
     "execution_count": 40,
     "metadata": {},
     "output_type": "execute_result"
    }
   ],
   "source": [
    "roc_auc_score(y_test, rf_preds)"
   ]
  },
  {
   "cell_type": "code",
   "execution_count": 40,
   "metadata": {},
   "outputs": [],
   "source": [
    "import multiprocessing\n",
    "from itertools import repeat"
   ]
  },
  {
   "cell_type": "code",
   "execution_count": 88,
   "metadata": {},
   "outputs": [],
   "source": [
    "def part_dus(true, preds):\n",
    "    nums = true.shape[1]\n",
    "    duses = []\n",
    "    for i in range(nums):\n",
    "        predsx = preds[:,i]\n",
    "        y_testx = true[:,i]\n",
    "        \n",
    "        tn = confusion_matrix(y_testx, (predsx>0.5).astype(int))[0][0]\n",
    "        tp = confusion_matrix(y_testx, (predsx>0.5).astype(int))[1][1]\n",
    "        fp = confusion_matrix(y_testx, (predsx>0.5).astype(int))[0][1]\n",
    "        fn = confusion_matrix(y_testx, (predsx>0.5).astype(int))[1][0]\n",
    "        \n",
    "        dus = 0.5*(0.5 + 0.5*(tn/(tn+fn)))\n",
    "        duses += [dus]\n",
    "    return np.array(duses).mean()"
   ]
  },
  {
   "cell_type": "code",
   "execution_count": 173,
   "metadata": {},
   "outputs": [
    {
     "data": {
      "text/html": [
       "<div>\n",
       "<style scoped>\n",
       "    .dataframe tbody tr th:only-of-type {\n",
       "        vertical-align: middle;\n",
       "    }\n",
       "\n",
       "    .dataframe tbody tr th {\n",
       "        vertical-align: top;\n",
       "    }\n",
       "\n",
       "    .dataframe thead th {\n",
       "        text-align: right;\n",
       "    }\n",
       "</style>\n",
       "<table border=\"1\" class=\"dataframe\">\n",
       "  <thead>\n",
       "    <tr style=\"text-align: right;\">\n",
       "      <th></th>\n",
       "      <th>macro_auc</th>\n",
       "    </tr>\n",
       "  </thead>\n",
       "  <tbody>\n",
       "    <tr>\n",
       "      <th>point</th>\n",
       "      <td>0.862223</td>\n",
       "    </tr>\n",
       "    <tr>\n",
       "      <th>mean</th>\n",
       "      <td>0.862972</td>\n",
       "    </tr>\n",
       "    <tr>\n",
       "      <th>lower</th>\n",
       "      <td>0.851320</td>\n",
       "    </tr>\n",
       "    <tr>\n",
       "      <th>upper</th>\n",
       "      <td>0.874446</td>\n",
       "    </tr>\n",
       "  </tbody>\n",
       "</table>\n",
       "</div>"
      ],
      "text/plain": [
       "       macro_auc\n",
       "point   0.862223\n",
       "mean    0.862972\n",
       "lower   0.851320\n",
       "upper   0.874446"
      ]
     },
     "execution_count": 173,
     "metadata": {},
     "output_type": "execute_result"
    }
   ],
   "source": [
    "test_samples = np.array(utils.get_appropriate_bootstrap(y_test, 100))\n",
    "y_test_pred = np.array(raw_test_preds).mean(axis=0)\n",
    "pool = multiprocessing.Pool(5)\n",
    "            \n",
    "thresholds = None\n",
    "\n",
    "te_df = pd.concat(pool.starmap(utils.generate_results, zip(test_samples, repeat(y_test), repeat(y_test_pred), repeat(thresholds))))\n",
    "te_df_point = utils.generate_results(range(len(y_test)), y_test, y_test_pred, thresholds)\n",
    "te_df_result = pd.DataFrame(\n",
    "    np.array([te_df_point.mean().values,\n",
    "                te_df.mean().values,\n",
    "                te_df.quantile(0.05).values,\n",
    "                te_df.quantile(0.95).values]), \n",
    "    columns=te_df.columns, \n",
    "    index=['point', 'mean', 'lower', 'upper'])\n",
    "pool.close()\n",
    "\n",
    "te_df_result"
   ]
  },
  {
   "cell_type": "code",
   "execution_count": 175,
   "metadata": {},
   "outputs": [
    {
     "data": {
      "text/html": [
       "<div>\n",
       "<style scoped>\n",
       "    .dataframe tbody tr th:only-of-type {\n",
       "        vertical-align: middle;\n",
       "    }\n",
       "\n",
       "    .dataframe tbody tr th {\n",
       "        vertical-align: top;\n",
       "    }\n",
       "\n",
       "    .dataframe thead th {\n",
       "        text-align: right;\n",
       "    }\n",
       "</style>\n",
       "<table border=\"1\" class=\"dataframe\">\n",
       "  <thead>\n",
       "    <tr style=\"text-align: right;\">\n",
       "      <th></th>\n",
       "      <th>macro_auc</th>\n",
       "    </tr>\n",
       "  </thead>\n",
       "  <tbody>\n",
       "    <tr>\n",
       "      <th>0</th>\n",
       "      <td>0.924297</td>\n",
       "    </tr>\n",
       "    <tr>\n",
       "      <th>0</th>\n",
       "      <td>0.931428</td>\n",
       "    </tr>\n",
       "    <tr>\n",
       "      <th>0</th>\n",
       "      <td>0.923637</td>\n",
       "    </tr>\n",
       "    <tr>\n",
       "      <th>0</th>\n",
       "      <td>0.927131</td>\n",
       "    </tr>\n",
       "    <tr>\n",
       "      <th>0</th>\n",
       "      <td>0.928116</td>\n",
       "    </tr>\n",
       "    <tr>\n",
       "      <th>...</th>\n",
       "      <td>...</td>\n",
       "    </tr>\n",
       "    <tr>\n",
       "      <th>0</th>\n",
       "      <td>0.922813</td>\n",
       "    </tr>\n",
       "    <tr>\n",
       "      <th>0</th>\n",
       "      <td>0.920135</td>\n",
       "    </tr>\n",
       "    <tr>\n",
       "      <th>0</th>\n",
       "      <td>0.928248</td>\n",
       "    </tr>\n",
       "    <tr>\n",
       "      <th>0</th>\n",
       "      <td>0.923441</td>\n",
       "    </tr>\n",
       "    <tr>\n",
       "      <th>0</th>\n",
       "      <td>0.923111</td>\n",
       "    </tr>\n",
       "  </tbody>\n",
       "</table>\n",
       "<p>100 rows × 1 columns</p>\n",
       "</div>"
      ],
      "text/plain": [
       "    macro_auc\n",
       "0    0.924297\n",
       "0    0.931428\n",
       "0    0.923637\n",
       "0    0.927131\n",
       "0    0.928116\n",
       "..        ...\n",
       "0    0.922813\n",
       "0    0.920135\n",
       "0    0.928248\n",
       "0    0.923441\n",
       "0    0.923111\n",
       "\n",
       "[100 rows x 1 columns]"
      ]
     },
     "execution_count": 175,
     "metadata": {},
     "output_type": "execute_result"
    }
   ],
   "source": [
    "dus_df = 0.5*te_df + part_dus(y_test, y_test_pred)\n",
    "\n",
    "dus_df"
   ]
  },
  {
   "cell_type": "code",
   "execution_count": 176,
   "metadata": {},
   "outputs": [
    {
     "data": {
      "text/html": [
       "<div>\n",
       "<style scoped>\n",
       "    .dataframe tbody tr th:only-of-type {\n",
       "        vertical-align: middle;\n",
       "    }\n",
       "\n",
       "    .dataframe tbody tr th {\n",
       "        vertical-align: top;\n",
       "    }\n",
       "\n",
       "    .dataframe thead th {\n",
       "        text-align: right;\n",
       "    }\n",
       "</style>\n",
       "<table border=\"1\" class=\"dataframe\">\n",
       "  <thead>\n",
       "    <tr style=\"text-align: right;\">\n",
       "      <th></th>\n",
       "      <th>macro_auc</th>\n",
       "    </tr>\n",
       "  </thead>\n",
       "  <tbody>\n",
       "    <tr>\n",
       "      <th>point</th>\n",
       "      <td>0.862562</td>\n",
       "    </tr>\n",
       "    <tr>\n",
       "      <th>mean</th>\n",
       "      <td>0.863366</td>\n",
       "    </tr>\n",
       "    <tr>\n",
       "      <th>lower</th>\n",
       "      <td>0.851909</td>\n",
       "    </tr>\n",
       "    <tr>\n",
       "      <th>upper</th>\n",
       "      <td>0.874956</td>\n",
       "    </tr>\n",
       "  </tbody>\n",
       "</table>\n",
       "</div>"
      ],
      "text/plain": [
       "       macro_auc\n",
       "point   0.862562\n",
       "mean    0.863366\n",
       "lower   0.851909\n",
       "upper   0.874956"
      ]
     },
     "execution_count": 176,
     "metadata": {},
     "output_type": "execute_result"
    }
   ],
   "source": [
    "pool = multiprocessing.Pool(5)\n",
    "y_test_pred = result\n",
    "thresholds = None\n",
    "\n",
    "te_df1 = pd.concat(pool.starmap(utils.generate_results, zip(test_samples, repeat(y_test), repeat(y_test_pred), repeat(thresholds))))\n",
    "te_df_point = utils.generate_results(range(len(y_test)), y_test, y_test_pred, thresholds)\n",
    "te_df_result1 = pd.DataFrame(\n",
    "    np.array([te_df_point.mean().values,\n",
    "                te_df1.mean().values,\n",
    "                te_df1.quantile(0.05).values,\n",
    "                te_df1.quantile(0.95).values]), \n",
    "    columns=te_df1.columns, \n",
    "    index=['point', 'mean', 'lower', 'upper'])\n",
    "pool.close()\n",
    "\n",
    "te_df_result1"
   ]
  },
  {
   "cell_type": "code",
   "execution_count": 177,
   "metadata": {},
   "outputs": [
    {
     "data": {
      "text/html": [
       "<div>\n",
       "<style scoped>\n",
       "    .dataframe tbody tr th:only-of-type {\n",
       "        vertical-align: middle;\n",
       "    }\n",
       "\n",
       "    .dataframe tbody tr th {\n",
       "        vertical-align: top;\n",
       "    }\n",
       "\n",
       "    .dataframe thead th {\n",
       "        text-align: right;\n",
       "    }\n",
       "</style>\n",
       "<table border=\"1\" class=\"dataframe\">\n",
       "  <thead>\n",
       "    <tr style=\"text-align: right;\">\n",
       "      <th></th>\n",
       "      <th>macro_auc</th>\n",
       "    </tr>\n",
       "  </thead>\n",
       "  <tbody>\n",
       "    <tr>\n",
       "      <th>0</th>\n",
       "      <td>0.924693</td>\n",
       "    </tr>\n",
       "    <tr>\n",
       "      <th>0</th>\n",
       "      <td>0.931620</td>\n",
       "    </tr>\n",
       "    <tr>\n",
       "      <th>0</th>\n",
       "      <td>0.923992</td>\n",
       "    </tr>\n",
       "    <tr>\n",
       "      <th>0</th>\n",
       "      <td>0.927297</td>\n",
       "    </tr>\n",
       "    <tr>\n",
       "      <th>0</th>\n",
       "      <td>0.928413</td>\n",
       "    </tr>\n",
       "    <tr>\n",
       "      <th>...</th>\n",
       "      <td>...</td>\n",
       "    </tr>\n",
       "    <tr>\n",
       "      <th>0</th>\n",
       "      <td>0.923333</td>\n",
       "    </tr>\n",
       "    <tr>\n",
       "      <th>0</th>\n",
       "      <td>0.920288</td>\n",
       "    </tr>\n",
       "    <tr>\n",
       "      <th>0</th>\n",
       "      <td>0.928472</td>\n",
       "    </tr>\n",
       "    <tr>\n",
       "      <th>0</th>\n",
       "      <td>0.923649</td>\n",
       "    </tr>\n",
       "    <tr>\n",
       "      <th>0</th>\n",
       "      <td>0.923093</td>\n",
       "    </tr>\n",
       "  </tbody>\n",
       "</table>\n",
       "<p>100 rows × 1 columns</p>\n",
       "</div>"
      ],
      "text/plain": [
       "    macro_auc\n",
       "0    0.924693\n",
       "0    0.931620\n",
       "0    0.923992\n",
       "0    0.927297\n",
       "0    0.928413\n",
       "..        ...\n",
       "0    0.923333\n",
       "0    0.920288\n",
       "0    0.928472\n",
       "0    0.923649\n",
       "0    0.923093\n",
       "\n",
       "[100 rows x 1 columns]"
      ]
     },
     "execution_count": 177,
     "metadata": {},
     "output_type": "execute_result"
    }
   ],
   "source": [
    "dus_df1 = 0.5*te_df1 + part_dus(y_test, y_test_pred)\n",
    "\n",
    "dus_df1"
   ]
  },
  {
   "cell_type": "code",
   "execution_count": 178,
   "metadata": {},
   "outputs": [],
   "source": [
    "a = np.array(raw_test_preds)\n",
    "a.sort(axis=0)\n",
    "# roc_auc_score(y_test, a[1:-1,:].mean(axis=0))\n",
    "\n",
    "y_test_pred = a[1:-1,].mean(axis=0)\n"
   ]
  },
  {
   "cell_type": "code",
   "execution_count": 179,
   "metadata": {},
   "outputs": [
    {
     "data": {
      "text/html": [
       "<div>\n",
       "<style scoped>\n",
       "    .dataframe tbody tr th:only-of-type {\n",
       "        vertical-align: middle;\n",
       "    }\n",
       "\n",
       "    .dataframe tbody tr th {\n",
       "        vertical-align: top;\n",
       "    }\n",
       "\n",
       "    .dataframe thead th {\n",
       "        text-align: right;\n",
       "    }\n",
       "</style>\n",
       "<table border=\"1\" class=\"dataframe\">\n",
       "  <thead>\n",
       "    <tr style=\"text-align: right;\">\n",
       "      <th></th>\n",
       "      <th>macro_auc</th>\n",
       "    </tr>\n",
       "  </thead>\n",
       "  <tbody>\n",
       "    <tr>\n",
       "      <th>point</th>\n",
       "      <td>0.861687</td>\n",
       "    </tr>\n",
       "    <tr>\n",
       "      <th>mean</th>\n",
       "      <td>0.861888</td>\n",
       "    </tr>\n",
       "    <tr>\n",
       "      <th>lower</th>\n",
       "      <td>0.850528</td>\n",
       "    </tr>\n",
       "    <tr>\n",
       "      <th>upper</th>\n",
       "      <td>0.873241</td>\n",
       "    </tr>\n",
       "  </tbody>\n",
       "</table>\n",
       "</div>"
      ],
      "text/plain": [
       "       macro_auc\n",
       "point   0.861687\n",
       "mean    0.861888\n",
       "lower   0.850528\n",
       "upper   0.873241"
      ]
     },
     "execution_count": 179,
     "metadata": {},
     "output_type": "execute_result"
    }
   ],
   "source": [
    "pool = multiprocessing.Pool(5)\n",
    "thresholds = None\n",
    "\n",
    "te_df3 = pd.concat(pool.starmap(utils.generate_results, zip(test_samples, repeat(y_test), repeat(y_test_pred), repeat(thresholds))))\n",
    "te_df_point = utils.generate_results(range(len(y_test)), y_test, y_test_pred, thresholds)\n",
    "te_df_result3 = pd.DataFrame(\n",
    "    np.array([te_df_point.mean().values,\n",
    "                te_df3.mean().values,\n",
    "                te_df3.quantile(0.05).values,\n",
    "                te_df3.quantile(0.95).values]), \n",
    "    columns=te_df.columns, \n",
    "    index=['point', 'mean', 'lower', 'upper'])\n",
    "pool.close()\n",
    "\n",
    "te_df_result3"
   ]
  },
  {
   "cell_type": "code",
   "execution_count": 180,
   "metadata": {},
   "outputs": [
    {
     "data": {
      "text/html": [
       "<div>\n",
       "<style scoped>\n",
       "    .dataframe tbody tr th:only-of-type {\n",
       "        vertical-align: middle;\n",
       "    }\n",
       "\n",
       "    .dataframe tbody tr th {\n",
       "        vertical-align: top;\n",
       "    }\n",
       "\n",
       "    .dataframe thead th {\n",
       "        text-align: right;\n",
       "    }\n",
       "</style>\n",
       "<table border=\"1\" class=\"dataframe\">\n",
       "  <thead>\n",
       "    <tr style=\"text-align: right;\">\n",
       "      <th></th>\n",
       "      <th>macro_auc</th>\n",
       "    </tr>\n",
       "  </thead>\n",
       "  <tbody>\n",
       "    <tr>\n",
       "      <th>0</th>\n",
       "      <td>0.922815</td>\n",
       "    </tr>\n",
       "    <tr>\n",
       "      <th>0</th>\n",
       "      <td>0.930382</td>\n",
       "    </tr>\n",
       "    <tr>\n",
       "      <th>0</th>\n",
       "      <td>0.923817</td>\n",
       "    </tr>\n",
       "    <tr>\n",
       "      <th>0</th>\n",
       "      <td>0.926587</td>\n",
       "    </tr>\n",
       "    <tr>\n",
       "      <th>0</th>\n",
       "      <td>0.927264</td>\n",
       "    </tr>\n",
       "    <tr>\n",
       "      <th>...</th>\n",
       "      <td>...</td>\n",
       "    </tr>\n",
       "    <tr>\n",
       "      <th>0</th>\n",
       "      <td>0.921321</td>\n",
       "    </tr>\n",
       "    <tr>\n",
       "      <th>0</th>\n",
       "      <td>0.919442</td>\n",
       "    </tr>\n",
       "    <tr>\n",
       "      <th>0</th>\n",
       "      <td>0.928077</td>\n",
       "    </tr>\n",
       "    <tr>\n",
       "      <th>0</th>\n",
       "      <td>0.924562</td>\n",
       "    </tr>\n",
       "    <tr>\n",
       "      <th>0</th>\n",
       "      <td>0.925038</td>\n",
       "    </tr>\n",
       "  </tbody>\n",
       "</table>\n",
       "<p>100 rows × 1 columns</p>\n",
       "</div>"
      ],
      "text/plain": [
       "    macro_auc\n",
       "0    0.922815\n",
       "0    0.930382\n",
       "0    0.923817\n",
       "0    0.926587\n",
       "0    0.927264\n",
       "..        ...\n",
       "0    0.921321\n",
       "0    0.919442\n",
       "0    0.928077\n",
       "0    0.924562\n",
       "0    0.925038\n",
       "\n",
       "[100 rows x 1 columns]"
      ]
     },
     "execution_count": 180,
     "metadata": {},
     "output_type": "execute_result"
    }
   ],
   "source": [
    "dus_df3 = 0.5*te_df3 + part_dus(y_test, y_test_pred)\n",
    "\n",
    "dus_df3"
   ]
  },
  {
   "cell_type": "code",
   "execution_count": 181,
   "metadata": {},
   "outputs": [
    {
     "data": {
      "text/html": [
       "<div>\n",
       "<style scoped>\n",
       "    .dataframe tbody tr th:only-of-type {\n",
       "        vertical-align: middle;\n",
       "    }\n",
       "\n",
       "    .dataframe tbody tr th {\n",
       "        vertical-align: top;\n",
       "    }\n",
       "\n",
       "    .dataframe thead th {\n",
       "        text-align: right;\n",
       "    }\n",
       "</style>\n",
       "<table border=\"1\" class=\"dataframe\">\n",
       "  <thead>\n",
       "    <tr style=\"text-align: right;\">\n",
       "      <th></th>\n",
       "      <th>macro_auc</th>\n",
       "    </tr>\n",
       "  </thead>\n",
       "  <tbody>\n",
       "    <tr>\n",
       "      <th>point</th>\n",
       "      <td>0.855927</td>\n",
       "    </tr>\n",
       "    <tr>\n",
       "      <th>mean</th>\n",
       "      <td>0.856393</td>\n",
       "    </tr>\n",
       "    <tr>\n",
       "      <th>lower</th>\n",
       "      <td>0.843955</td>\n",
       "    </tr>\n",
       "    <tr>\n",
       "      <th>upper</th>\n",
       "      <td>0.868905</td>\n",
       "    </tr>\n",
       "  </tbody>\n",
       "</table>\n",
       "</div>"
      ],
      "text/plain": [
       "       macro_auc\n",
       "point   0.855927\n",
       "mean    0.856393\n",
       "lower   0.843955\n",
       "upper   0.868905"
      ]
     },
     "execution_count": 181,
     "metadata": {},
     "output_type": "execute_result"
    }
   ],
   "source": [
    "pool = multiprocessing.Pool(5)\n",
    "y_test_pred = ridge_preds\n",
    "thresholds = None\n",
    "\n",
    "te_df2 = pd.concat(pool.starmap(utils.generate_results, zip(test_samples, repeat(y_test), repeat(y_test_pred), repeat(thresholds))))\n",
    "te_df_point = utils.generate_results(range(len(y_test)), y_test, y_test_pred, thresholds)\n",
    "te_df_result2 = pd.DataFrame(\n",
    "    np.array([te_df_point.mean().values,\n",
    "                te_df2.mean().values,\n",
    "                te_df2.quantile(0.05).values,\n",
    "                te_df2.quantile(0.95).values]), \n",
    "    columns=te_df.columns, \n",
    "    index=['point', 'mean', 'lower', 'upper'])\n",
    "pool.close()\n",
    "\n",
    "te_df_result2"
   ]
  },
  {
   "cell_type": "code",
   "execution_count": 183,
   "metadata": {},
   "outputs": [],
   "source": [
    "combined_df = pd.concat([te_df, te_df1, te_df3, te_df2], axis=1)\n",
    "combined_df.columns = ['SMV', 'Weighted SMV', 'Trimmed SMV', 'Ridge']"
   ]
  },
  {
   "cell_type": "code",
   "execution_count": 198,
   "metadata": {},
   "outputs": [
    {
     "data": {
      "text/plain": [
       "SMV             0.023127\n",
       "Weighted SMV    0.023047\n",
       "Trimmed SMV     0.022713\n",
       "Ridge           0.024950\n",
       "dtype: float64"
      ]
     },
     "execution_count": 198,
     "metadata": {},
     "output_type": "execute_result"
    }
   ],
   "source": [
    "combined_df.quantile(0.95)-combined_df.quantile(0.05)"
   ]
  },
  {
   "cell_type": "code",
   "execution_count": 199,
   "metadata": {},
   "outputs": [
    {
     "data": {
      "text/plain": [
       "SMV             0.862653\n",
       "Weighted SMV    0.863187\n",
       "Trimmed SMV     0.861527\n",
       "Ridge           0.857074\n",
       "Name: 0.5, dtype: float64"
      ]
     },
     "execution_count": 199,
     "metadata": {},
     "output_type": "execute_result"
    }
   ],
   "source": [
    "combined_df.quantile(0.5)"
   ]
  },
  {
   "cell_type": "code",
   "execution_count": 182,
   "metadata": {},
   "outputs": [
    {
     "data": {
      "text/html": [
       "<div>\n",
       "<style scoped>\n",
       "    .dataframe tbody tr th:only-of-type {\n",
       "        vertical-align: middle;\n",
       "    }\n",
       "\n",
       "    .dataframe tbody tr th {\n",
       "        vertical-align: top;\n",
       "    }\n",
       "\n",
       "    .dataframe thead th {\n",
       "        text-align: right;\n",
       "    }\n",
       "</style>\n",
       "<table border=\"1\" class=\"dataframe\">\n",
       "  <thead>\n",
       "    <tr style=\"text-align: right;\">\n",
       "      <th></th>\n",
       "      <th>macro_auc</th>\n",
       "    </tr>\n",
       "  </thead>\n",
       "  <tbody>\n",
       "    <tr>\n",
       "      <th>0</th>\n",
       "      <td>0.924097</td>\n",
       "    </tr>\n",
       "    <tr>\n",
       "      <th>0</th>\n",
       "      <td>0.920822</td>\n",
       "    </tr>\n",
       "    <tr>\n",
       "      <th>0</th>\n",
       "      <td>0.921630</td>\n",
       "    </tr>\n",
       "    <tr>\n",
       "      <th>0</th>\n",
       "      <td>0.921816</td>\n",
       "    </tr>\n",
       "    <tr>\n",
       "      <th>0</th>\n",
       "      <td>0.927601</td>\n",
       "    </tr>\n",
       "    <tr>\n",
       "      <th>...</th>\n",
       "      <td>...</td>\n",
       "    </tr>\n",
       "    <tr>\n",
       "      <th>0</th>\n",
       "      <td>0.926864</td>\n",
       "    </tr>\n",
       "    <tr>\n",
       "      <th>0</th>\n",
       "      <td>0.915757</td>\n",
       "    </tr>\n",
       "    <tr>\n",
       "      <th>0</th>\n",
       "      <td>0.921739</td>\n",
       "    </tr>\n",
       "    <tr>\n",
       "      <th>0</th>\n",
       "      <td>0.919094</td>\n",
       "    </tr>\n",
       "    <tr>\n",
       "      <th>0</th>\n",
       "      <td>0.918488</td>\n",
       "    </tr>\n",
       "  </tbody>\n",
       "</table>\n",
       "<p>100 rows × 1 columns</p>\n",
       "</div>"
      ],
      "text/plain": [
       "    macro_auc\n",
       "0    0.924097\n",
       "0    0.920822\n",
       "0    0.921630\n",
       "0    0.921816\n",
       "0    0.927601\n",
       "..        ...\n",
       "0    0.926864\n",
       "0    0.915757\n",
       "0    0.921739\n",
       "0    0.919094\n",
       "0    0.918488\n",
       "\n",
       "[100 rows x 1 columns]"
      ]
     },
     "execution_count": 182,
     "metadata": {},
     "output_type": "execute_result"
    }
   ],
   "source": [
    "dus_df2 = 0.5*te_df2 + part_dus(y_test, y_test_pred)\n",
    "\n",
    "dus_df2"
   ]
  },
  {
   "cell_type": "code",
   "execution_count": 184,
   "metadata": {},
   "outputs": [
    {
     "data": {
      "image/png": "[encoded data removed]",
      "text/plain": [
       "<Figure size 576x432 with 1 Axes>"
      ]
     },
     "metadata": {
      "needs_background": "light"
     },
     "output_type": "display_data"
    }
   ],
   "source": [
    "import matplotlib\n",
    "matplotlib.rcParams['font.family'] = 'Arial'\n",
    "matplotlib.rcParams['font.size'] = 14  # Increase font size\n",
    "plt.figure(figsize=(8, 6))\n",
    "sns.boxplot(combined_df)\n",
    "plt.axhline(y=0.853, linestyle='--', label = 'AttNet', c='purple')\n",
    "plt.legend()\n",
    "plt.xlabel(\"MODEL\", fontweight='bold')\n",
    "plt.ylabel(\"AUC\", fontweight='bold')\n",
    "plt.tight_layout()\n",
    "plt.savefig(r\"C:\\Users\\agarw\\OneDrive - Imperial College London\\Year 4\\Final Year Project\\Report Images\\auc_ensemble.png\", dpi=1000, bbox_inches='tight')"
   ]
  },
  {
   "cell_type": "code",
   "execution_count": 197,
   "metadata": {},
   "outputs": [
    {
     "data": {
      "text/plain": [
       "SMV             0.924800\n",
       "Weighted SMV    0.925070\n",
       "Trimmed SMV     0.924254\n",
       "Ridge           0.922303\n",
       "Name: 0.5, dtype: float64"
      ]
     },
     "execution_count": 197,
     "metadata": {},
     "output_type": "execute_result"
    }
   ],
   "source": [
    "combined_dus.quantile(0.5)"
   ]
  },
  {
   "cell_type": "code",
   "execution_count": 189,
   "metadata": {},
   "outputs": [
    {
     "data": {
      "image/png": "[encoded data removed]",
      "text/plain": [
       "<Figure size 576x360 with 1 Axes>"
      ]
     },
     "metadata": {
      "needs_background": "light"
     },
     "output_type": "display_data"
    }
   ],
   "source": [
    "combined_dus = pd.concat([dus_df, dus_df1, dus_df3, dus_df2], axis=1)\n",
    "combined_dus.columns = ['SMV', 'Weighted SMV', 'Trimmed SMV', 'Ridge']\n",
    "\n",
    "matplotlib.rcParams['font.family'] = 'Arial'\n",
    "matplotlib.rcParams['font.size'] = 14  # Increase font size\n",
    "plt.figure(figsize=(8, 5))\n",
    "colours = ['#E59EDD', '#90EE90', '#FFA500', '#ADD8E6']\n",
    "sns.boxplot(combined_dus, palette=colours)\n",
    "plt.axhline(y=0.919, linestyle='--', label = 'AttNet', c='#F4442E')\n",
    "plt.legend()\n",
    "plt.xlabel(\"MODEL\", fontweight='bold')\n",
    "plt.ylabel(\"DUS\", fontweight='bold')\n",
    "plt.tight_layout()\n",
    "plt.savefig(r\"C:\\Users\\agarw\\OneDrive - Imperial College London\\Year 4\\Final Year Project\\Report Images\\dus_ensemble.png\", dpi=1000, bbox_inches='tight')"
   ]
  },
  {
   "cell_type": "code",
   "execution_count": 207,
   "metadata": {},
   "outputs": [
    {
     "data": {
      "text/plain": [
       "SMV             0.924960\n",
       "Weighted SMV    0.925159\n",
       "Trimmed SMV     0.924435\n",
       "Ridge           0.921963\n",
       "dtype: float64"
      ]
     },
     "execution_count": 207,
     "metadata": {},
     "output_type": "execute_result"
    }
   ],
   "source": [
    "combined_dus.mean(axis=0)"
   ]
  },
  {
   "cell_type": "code",
   "execution_count": 113,
   "metadata": {},
   "outputs": [
    {
     "name": "stdout",
     "output_type": "stream",
     "text": [
      "Model AttNet+Baseline+lead1:\n",
      "0.9191315904650788\n",
      "Model ResNet+Baseline+lead1:\n",
      "0.914870672669448\n",
      "Model VGGNet+lead1:\n",
      "0.9018527573829312\n",
      "Model AlexNet+lead1:\n",
      "0.9120243225238234\n",
      "Model LeNet+lead1:\n",
      "0.9049561814792597\n"
     ]
    }
   ],
   "source": [
    "for i in range(len(methods)):\n",
    "    print(f\"Model {methods[i]}:\")\n",
    "    print(.5*roc_auc_score(y_test, raw_test_preds[i]) + part_dus(y_test, raw_test_preds[1]))"
   ]
  },
  {
   "cell_type": "code",
   "execution_count": 115,
   "metadata": {},
   "outputs": [],
   "source": [
    "def dus_score(true, preds, beta=0.5):\n",
    "    nums = true.shape[1]\n",
    "    duses = []\n",
    "    for i in range(nums):\n",
    "        predsx = preds[:,i]\n",
    "        y_testx = true[:,i]\n",
    "        \n",
    "        tn = confusion_matrix(y_testx, (predsx>0.5).astype(int))[0][0]\n",
    "        tp = confusion_matrix(y_testx, (predsx>0.5).astype(int))[1][1]\n",
    "        fp = confusion_matrix(y_testx, (predsx>0.5).astype(int))[0][1]\n",
    "        fn = confusion_matrix(y_testx, (predsx>0.5).astype(int))[1][0]\n",
    "\n",
    "        # dus = (1-beta)*roc_auc_score(y_testx, predsx) + beta*((tp+tn+fp)/(tp+tn+fp+fn))\n",
    "        dus = (1-beta)*roc_auc_score(y_testx, predsx) + beta*(0.5 + 0.5*(tn/(tn+fn)))\n",
    "        duses += [dus]\n",
    "    return np.array(duses).mean()"
   ]
  },
  {
   "cell_type": "code",
   "execution_count": 168,
   "metadata": {},
   "outputs": [
    {
     "name": "stdout",
     "output_type": "stream",
     "text": [
      "Model AttNet+Baseline+lead1:\n",
      "0.920551596739508\n",
      "Model ResNet+Baseline+lead1:\n",
      "0.9148706726694479\n",
      "Model VGGNet+lead1:\n",
      "0.9022481680718546\n",
      "Model AlexNet+lead1:\n",
      "0.9128677753731915\n",
      "Model LeNet+lead1:\n",
      "0.904547493511963\n"
     ]
    }
   ],
   "source": [
    "for i in range(len(methods)):\n",
    "    print(f\"Model {methods[i]}:\")\n",
    "    print(dus_score(y_test, raw_test_preds[i], beta=0.5))"
   ]
  },
  {
   "cell_type": "code",
   "execution_count": 155,
   "metadata": {},
   "outputs": [],
   "source": [
    "def dus_score1(true, preds, beta=0.5):\n",
    "    # nums = true.shape[1]\n",
    "    duses = []\n",
    "    # for i in range(nums):\n",
    "    predsx = preds\n",
    "    y_testx = true\n",
    "        \n",
    "    tn = confusion_matrix(y_testx, (predsx>0.5).astype(int))[0][0]\n",
    "    tp = confusion_matrix(y_testx, (predsx>0.5).astype(int))[1][1]\n",
    "    fp = confusion_matrix(y_testx, (predsx>0.5).astype(int))[0][1]\n",
    "    fn = confusion_matrix(y_testx, (predsx>0.5).astype(int))[1][0]\n",
    "\n",
    "        # dus = (1-beta)*roc_auc_score(y_testx, predsx) + beta*((tp+tn+fp)/(tp+tn+fp+fn))\n",
    "    dus = (1-beta)*roc_auc_score(y_testx, predsx) + beta*(0.5 + 0.5*(tn/(tn+fn)))\n",
    "    duses += [dus]\n",
    "    return np.array(duses).mean()"
   ]
  },
  {
   "cell_type": "code",
   "execution_count": 162,
   "metadata": {},
   "outputs": [
    {
     "data": {
      "text/plain": [
       "[0.9529576152771309,\n",
       " 0.9967381174277725,\n",
       " 0.6594599742844897,\n",
       " 0.9766012287733361,\n",
       " 0.9432841796223395,\n",
       " 0.9384287635112718,\n",
       " 0.7081198025826516,\n",
       " 0.8573957970509694,\n",
       " 0.9976741306731756,\n",
       " 0.9949679861332201,\n",
       " 0.829619240558932,\n",
       " 0.7879761904761905,\n",
       " 0.6899210914586432,\n",
       " 0.8702972285446513,\n",
       " 0.8797784999572393,\n",
       " 0.8231593662628145,\n",
       " 0.9881174277726003,\n",
       " 0.793569431500466,\n",
       " 0.7083527764815679,\n",
       " 0.8843822843822844,\n",
       " 0.914810933542922,\n",
       " 0.9427472014925373,\n",
       " 0.7761890302812819,\n",
       " 0.8277777777777777,\n",
       " 0.7121568459762251,\n",
       " 0.880453972257251,\n",
       " 0.9193224009900989,\n",
       " 0.8483317669172933,\n",
       " 0.8580848257965712,\n",
       " 0.8294942595552972,\n",
       " 0.8932222178406966,\n",
       " 0.8493669536643945,\n",
       " 0.8509131878557875,\n",
       " 0.9652842497670083,\n",
       " 0.9976700838769804,\n",
       " 0.9816410495264709,\n",
       " 0.9461297384836852,\n",
       " 0.8608376308798249,\n",
       " 0.8273010007400349,\n",
       " 0.6991452991452992,\n",
       " 0.9897435897435897,\n",
       " 0.5928515928515928,\n",
       " 0.8313084112149532]"
      ]
     },
     "execution_count": 162,
     "metadata": {},
     "output_type": "execute_result"
    }
   ],
   "source": [
    "res = np.array(raw_test_preds).mean(axis=0)\n",
    "aucs = []\n",
    "for i in range(43):\n",
    "    aucs += [roc_auc_score(y_test[:,i], res[:,i])]\n",
    "    \n",
    "aucs"
   ]
  },
  {
   "cell_type": "code",
   "execution_count": 163,
   "metadata": {},
   "outputs": [
    {
     "data": {
      "text/plain": [
       "(0.0, 100.0)"
      ]
     },
     "execution_count": 163,
     "metadata": {},
     "output_type": "execute_result"
    },
    {
     "data": {
      "image/png": "[encoded data removed]",
      "text/plain": [
       "<Figure size 432x288 with 1 Axes>"
      ]
     },
     "metadata": {
      "needs_background": "light"
     },
     "output_type": "display_data"
    }
   ],
   "source": [
    "y_train = np.load(\"output/exp4/data/y_train.npy\", allow_pickle=True)\n",
    "\n",
    "count = np.sum(y_test==1, axis=0)\n",
    "plt.scatter(count, aucs)\n",
    "plt.xlim(0,100)"
   ]
  },
  {
   "cell_type": "code",
   "execution_count": 167,
   "metadata": {},
   "outputs": [
    {
     "data": {
      "image/png": "[encoded data removed]",
      "text/plain": [
       "<Figure size 720x360 with 1 Axes>"
      ]
     },
     "metadata": {
      "needs_background": "light"
     },
     "output_type": "display_data"
    }
   ],
   "source": [
    "import matplotlib\n",
    "matplotlib.rcParams['font.family'] = 'Arial'\n",
    "matplotlib.rcParams['font.size'] = 14  # Increase font size\n",
    "\n",
    "fig, ax = plt.subplots(figsize=(10,5))\n",
    "\n",
    "sns.scatterplot(x=count, y=aucs)\n",
    "ax.set_xlim(0,350)\n",
    "ax.set_xlabel(\"Number of positive instances in training\", fontweight=\"bold\")\n",
    "ax.set_ylabel(\"Test DUS value\", fontweight=\"bold\")\n",
    "plt.tight_layout()"
   ]
  },
  {
   "cell_type": "code",
   "execution_count": 159,
   "metadata": {},
   "outputs": [
    {
     "data": {
      "text/plain": [
       "array([   1,    2,  322,  152,    7,   27,   35,  234,   54,   54,    9,\n",
       "         48,  267,   14,   22,    2,    2,    2,    5,    3,   66,    4,\n",
       "         17,   18,   22,   13,  128,   20,   11,  182,  963,   77,   40,\n",
       "          2,    2,  114,   64, 1674,  101,    3,    3,    3,    8])"
      ]
     },
     "execution_count": 159,
     "metadata": {},
     "output_type": "execute_result"
    }
   ],
   "source": [
    "count"
   ]
  },
  {
   "cell_type": "code",
   "execution_count": 192,
   "metadata": {},
   "outputs": [
    {
     "name": "stdout",
     "output_type": "stream",
     "text": [
      "Model AttNet+Baseline+lead1\n",
      "macro_auc    0.011361\n",
      "dtype: float64\n",
      "macro_auc    0.005681\n",
      "dtype: float64\n",
      "Model ResNet+Baseline+lead1\n",
      "macro_auc    0.010305\n",
      "dtype: float64\n",
      "macro_auc    0.005153\n",
      "dtype: float64\n",
      "Model VGGNet+lead1\n",
      "macro_auc    0.012526\n",
      "dtype: float64\n",
      "macro_auc    0.006263\n",
      "dtype: float64\n",
      "Model AlexNet+lead1\n",
      "macro_auc    0.010687\n",
      "dtype: float64\n",
      "macro_auc    0.005344\n",
      "dtype: float64\n",
      "Model LeNet+lead1\n",
      "macro_auc    0.010224\n",
      "dtype: float64\n",
      "macro_auc    0.005112\n",
      "dtype: float64\n"
     ]
    }
   ],
   "source": [
    "for i in range(len(methods)):\n",
    "    pool = multiprocessing.Pool(5)\n",
    "    y_test_pred = raw_test_preds[i]\n",
    "    thresholds = None\n",
    "\n",
    "    te_df20 = pd.concat(pool.starmap(utils.generate_results, zip(test_samples, repeat(y_test), repeat(y_test_pred), repeat(thresholds))))\n",
    "    te_df_point = utils.generate_results(range(len(y_test)), y_test, y_test_pred, thresholds)\n",
    "    te_df_result20 = pd.DataFrame(\n",
    "        np.array([te_df_point.mean().values,\n",
    "                    te_df20.mean().values,\n",
    "                    te_df20.quantile(0.05).values,\n",
    "                    te_df20.quantile(0.95).values]), \n",
    "        columns=te_df.columns, \n",
    "        index=['point', 'mean', 'lower', 'upper'])\n",
    "    pool.close()\n",
    "\n",
    "    print(f\"Model {methods[i]}\")\n",
    "    print((te_df_result20.quantile(0.95) - te_df_result20.quantile(0.05))/2)\n",
    "    dus_df = part_dus(y_test, y_test_pred) + 0.5*te_df_result20\n",
    "    print((dus_df.quantile(0.95) - dus_df.quantile(0.05))/2)"
   ]
  },
  {
   "cell_type": "code",
   "execution_count": 195,
   "metadata": {},
   "outputs": [
    {
     "name": "stdout",
     "output_type": "stream",
     "text": [
      "['models\\\\AlexNet+lead1', 'models\\\\AlexNetAttn+lead1', 'models\\\\AttNet+Baseline+lead1', 'models\\\\AttNet+dp02+lead1', 'models\\\\InceptionSE+lead1', 'models\\\\LeNet+lead1', 'models\\\\LeNet12', 'models\\\\LeNetAttn+lead1', 'models\\\\naive', 'models\\\\NewWavelet+NN+lead1', 'models\\\\ResNet+Baseline+lead1', 'models\\\\Simple+Baseline', 'models\\\\Simple+Baseline+lead1', 'models\\\\VGGNet+lead1', 'models\\\\Wavelet+NN', 'models\\\\Wavelet+NN+lead1', 'models\\\\Wavelet+RF+lead1']\n",
      "                          Method   exp4_AUC\n",
      "0                   models\\naive  0.500(00)\n",
      "1        models\\Wavelet+RF+lead1  0.735(24)\n",
      "2   models\\AttNet+Baseline+lead1  0.853(15)\n",
      "3         models\\Simple+Baseline  0.819(17)\n",
      "4              models\\Wavelet+NN  0.818(20)\n",
      "5         models\\LeNetAttn+lead1  0.807(14)\n",
      "6           models\\AlexNet+lead1  0.839(11)\n",
      "7             models\\LeNet+lead1  0.825(11)\n",
      "8            models\\VGGNet+lead1  0.819(14)\n",
      "9                 models\\LeNet12        ---\n",
      "10      models\\AttNet+dp02+lead1  0.830(15)\n",
      "11      models\\AlexNetAttn+lead1  0.834(12)\n",
      "12      models\\InceptionSE+lead1  0.758(14)\n",
      "13       models\\Wavelet+NN+lead1  0.735(24)\n",
      "14  models\\Simple+Baseline+lead1  0.681(28)\n",
      "15    models\\NewWavelet+NN+lead1  0.766(25)\n",
      "16  models\\ResNet+Baseline+lead1  0.845(14)\n"
     ]
    },
    {
     "data": {
      "text/html": [
       "<div>\n",
       "<style scoped>\n",
       "    .dataframe tbody tr th:only-of-type {\n",
       "        vertical-align: middle;\n",
       "    }\n",
       "\n",
       "    .dataframe tbody tr th {\n",
       "        vertical-align: top;\n",
       "    }\n",
       "\n",
       "    .dataframe thead th {\n",
       "        text-align: right;\n",
       "    }\n",
       "</style>\n",
       "<table border=\"1\" class=\"dataframe\">\n",
       "  <thead>\n",
       "    <tr style=\"text-align: right;\">\n",
       "      <th></th>\n",
       "      <th>Method</th>\n",
       "      <th>exp4_AUC</th>\n",
       "    </tr>\n",
       "  </thead>\n",
       "  <tbody>\n",
       "    <tr>\n",
       "      <th>0</th>\n",
       "      <td>models\\naive</td>\n",
       "      <td>0.500(00)</td>\n",
       "    </tr>\n",
       "    <tr>\n",
       "      <th>1</th>\n",
       "      <td>models\\Wavelet+RF+lead1</td>\n",
       "      <td>0.735(24)</td>\n",
       "    </tr>\n",
       "    <tr>\n",
       "      <th>2</th>\n",
       "      <td>models\\AttNet+Baseline+lead1</td>\n",
       "      <td>0.853(15)</td>\n",
       "    </tr>\n",
       "    <tr>\n",
       "      <th>3</th>\n",
       "      <td>models\\Simple+Baseline</td>\n",
       "      <td>0.819(17)</td>\n",
       "    </tr>\n",
       "    <tr>\n",
       "      <th>4</th>\n",
       "      <td>models\\Wavelet+NN</td>\n",
       "      <td>0.818(20)</td>\n",
       "    </tr>\n",
       "    <tr>\n",
       "      <th>5</th>\n",
       "      <td>models\\LeNetAttn+lead1</td>\n",
       "      <td>0.807(14)</td>\n",
       "    </tr>\n",
       "    <tr>\n",
       "      <th>6</th>\n",
       "      <td>models\\AlexNet+lead1</td>\n",
       "      <td>0.839(11)</td>\n",
       "    </tr>\n",
       "    <tr>\n",
       "      <th>7</th>\n",
       "      <td>models\\LeNet+lead1</td>\n",
       "      <td>0.825(11)</td>\n",
       "    </tr>\n",
       "    <tr>\n",
       "      <th>8</th>\n",
       "      <td>models\\VGGNet+lead1</td>\n",
       "      <td>0.819(14)</td>\n",
       "    </tr>\n",
       "    <tr>\n",
       "      <th>10</th>\n",
       "      <td>models\\AttNet+dp02+lead1</td>\n",
       "      <td>0.830(15)</td>\n",
       "    </tr>\n",
       "    <tr>\n",
       "      <th>11</th>\n",
       "      <td>models\\AlexNetAttn+lead1</td>\n",
       "      <td>0.834(12)</td>\n",
       "    </tr>\n",
       "    <tr>\n",
       "      <th>12</th>\n",
       "      <td>models\\InceptionSE+lead1</td>\n",
       "      <td>0.758(14)</td>\n",
       "    </tr>\n",
       "    <tr>\n",
       "      <th>13</th>\n",
       "      <td>models\\Wavelet+NN+lead1</td>\n",
       "      <td>0.735(24)</td>\n",
       "    </tr>\n",
       "    <tr>\n",
       "      <th>14</th>\n",
       "      <td>models\\Simple+Baseline+lead1</td>\n",
       "      <td>0.681(28)</td>\n",
       "    </tr>\n",
       "    <tr>\n",
       "      <th>15</th>\n",
       "      <td>models\\NewWavelet+NN+lead1</td>\n",
       "      <td>0.766(25)</td>\n",
       "    </tr>\n",
       "    <tr>\n",
       "      <th>16</th>\n",
       "      <td>models\\ResNet+Baseline+lead1</td>\n",
       "      <td>0.845(14)</td>\n",
       "    </tr>\n",
       "  </tbody>\n",
       "</table>\n",
       "</div>"
      ],
      "text/plain": [
       "                          Method   exp4_AUC\n",
       "0                   models\\naive  0.500(00)\n",
       "1        models\\Wavelet+RF+lead1  0.735(24)\n",
       "2   models\\AttNet+Baseline+lead1  0.853(15)\n",
       "3         models\\Simple+Baseline  0.819(17)\n",
       "4              models\\Wavelet+NN  0.818(20)\n",
       "5         models\\LeNetAttn+lead1  0.807(14)\n",
       "6           models\\AlexNet+lead1  0.839(11)\n",
       "7             models\\LeNet+lead1  0.825(11)\n",
       "8            models\\VGGNet+lead1  0.819(14)\n",
       "10      models\\AttNet+dp02+lead1  0.830(15)\n",
       "11      models\\AlexNetAttn+lead1  0.834(12)\n",
       "12      models\\InceptionSE+lead1  0.758(14)\n",
       "13       models\\Wavelet+NN+lead1  0.735(24)\n",
       "14  models\\Simple+Baseline+lead1  0.681(28)\n",
       "15    models\\NewWavelet+NN+lead1  0.766(25)\n",
       "16  models\\ResNet+Baseline+lead1  0.845(14)"
      ]
     },
     "execution_count": 195,
     "metadata": {},
     "output_type": "execute_result"
    }
   ],
   "source": [
    "a = utils.generate_summary_table(exps=['exp4'])\n",
    "a[a['exp4_AUC'] != '---']"
   ]
  },
  {
   "cell_type": "code",
   "execution_count": 203,
   "metadata": {},
   "outputs": [
    {
     "data": {
      "text/plain": [
       "[0.1551112206523183,\n",
       " 0.14527178315812594,\n",
       " 0.08763994342110099,\n",
       " 0.12576617310492583,\n",
       " 0.12455222392662592]"
      ]
     },
     "execution_count": 203,
     "metadata": {},
     "output_type": "execute_result"
    }
   ],
   "source": [
    "[f1_score(y_test, (i>0.5).astype(int), average=\"macro\") for i in raw_test_preds]"
   ]
  },
  {
   "cell_type": "code",
   "execution_count": 204,
   "metadata": {},
   "outputs": [
    {
     "data": {
      "text/plain": [
       "[0.22555922128297973,\n",
       " 0.2071325174286704,\n",
       " 0.17407636737525742,\n",
       " 0.22579225148270315,\n",
       " 0.1988471920248809]"
      ]
     },
     "execution_count": 204,
     "metadata": {},
     "output_type": "execute_result"
    }
   ],
   "source": [
    "fmax = []\n",
    "for i in raw_test_preds:\n",
    "    m = 0\n",
    "    for j in range(100):\n",
    "        score = f1_score(y_test, (i>j/100).astype(int), average=\"macro\")\n",
    "        if score > m:\n",
    "            m = score\n",
    "    fmax += [m]\n",
    "\n",
    "fmax        "
   ]
  }
 ],
 "metadata": {
  "kernelspec": {
   "display_name": "Python 3",
   "language": "python",
   "name": "python3"
  },
  "language_info": {
   "codemirror_mode": {
    "name": "ipython",
    "version": 3
   },
   "file_extension": ".py",
   "mimetype": "text/x-python",
   "name": "python",
   "nbconvert_exporter": "python",
   "pygments_lexer": "ipython3",
   "version": "3.10.4"
  }
 },
 "nbformat": 4,
 "nbformat_minor": 2
}
