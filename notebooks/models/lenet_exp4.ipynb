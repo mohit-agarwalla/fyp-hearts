{
 "cells": [
  {
   "cell_type": "code",
   "execution_count": 1,
   "metadata": {},
   "outputs": [],
   "source": [
    "import os\n",
    "import numpy as np\n",
    "import pandas as pd\n",
    "\n",
    "os.chdir(\"../..\")\n",
    "import utils"
   ]
  },
  {
   "cell_type": "code",
   "execution_count": 2,
   "metadata": {},
   "outputs": [],
   "source": [
    "outputfolder = os.getcwd() + '/output/'\n",
    "datafolder = os.getcwd() + '/datasets/PTB-XL/'\n",
    "sampling_rate = 100\n",
    "task = 'priority'\n",
    "experiment_name = 'exp4'\n",
    "\n",
    "data, raw_labels = utils.load_dataset(datafolder, sampling_rate=sampling_rate)\n",
    "labels = utils.compute_label_aggregations(raw_labels, datafolder, task)\n",
    "data, labels, Y, _ = utils.select_data(data, labels, task, 0, outputfolder+experiment_name+'/data/')"
   ]
  },
  {
   "cell_type": "code",
   "execution_count": 3,
   "metadata": {},
   "outputs": [
    {
     "name": "stdout",
     "output_type": "stream",
     "text": [
      "This experiment has 43 classes\n"
     ]
    }
   ],
   "source": [
    "X_test = data[labels.strat_fold == 10]\n",
    "y_test = Y[labels.strat_fold == 10]\n",
    "\n",
    "X_val = data[labels.strat_fold == 9]\n",
    "y_val = Y[labels.strat_fold == 9]\n",
    "\n",
    "X_train = data[labels.strat_fold <= 8]\n",
    "y_train = Y[labels.strat_fold <= 8]\n",
    "\n",
    "n_classes = y_train.shape[1]\n",
    "\n",
    "print(f\"This experiment has {n_classes} classes\")\n",
    "\n",
    "X_train_lead1 = X_train[:,:,0]\n",
    "X_test_lead1 = X_test[:,:,0]\n",
    "X_val_lead1 = X_val[:,:,0]"
   ]
  },
  {
   "cell_type": "code",
   "execution_count": 4,
   "metadata": {},
   "outputs": [],
   "source": [
    "import tensorflow as tf\n",
    "from tensorflow.keras.layers import LSTM, GRU, TimeDistributed, Bidirectional, LeakyReLU\n",
    "from tensorflow.keras.layers import Dense, Dropout, Activation, Flatten,  Input, Reshape\n",
    "from tensorflow.keras.layers import Conv1D, MaxPool1D, GlobalAveragePooling1D,MaxPool1D,AveragePooling1D\n",
    "from tensorflow.keras import initializers, regularizers, constraints\n",
    "from tensorflow.keras.layers import Layer\n",
    "import numpy as np\n",
    "from tensorflow.keras.layers import BatchNormalization\n",
    "from tensorflow.keras import regularizers\n",
    "from tensorflow.keras import backend as K\n",
    "from tensorflow.keras.models import Model, Sequential"
   ]
  },
  {
   "cell_type": "code",
   "execution_count": 5,
   "metadata": {},
   "outputs": [],
   "source": [
    "lenet_5_model=Sequential()\n",
    "lenet_5_model.add(Conv1D(filters=6, kernel_size=3, padding='same', input_shape=(1000,1)))\n",
    "lenet_5_model.add(BatchNormalization())\n",
    "lenet_5_model.add(Activation('relu'))\n",
    "lenet_5_model.add(MaxPool1D(pool_size=2, strides=2, padding='same'))\n",
    "lenet_5_model.add(Conv1D(filters=16, strides=1, kernel_size=5))\n",
    "lenet_5_model.add(BatchNormalization())\n",
    "lenet_5_model.add(Activation('relu'))\n",
    "lenet_5_model.add(MaxPool1D(pool_size=2, strides=2, padding='same'))\n",
    "lenet_5_model.add(GlobalAveragePooling1D())\n",
    "lenet_5_model.add(Dense(64, activation='relu'))\n",
    "lenet_5_model.add(Dense(32, activation='relu'))\n",
    "lenet_5_model.add(Dense(n_classes, activation = 'sigmoid'))"
   ]
  },
  {
   "cell_type": "code",
   "execution_count": 6,
   "metadata": {},
   "outputs": [
    {
     "name": "stdout",
     "output_type": "stream",
     "text": [
      "Model: \"sequential\"\n",
      "_________________________________________________________________\n",
      " Layer (type)                Output Shape              Param #   \n",
      "=================================================================\n",
      " conv1d (Conv1D)             (None, 1000, 6)           24        \n",
      "                                                                 \n",
      " batch_normalization (BatchN  (None, 1000, 6)          24        \n",
      " ormalization)                                                   \n",
      "                                                                 \n",
      " activation (Activation)     (None, 1000, 6)           0         \n",
      "                                                                 \n",
      " max_pooling1d (MaxPooling1D  (None, 500, 6)           0         \n",
      " )                                                               \n",
      "                                                                 \n",
      " conv1d_1 (Conv1D)           (None, 496, 16)           496       \n",
      "                                                                 \n",
      " batch_normalization_1 (Batc  (None, 496, 16)          64        \n",
      " hNormalization)                                                 \n",
      "                                                                 \n",
      " activation_1 (Activation)   (None, 496, 16)           0         \n",
      "                                                                 \n",
      " max_pooling1d_1 (MaxPooling  (None, 248, 16)          0         \n",
      " 1D)                                                             \n",
      "                                                                 \n",
      " global_average_pooling1d (G  (None, 16)               0         \n",
      " lobalAveragePooling1D)                                          \n",
      "                                                                 \n",
      " dense (Dense)               (None, 64)                1088      \n",
      "                                                                 \n",
      " dense_1 (Dense)             (None, 32)                2080      \n",
      "                                                                 \n",
      " dense_2 (Dense)             (None, 43)                1419      \n",
      "                                                                 \n",
      "=================================================================\n",
      "Total params: 5,195\n",
      "Trainable params: 5,151\n",
      "Non-trainable params: 44\n",
      "_________________________________________________________________\n"
     ]
    }
   ],
   "source": [
    "lenet_5_model.summary()"
   ]
  },
  {
   "cell_type": "code",
   "execution_count": 6,
   "metadata": {},
   "outputs": [],
   "source": [
    "lenet_5_model.compile(loss=tf.keras.losses.BinaryCrossentropy(),\n",
    "    optimizer=tf.keras.optimizers.Adam(learning_rate=0.01),\n",
    "    metrics=[tf.keras.metrics.AUC(num_thresholds=1000000, multi_label=False),\n",
    "                utils.CustomMetric(beta=0.5)]\n",
    ")"
   ]
  },
  {
   "cell_type": "code",
   "execution_count": 7,
   "metadata": {},
   "outputs": [
    {
     "name": "stdout",
     "output_type": "stream",
     "text": [
      "Epoch 1/30\n",
      "534/534 [==============================] - ETA: 0s - loss: 0.1229 - auc: 0.9165 - custom_metric: 0.9428"
     ]
    },
    {
     "name": "stderr",
     "output_type": "stream",
     "text": [
      "c:\\Users\\agarw\\AppData\\Local\\Programs\\Python\\Python310\\lib\\site-packages\\keras\\engine\\training.py:2448: UserWarning: Metric CustomMetric implements a `reset_states()` method; rename it to `reset_state()` (without the final \"s\"). The name `reset_states()` has been deprecated to improve API consistency.\n",
      "  m.reset_state()\n"
     ]
    },
    {
     "name": "stdout",
     "output_type": "stream",
     "text": [
      "534/534 [==============================] - 33s 57ms/step - loss: 0.1229 - auc: 0.9165 - custom_metric: 0.9428 - val_loss: 0.1194 - val_auc: 0.9187 - val_custom_metric: 0.9431\n",
      "Epoch 2/30\n",
      "534/534 [==============================] - 29s 54ms/step - loss: 0.1069 - auc: 0.9397 - custom_metric: 0.9560 - val_loss: 0.1667 - val_auc: 0.8494 - val_custom_metric: 0.9066\n",
      "Epoch 3/30\n",
      "534/534 [==============================] - 28s 52ms/step - loss: 0.1043 - auc: 0.9436 - custom_metric: 0.9581 - val_loss: 0.1420 - val_auc: 0.8895 - val_custom_metric: 0.9278\n",
      "Epoch 4/30\n",
      "534/534 [==============================] - 29s 53ms/step - loss: 0.1022 - auc: 0.9468 - custom_metric: 0.9598 - val_loss: 0.1039 - val_auc: 0.9454 - val_custom_metric: 0.9585\n",
      "Epoch 5/30\n",
      "534/534 [==============================] - 27s 51ms/step - loss: 0.1011 - auc: 0.9484 - custom_metric: 0.9607 - val_loss: 0.1060 - val_auc: 0.9419 - val_custom_metric: 0.9574\n",
      "Epoch 6/30\n",
      "534/534 [==============================] - 29s 54ms/step - loss: 0.0997 - auc: 0.9506 - custom_metric: 0.9617 - val_loss: 0.1112 - val_auc: 0.9326 - val_custom_metric: 0.9519\n",
      "Epoch 7/30\n",
      "534/534 [==============================] - 28s 52ms/step - loss: 0.0987 - auc: 0.9518 - custom_metric: 0.9625 - val_loss: 0.1210 - val_auc: 0.9207 - val_custom_metric: 0.9441\n",
      "Epoch 8/30\n",
      "534/534 [==============================] - 29s 55ms/step - loss: 0.0982 - auc: 0.9525 - custom_metric: 0.9627 - val_loss: 0.1267 - val_auc: 0.9137 - val_custom_metric: 0.9398\n",
      "Epoch 9/30\n",
      "534/534 [==============================] - 28s 52ms/step - loss: 0.0974 - auc: 0.9537 - custom_metric: 0.9634 - val_loss: 0.1110 - val_auc: 0.9368 - val_custom_metric: 0.9533\n",
      "Epoch 10/30\n",
      "534/534 [==============================] - 28s 52ms/step - loss: 0.0971 - auc: 0.9538 - custom_metric: 0.9636 - val_loss: 0.0999 - val_auc: 0.9489 - val_custom_metric: 0.9608\n",
      "Epoch 11/30\n",
      "534/534 [==============================] - 28s 53ms/step - loss: 0.0962 - auc: 0.9550 - custom_metric: 0.9641 - val_loss: 0.1066 - val_auc: 0.9411 - val_custom_metric: 0.9558\n",
      "Epoch 12/30\n",
      "534/534 [==============================] - 28s 52ms/step - loss: 0.0956 - auc: 0.9556 - custom_metric: 0.9644 - val_loss: 0.1020 - val_auc: 0.9480 - val_custom_metric: 0.9588\n",
      "Epoch 13/30\n",
      "534/534 [==============================] - 53s 99ms/step - loss: 0.0953 - auc: 0.9558 - custom_metric: 0.9646 - val_loss: 0.1008 - val_auc: 0.9481 - val_custom_metric: 0.9592\n",
      "Epoch 14/30\n",
      "534/534 [==============================] - 32s 61ms/step - loss: 0.0950 - auc: 0.9564 - custom_metric: 0.9647 - val_loss: 0.1118 - val_auc: 0.9346 - val_custom_metric: 0.9528\n",
      "Epoch 15/30\n",
      "534/534 [==============================] - 32s 61ms/step - loss: 0.0943 - auc: 0.9570 - custom_metric: 0.9652 - val_loss: 0.1025 - val_auc: 0.9486 - val_custom_metric: 0.9595\n",
      "Epoch 16/30\n",
      "534/534 [==============================] - 31s 59ms/step - loss: 0.0943 - auc: 0.9570 - custom_metric: 0.9652 - val_loss: 0.0960 - val_auc: 0.9547 - val_custom_metric: 0.9639\n",
      "Epoch 17/30\n",
      "534/534 [==============================] - 32s 61ms/step - loss: 0.0937 - auc: 0.9577 - custom_metric: 0.9657 - val_loss: 0.0996 - val_auc: 0.9500 - val_custom_metric: 0.9597\n",
      "Epoch 18/30\n",
      "534/534 [==============================] - 35s 65ms/step - loss: 0.0935 - auc: 0.9578 - custom_metric: 0.9657 - val_loss: 0.0963 - val_auc: 0.9543 - val_custom_metric: 0.9636\n",
      "Epoch 19/30\n",
      "534/534 [==============================] - 33s 62ms/step - loss: 0.0932 - auc: 0.9583 - custom_metric: 0.9660 - val_loss: 0.1270 - val_auc: 0.9362 - val_custom_metric: 0.9468\n",
      "Epoch 20/30\n",
      "534/534 [==============================] - 43s 80ms/step - loss: 0.0928 - auc: 0.9587 - custom_metric: 0.9662 - val_loss: 0.1162 - val_auc: 0.9301 - val_custom_metric: 0.9510\n",
      "Epoch 21/30\n",
      "534/534 [==============================] - 47s 88ms/step - loss: 0.0926 - auc: 0.9590 - custom_metric: 0.9664 - val_loss: 0.1213 - val_auc: 0.9185 - val_custom_metric: 0.9439\n",
      "Epoch 22/30\n",
      "534/534 [==============================] - 41s 77ms/step - loss: 0.0927 - auc: 0.9589 - custom_metric: 0.9663 - val_loss: 0.0968 - val_auc: 0.9533 - val_custom_metric: 0.9625\n",
      "Epoch 23/30\n",
      "534/534 [==============================] - 35s 66ms/step - loss: 0.0921 - auc: 0.9595 - custom_metric: 0.9665 - val_loss: 0.0969 - val_auc: 0.9545 - val_custom_metric: 0.9633\n",
      "Epoch 24/30\n",
      "534/534 [==============================] - 36s 68ms/step - loss: 0.0920 - auc: 0.9595 - custom_metric: 0.9666 - val_loss: 0.0956 - val_auc: 0.9548 - val_custom_metric: 0.9631\n",
      "Epoch 25/30\n",
      "534/534 [==============================] - 78s 147ms/step - loss: 0.0917 - auc: 0.9599 - custom_metric: 0.9669 - val_loss: 0.1069 - val_auc: 0.9437 - val_custom_metric: 0.9575\n",
      "Epoch 26/30\n",
      "534/534 [==============================] - 81s 152ms/step - loss: 0.0918 - auc: 0.9599 - custom_metric: 0.9669 - val_loss: 0.0968 - val_auc: 0.9547 - val_custom_metric: 0.9639\n",
      "Epoch 27/30\n",
      "534/534 [==============================] - 97s 182ms/step - loss: 0.0912 - auc: 0.9605 - custom_metric: 0.9672 - val_loss: 0.0987 - val_auc: 0.9513 - val_custom_metric: 0.9610\n",
      "Epoch 28/30\n",
      "534/534 [==============================] - 90s 168ms/step - loss: 0.0915 - auc: 0.9601 - custom_metric: 0.9669 - val_loss: 0.0953 - val_auc: 0.9552 - val_custom_metric: 0.9644\n",
      "Epoch 29/30\n",
      "534/534 [==============================] - 108s 202ms/step - loss: 0.0911 - auc: 0.9605 - custom_metric: 0.9673 - val_loss: 0.1040 - val_auc: 0.9488 - val_custom_metric: 0.9597\n",
      "Epoch 30/30\n",
      "534/534 [==============================] - 96s 180ms/step - loss: 0.0911 - auc: 0.9606 - custom_metric: 0.9672 - val_loss: 0.1193 - val_auc: 0.9306 - val_custom_metric: 0.9476\n"
     ]
    }
   ],
   "source": [
    "history = lenet_5_model.fit(X_train_lead1, y_train, validation_data=(X_val_lead1, y_val), epochs=30)"
   ]
  },
  {
   "cell_type": "code",
   "execution_count": 14,
   "metadata": {},
   "outputs": [
    {
     "name": "stdout",
     "output_type": "stream",
     "text": [
      "68/68 [==============================] - 2s 22ms/step\n",
      "0.9284279656368928\n",
      " 2/68 [..............................] - ETA: 7s - loss: 0.1119 - auc: 0.9361 - custom_metric: 0.9529 "
     ]
    },
    {
     "name": "stderr",
     "output_type": "stream",
     "text": [
      "c:\\Users\\agarw\\AppData\\Local\\Programs\\Python\\Python310\\lib\\site-packages\\keras\\engine\\training.py:2448: UserWarning: Metric CustomMetric implements a `reset_states()` method; rename it to `reset_state()` (without the final \"s\"). The name `reset_states()` has been deprecated to improve API consistency.\n",
      "  m.reset_state()\n"
     ]
    },
    {
     "name": "stdout",
     "output_type": "stream",
     "text": [
      "68/68 [==============================] - 8s 117ms/step - loss: 0.1185 - auc: 0.9323 - custom_metric: 0.9491\n",
      "[0.1185152530670166, 0.9323394298553467, 0.9490586519241333]\n"
     ]
    }
   ],
   "source": [
    "from sklearn.metrics import roc_auc_score\n",
    "\n",
    "preds = lenet_5_model.predict(X_test_lead1)\n",
    "\n",
    "print(roc_auc_score(y_test,preds, average='samples'))\n",
    "auc = lenet_5_model.evaluate(X_test_lead1, y_test)\n",
    "print(auc)"
   ]
  },
  {
   "cell_type": "code",
   "execution_count": null,
   "metadata": {},
   "outputs": [],
   "source": []
  }
 ],
 "metadata": {
  "kernelspec": {
   "display_name": "Python 3",
   "language": "python",
   "name": "python3"
  },
  "language_info": {
   "codemirror_mode": {
    "name": "ipython",
    "version": 3
   },
   "file_extension": ".py",
   "mimetype": "text/x-python",
   "name": "python",
   "nbconvert_exporter": "python",
   "pygments_lexer": "ipython3",
   "version": "3.10.4"
  }
 },
 "nbformat": 4,
 "nbformat_minor": 2
}
