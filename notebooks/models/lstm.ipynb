{
 "cells": [
  {
   "cell_type": "code",
   "execution_count": 1,
   "metadata": {},
   "outputs": [],
   "source": [
    "import os\n",
    "import ast\n",
    "import wfdb\n",
    "import numpy as np\n",
    "import pandas as pd\n",
    "\n",
    "os.chdir(\"../..\")\n",
    "import utils"
   ]
  },
  {
   "cell_type": "code",
   "execution_count": 2,
   "metadata": {},
   "outputs": [],
   "source": [
    "outputfolder = os.getcwd() + '/output/'\n",
    "datafolder = os.getcwd() + '/datasets/PTB-XL/'\n",
    "sampling_rate = 100\n",
    "task = 'subdiagnostic'\n",
    "experiment_name = 'exp1.1'"
   ]
  },
  {
   "cell_type": "code",
   "execution_count": 3,
   "metadata": {},
   "outputs": [],
   "source": [
    "data, raw_labels = utils.load_dataset(datafolder, sampling_rate=sampling_rate)\n",
    "labels = utils.compute_label_aggregations(raw_labels, datafolder, task)\n",
    "data, labels, Y, _ = utils.select_data(data, labels, task, 0, outputfolder+experiment_name+'/data/')"
   ]
  },
  {
   "cell_type": "code",
   "execution_count": 4,
   "metadata": {},
   "outputs": [
    {
     "name": "stdout",
     "output_type": "stream",
     "text": [
      "This experiment has 23 classes\n"
     ]
    }
   ],
   "source": [
    "X_test = data[labels.strat_fold == 10]\n",
    "y_test = Y[labels.strat_fold == 10]\n",
    "\n",
    "X_val = data[labels.strat_fold == 9]\n",
    "y_val = Y[labels.strat_fold == 9]\n",
    "\n",
    "X_train = data[labels.strat_fold <= 8]\n",
    "y_train = Y[labels.strat_fold <= 8]\n",
    "\n",
    "n_classes = y_train.shape[1]\n",
    "\n",
    "print(f\"This experiment has {n_classes} classes\")"
   ]
  },
  {
   "cell_type": "code",
   "execution_count": 5,
   "metadata": {},
   "outputs": [],
   "source": [
    "X_train_lead1 = X_train[:,:,0]\n",
    "X_test_lead1 = X_test[:,:,0]\n",
    "X_val_lead1 = X_val[:,:,0]"
   ]
  },
  {
   "cell_type": "markdown",
   "metadata": {},
   "source": [
    "# Fit LSTM"
   ]
  },
  {
   "cell_type": "code",
   "execution_count": 6,
   "metadata": {},
   "outputs": [],
   "source": [
    "import tensorflow as tf\n",
    "from tensorflow.keras.layers import Dense, GlobalAveragePooling1D, Dropout, Activation, BatchNormalization, LSTM\n",
    "from keras.models import Sequential, Model\n",
    "from keras.utils import plot_model\n",
    "from sklearn.metrics import accuracy_score, roc_auc_score\n",
    "import matplotlib.pyplot as plt"
   ]
  },
  {
   "cell_type": "code",
   "execution_count": 7,
   "metadata": {},
   "outputs": [],
   "source": [
    "lstm = Sequential()\n",
    "lstm.add(LSTM(64, input_shape=(1000,12), return_sequences=True))\n",
    "lstm.add(LSTM(64))\n",
    "lstm.add(Dense(32, activation='relu'))\n",
    "lstm.add(Dropout(0.3))\n",
    "lstm.add(Dense(n_classes, activation='sigmoid'))"
   ]
  },
  {
   "cell_type": "code",
   "execution_count": 8,
   "metadata": {},
   "outputs": [],
   "source": [
    "early_stopping = tf.keras.callbacks.EarlyStopping(monitor='val_AUC', patience=3, verbose=1, min_delta=0, mode='max')"
   ]
  },
  {
   "cell_type": "code",
   "execution_count": 9,
   "metadata": {},
   "outputs": [],
   "source": [
    "lstm.compile(loss=tf.keras.losses.BinaryCrossentropy(),\n",
    "             optimizer=tf.keras.optimizers.Adam(learning_rate=0.001),\n",
    "             metrics=[tf.keras.metrics.BinaryAccuracy(name='accuracy',threshold=0.5),\n",
    "                      tf.keras.metrics.Recall(name='recall'),\n",
    "                      tf.keras.metrics.AUC(num_thresholds=200,\n",
    "                                           curve=\"ROC\",\n",
    "                                           summation_method='interpolation',\n",
    "                                           name=\"AUC\",\n",
    "                                           multi_label=True,\n",
    "                                           label_weights=None)])"
   ]
  },
  {
   "cell_type": "code",
   "execution_count": 10,
   "metadata": {},
   "outputs": [
    {
     "name": "stdout",
     "output_type": "stream",
     "text": [
      "Model: \"sequential\"\n",
      "_________________________________________________________________\n",
      " Layer (type)                Output Shape              Param #   \n",
      "=================================================================\n",
      " lstm (LSTM)                 (None, 1000, 64)          19712     \n",
      "                                                                 \n",
      " lstm_1 (LSTM)               (None, 64)                33024     \n",
      "                                                                 \n",
      " dense (Dense)               (None, 32)                2080      \n",
      "                                                                 \n",
      " dropout (Dropout)           (None, 32)                0         \n",
      "                                                                 \n",
      " dense_1 (Dense)             (None, 23)                759       \n",
      "                                                                 \n",
      "=================================================================\n",
      "Total params: 55,575\n",
      "Trainable params: 55,575\n",
      "Non-trainable params: 0\n",
      "_________________________________________________________________\n"
     ]
    }
   ],
   "source": [
    "lstm.summary()"
   ]
  },
  {
   "cell_type": "code",
   "execution_count": 11,
   "metadata": {},
   "outputs": [
    {
     "name": "stdout",
     "output_type": "stream",
     "text": [
      "Epoch 1/50\n",
      "1709/1709 [==============================] - 3971s 1s/step - loss: 0.2025 - accuracy: 0.9324 - recall: 0.0962 - AUC: 0.5061 - val_loss: 0.1816 - val_accuracy: 0.9388 - val_recall: 0.0000e+00 - val_AUC: 0.5015\n",
      "Epoch 2/50\n",
      "1709/1709 [==============================] - 3876s 2s/step - loss: 0.1888 - accuracy: 0.9380 - recall: 0.0293 - AUC: 0.4958 - val_loss: 0.1803 - val_accuracy: 0.9387 - val_recall: 0.0000e+00 - val_AUC: 0.5266\n",
      "Epoch 3/50\n",
      "1709/1709 [==============================] - 1998s 1s/step - loss: 0.1857 - accuracy: 0.9382 - recall: 0.0091 - AUC: 0.5198 - val_loss: 0.1815 - val_accuracy: 0.9388 - val_recall: 0.0000e+00 - val_AUC: 0.5238\n",
      "Epoch 4/50\n",
      "1709/1709 [==============================] - 2196s 1s/step - loss: 0.1821 - accuracy: 0.9391 - recall: 0.0757 - AUC: 0.5453 - val_loss: 0.1694 - val_accuracy: 0.9424 - val_recall: 0.2675 - val_AUC: 0.6270\n",
      "Epoch 5/50\n",
      "1709/1709 [==============================] - 2330s 1s/step - loss: 0.1703 - accuracy: 0.9428 - recall: 0.2233 - AUC: 0.6184 - val_loss: 0.1635 - val_accuracy: 0.9447 - val_recall: 0.2629 - val_AUC: 0.6613\n",
      "Epoch 6/50\n",
      "1709/1709 [==============================] - 2137s 1s/step - loss: 0.1654 - accuracy: 0.9447 - recall: 0.2473 - AUC: 0.6421 - val_loss: 0.1584 - val_accuracy: 0.9465 - val_recall: 0.2950 - val_AUC: 0.7035\n",
      "Epoch 7/50\n",
      "1709/1709 [==============================] - 2642s 2s/step - loss: 0.1541 - accuracy: 0.9484 - recall: 0.2680 - AUC: 0.6948 - val_loss: 0.1467 - val_accuracy: 0.9498 - val_recall: 0.2530 - val_AUC: 0.7362\n",
      "Epoch 8/50\n",
      "1709/1709 [==============================] - 932s 545ms/step - loss: 0.1442 - accuracy: 0.9514 - recall: 0.3119 - AUC: 0.7314 - val_loss: 0.1376 - val_accuracy: 0.9525 - val_recall: 0.3258 - val_AUC: 0.7607\n",
      "Epoch 9/50\n",
      "1709/1709 [==============================] - 1824s 1s/step - loss: 0.1384 - accuracy: 0.9529 - recall: 0.3378 - AUC: 0.7606 - val_loss: 0.1319 - val_accuracy: 0.9538 - val_recall: 0.3308 - val_AUC: 0.7756\n",
      "Epoch 10/50\n",
      "1709/1709 [==============================] - 1198s 701ms/step - loss: 0.1348 - accuracy: 0.9540 - recall: 0.3584 - AUC: 0.7697 - val_loss: 0.1303 - val_accuracy: 0.9535 - val_recall: 0.3364 - val_AUC: 0.7901\n",
      "Epoch 11/50\n",
      "1709/1709 [==============================] - 1303s 762ms/step - loss: 0.1310 - accuracy: 0.9546 - recall: 0.3719 - AUC: 0.7866 - val_loss: 0.1274 - val_accuracy: 0.9550 - val_recall: 0.3894 - val_AUC: 0.7853\n",
      "Epoch 12/50\n",
      "1709/1709 [==============================] - 1645s 963ms/step - loss: 0.1282 - accuracy: 0.9551 - recall: 0.3838 - AUC: 0.7914 - val_loss: 0.1272 - val_accuracy: 0.9549 - val_recall: 0.3894 - val_AUC: 0.7831\n",
      "Epoch 13/50\n",
      "1709/1709 [==============================] - 1400s 819ms/step - loss: 0.1253 - accuracy: 0.9555 - recall: 0.3997 - AUC: 0.7978 - val_loss: 0.1222 - val_accuracy: 0.9566 - val_recall: 0.4192 - val_AUC: 0.7792\n",
      "Epoch 13: early stopping\n"
     ]
    },
    {
     "data": {
      "text/plain": [
       "<keras.callbacks.History at 0x2a2524d9780>"
      ]
     },
     "execution_count": 11,
     "metadata": {},
     "output_type": "execute_result"
    }
   ],
   "source": [
    "batch_size = 10\n",
    "lstm.fit(X_train, y_train, batch_size=batch_size, epochs=50, validation_data=(X_val, y_val), callbacks=[early_stopping])"
   ]
  },
  {
   "cell_type": "code",
   "execution_count": 13,
   "metadata": {},
   "outputs": [
    {
     "name": "stdout",
     "output_type": "stream",
     "text": [
      "Model: \"sequential\"\n",
      "_________________________________________________________________\n",
      " Layer (type)                Output Shape              Param #   \n",
      "=================================================================\n",
      " lstm (LSTM)                 (None, 1000, 64)          19712     \n",
      "                                                                 \n",
      " lstm_1 (LSTM)               (None, 64)                33024     \n",
      "                                                                 \n",
      " dense (Dense)               (None, 32)                2080      \n",
      "                                                                 \n",
      " dropout (Dropout)           (None, 32)                0         \n",
      "                                                                 \n",
      " dense_1 (Dense)             (None, 23)                759       \n",
      "                                                                 \n",
      "=================================================================\n",
      "Total params: 55,575\n",
      "Trainable params: 55,575\n",
      "Non-trainable params: 0\n"
     ]
    },
    {
     "name": "stdout",
     "output_type": "stream",
     "text": [
      "_________________________________________________________________\n"
     ]
    },
    {
     "data": {
      "image/png": "[encoded data removed]",
      "text/plain": [
       "<Figure size 432x288 with 1 Axes>"
      ]
     },
     "metadata": {
      "needs_background": "light"
     },
     "output_type": "display_data"
    }
   ],
   "source": [
    "plt.plot(lstm.history.history['accuracy'])\n",
    "plt.plot(lstm.history.history['AUC'])\n",
    "plt.plot(lstm.history.history['val_accuracy'])\n",
    "plt.plot(lstm.history.history['val_AUC'])\n",
    "plt.legend((\"accuracy\",\"auc\", \"val_accuracy\", \"val_auc\"))\n",
    "plt.xlabel('Epoch')\n",
    "plt.ylabel('Accuracy')\n",
    "\n",
    "lstm.summary()"
   ]
  },
  {
   "cell_type": "code",
   "execution_count": 14,
   "metadata": {},
   "outputs": [
    {
     "name": "stdout",
     "output_type": "stream",
     "text": [
      "68/68 [==============================] - 15s 202ms/step\n"
     ]
    },
    {
     "data": {
      "text/plain": [
       "0.8163255636167716"
      ]
     },
     "execution_count": 14,
     "metadata": {},
     "output_type": "execute_result"
    }
   ],
   "source": [
    "ann_preds_test = lstm.predict(X_test)\n",
    "\n",
    "roc_auc_score(y_test, ann_preds_test)"
   ]
  }
 ],
 "metadata": {
  "kernelspec": {
   "display_name": "Python 3",
   "language": "python",
   "name": "python3"
  },
  "language_info": {
   "codemirror_mode": {
    "name": "ipython",
    "version": 3
   },
   "file_extension": ".py",
   "mimetype": "text/x-python",
   "name": "python",
   "nbconvert_exporter": "python",
   "pygments_lexer": "ipython3",
   "version": "3.10.4"
  }
 },
 "nbformat": 4,
 "nbformat_minor": 2
}
