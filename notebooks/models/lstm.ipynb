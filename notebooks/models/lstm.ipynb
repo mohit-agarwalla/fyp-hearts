{
 "cells": [
  {
   "cell_type": "code",
   "execution_count": 1,
   "metadata": {},
   "outputs": [],
   "source": [
    "import os\n",
    "import ast\n",
    "import wfdb\n",
    "import numpy as np\n",
    "import pandas as pd\n",
    "\n",
    "os.chdir(\"../..\")\n",
    "import utils"
   ]
  },
  {
   "cell_type": "code",
   "execution_count": 2,
   "metadata": {},
   "outputs": [],
   "source": [
    "outputfolder = os.getcwd() + '/output/'\n",
    "datafolder = os.getcwd() + '/datasets/PTB-XL/'\n",
    "sampling_rate = 100\n",
    "task = 'subdiagnostic'\n",
    "experiment_name = 'exp1.1'"
   ]
  },
  {
   "cell_type": "code",
   "execution_count": 3,
   "metadata": {},
   "outputs": [],
   "source": [
    "data, raw_labels = utils.load_dataset(datafolder, sampling_rate=sampling_rate)\n",
    "labels = utils.compute_label_aggregations(raw_labels, datafolder, task)\n",
    "data, labels, Y, _ = utils.select_data(data, labels, task, 0, outputfolder+experiment_name+'/data/')"
   ]
  },
  {
   "cell_type": "code",
   "execution_count": 4,
   "metadata": {},
   "outputs": [
    {
     "name": "stdout",
     "output_type": "stream",
     "text": [
      "This experiment has 23 classes\n"
     ]
    }
   ],
   "source": [
    "X_test = data[labels.strat_fold == 10]\n",
    "y_test = Y[labels.strat_fold == 10]\n",
    "\n",
    "X_val = data[labels.strat_fold == 9]\n",
    "y_val = Y[labels.strat_fold == 9]\n",
    "\n",
    "X_train = data[labels.strat_fold <= 8]\n",
    "y_train = Y[labels.strat_fold <= 8]\n",
    "\n",
    "n_classes = y_train.shape[1]\n",
    "\n",
    "print(f\"This experiment has {n_classes} classes\")"
   ]
  },
  {
   "cell_type": "code",
   "execution_count": 5,
   "metadata": {},
   "outputs": [],
   "source": [
    "X_train_lead1 = X_train[:,:,0]\n",
    "X_test_lead1 = X_test[:,:,0]\n",
    "X_val_lead1 = X_val[:,:,0]"
   ]
  },
  {
   "cell_type": "markdown",
   "metadata": {},
   "source": [
    "# Fit LSTM"
   ]
  },
  {
   "cell_type": "code",
   "execution_count": 7,
   "metadata": {},
   "outputs": [],
   "source": [
    "import tensorflow as tf\n",
    "from tensorflow.keras.layers import Dense, GlobalAveragePooling1D, Dropout, Activation, BatchNormalization, LSTM\n",
    "from keras.models import Sequential, Model\n",
    "from keras.utils import plot_model\n",
    "import matplotlib.pyplot as plt\n",
    "from sklearn.metrics import accuracy_score, roc_auc_score"
   ]
  },
  {
   "cell_type": "code",
   "execution_count": 16,
   "metadata": {},
   "outputs": [],
   "source": [
    "lstm = Sequential()\n",
    "lstm.add(LSTM(64, input_shape=(1000,12), return_sequences=True))\n",
    "lstm.add(LSTM(64))\n",
    "lstm.add(Dense(32, activation='relu'))\n",
    "lstm.add(Dropout(0.3))\n",
    "lstm.add(Dense(n_classes, activation='sigmoid'))"
   ]
  },
  {
   "cell_type": "code",
   "execution_count": 17,
   "metadata": {},
   "outputs": [],
   "source": [
    "lstm.compile(loss=tf.keras.losses.BinaryCrossentropy(),\n",
    "             optimizer=tf.keras.optimizers.Adam(learning_rate=0.001),\n",
    "             metrics=[tf.keras.metrics.BinaryAccuracy(name='accuracy',threshold=0.5),\n",
    "                      tf.keras.metrics.Recall(name='recall'),\n",
    "                      tf.keras.metrics.AUC(num_thresholds=200,\n",
    "                                           curve=\"ROC\",\n",
    "                                           summation_method='interpolation',\n",
    "                                           name=\"AUC\",\n",
    "                                           multi_label=True,\n",
    "                                           label_weights=None)])"
   ]
  },
  {
   "cell_type": "code",
   "execution_count": 18,
   "metadata": {},
   "outputs": [
    {
     "name": "stdout",
     "output_type": "stream",
     "text": [
      "Model: \"sequential_2\"\n",
      "_________________________________________________________________\n",
      " Layer (type)                Output Shape              Param #   \n",
      "=================================================================\n",
      " lstm_3 (LSTM)               (None, 1000, 64)          19712     \n",
      "                                                                 \n",
      " lstm_4 (LSTM)               (None, 64)                33024     \n",
      "                                                                 \n",
      " dense_4 (Dense)             (None, 32)                2080      \n",
      "                                                                 \n",
      " dropout_2 (Dropout)         (None, 32)                0         \n",
      "                                                                 \n",
      " dense_5 (Dense)             (None, 23)                759       \n",
      "                                                                 \n",
      "=================================================================\n",
      "Total params: 55,575\n",
      "Trainable params: 55,575\n",
      "Non-trainable params: 0\n",
      "_________________________________________________________________\n"
     ]
    }
   ],
   "source": [
    "lstm.summary()"
   ]
  },
  {
   "cell_type": "code",
   "execution_count": 19,
   "metadata": {},
   "outputs": [
    {
     "name": "stdout",
     "output_type": "stream",
     "text": [
      "Epoch 1/10\n",
      "1709/1709 [==============================] - 1254s 731ms/step - loss: 0.2077 - accuracy: 0.9305 - recall: 0.0972 - AUC: 0.5011 - val_loss: 0.1810 - val_accuracy: 0.9388 - val_recall: 0.0000e+00 - val_AUC: 0.4983\n",
      "Epoch 2/10\n",
      "1709/1709 [==============================] - 1116s 653ms/step - loss: 0.1888 - accuracy: 0.9380 - recall: 0.0171 - AUC: 0.4928 - val_loss: 0.1807 - val_accuracy: 0.9388 - val_recall: 0.0000e+00 - val_AUC: 0.5119\n",
      "Epoch 3/10\n",
      "1709/1709 [==============================] - 1356s 793ms/step - loss: 0.1867 - accuracy: 0.9384 - recall: 0.0021 - AUC: 0.4971 - val_loss: 0.1808 - val_accuracy: 0.9388 - val_recall: 0.0000e+00 - val_AUC: 0.5006\n",
      "Epoch 4/10\n",
      "1709/1709 [==============================] - 1172s 686ms/step - loss: 0.1860 - accuracy: 0.9383 - recall: 0.0010 - AUC: 0.5034 - val_loss: 0.1804 - val_accuracy: 0.9388 - val_recall: 0.0000e+00 - val_AUC: 0.5127\n",
      "Epoch 5/10\n",
      "1709/1709 [==============================] - 1467s 858ms/step - loss: 0.1847 - accuracy: 0.9383 - recall: 0.0014 - AUC: 0.5143 - val_loss: 0.1789 - val_accuracy: 0.9388 - val_recall: 0.0000e+00 - val_AUC: 0.5815\n",
      "Epoch 6/10\n",
      "1709/1709 [==============================] - 1527s 893ms/step - loss: 0.1820 - accuracy: 0.9388 - recall: 0.0498 - AUC: 0.5401 - val_loss: 0.1692 - val_accuracy: 0.9413 - val_recall: 0.2894 - val_AUC: 0.6150\n",
      "Epoch 7/10\n",
      "1709/1709 [==============================] - 1636s 957ms/step - loss: 0.1719 - accuracy: 0.9418 - recall: 0.2233 - AUC: 0.6128 - val_loss: 0.1646 - val_accuracy: 0.9438 - val_recall: 0.2940 - val_AUC: 0.6750\n",
      "Epoch 8/10\n",
      "1709/1709 [==============================] - 1508s 882ms/step - loss: 0.1675 - accuracy: 0.9439 - recall: 0.2465 - AUC: 0.6464 - val_loss: 0.1604 - val_accuracy: 0.9460 - val_recall: 0.2510 - val_AUC: 0.6945\n",
      "Epoch 9/10\n",
      "1709/1709 [==============================] - 1412s 826ms/step - loss: 0.1635 - accuracy: 0.9454 - recall: 0.2447 - AUC: 0.6754 - val_loss: 0.1591 - val_accuracy: 0.9457 - val_recall: 0.2040 - val_AUC: 0.7110\n",
      "Epoch 10/10\n",
      "1709/1709 [==============================] - 1511s 884ms/step - loss: 0.1568 - accuracy: 0.9473 - recall: 0.2630 - AUC: 0.7042 - val_loss: 0.1508 - val_accuracy: 0.9489 - val_recall: 0.2026 - val_AUC: 0.7310\n"
     ]
    },
    {
     "data": {
      "text/plain": [
       "<keras.callbacks.History at 0x2234ebe8ee0>"
      ]
     },
     "execution_count": 19,
     "metadata": {},
     "output_type": "execute_result"
    }
   ],
   "source": [
    "batch_size = 10\n",
    "lstm.fit(X_train, y_train, batch_size=batch_size, epochs=10, validation_data=(X_val, y_val))"
   ]
  },
  {
   "cell_type": "code",
   "execution_count": 21,
   "metadata": {},
   "outputs": [
    {
     "name": "stdout",
     "output_type": "stream",
     "text": [
      "Model: \"sequential_2\"\n",
      "_________________________________________________________________\n",
      " Layer (type)                Output Shape              Param #   \n",
      "=================================================================\n",
      " lstm_3 (LSTM)               (None, 1000, 64)          19712     \n",
      "                                                                 \n",
      " lstm_4 (LSTM)               (None, 64)                33024     \n",
      "                                                                 \n",
      " dense_4 (Dense)             (None, 32)                2080      \n",
      "                                                                 \n",
      " dropout_2 (Dropout)         (None, 32)                0         \n",
      "                                                                 \n",
      " dense_5 (Dense)             (None, 23)                759       \n",
      "                                                                 \n",
      "=================================================================\n",
      "Total params: 55,575\n",
      "Trainable params: 55,575\n",
      "Non-trainable params: 0\n",
      "_________________________________________________________________\n"
     ]
    },
    {
     "data": {
      "image/png": "[encoded data removed]",
      "text/plain": [
       "<Figure size 432x288 with 1 Axes>"
      ]
     },
     "metadata": {
      "needs_background": "light"
     },
     "output_type": "display_data"
    }
   ],
   "source": [
    "plt.plot(lstm.history.history['accuracy'])\n",
    "plt.plot(lstm.history.history['AUC'])\n",
    "plt.plot(lstm.history.history['val_accuracy'])\n",
    "plt.plot(lstm.history.history['val_AUC'])\n",
    "plt.legend((\"accuracy\",\"auc\", \"val_accuracy\", \"val_auc\"))\n",
    "plt.xlabel('Epoch')\n",
    "plt.ylabel('Accuracy')\n",
    "\n",
    "lstm.summary()"
   ]
  },
  {
   "cell_type": "code",
   "execution_count": 22,
   "metadata": {},
   "outputs": [
    {
     "name": "stdout",
     "output_type": "stream",
     "text": [
      "68/68 [==============================] - 22s 306ms/step\n"
     ]
    },
    {
     "data": {
      "text/plain": [
       "0.7384914866586543"
      ]
     },
     "execution_count": 22,
     "metadata": {},
     "output_type": "execute_result"
    }
   ],
   "source": [
    "ann_preds_test = lstm.predict(X_test)\n",
    "\n",
    "roc_auc_score(y_test, ann_preds_test)"
   ]
  }
 ],
 "metadata": {
  "kernelspec": {
   "display_name": "Python 3",
   "language": "python",
   "name": "python3"
  },
  "language_info": {
   "codemirror_mode": {
    "name": "ipython",
    "version": 3
   },
   "file_extension": ".py",
   "mimetype": "text/x-python",
   "name": "python",
   "nbconvert_exporter": "python",
   "pygments_lexer": "ipython3",
   "version": "3.10.4"
  }
 },
 "nbformat": 4,
 "nbformat_minor": 2
}
