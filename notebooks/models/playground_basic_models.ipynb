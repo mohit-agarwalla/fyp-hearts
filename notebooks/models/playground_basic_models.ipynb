{
 "cells": [
  {
   "cell_type": "code",
   "execution_count": 1,
   "metadata": {},
   "outputs": [],
   "source": [
    "import os\n",
    "\n",
    "os.chdir(\"../..\")\n",
    "import utils"
   ]
  },
  {
   "cell_type": "code",
   "execution_count": 2,
   "metadata": {},
   "outputs": [],
   "source": [
    "outputfolder = os.getcwd() + '/output/'\n",
    "datafolder = os.getcwd() + '/datasets/PTB-XL/'\n",
    "sampling_rate = 100\n",
    "task = 'subdiagnostic'\n",
    "experiment_name = 'exp1.1'"
   ]
  },
  {
   "cell_type": "code",
   "execution_count": 3,
   "metadata": {},
   "outputs": [],
   "source": [
    "data, raw_labels = utils.load_dataset(datafolder, sampling_rate=sampling_rate)\n",
    "labels = utils.compute_label_aggregations(raw_labels, datafolder, task)\n",
    "data, labels, Y, _ = utils.select_data(data, labels, task, 0, outputfolder+experiment_name+'/data/')"
   ]
  },
  {
   "cell_type": "code",
   "execution_count": 4,
   "metadata": {},
   "outputs": [
    {
     "name": "stdout",
     "output_type": "stream",
     "text": [
      "This experiment has 23 classes\n"
     ]
    }
   ],
   "source": [
    "X_test = data[labels.strat_fold == 10]\n",
    "y_test = Y[labels.strat_fold == 10]\n",
    "\n",
    "X_val = data[labels.strat_fold == 9]\n",
    "y_val = Y[labels.strat_fold == 9]\n",
    "\n",
    "X_train = data[labels.strat_fold <= 8]\n",
    "y_train = Y[labels.strat_fold <= 8]\n",
    "\n",
    "n_classes = y_train.shape[1]\n",
    "\n",
    "print(f\"This experiment has {n_classes} classes\")"
   ]
  },
  {
   "cell_type": "code",
   "execution_count": 5,
   "metadata": {},
   "outputs": [],
   "source": [
    "X_train_lead1 = X_train[:,:,0]\n",
    "X_test_lead1 = X_test[:,:,0]\n",
    "X_val_lead1 = X_val[:,:,0]"
   ]
  },
  {
   "cell_type": "markdown",
   "metadata": {},
   "source": [
    "## XGBClassifier"
   ]
  },
  {
   "cell_type": "code",
   "execution_count": 6,
   "metadata": {},
   "outputs": [],
   "source": [
    "import tensorflow as tf\n",
    "from tensorflow.keras.layers import Dense,MaxPool1D, Convolution1D, Input, BatchNormalization, Flatten\n",
    "from keras.models import Sequential, Model\n",
    "from keras.utils import plot_model\n",
    "import matplotlib.pyplot as plt\n",
    "from sklearn.metrics import accuracy_score, roc_auc_score\n",
    "import os\n",
    "from tensorflow.keras.models import load_model\n",
    "from tensorflow.keras.callbacks import CSVLogger\n",
    "import pickle"
   ]
  },
  {
   "cell_type": "markdown",
   "metadata": {},
   "source": []
  },
  {
   "cell_type": "code",
   "execution_count": null,
   "metadata": {},
   "outputs": [],
   "source": []
  },
  {
   "cell_type": "code",
   "execution_count": 7,
   "metadata": {},
   "outputs": [],
   "source": [
    "import tensorflow as tf\n",
    "\n",
    "\n",
    "def batch_norm():\n",
    "    return tf.keras.layers.BatchNormalization(momentum=0.9, epsilon=1e-5)\n",
    "\n",
    "def relu():\n",
    "    return tf.keras.layers.ReLU()\n",
    "\n",
    "def dropout(dp=0):\n",
    "    return tf.keras.layers.Dropout(dp)\n",
    "\n",
    "def conv1d(filters, kernel_size=3, strides=1):\n",
    "    return tf.keras.layers.Conv1D(\n",
    "        filters, kernel_size, strides=strides, padding='same', use_bias=False,\n",
    "        kernel_initializer=tf.keras.initializers.VarianceScaling())\n",
    "\n",
    "\n",
    "class ResidualBlock(tf.keras.layers.Layer):\n",
    "    def __init__(self, filters, kernel_size=3, strides=1, dropout = 0, **kwargs):\n",
    "        super().__init__(**kwargs)\n",
    "        self.filters = filters\n",
    "        self.kernel_size = kernel_size\n",
    "        self.strides = strides\n",
    "        self.dropout = dropout\n",
    "\n",
    "    def build(self, input_shape):\n",
    "        num_chan = input_shape[-1]\n",
    "        self.conv1 = conv1d(self.filters, self.kernel_size, self.strides)\n",
    "        self.bn1 = batch_norm()\n",
    "        self.relu1 = relu()\n",
    "        self.dropout1 = dropout(self.dropout)\n",
    "        self.conv2 = conv1d(self.filters, self.kernel_size, 1)\n",
    "        self.bn2 = batch_norm()\n",
    "        self.relu2 = relu()\n",
    "        #self.dropout2 = dropout(self.dropout)\n",
    "        if num_chan != self.filters or self.strides > 1:\n",
    "            self.proj_conv = conv1d(self.filters, 1, self.strides)\n",
    "            self.proj_bn = batch_norm()\n",
    "            self.projection = True\n",
    "        else:\n",
    "            self.projection = False\n",
    "        super().build(input_shape)\n",
    "\n",
    "    def call(self, x, **kwargs):\n",
    "        shortcut = x\n",
    "        if self.projection:\n",
    "            shortcut = self.proj_conv(shortcut)\n",
    "            shortcut = self.proj_bn(shortcut)\n",
    "        x = self.conv1(x)\n",
    "        x = self.bn1(x)\n",
    "        x = self.relu1(x)\n",
    "        x = self.dropout1(x)\n",
    "        x = self.conv2(x)\n",
    "        x = self.bn2(x)\n",
    "        x = self.relu2(x + shortcut)\n",
    "        #x = self.dropout2(x + shortcut)\n",
    "        return x\n",
    "\n",
    "\n",
    "class BottleneckBlock(tf.keras.layers.Layer):\n",
    "    def __init__(self, filters, kernel_size=3, strides=1, expansion=4, **kwargs):\n",
    "        super().__init__(**kwargs)\n",
    "        self.filters = filters\n",
    "        self.kernel_size = kernel_size\n",
    "        self.strides = strides\n",
    "        self.expansion = expansion\n",
    "\n",
    "    def build(self, input_shape):\n",
    "        num_chan = input_shape[-1]\n",
    "        self.conv1 = conv1d(self.filters, 1, 1)\n",
    "        self.bn1 = batch_norm()\n",
    "        self.relu1 = relu()\n",
    "        self.conv2 = conv1d(self.filters, self.kernel_size, self.strides)\n",
    "        self.bn2 = batch_norm()\n",
    "        self.relu2 = relu()\n",
    "        self.conv3 = conv1d(self.filters * self.expansion, 1, 1)\n",
    "        self.bn3 = batch_norm()\n",
    "        self.relu3 = relu()\n",
    "        if num_chan != self.filters * self.expansion or self.strides > 1:\n",
    "            self.proj_conv = conv1d(self.filters * self.expansion, 1, self.strides)\n",
    "            self.proj_bn = batch_norm()\n",
    "            self.projection = True\n",
    "        else:\n",
    "            self.projection = False\n",
    "        super().build(input_shape)\n",
    "\n",
    "    def call(self, x, **kwargs):\n",
    "        shortcut = x\n",
    "        if self.projection:\n",
    "            shortcut = self.proj_conv(shortcut)\n",
    "            shortcut = self.proj_bn(shortcut)\n",
    "        x = self.conv1(x)\n",
    "        x = self.bn1(x)\n",
    "        x = self.relu1(x)\n",
    "        x = self.conv2(x)\n",
    "        x = self.bn2(x)\n",
    "        x = self.relu2(x)\n",
    "        x = self.conv3(x)\n",
    "        x = self.bn3(x)\n",
    "        x = self.relu3(x + shortcut)\n",
    "        return x\n",
    "\n",
    "\n",
    "class ResNet(tf.keras.layers.Layer):\n",
    "    def __init__(self, blocks=(2, 2, 2, 2),\n",
    "                 filters=(64, 128, 256, 512), kernel_size=(3, 3, 3, 3),\n",
    "                 block_fn=ResidualBlock, dropout = 0.1, **kwargs):\n",
    "        super(ResNet, self).__init__(**kwargs)\n",
    "        self.filters = filters\n",
    "        self.block_fn=block_fn\n",
    "        self.block_nums = blocks\n",
    "        self.kernel_size = kernel_size\n",
    "        self.dropout = dropout\n",
    "        self.loss = 'categorical_crossentropy'\n",
    "        self.model_name = \"resnet\"\n",
    "\n",
    "    def build(self, input_shape):\n",
    "        self.conv1 = conv1d(64, 7, 2)\n",
    "        self.bn1 = batch_norm()\n",
    "        self.relu1 = relu()\n",
    "        self.maxpool1 = tf.keras.layers.MaxPooling1D(3, 2, padding='same')\n",
    "        self.blocks = []\n",
    "        for stage, num_blocks in enumerate(self.block_nums):\n",
    "            for block in range(num_blocks):\n",
    "                strides = 2 if block == 0 and stage > 0 else 1\n",
    "                res_block = self.block_fn(self.filters[stage], self.kernel_size[stage], strides, self.dropout)\n",
    "                self.blocks.append(res_block)\n",
    "        self.global_pool = tf.keras.layers.GlobalAveragePooling1D()\n",
    "\n",
    "        super().build(input_shape)\n",
    "\n",
    "    def get_optimizer(self, lr):\n",
    "        return tf.keras.optimizers.Adam(lr=lr)\n",
    "\n",
    "    def call(self, x, **kwargs):\n",
    "        x = self.conv1(x)\n",
    "        x = self.bn1(x)\n",
    "        x = self.relu1(x)\n",
    "        x = self.maxpool1(x)\n",
    "        for res_block in self.blocks:\n",
    "            x = res_block(x)\n",
    "        x = self.global_pool(x)\n",
    "        return x\n",
    "            \n",
    "    @staticmethod\n",
    "    def get_name():\n",
    "        return 'resnet'"
   ]
  },
  {
   "cell_type": "code",
   "execution_count": null,
   "metadata": {},
   "outputs": [],
   "source": []
  },
  {
   "cell_type": "code",
   "execution_count": 8,
   "metadata": {},
   "outputs": [],
   "source": [
    "import tensorflow as tf\n",
    "import os\n",
    "import numpy as np\n",
    "\n",
    "class Classifier(tf.keras.Model):\n",
    "    def __init__(self, model, input_size, n_classes, learning_rate=0.0001, epochs=20, path=\"temp\"):\n",
    "        super(Classifier, self).__init__()\n",
    "        self.num_classes = n_classes\n",
    "        self.learning_rate=learning_rate\n",
    "        self.input_size = input_size\n",
    "        self.model = model#tf.keras.Model(inputs=inputs, outputs=model.call(inputs))\n",
    "        out_act = 'sigmoid' if n_classes == 1 else 'softmax' # change this for multi-label\n",
    "        self.classifier = tf.keras.layers.Dense(n_classes if n_classes>2 else 1, out_act)\n",
    "        #os.environ[\"CUDA_VISIBLE_DEVICES\"]=\"1\" # second gpu\n",
    "        self.epochs = epochs\n",
    "        self.path = path\n",
    "        \n",
    "\n",
    "    def add_compile(self):\n",
    "        self.compile(optimizer=self.model.get_optimizer(self.learning_rate),\n",
    "        loss=self.model.loss,\n",
    "        metrics=['acc', tf.keras.metrics.AUC(multi_label=True)])\n",
    "\n",
    "    def summary(self):\n",
    "        input_layer = tf.keras.layers.Input(shape=(self.input_size,1,), dtype='float32')\n",
    "        model = tf.keras.Model(inputs=input_layer, outputs=self.call(input_layer))\n",
    "        return model.summary()\n",
    "\n",
    "\n",
    "    def call(self, x, **kwargs):\n",
    "        print(x.shape)\n",
    "        x = self.model(x)\n",
    "        x = self.classifier(x)\n",
    "        return x\n",
    "    \n",
    "    def fit(self, x, y, validation_data):\n",
    "\n",
    "        es = tf.keras.callbacks.EarlyStopping(monitor='val_loss', patience=15, restore_best_weights=True)\n",
    "\n",
    "        # x, y = self.transform.process(X=x,labels=y)\n",
    "\n",
    "        X_val, y_val = validation_data[0], validation_data[1]\n",
    "        #log_f1 = F1Metric(train=(x, y), validation=(X_val, y_val), path=self.path+os.sep+\"models\")\n",
    "        #log_auc = AUCMetric(train=(x, y), validation=(X_val, y_val), path=self.path+os.sep+\"models\")\n",
    "\n",
    "        super(Classifier, self).fit(x, y, validation_data = (X_val, y_val), callbacks = [es], epochs = self.epochs, batch_size=128)\n",
    "        return self"
   ]
  },
  {
   "cell_type": "code",
   "execution_count": 14,
   "metadata": {},
   "outputs": [
    {
     "name": "stderr",
     "output_type": "stream",
     "text": [
      "WARNING:absl:`lr` is deprecated in Keras optimizer, please use `learning_rate` or use the legacy optimizer, e.g.,tf.keras.optimizers.legacy.Adam.\n"
     ]
    }
   ],
   "source": [
    "model = ResNet()\n",
    "model.build(input_shape=1000)\n",
    "model = Classifier(model=model, input_size=1000, n_classes=23)\n",
    "model.add_compile()"
   ]
  },
  {
   "cell_type": "code",
   "execution_count": 16,
   "metadata": {},
   "outputs": [
    {
     "name": "stdout",
     "output_type": "stream",
     "text": [
      "(None, 1000, 1)\n",
      "Model: \"model_1\"\n",
      "_________________________________________________________________\n",
      " Layer (type)                Output Shape              Param #   \n",
      "=================================================================\n",
      " input_2 (InputLayer)        [(None, 1000, 1)]         0         \n",
      "                                                                 \n",
      " res_net_2 (ResNet)          (None, 512)               3853504   \n",
      "                                                                 \n",
      " dense_2 (Dense)             (None, 23)                11799     \n",
      "                                                                 \n",
      "=================================================================\n",
      "Total params: 3,865,303\n",
      "Trainable params: 3,855,703\n",
      "Non-trainable params: 9,600\n",
      "_________________________________________________________________\n"
     ]
    }
   ],
   "source": [
    "model.summary()"
   ]
  },
  {
   "cell_type": "code",
   "execution_count": 15,
   "metadata": {},
   "outputs": [
    {
     "name": "stdout",
     "output_type": "stream",
     "text": [
      "Epoch 1/20\n",
      "(None, 1000)\n"
     ]
    },
    {
     "ename": "ValueError",
     "evalue": "in user code:\n\n    File \"c:\\Users\\agarw\\AppData\\Local\\Programs\\Python\\Python310\\lib\\site-packages\\keras\\engine\\training.py\", line 1284, in train_function  *\n        return step_function(self, iterator)\n    File \"c:\\Users\\agarw\\AppData\\Local\\Programs\\Python\\Python310\\lib\\site-packages\\keras\\engine\\training.py\", line 1268, in step_function  **\n        outputs = model.distribute_strategy.run(run_step, args=(data,))\n    File \"c:\\Users\\agarw\\AppData\\Local\\Programs\\Python\\Python310\\lib\\site-packages\\keras\\engine\\training.py\", line 1249, in run_step  **\n        outputs = model.train_step(data)\n    File \"c:\\Users\\agarw\\AppData\\Local\\Programs\\Python\\Python310\\lib\\site-packages\\keras\\engine\\training.py\", line 1050, in train_step\n        y_pred = self(x, training=True)\n    File \"c:\\Users\\agarw\\AppData\\Local\\Programs\\Python\\Python310\\lib\\site-packages\\keras\\utils\\traceback_utils.py\", line 70, in error_handler\n        raise e.with_traceback(filtered_tb) from None\n    File \"C:\\Users\\agarw\\AppData\\Local\\Temp\\__autograph_generated_file7egstzwl.py\", line 11, in tf__call\n        x = ag__.converted_call(ag__.ld(self).model, (ag__.ld(x),), None, fscope)\n    File \"C:\\Users\\agarw\\AppData\\Local\\Temp\\__autograph_generated_fileltpcc4s2.py\", line 10, in tf__call\n        x = ag__.converted_call(ag__.ld(self).conv1, (ag__.ld(x),), None, fscope)\n\n    ValueError: Exception encountered when calling layer 'classifier_2' (type Classifier).\n    \n    in user code:\n    \n        File \"C:\\Users\\agarw\\AppData\\Local\\Temp\\ipykernel_15556\\376786508.py\", line 32, in call  *\n            x = self.model(x)\n        File \"c:\\Users\\agarw\\AppData\\Local\\Programs\\Python\\Python310\\lib\\site-packages\\keras\\utils\\traceback_utils.py\", line 70, in error_handler  **\n            raise e.with_traceback(filtered_tb) from None\n        File \"C:\\Users\\agarw\\AppData\\Local\\Temp\\__autograph_generated_fileltpcc4s2.py\", line 10, in tf__call\n            x = ag__.converted_call(ag__.ld(self).conv1, (ag__.ld(x),), None, fscope)\n    \n        ValueError: Exception encountered when calling layer 'res_net_2' (type ResNet).\n        \n        in user code:\n        \n            File \"C:\\Users\\agarw\\AppData\\Local\\Temp\\ipykernel_15556\\3148261874.py\", line 138, in call  *\n                x = self.conv1(x)\n            File \"c:\\Users\\agarw\\AppData\\Local\\Programs\\Python\\Python310\\lib\\site-packages\\keras\\utils\\traceback_utils.py\", line 70, in error_handler  **\n                raise e.with_traceback(filtered_tb) from None\n            File \"c:\\Users\\agarw\\AppData\\Local\\Programs\\Python\\Python310\\lib\\site-packages\\keras\\engine\\input_spec.py\", line 253, in assert_input_compatibility\n                raise ValueError(\n        \n            ValueError: Input 0 of layer \"conv1d_2\" is incompatible with the layer: expected min_ndim=3, found ndim=2. Full shape received: (None, 1000)\n        \n        \n        Call arguments received by layer 'res_net_2' (type ResNet):\n          • x=tf.Tensor(shape=(None, 1000), dtype=float32)\n          • kwargs={'training': 'True'}\n    \n    \n    Call arguments received by layer 'classifier_2' (type Classifier):\n      • x=tf.Tensor(shape=(None, 1000), dtype=float32)\n      • kwargs={'training': 'True'}\n",
     "output_type": "error",
     "traceback": [
      "\u001b[1;31m---------------------------------------------------------------------------\u001b[0m",
      "\u001b[1;31mValueError\u001b[0m                                Traceback (most recent call last)",
      "Input \u001b[1;32mIn [15]\u001b[0m, in \u001b[0;36m<cell line: 1>\u001b[1;34m()\u001b[0m\n\u001b[1;32m----> 1\u001b[0m \u001b[43mmodel\u001b[49m\u001b[38;5;241;43m.\u001b[39;49m\u001b[43mfit\u001b[49m\u001b[43m(\u001b[49m\u001b[43mX_train_lead1\u001b[49m\u001b[43m,\u001b[49m\u001b[43m \u001b[49m\u001b[43my_train\u001b[49m\u001b[43m,\u001b[49m\u001b[43m \u001b[49m\u001b[43mvalidation_data\u001b[49m\u001b[38;5;241;43m=\u001b[39;49m\u001b[43m(\u001b[49m\u001b[43mX_val_lead1\u001b[49m\u001b[43m,\u001b[49m\u001b[43m \u001b[49m\u001b[43my_val\u001b[49m\u001b[43m)\u001b[49m\u001b[43m)\u001b[49m\n",
      "Input \u001b[1;32mIn [8]\u001b[0m, in \u001b[0;36mClassifier.fit\u001b[1;34m(self, x, y, validation_data)\u001b[0m\n\u001b[0;32m     42\u001b[0m X_val, y_val \u001b[38;5;241m=\u001b[39m validation_data[\u001b[38;5;241m0\u001b[39m], validation_data[\u001b[38;5;241m1\u001b[39m]\n\u001b[0;32m     43\u001b[0m \u001b[38;5;66;03m#log_f1 = F1Metric(train=(x, y), validation=(X_val, y_val), path=self.path+os.sep+\"models\")\u001b[39;00m\n\u001b[0;32m     44\u001b[0m \u001b[38;5;66;03m#log_auc = AUCMetric(train=(x, y), validation=(X_val, y_val), path=self.path+os.sep+\"models\")\u001b[39;00m\n\u001b[1;32m---> 46\u001b[0m \u001b[38;5;28;43msuper\u001b[39;49m\u001b[43m(\u001b[49m\u001b[43mClassifier\u001b[49m\u001b[43m,\u001b[49m\u001b[43m \u001b[49m\u001b[38;5;28;43mself\u001b[39;49m\u001b[43m)\u001b[49m\u001b[38;5;241;43m.\u001b[39;49m\u001b[43mfit\u001b[49m\u001b[43m(\u001b[49m\u001b[43mx\u001b[49m\u001b[43m,\u001b[49m\u001b[43m \u001b[49m\u001b[43my\u001b[49m\u001b[43m,\u001b[49m\u001b[43m \u001b[49m\u001b[43mvalidation_data\u001b[49m\u001b[43m \u001b[49m\u001b[38;5;241;43m=\u001b[39;49m\u001b[43m \u001b[49m\u001b[43m(\u001b[49m\u001b[43mX_val\u001b[49m\u001b[43m,\u001b[49m\u001b[43m \u001b[49m\u001b[43my_val\u001b[49m\u001b[43m)\u001b[49m\u001b[43m,\u001b[49m\u001b[43m \u001b[49m\u001b[43mcallbacks\u001b[49m\u001b[43m \u001b[49m\u001b[38;5;241;43m=\u001b[39;49m\u001b[43m \u001b[49m\u001b[43m[\u001b[49m\u001b[43mes\u001b[49m\u001b[43m]\u001b[49m\u001b[43m,\u001b[49m\u001b[43m \u001b[49m\u001b[43mepochs\u001b[49m\u001b[43m \u001b[49m\u001b[38;5;241;43m=\u001b[39;49m\u001b[43m \u001b[49m\u001b[38;5;28;43mself\u001b[39;49m\u001b[38;5;241;43m.\u001b[39;49m\u001b[43mepochs\u001b[49m\u001b[43m,\u001b[49m\u001b[43m \u001b[49m\u001b[43mbatch_size\u001b[49m\u001b[38;5;241;43m=\u001b[39;49m\u001b[38;5;241;43m128\u001b[39;49m\u001b[43m)\u001b[49m\n\u001b[0;32m     47\u001b[0m \u001b[38;5;28;01mreturn\u001b[39;00m \u001b[38;5;28mself\u001b[39m\n",
      "File \u001b[1;32mc:\\Users\\agarw\\AppData\\Local\\Programs\\Python\\Python310\\lib\\site-packages\\keras\\utils\\traceback_utils.py:70\u001b[0m, in \u001b[0;36mfilter_traceback.<locals>.error_handler\u001b[1;34m(*args, **kwargs)\u001b[0m\n\u001b[0;32m     67\u001b[0m     filtered_tb \u001b[38;5;241m=\u001b[39m _process_traceback_frames(e\u001b[38;5;241m.\u001b[39m__traceback__)\n\u001b[0;32m     68\u001b[0m     \u001b[38;5;66;03m# To get the full stack trace, call:\u001b[39;00m\n\u001b[0;32m     69\u001b[0m     \u001b[38;5;66;03m# `tf.debugging.disable_traceback_filtering()`\u001b[39;00m\n\u001b[1;32m---> 70\u001b[0m     \u001b[38;5;28;01mraise\u001b[39;00m e\u001b[38;5;241m.\u001b[39mwith_traceback(filtered_tb) \u001b[38;5;28;01mfrom\u001b[39;00m \u001b[38;5;28mNone\u001b[39m\n\u001b[0;32m     71\u001b[0m \u001b[38;5;28;01mfinally\u001b[39;00m:\n\u001b[0;32m     72\u001b[0m     \u001b[38;5;28;01mdel\u001b[39;00m filtered_tb\n",
      "File \u001b[1;32m~\\AppData\\Local\\Temp\\__autograph_generated_fileqki0r4b7.py:15\u001b[0m, in \u001b[0;36mouter_factory.<locals>.inner_factory.<locals>.tf__train_function\u001b[1;34m(iterator)\u001b[0m\n\u001b[0;32m     13\u001b[0m \u001b[38;5;28;01mtry\u001b[39;00m:\n\u001b[0;32m     14\u001b[0m     do_return \u001b[38;5;241m=\u001b[39m \u001b[38;5;28;01mTrue\u001b[39;00m\n\u001b[1;32m---> 15\u001b[0m     retval_ \u001b[38;5;241m=\u001b[39m ag__\u001b[38;5;241m.\u001b[39mconverted_call(ag__\u001b[38;5;241m.\u001b[39mld(step_function), (ag__\u001b[38;5;241m.\u001b[39mld(\u001b[38;5;28mself\u001b[39m), ag__\u001b[38;5;241m.\u001b[39mld(iterator)), \u001b[38;5;28;01mNone\u001b[39;00m, fscope)\n\u001b[0;32m     16\u001b[0m \u001b[38;5;28;01mexcept\u001b[39;00m:\n\u001b[0;32m     17\u001b[0m     do_return \u001b[38;5;241m=\u001b[39m \u001b[38;5;28;01mFalse\u001b[39;00m\n",
      "File \u001b[1;32m~\\AppData\\Local\\Temp\\__autograph_generated_file7egstzwl.py:11\u001b[0m, in \u001b[0;36mouter_factory.<locals>.inner_factory.<locals>.tf__call\u001b[1;34m(self, x, **kwargs)\u001b[0m\n\u001b[0;32m      9\u001b[0m retval_ \u001b[38;5;241m=\u001b[39m ag__\u001b[38;5;241m.\u001b[39mUndefinedReturnValue()\n\u001b[0;32m     10\u001b[0m ag__\u001b[38;5;241m.\u001b[39mld(\u001b[38;5;28mprint\u001b[39m)(ag__\u001b[38;5;241m.\u001b[39mld(x)\u001b[38;5;241m.\u001b[39mshape)\n\u001b[1;32m---> 11\u001b[0m x \u001b[38;5;241m=\u001b[39m \u001b[43mag__\u001b[49m\u001b[38;5;241;43m.\u001b[39;49m\u001b[43mconverted_call\u001b[49m\u001b[43m(\u001b[49m\u001b[43mag__\u001b[49m\u001b[38;5;241;43m.\u001b[39;49m\u001b[43mld\u001b[49m\u001b[43m(\u001b[49m\u001b[38;5;28;43mself\u001b[39;49m\u001b[43m)\u001b[49m\u001b[38;5;241;43m.\u001b[39;49m\u001b[43mmodel\u001b[49m\u001b[43m,\u001b[49m\u001b[43m \u001b[49m\u001b[43m(\u001b[49m\u001b[43mag__\u001b[49m\u001b[38;5;241;43m.\u001b[39;49m\u001b[43mld\u001b[49m\u001b[43m(\u001b[49m\u001b[43mx\u001b[49m\u001b[43m)\u001b[49m\u001b[43m,\u001b[49m\u001b[43m)\u001b[49m\u001b[43m,\u001b[49m\u001b[43m \u001b[49m\u001b[38;5;28;43;01mNone\u001b[39;49;00m\u001b[43m,\u001b[49m\u001b[43m \u001b[49m\u001b[43mfscope\u001b[49m\u001b[43m)\u001b[49m\n\u001b[0;32m     12\u001b[0m x \u001b[38;5;241m=\u001b[39m ag__\u001b[38;5;241m.\u001b[39mconverted_call(ag__\u001b[38;5;241m.\u001b[39mld(\u001b[38;5;28mself\u001b[39m)\u001b[38;5;241m.\u001b[39mclassifier, (ag__\u001b[38;5;241m.\u001b[39mld(x),), \u001b[38;5;28;01mNone\u001b[39;00m, fscope)\n\u001b[0;32m     13\u001b[0m \u001b[38;5;28;01mtry\u001b[39;00m:\n",
      "File \u001b[1;32m~\\AppData\\Local\\Temp\\__autograph_generated_fileltpcc4s2.py:10\u001b[0m, in \u001b[0;36mouter_factory.<locals>.inner_factory.<locals>.tf__call\u001b[1;34m(self, x, **kwargs)\u001b[0m\n\u001b[0;32m      8\u001b[0m do_return \u001b[38;5;241m=\u001b[39m \u001b[38;5;28;01mFalse\u001b[39;00m\n\u001b[0;32m      9\u001b[0m retval_ \u001b[38;5;241m=\u001b[39m ag__\u001b[38;5;241m.\u001b[39mUndefinedReturnValue()\n\u001b[1;32m---> 10\u001b[0m x \u001b[38;5;241m=\u001b[39m \u001b[43mag__\u001b[49m\u001b[38;5;241;43m.\u001b[39;49m\u001b[43mconverted_call\u001b[49m\u001b[43m(\u001b[49m\u001b[43mag__\u001b[49m\u001b[38;5;241;43m.\u001b[39;49m\u001b[43mld\u001b[49m\u001b[43m(\u001b[49m\u001b[38;5;28;43mself\u001b[39;49m\u001b[43m)\u001b[49m\u001b[38;5;241;43m.\u001b[39;49m\u001b[43mconv1\u001b[49m\u001b[43m,\u001b[49m\u001b[43m \u001b[49m\u001b[43m(\u001b[49m\u001b[43mag__\u001b[49m\u001b[38;5;241;43m.\u001b[39;49m\u001b[43mld\u001b[49m\u001b[43m(\u001b[49m\u001b[43mx\u001b[49m\u001b[43m)\u001b[49m\u001b[43m,\u001b[49m\u001b[43m)\u001b[49m\u001b[43m,\u001b[49m\u001b[43m \u001b[49m\u001b[38;5;28;43;01mNone\u001b[39;49;00m\u001b[43m,\u001b[49m\u001b[43m \u001b[49m\u001b[43mfscope\u001b[49m\u001b[43m)\u001b[49m\n\u001b[0;32m     11\u001b[0m x \u001b[38;5;241m=\u001b[39m ag__\u001b[38;5;241m.\u001b[39mconverted_call(ag__\u001b[38;5;241m.\u001b[39mld(\u001b[38;5;28mself\u001b[39m)\u001b[38;5;241m.\u001b[39mbn1, (ag__\u001b[38;5;241m.\u001b[39mld(x),), \u001b[38;5;28;01mNone\u001b[39;00m, fscope)\n\u001b[0;32m     12\u001b[0m x \u001b[38;5;241m=\u001b[39m ag__\u001b[38;5;241m.\u001b[39mconverted_call(ag__\u001b[38;5;241m.\u001b[39mld(\u001b[38;5;28mself\u001b[39m)\u001b[38;5;241m.\u001b[39mrelu1, (ag__\u001b[38;5;241m.\u001b[39mld(x),), \u001b[38;5;28;01mNone\u001b[39;00m, fscope)\n",
      "\u001b[1;31mValueError\u001b[0m: in user code:\n\n    File \"c:\\Users\\agarw\\AppData\\Local\\Programs\\Python\\Python310\\lib\\site-packages\\keras\\engine\\training.py\", line 1284, in train_function  *\n        return step_function(self, iterator)\n    File \"c:\\Users\\agarw\\AppData\\Local\\Programs\\Python\\Python310\\lib\\site-packages\\keras\\engine\\training.py\", line 1268, in step_function  **\n        outputs = model.distribute_strategy.run(run_step, args=(data,))\n    File \"c:\\Users\\agarw\\AppData\\Local\\Programs\\Python\\Python310\\lib\\site-packages\\keras\\engine\\training.py\", line 1249, in run_step  **\n        outputs = model.train_step(data)\n    File \"c:\\Users\\agarw\\AppData\\Local\\Programs\\Python\\Python310\\lib\\site-packages\\keras\\engine\\training.py\", line 1050, in train_step\n        y_pred = self(x, training=True)\n    File \"c:\\Users\\agarw\\AppData\\Local\\Programs\\Python\\Python310\\lib\\site-packages\\keras\\utils\\traceback_utils.py\", line 70, in error_handler\n        raise e.with_traceback(filtered_tb) from None\n    File \"C:\\Users\\agarw\\AppData\\Local\\Temp\\__autograph_generated_file7egstzwl.py\", line 11, in tf__call\n        x = ag__.converted_call(ag__.ld(self).model, (ag__.ld(x),), None, fscope)\n    File \"C:\\Users\\agarw\\AppData\\Local\\Temp\\__autograph_generated_fileltpcc4s2.py\", line 10, in tf__call\n        x = ag__.converted_call(ag__.ld(self).conv1, (ag__.ld(x),), None, fscope)\n\n    ValueError: Exception encountered when calling layer 'classifier_2' (type Classifier).\n    \n    in user code:\n    \n        File \"C:\\Users\\agarw\\AppData\\Local\\Temp\\ipykernel_15556\\376786508.py\", line 32, in call  *\n            x = self.model(x)\n        File \"c:\\Users\\agarw\\AppData\\Local\\Programs\\Python\\Python310\\lib\\site-packages\\keras\\utils\\traceback_utils.py\", line 70, in error_handler  **\n            raise e.with_traceback(filtered_tb) from None\n        File \"C:\\Users\\agarw\\AppData\\Local\\Temp\\__autograph_generated_fileltpcc4s2.py\", line 10, in tf__call\n            x = ag__.converted_call(ag__.ld(self).conv1, (ag__.ld(x),), None, fscope)\n    \n        ValueError: Exception encountered when calling layer 'res_net_2' (type ResNet).\n        \n        in user code:\n        \n            File \"C:\\Users\\agarw\\AppData\\Local\\Temp\\ipykernel_15556\\3148261874.py\", line 138, in call  *\n                x = self.conv1(x)\n            File \"c:\\Users\\agarw\\AppData\\Local\\Programs\\Python\\Python310\\lib\\site-packages\\keras\\utils\\traceback_utils.py\", line 70, in error_handler  **\n                raise e.with_traceback(filtered_tb) from None\n            File \"c:\\Users\\agarw\\AppData\\Local\\Programs\\Python\\Python310\\lib\\site-packages\\keras\\engine\\input_spec.py\", line 253, in assert_input_compatibility\n                raise ValueError(\n        \n            ValueError: Input 0 of layer \"conv1d_2\" is incompatible with the layer: expected min_ndim=3, found ndim=2. Full shape received: (None, 1000)\n        \n        \n        Call arguments received by layer 'res_net_2' (type ResNet):\n          • x=tf.Tensor(shape=(None, 1000), dtype=float32)\n          • kwargs={'training': 'True'}\n    \n    \n    Call arguments received by layer 'classifier_2' (type Classifier):\n      • x=tf.Tensor(shape=(None, 1000), dtype=float32)\n      • kwargs={'training': 'True'}\n"
     ]
    }
   ],
   "source": [
    "model.fit(X_train_lead1, y_train, validation_data=(X_val_lead1, y_val))"
   ]
  },
  {
   "cell_type": "code",
   "execution_count": 13,
   "metadata": {},
   "outputs": [
    {
     "name": "stdout",
     "output_type": "stream",
     "text": [
      "(None, 1000, 1)\n",
      "Model: \"model\"\n",
      "_________________________________________________________________\n",
      " Layer (type)                Output Shape              Param #   \n",
      "=================================================================\n",
      " input_1 (InputLayer)        [(None, 1000, 1)]         0         \n",
      "                                                                 \n",
      " res_net_1 (ResNet)          (None, 512)               3853504   \n",
      "                                                                 \n",
      " dense_1 (Dense)             (None, 23)                11799     \n",
      "                                                                 \n",
      "=================================================================\n",
      "Total params: 3,865,303\n",
      "Trainable params: 3,855,703\n",
      "Non-trainable params: 9,600\n",
      "_________________________________________________________________\n"
     ]
    }
   ],
   "source": [
    "model.summary()"
   ]
  }
 ],
 "metadata": {
  "kernelspec": {
   "display_name": "Python 3",
   "language": "python",
   "name": "python3"
  },
  "language_info": {
   "codemirror_mode": {
    "name": "ipython",
    "version": 3
   },
   "file_extension": ".py",
   "mimetype": "text/x-python",
   "name": "python",
   "nbconvert_exporter": "python",
   "pygments_lexer": "ipython3",
   "version": "3.10.4"
  }
 },
 "nbformat": 4,
 "nbformat_minor": 2
}
