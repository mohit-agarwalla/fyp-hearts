{
 "cells": [
  {
   "cell_type": "code",
   "execution_count": 1,
   "metadata": {},
   "outputs": [],
   "source": [
    "import tensorflow as tf\n",
    "from tensorflow.keras.layers import LSTM, GRU, TimeDistributed, Bidirectional, LeakyReLU\n",
    "from tensorflow.keras.layers import Dense, Dropout, Activation, Flatten,  Input, Reshape\n",
    "from tensorflow.keras.layers import Conv1D, MaxPool1D, GlobalAveragePooling1D,MaxPool1D,AveragePooling1D\n",
    "from tensorflow.keras import initializers, regularizers, constraints\n",
    "from tensorflow.keras.layers import Layer\n",
    "import numpy as np\n",
    "from tensorflow.keras.layers import BatchNormalization, ReLU, MaxPooling1D, LSTM\n",
    "from tensorflow.keras import regularizers\n",
    "from tensorflow.keras import backend as K\n",
    "\n",
    "from tensorflow.keras.models import Model, Sequential\n"
   ]
  },
  {
   "cell_type": "code",
   "execution_count": 3,
   "metadata": {},
   "outputs": [],
   "source": [
    "lenet_5_model=Sequential()\n",
    "lenet_5_model.add(Conv1D(filters=6, kernel_size=3, padding='same', input_shape=(1000,1)))\n",
    "lenet_5_model.add(BatchNormalization())\n",
    "lenet_5_model.add(Activation('relu'))\n",
    "lenet_5_model.add(MaxPool1D(pool_size=2, strides=2, padding='same'))\n",
    "lenet_5_model.add(Conv1D(filters=16, strides=1, kernel_size=5))\n",
    "lenet_5_model.add(BatchNormalization())\n",
    "lenet_5_model.add(Activation('relu'))\n",
    "lenet_5_model.add(MaxPool1D(pool_size=2, strides=2, padding='same'))\n",
    "lenet_5_model.add(GlobalAveragePooling1D())\n",
    "lenet_5_model.add(Dense(64, activation='relu'))\n",
    "lenet_5_model.add(Dense(32, activation='relu'))\n",
    "lenet_5_model.add(Dense(43, activation = 'sigmoid'))"
   ]
  },
  {
   "cell_type": "code",
   "execution_count": 5,
   "metadata": {},
   "outputs": [],
   "source": [
    "lenet_5_model.compile(loss=tf.keras.losses.BinaryCrossentropy(),\n",
    "            optimizer=tf.keras.optimizers.Adam(learning_rate=0.01),\n",
    "            metrics=[tf.keras.metrics.AUC(num_thresholds=1000000, multi_label=False)]\n",
    "        )"
   ]
  },
  {
   "cell_type": "code",
   "execution_count": 6,
   "metadata": {},
   "outputs": [
    {
     "name": "stdout",
     "output_type": "stream",
     "text": [
      "Model: \"sequential\"\n",
      "_________________________________________________________________\n",
      " Layer (type)                Output Shape              Param #   \n",
      "=================================================================\n",
      " conv1d (Conv1D)             (None, 1000, 6)           24        \n",
      "                                                                 \n",
      " batch_normalization (BatchN  (None, 1000, 6)          24        \n",
      " ormalization)                                                   \n",
      "                                                                 \n",
      " activation (Activation)     (None, 1000, 6)           0         \n",
      "                                                                 \n",
      " max_pooling1d (MaxPooling1D  (None, 500, 6)           0         \n",
      " )                                                               \n",
      "                                                                 \n",
      " conv1d_1 (Conv1D)           (None, 496, 16)           496       \n",
      "                                                                 \n",
      " batch_normalization_1 (Batc  (None, 496, 16)          64        \n",
      " hNormalization)                                                 \n",
      "                                                                 \n",
      " activation_1 (Activation)   (None, 496, 16)           0         \n",
      "                                                                 \n",
      " max_pooling1d_1 (MaxPooling  (None, 248, 16)          0         \n",
      " 1D)                                                             \n",
      "                                                                 \n",
      " global_average_pooling1d (G  (None, 16)               0         \n",
      " lobalAveragePooling1D)                                          \n",
      "                                                                 \n",
      " dense (Dense)               (None, 64)                1088      \n",
      "                                                                 \n",
      " dense_1 (Dense)             (None, 32)                2080      \n",
      "                                                                 \n",
      " dense_2 (Dense)             (None, 43)                1419      \n",
      "                                                                 \n",
      "=================================================================\n",
      "Total params: 5,195\n",
      "Trainable params: 5,151\n",
      "Non-trainable params: 44\n",
      "_________________________________________________________________\n"
     ]
    }
   ],
   "source": [
    "lenet_5_model.summary()"
   ]
  },
  {
   "cell_type": "code",
   "execution_count": 7,
   "metadata": {},
   "outputs": [],
   "source": [
    "from tensorflow.keras.models import load_model"
   ]
  },
  {
   "cell_type": "code",
   "execution_count": 9,
   "metadata": {},
   "outputs": [],
   "source": [
    "filename = r\"C:\\Mohit\\Imperial\\fyp-hearts\\output\\exp4\\models\\ResNet+Baseline+lead1\\best_loss_model.h5\"\n",
    "\n",
    "model = load_model(filename)"
   ]
  },
  {
   "cell_type": "code",
   "execution_count": 10,
   "metadata": {},
   "outputs": [
    {
     "name": "stdout",
     "output_type": "stream",
     "text": [
      "Model: \"model\"\n",
      "__________________________________________________________________________________________________\n",
      " Layer (type)                   Output Shape         Param #     Connected to                     \n",
      "==================================================================================================\n",
      " input_1 (InputLayer)           [(None, 1000, 1)]    0           []                               \n",
      "                                                                                                  \n",
      " conv1d (Conv1D)                (None, 500, 64)      512         ['input_1[0][0]']                \n",
      "                                                                                                  \n",
      " batch_normalization (BatchNorm  (None, 500, 64)     256         ['conv1d[0][0]']                 \n",
      " alization)                                                                                       \n",
      "                                                                                                  \n",
      " activation (Activation)        (None, 500, 64)      0           ['batch_normalization[0][0]']    \n",
      "                                                                                                  \n",
      " conv1d_1 (Conv1D)              (None, 500, 64)      12352       ['activation[0][0]']             \n",
      "                                                                                                  \n",
      " batch_normalization_1 (BatchNo  (None, 500, 64)     256         ['conv1d_1[0][0]']               \n",
      " rmalization)                                                                                     \n",
      "                                                                                                  \n",
      " activation_1 (Activation)      (None, 500, 64)      0           ['batch_normalization_1[0][0]']  \n",
      "                                                                                                  \n",
      " conv1d_2 (Conv1D)              (None, 500, 64)      12352       ['activation_1[0][0]']           \n",
      "                                                                                                  \n",
      " batch_normalization_2 (BatchNo  (None, 500, 64)     256         ['conv1d_2[0][0]']               \n",
      " rmalization)                                                                                     \n",
      "                                                                                                  \n",
      " add (Add)                      (None, 500, 64)      0           ['activation[0][0]',             \n",
      "                                                                  'batch_normalization_2[0][0]']  \n",
      "                                                                                                  \n",
      " activation_2 (Activation)      (None, 500, 64)      0           ['add[0][0]']                    \n",
      "                                                                                                  \n",
      " conv1d_3 (Conv1D)              (None, 500, 64)      12352       ['activation_2[0][0]']           \n",
      "                                                                                                  \n",
      " batch_normalization_3 (BatchNo  (None, 500, 64)     256         ['conv1d_3[0][0]']               \n",
      " rmalization)                                                                                     \n",
      "                                                                                                  \n",
      " activation_3 (Activation)      (None, 500, 64)      0           ['batch_normalization_3[0][0]']  \n",
      "                                                                                                  \n",
      " conv1d_4 (Conv1D)              (None, 500, 64)      12352       ['activation_3[0][0]']           \n",
      "                                                                                                  \n",
      " batch_normalization_4 (BatchNo  (None, 500, 64)     256         ['conv1d_4[0][0]']               \n",
      " rmalization)                                                                                     \n",
      "                                                                                                  \n",
      " add_1 (Add)                    (None, 500, 64)      0           ['activation_2[0][0]',           \n",
      "                                                                  'batch_normalization_4[0][0]']  \n",
      "                                                                                                  \n",
      " activation_4 (Activation)      (None, 500, 64)      0           ['add_1[0][0]']                  \n",
      "                                                                                                  \n",
      " conv1d_5 (Conv1D)              (None, 500, 64)      12352       ['activation_4[0][0]']           \n",
      "                                                                                                  \n",
      " batch_normalization_5 (BatchNo  (None, 500, 64)     256         ['conv1d_5[0][0]']               \n",
      " rmalization)                                                                                     \n",
      "                                                                                                  \n",
      " activation_5 (Activation)      (None, 500, 64)      0           ['batch_normalization_5[0][0]']  \n",
      "                                                                                                  \n",
      " conv1d_6 (Conv1D)              (None, 500, 64)      12352       ['activation_5[0][0]']           \n",
      "                                                                                                  \n",
      " batch_normalization_6 (BatchNo  (None, 500, 64)     256         ['conv1d_6[0][0]']               \n",
      " rmalization)                                                                                     \n",
      "                                                                                                  \n",
      " add_2 (Add)                    (None, 500, 64)      0           ['activation_4[0][0]',           \n",
      "                                                                  'batch_normalization_6[0][0]']  \n",
      "                                                                                                  \n",
      " activation_6 (Activation)      (None, 500, 64)      0           ['add_2[0][0]']                  \n",
      "                                                                                                  \n",
      " global_average_pooling1d_2 (Gl  (None, 64)          0           ['activation_6[0][0]']           \n",
      " obalAveragePooling1D)                                                                            \n",
      "                                                                                                  \n",
      " dense_10 (Dense)               (None, 43)           2795        ['global_average_pooling1d_2[0][0\n",
      "                                                                 ]']                              \n",
      "                                                                                                  \n",
      "==================================================================================================\n",
      "Total params: 79,211\n",
      "Trainable params: 78,315\n",
      "Non-trainable params: 896\n",
      "__________________________________________________________________________________________________\n"
     ]
    }
   ],
   "source": [
    "model.summary()"
   ]
  },
  {
   "cell_type": "code",
   "execution_count": 11,
   "metadata": {},
   "outputs": [
    {
     "data": {
      "text/plain": [
       "'c:\\\\Mohit\\\\Imperial\\\\fyp-hearts\\\\notebooks\\\\models'"
      ]
     },
     "execution_count": 11,
     "metadata": {},
     "output_type": "execute_result"
    }
   ],
   "source": [
    "import os\n",
    "\n",
    "os.getcwd()"
   ]
  },
  {
   "cell_type": "code",
   "execution_count": 12,
   "metadata": {},
   "outputs": [],
   "source": [
    "os.chdir('../..')"
   ]
  },
  {
   "cell_type": "code",
   "execution_count": 13,
   "metadata": {},
   "outputs": [],
   "source": [
    "from models.cpsc_winner import AttentionWithContext"
   ]
  },
  {
   "cell_type": "code",
   "execution_count": 15,
   "metadata": {},
   "outputs": [
    {
     "name": "stderr",
     "output_type": "stream",
     "text": [
      "c:\\Users\\agarw\\AppData\\Local\\Programs\\Python\\Python310\\lib\\site-packages\\keras\\initializers\\initializers.py:120: UserWarning: The initializer GlorotUniform is unseeded and being called multiple times, which will return identical values each time (even if the initializer is unseeded). Please update your code to provide a seed to the initializer, or avoid using the same initalizer instance more than once.\n",
      "  warnings.warn(\n"
     ]
    }
   ],
   "source": [
    "mod = load_model(r\"C:\\Mohit\\Imperial\\fyp-hearts\\output\\exp4\\models\\AttNet+Baseline+lead1\\best_loss_model.h5\",custom_objects={'AttentionWithContext':AttentionWithContext})"
   ]
  },
  {
   "cell_type": "code",
   "execution_count": 16,
   "metadata": {},
   "outputs": [
    {
     "name": "stdout",
     "output_type": "stream",
     "text": [
      "Model: \"model\"\n",
      "_________________________________________________________________\n",
      " Layer (type)                Output Shape              Param #   \n",
      "=================================================================\n",
      " input_1 (InputLayer)        [(None, 1000, 1)]         0         \n",
      "                                                                 \n",
      " conv1d_2 (Conv1D)           (None, 1000, 12)          48        \n",
      "                                                                 \n",
      " leaky_re_lu (LeakyReLU)     (None, 1000, 12)          0         \n",
      "                                                                 \n",
      " conv1d_3 (Conv1D)           (None, 1000, 12)          444       \n",
      "                                                                 \n",
      " leaky_re_lu_1 (LeakyReLU)   (None, 1000, 12)          0         \n",
      "                                                                 \n",
      " conv1d_4 (Conv1D)           (None, 500, 12)           444       \n",
      "                                                                 \n",
      " leaky_re_lu_2 (LeakyReLU)   (None, 500, 12)           0         \n",
      "                                                                 \n",
      " dropout (Dropout)           (None, 500, 12)           0         \n",
      "                                                                 \n",
      " conv1d_5 (Conv1D)           (None, 500, 12)           444       \n",
      "                                                                 \n",
      " leaky_re_lu_3 (LeakyReLU)   (None, 500, 12)           0         \n",
      "                                                                 \n",
      " conv1d_6 (Conv1D)           (None, 500, 12)           444       \n",
      "                                                                 \n",
      " leaky_re_lu_4 (LeakyReLU)   (None, 500, 12)           0         \n",
      "                                                                 \n",
      " conv1d_7 (Conv1D)           (None, 250, 12)           3468      \n",
      "                                                                 \n",
      " leaky_re_lu_5 (LeakyReLU)   (None, 250, 12)           0         \n",
      "                                                                 \n",
      " dropout_1 (Dropout)         (None, 250, 12)           0         \n",
      "                                                                 \n",
      " conv1d_8 (Conv1D)           (None, 250, 12)           444       \n",
      "                                                                 \n",
      " leaky_re_lu_6 (LeakyReLU)   (None, 250, 12)           0         \n",
      "                                                                 \n",
      " conv1d_9 (Conv1D)           (None, 250, 12)           444       \n",
      "                                                                 \n",
      " leaky_re_lu_7 (LeakyReLU)   (None, 250, 12)           0         \n",
      "                                                                 \n",
      " conv1d_10 (Conv1D)          (None, 125, 12)           3468      \n",
      "                                                                 \n",
      " leaky_re_lu_8 (LeakyReLU)   (None, 125, 12)           0         \n",
      "                                                                 \n",
      " dropout_2 (Dropout)         (None, 125, 12)           0         \n",
      "                                                                 \n",
      " conv1d_11 (Conv1D)          (None, 125, 12)           444       \n",
      "                                                                 \n",
      " leaky_re_lu_9 (LeakyReLU)   (None, 125, 12)           0         \n",
      "                                                                 \n",
      " conv1d_12 (Conv1D)          (None, 125, 12)           444       \n",
      "                                                                 \n",
      " leaky_re_lu_10 (LeakyReLU)  (None, 125, 12)           0         \n",
      "                                                                 \n",
      " conv1d_13 (Conv1D)          (None, 63, 12)            3468      \n",
      "                                                                 \n",
      " leaky_re_lu_11 (LeakyReLU)  (None, 63, 12)            0         \n",
      "                                                                 \n",
      " dropout_3 (Dropout)         (None, 63, 12)            0         \n",
      "                                                                 \n",
      " conv1d_14 (Conv1D)          (None, 63, 12)            444       \n",
      "                                                                 \n",
      " leaky_re_lu_12 (LeakyReLU)  (None, 63, 12)            0         \n",
      "                                                                 \n",
      " conv1d_15 (Conv1D)          (None, 63, 12)            444       \n",
      "                                                                 \n",
      " leaky_re_lu_13 (LeakyReLU)  (None, 63, 12)            0         \n",
      "                                                                 \n",
      " conv1d_16 (Conv1D)          (None, 32, 12)            3468      \n",
      "                                                                 \n",
      " leaky_re_lu_14 (LeakyReLU)  (None, 32, 12)            0         \n",
      "                                                                 \n",
      " dropout_4 (Dropout)         (None, 32, 12)            0         \n",
      "                                                                 \n",
      " attention_with_context (Att  (None, 12)               168       \n",
      " entionWithContext)                                              \n",
      "                                                                 \n",
      " batch_normalization_2 (Batc  (None, 12)               48        \n",
      " hNormalization)                                                 \n",
      "                                                                 \n",
      " leaky_re_lu_16 (LeakyReLU)  (None, 12)                0         \n",
      "                                                                 \n",
      " dropout_6 (Dropout)         (None, 12)                0         \n",
      "                                                                 \n",
      " dense_3 (Dense)             (None, 43)                559       \n",
      "                                                                 \n",
      "=================================================================\n",
      "Total params: 19,135\n",
      "Trainable params: 19,111\n",
      "Non-trainable params: 24\n",
      "_________________________________________________________________\n"
     ]
    }
   ],
   "source": [
    "mod.summary()"
   ]
  },
  {
   "cell_type": "code",
   "execution_count": 18,
   "metadata": {},
   "outputs": [
    {
     "name": "stdout",
     "output_type": "stream",
     "text": [
      "You must install pydot (`pip install pydot`) and install graphviz (see instructions at https://graphviz.gitlab.io/download/) for plot_model to work.\n"
     ]
    }
   ],
   "source": [
    "from tensorflow.keras.utils import plot_model\n",
    "\n",
    "plot_model(mod)"
   ]
  }
 ],
 "metadata": {
  "kernelspec": {
   "display_name": "Python 3",
   "language": "python",
   "name": "python3"
  },
  "language_info": {
   "codemirror_mode": {
    "name": "ipython",
    "version": 3
   },
   "file_extension": ".py",
   "mimetype": "text/x-python",
   "name": "python",
   "nbconvert_exporter": "python",
   "pygments_lexer": "ipython3",
   "version": "3.10.4"
  }
 },
 "nbformat": 4,
 "nbformat_minor": 2
}
