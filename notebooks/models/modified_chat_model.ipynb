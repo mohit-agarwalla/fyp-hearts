{
 "cells": [
  {
   "cell_type": "code",
   "execution_count": 1,
   "metadata": {},
   "outputs": [],
   "source": [
    "import os\n",
    "\n",
    "os.chdir(\"../..\")\n",
    "\n",
    "import utils"
   ]
  },
  {
   "cell_type": "code",
   "execution_count": 2,
   "metadata": {},
   "outputs": [],
   "source": [
    "outputfolder = os.getcwd() + '/output/'\n",
    "datafolder = os.getcwd() + '/datasets/PTB-XL/'\n",
    "sampling_rate = 100\n",
    "task = 'priority'\n",
    "experiment_name = 'exp4'\n",
    "\n",
    "data, raw_labels = utils.load_dataset(datafolder, sampling_rate=sampling_rate)\n",
    "labels = utils.compute_label_aggregations(raw_labels, datafolder, task)\n",
    "data, labels, Y, _ = utils.select_data(data, labels, task, 0, outputfolder+experiment_name+'/data/')"
   ]
  },
  {
   "cell_type": "code",
   "execution_count": 3,
   "metadata": {},
   "outputs": [
    {
     "name": "stdout",
     "output_type": "stream",
     "text": [
      "This experiment has 43 classes\n"
     ]
    }
   ],
   "source": [
    "X_test = data[labels.strat_fold == 10]\n",
    "y_test = Y[labels.strat_fold == 10]\n",
    "\n",
    "X_val = data[labels.strat_fold == 9]\n",
    "y_val = Y[labels.strat_fold == 9]\n",
    "\n",
    "X_train = data[labels.strat_fold <= 8]\n",
    "y_train = Y[labels.strat_fold <= 8]\n",
    "\n",
    "n_classes = y_train.shape[1]\n",
    "\n",
    "print(f\"This experiment has {n_classes} classes\")\n",
    "\n",
    "X_train = X_train[:,:,0]\n",
    "X_test = X_test[:,:,0]\n",
    "X_val = X_val[:,:,0]"
   ]
  },
  {
   "cell_type": "code",
   "execution_count": 4,
   "metadata": {},
   "outputs": [],
   "source": [
    "import tensorflow as tf\n",
    "from tensorflow.keras.layers import LSTM, GRU, TimeDistributed, Bidirectional, LeakyReLU\n",
    "from tensorflow.keras.layers import Dense, Dropout, Activation, Flatten,  Input, Reshape\n",
    "from tensorflow.keras.layers import Conv1D, MaxPool1D, GlobalAveragePooling1D,MaxPool1D,AveragePooling1D\n",
    "from tensorflow.keras import initializers, regularizers, constraints\n",
    "from tensorflow.keras.layers import Layer\n",
    "import numpy as np\n",
    "from tensorflow.keras.layers import BatchNormalization, ReLU, MaxPooling1D, LSTM\n",
    "from tensorflow.keras import regularizers\n",
    "from tensorflow.keras import backend as K\n",
    "\n",
    "from tensorflow.keras.models import Model, Sequential\n"
   ]
  },
  {
   "cell_type": "code",
   "execution_count": 5,
   "metadata": {},
   "outputs": [
    {
     "name": "stdout",
     "output_type": "stream",
     "text": [
      "Model: \"model\"\n",
      "_________________________________________________________________\n",
      " Layer (type)                Output Shape              Param #   \n",
      "=================================================================\n",
      " input_1 (InputLayer)        [(None, 1000, 1)]         0         \n",
      "                                                                 \n",
      " conv1d (Conv1D)             (None, 1000, 64)          384       \n",
      "                                                                 \n",
      " batch_normalization (BatchN  (None, 1000, 64)         256       \n",
      " ormalization)                                                   \n",
      "                                                                 \n",
      " re_lu (ReLU)                (None, 1000, 64)          0         \n",
      "                                                                 \n",
      " max_pooling1d (MaxPooling1D  (None, 250, 64)          0         \n",
      " )                                                               \n",
      "                                                                 \n",
      " conv1d_1 (Conv1D)           (None, 250, 128)          41088     \n",
      "                                                                 \n",
      " batch_normalization_1 (Batc  (None, 250, 128)         512       \n",
      " hNormalization)                                                 \n",
      "                                                                 \n",
      " re_lu_1 (ReLU)              (None, 250, 128)          0         \n",
      "                                                                 \n",
      " max_pooling1d_1 (MaxPooling  (None, 62, 128)          0         \n",
      " 1D)                                                             \n",
      "                                                                 \n",
      " conv1d_2 (Conv1D)           (None, 62, 256)           164096    \n",
      "                                                                 \n",
      " batch_normalization_2 (Batc  (None, 62, 256)          1024      \n",
      " hNormalization)                                                 \n",
      "                                                                 \n",
      " re_lu_2 (ReLU)              (None, 62, 256)           0         \n",
      "                                                                 \n",
      " max_pooling1d_2 (MaxPooling  (None, 15, 256)          0         \n",
      " 1D)                                                             \n",
      "                                                                 \n",
      " global_average_pooling1d (G  (None, 256)              0         \n",
      " lobalAveragePooling1D)                                          \n",
      "                                                                 \n",
      " dropout (Dropout)           (None, 256)               0         \n",
      "                                                                 \n",
      " dense (Dense)               (None, 128)               32896     \n",
      "                                                                 \n",
      " dropout_1 (Dropout)         (None, 128)               0         \n",
      "                                                                 \n",
      " dense_1 (Dense)             (None, 43)                5547      \n",
      "                                                                 \n",
      "=================================================================\n",
      "Total params: 245,803\n",
      "Trainable params: 244,907\n",
      "Non-trainable params: 896\n",
      "_________________________________________________________________\n"
     ]
    }
   ],
   "source": [
    "inputs = Input(shape=(1000,1))\n",
    "x = Conv1D(filters=64, kernel_size=5, strides=1, padding='same')(inputs)\n",
    "x = BatchNormalization()(x)\n",
    "x = ReLU()(x)\n",
    "x = MaxPooling1D(pool_size=4, strides=4)(x)\n",
    "\n",
    "x = Conv1D(filters=128, kernel_size=5, strides=1, padding='same')(x)\n",
    "x = BatchNormalization()(x)\n",
    "x = ReLU()(x)\n",
    "x = MaxPooling1D(pool_size=4, strides=4)(x)\n",
    "\n",
    "x = Conv1D(filters=256, kernel_size=5, strides=1, padding='same')(x)\n",
    "x = BatchNormalization()(x)\n",
    "x = ReLU()(x)\n",
    "x = MaxPooling1D(pool_size=4, strides=4)(x)\n",
    "x = GlobalAveragePooling1D()(x)\n",
    "\n",
    "x = Dropout(0.5)(x)\n",
    "x = Dense(128, activation='relu')(x)\n",
    "x = Dropout(0.5)(x)\n",
    "outputs = Dense(43, activation='sigmoid')(x)\n",
    "\n",
    "model = Model(inputs=inputs, outputs=outputs)\n",
    "\n",
    "model.summary()"
   ]
  },
  {
   "cell_type": "code",
   "execution_count": 6,
   "metadata": {},
   "outputs": [],
   "source": [
    "model.compile(\n",
    "    loss=tf.keras.losses.BinaryCrossentropy(),\n",
    "    optimizer=tf.keras.optimizers.Adam(learning_rate=0.01),\n",
    "    metrics=[tf.keras.metrics.BinaryAccuracy(name='accuracy',threshold=0.5),\n",
    "            tf.keras.metrics.Recall(name='recall'),\n",
    "            tf.keras.metrics.AUC(num_thresholds=200,\n",
    "                                curve=\"ROC\",\n",
    "                                summation_method='interpolation',\n",
    "                                name=\"AUC\",\n",
    "                                multi_label=True,\n",
    "                                label_weights=None)]\n",
    ")"
   ]
  },
  {
   "cell_type": "code",
   "execution_count": 9,
   "metadata": {},
   "outputs": [
    {
     "name": "stdout",
     "output_type": "stream",
     "text": [
      "68/68 [==============================] - 1s 18ms/step\n",
      "0.8287187941412683\n"
     ]
    }
   ],
   "source": [
    "from sklearn.metrics import roc_auc_score\n",
    "\n",
    "preds = model.predict(X_test)\n",
    "\n",
    "print(roc_auc_score(y_test,preds))\n",
    "# auc = model.evaluate(X_test, y_test)\n",
    "# print(auc)"
   ]
  },
  {
   "cell_type": "code",
   "execution_count": 7,
   "metadata": {},
   "outputs": [
    {
     "name": "stdout",
     "output_type": "stream",
     "text": [
      "Epoch 1/30\n",
      "534/534 [==============================] - 144s 230ms/step - loss: 0.1223 - accuracy: 0.9625 - recall: 0.4785 - AUC: 0.6280 - val_loss: 0.1073 - val_accuracy: 0.9659 - val_recall: 0.5391 - val_AUC: 0.6681\n",
      "Epoch 2/30\n",
      "534/534 [==============================] - 136s 255ms/step - loss: 0.1047 - accuracy: 0.9660 - recall: 0.5040 - AUC: 0.6925 - val_loss: 0.0990 - val_accuracy: 0.9678 - val_recall: 0.5297 - val_AUC: 0.7313\n",
      "Epoch 3/30\n",
      "534/534 [==============================] - 142s 266ms/step - loss: 0.1000 - accuracy: 0.9672 - recall: 0.5126 - AUC: 0.6982 - val_loss: 0.1001 - val_accuracy: 0.9676 - val_recall: 0.4628 - val_AUC: 0.7268\n",
      "Epoch 4/30\n",
      "534/534 [==============================] - 86s 161ms/step - loss: 0.0976 - accuracy: 0.9677 - recall: 0.5191 - AUC: 0.7215 - val_loss: 0.0938 - val_accuracy: 0.9678 - val_recall: 0.4848 - val_AUC: 0.7306\n",
      "Epoch 5/30\n",
      "534/534 [==============================] - 100s 188ms/step - loss: 0.0959 - accuracy: 0.9682 - recall: 0.5264 - AUC: 0.7234 - val_loss: 0.0926 - val_accuracy: 0.9690 - val_recall: 0.5411 - val_AUC: 0.7525\n",
      "Epoch 6/30\n",
      "534/534 [==============================] - 1239s 2s/step - loss: 0.0950 - accuracy: 0.9684 - recall: 0.5312 - AUC: 0.7376 - val_loss: 0.0962 - val_accuracy: 0.9681 - val_recall: 0.5238 - val_AUC: 0.7206\n",
      "Epoch 7/30\n",
      "534/534 [==============================] - 70s 131ms/step - loss: 0.0940 - accuracy: 0.9685 - recall: 0.5314 - AUC: 0.7361 - val_loss: 0.0911 - val_accuracy: 0.9697 - val_recall: 0.5150 - val_AUC: 0.7502\n",
      "Epoch 8/30\n",
      "534/534 [==============================] - 82s 153ms/step - loss: 0.0931 - accuracy: 0.9687 - recall: 0.5323 - AUC: 0.7517 - val_loss: 0.1036 - val_accuracy: 0.9664 - val_recall: 0.5622 - val_AUC: 0.7057\n",
      "Epoch 9/30\n",
      "534/534 [==============================] - 79s 147ms/step - loss: 0.0930 - accuracy: 0.9687 - recall: 0.5325 - AUC: 0.7513 - val_loss: 0.0958 - val_accuracy: 0.9682 - val_recall: 0.4979 - val_AUC: 0.7589\n",
      "Epoch 10/30\n",
      "534/534 [==============================] - 99s 185ms/step - loss: 0.0923 - accuracy: 0.9691 - recall: 0.5380 - AUC: 0.7473 - val_loss: 0.0937 - val_accuracy: 0.9686 - val_recall: 0.5683 - val_AUC: 0.7455\n",
      "Epoch 11/30\n",
      "534/534 [==============================] - 119s 222ms/step - loss: 0.0921 - accuracy: 0.9691 - recall: 0.5408 - AUC: 0.7445 - val_loss: 0.0906 - val_accuracy: 0.9699 - val_recall: 0.5541 - val_AUC: 0.7571\n",
      "Epoch 12/30\n",
      "534/534 [==============================] - 129s 242ms/step - loss: 0.0915 - accuracy: 0.9694 - recall: 0.5433 - AUC: 0.7553 - val_loss: 0.0900 - val_accuracy: 0.9705 - val_recall: 0.5464 - val_AUC: 0.7731\n",
      "Epoch 13/30\n",
      "534/534 [==============================] - 152s 284ms/step - loss: 0.0913 - accuracy: 0.9694 - recall: 0.5447 - AUC: 0.7539 - val_loss: 0.0920 - val_accuracy: 0.9694 - val_recall: 0.5654 - val_AUC: 0.7557\n",
      "Epoch 14/30\n",
      "534/534 [==============================] - 142s 266ms/step - loss: 0.0910 - accuracy: 0.9695 - recall: 0.5453 - AUC: 0.7461 - val_loss: 0.0901 - val_accuracy: 0.9696 - val_recall: 0.5587 - val_AUC: 0.7602\n",
      "Epoch 15/30\n",
      "534/534 [==============================] - 132s 248ms/step - loss: 0.0906 - accuracy: 0.9696 - recall: 0.5474 - AUC: 0.7449 - val_loss: 0.0924 - val_accuracy: 0.9692 - val_recall: 0.5602 - val_AUC: 0.7525\n",
      "Epoch 16/30\n",
      "534/534 [==============================] - 130s 243ms/step - loss: 0.0904 - accuracy: 0.9697 - recall: 0.5517 - AUC: 0.7542 - val_loss: 0.0923 - val_accuracy: 0.9701 - val_recall: 0.5664 - val_AUC: 0.7236\n",
      "Epoch 17/30\n",
      "534/534 [==============================] - 121s 227ms/step - loss: 0.0904 - accuracy: 0.9697 - recall: 0.5518 - AUC: 0.7567 - val_loss: 0.0936 - val_accuracy: 0.9696 - val_recall: 0.5775 - val_AUC: 0.7543\n",
      "Epoch 18/30\n",
      "534/534 [==============================] - 119s 222ms/step - loss: 0.0907 - accuracy: 0.9697 - recall: 0.5517 - AUC: 0.7525 - val_loss: 0.0895 - val_accuracy: 0.9704 - val_recall: 0.5399 - val_AUC: 0.7648\n",
      "Epoch 19/30\n",
      "534/534 [==============================] - 115s 216ms/step - loss: 0.0898 - accuracy: 0.9697 - recall: 0.5525 - AUC: 0.7499 - val_loss: 0.1023 - val_accuracy: 0.9682 - val_recall: 0.5017 - val_AUC: 0.7476\n",
      "Epoch 20/30\n",
      "534/534 [==============================] - 112s 209ms/step - loss: 0.0897 - accuracy: 0.9701 - recall: 0.5579 - AUC: 0.7569 - val_loss: 0.0892 - val_accuracy: 0.9706 - val_recall: 0.5752 - val_AUC: 0.7722\n",
      "Epoch 21/30\n",
      "534/534 [==============================] - 113s 212ms/step - loss: 0.0896 - accuracy: 0.9699 - recall: 0.5568 - AUC: 0.7611 - val_loss: 0.0941 - val_accuracy: 0.9690 - val_recall: 0.5063 - val_AUC: 0.7547\n",
      "Epoch 22/30\n",
      "534/534 [==============================] - 111s 209ms/step - loss: 0.0892 - accuracy: 0.9701 - recall: 0.5584 - AUC: 0.7585 - val_loss: 0.0885 - val_accuracy: 0.9710 - val_recall: 0.5622 - val_AUC: 0.7693\n",
      "Epoch 23/30\n",
      "534/534 [==============================] - 111s 207ms/step - loss: 0.0892 - accuracy: 0.9701 - recall: 0.5592 - AUC: 0.7513 - val_loss: 0.0895 - val_accuracy: 0.9706 - val_recall: 0.5602 - val_AUC: 0.7722\n",
      "Epoch 24/30\n",
      "534/534 [==============================] - 117s 220ms/step - loss: 0.0890 - accuracy: 0.9701 - recall: 0.5580 - AUC: 0.7592 - val_loss: 0.0873 - val_accuracy: 0.9711 - val_recall: 0.5670 - val_AUC: 0.7726\n",
      "Epoch 25/30\n",
      "534/534 [==============================] - 128s 239ms/step - loss: 0.0890 - accuracy: 0.9700 - recall: 0.5597 - AUC: 0.7660 - val_loss: 0.0930 - val_accuracy: 0.9698 - val_recall: 0.5633 - val_AUC: 0.7417\n",
      "Epoch 26/30\n",
      "534/534 [==============================] - 119s 222ms/step - loss: 0.0887 - accuracy: 0.9703 - recall: 0.5607 - AUC: 0.7609 - val_loss: 0.0897 - val_accuracy: 0.9705 - val_recall: 0.5616 - val_AUC: 0.7659\n",
      "Epoch 27/30\n",
      "534/534 [==============================] - 144s 269ms/step - loss: 0.0886 - accuracy: 0.9703 - recall: 0.5622 - AUC: 0.7720 - val_loss: 0.0882 - val_accuracy: 0.9702 - val_recall: 0.5633 - val_AUC: 0.7753\n",
      "Epoch 28/30\n",
      "534/534 [==============================] - 132s 247ms/step - loss: 0.0885 - accuracy: 0.9703 - recall: 0.5644 - AUC: 0.7596 - val_loss: 0.1015 - val_accuracy: 0.9679 - val_recall: 0.5806 - val_AUC: 0.7272\n",
      "Epoch 29/30\n",
      "534/534 [==============================] - 148s 277ms/step - loss: 0.0885 - accuracy: 0.9703 - recall: 0.5624 - AUC: 0.7640 - val_loss: 0.0873 - val_accuracy: 0.9706 - val_recall: 0.5553 - val_AUC: 0.7593\n",
      "Epoch 30/30\n",
      "534/534 [==============================] - 127s 238ms/step - loss: 0.0883 - accuracy: 0.9704 - recall: 0.5643 - AUC: 0.7641 - val_loss: 0.0938 - val_accuracy: 0.9691 - val_recall: 0.5693 - val_AUC: 0.7682\n"
     ]
    }
   ],
   "source": [
    "history = model.fit(X_train, y_train, validation_data=(X_val, y_val), epochs=30)"
   ]
  },
  {
   "cell_type": "code",
   "execution_count": null,
   "metadata": {},
   "outputs": [],
   "source": []
  }
 ],
 "metadata": {
  "kernelspec": {
   "display_name": "Python 3",
   "language": "python",
   "name": "python3"
  },
  "language_info": {
   "codemirror_mode": {
    "name": "ipython",
    "version": 3
   },
   "file_extension": ".py",
   "mimetype": "text/x-python",
   "name": "python",
   "nbconvert_exporter": "python",
   "pygments_lexer": "ipython3",
   "version": "3.10.4"
  }
 },
 "nbformat": 4,
 "nbformat_minor": 2
}
