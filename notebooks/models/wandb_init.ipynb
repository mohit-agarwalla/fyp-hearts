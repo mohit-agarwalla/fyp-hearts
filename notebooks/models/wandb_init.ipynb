{
 "cells": [
  {
   "cell_type": "code",
   "execution_count": 1,
   "metadata": {},
   "outputs": [],
   "source": [
    "import os\n",
    "\n",
    "os.chdir('../..')\n",
    "import utils\n",
    "import wandb"
   ]
  },
  {
   "cell_type": "code",
   "execution_count": 2,
   "metadata": {},
   "outputs": [],
   "source": [
    "from wandb.keras import WandbMetricsLogger, WandbModelCheckpoint, WandbCallback"
   ]
  },
  {
   "cell_type": "code",
   "execution_count": 3,
   "metadata": {},
   "outputs": [],
   "source": [
    "import random\n",
    "import numpy as np\n",
    "import tensorflow as tf\n",
    "from tensorflow.keras.metrics import AUC"
   ]
  },
  {
   "cell_type": "code",
   "execution_count": 4,
   "metadata": {},
   "outputs": [
    {
     "name": "stderr",
     "output_type": "stream",
     "text": [
      "Failed to detect the name of this notebook, you can set it manually with the WANDB_NOTEBOOK_NAME environment variable to enable code saving.\n",
      "wandb: Currently logged in as: agarwalla-mohit (fyp-hearts). Use `wandb login --relogin` to force relogin\n"
     ]
    },
    {
     "data": {
      "text/html": [
       "wandb version 0.17.0 is available!  To upgrade, please run:\n",
       " $ pip install wandb --upgrade"
      ],
      "text/plain": [
       "<IPython.core.display.HTML object>"
      ]
     },
     "metadata": {},
     "output_type": "display_data"
    },
    {
     "data": {
      "text/html": [
       "Tracking run with wandb version 0.16.2"
      ],
      "text/plain": [
       "<IPython.core.display.HTML object>"
      ]
     },
     "metadata": {},
     "output_type": "display_data"
    },
    {
     "data": {
      "text/html": [
       "Run data is saved locally in <code>c:\\Mohit\\Imperial\\fyp-hearts\\wandb\\run-20240519_170854-tyrga5ek</code>"
      ],
      "text/plain": [
       "<IPython.core.display.HTML object>"
      ]
     },
     "metadata": {},
     "output_type": "display_data"
    },
    {
     "data": {
      "text/html": [
       "Syncing run <strong><a href='https://wandb.ai/fyp-hearts/fyp-hearts-lenet/runs/tyrga5ek' target=\"_blank\">fresh-plant-7</a></strong> to <a href='https://wandb.ai/fyp-hearts/fyp-hearts-lenet' target=\"_blank\">Weights & Biases</a> (<a href='https://wandb.me/run' target=\"_blank\">docs</a>)<br/>"
      ],
      "text/plain": [
       "<IPython.core.display.HTML object>"
      ]
     },
     "metadata": {},
     "output_type": "display_data"
    },
    {
     "data": {
      "text/html": [
       " View project at <a href='https://wandb.ai/fyp-hearts/fyp-hearts-lenet' target=\"_blank\">https://wandb.ai/fyp-hearts/fyp-hearts-lenet</a>"
      ],
      "text/plain": [
       "<IPython.core.display.HTML object>"
      ]
     },
     "metadata": {},
     "output_type": "display_data"
    },
    {
     "data": {
      "text/html": [
       " View run at <a href='https://wandb.ai/fyp-hearts/fyp-hearts-lenet/runs/tyrga5ek' target=\"_blank\">https://wandb.ai/fyp-hearts/fyp-hearts-lenet/runs/tyrga5ek</a>"
      ],
      "text/plain": [
       "<IPython.core.display.HTML object>"
      ]
     },
     "metadata": {},
     "output_type": "display_data"
    },
    {
     "data": {
      "text/html": [
       "<button onClick=\"this.nextSibling.style.display='block';this.style.display='none';\">Display W&B run</button><iframe src='https://wandb.ai/fyp-hearts/fyp-hearts-lenet/runs/tyrga5ek?jupyter=true' style='border:none;width:100%;height:420px;display:none;'></iframe>"
      ],
      "text/plain": [
       "<wandb.sdk.wandb_run.Run at 0x29c1f9a7760>"
      ]
     },
     "execution_count": 4,
     "metadata": {},
     "output_type": "execute_result"
    }
   ],
   "source": [
    "wandb.init(\n",
    "    project=\"fyp-hearts-lenet\",\n",
    "    \n",
    "    config={\n",
    "        \"activation\": 'relu',\n",
    "        \"dropout\": random.uniform(0.01, 0.8),\n",
    "        \"filters_1\": 6,\n",
    "        \"filters_2\": 16,\n",
    "        \"dense_1\": 64,\n",
    "        \"dense_2\": 32,\n",
    "        \"epochs\": 30,\n",
    "        \"optimizer\": \"adam\",\n",
    "        \"loss\":\"binary_crossentropy\",\n",
    "        \"metrics\": tf.keras.metrics.AUC(num_thresholds=1000000, multi_label=True)\n",
    "    }\n",
    ")"
   ]
  },
  {
   "cell_type": "code",
   "execution_count": 5,
   "metadata": {},
   "outputs": [],
   "source": [
    "outputfolder = os.getcwd() + '/output/'\n",
    "datafolder = os.getcwd() + '/datasets/PTB-XL/'\n",
    "sampling_rate = 100\n",
    "task = 'priority'\n",
    "experiment_name = 'exp4'\n",
    "\n",
    "data, raw_labels = utils.load_dataset(datafolder, sampling_rate=sampling_rate)\n",
    "labels = utils.compute_label_aggregations(raw_labels, datafolder, task)\n",
    "data, labels, Y, _ = utils.select_data(data, labels, task, 0, outputfolder+experiment_name+'/data/')"
   ]
  },
  {
   "cell_type": "code",
   "execution_count": 6,
   "metadata": {},
   "outputs": [
    {
     "name": "stdout",
     "output_type": "stream",
     "text": [
      "This experiment has 43 classes\n"
     ]
    }
   ],
   "source": [
    "X_test = data[labels.strat_fold == 10]\n",
    "y_test = Y[labels.strat_fold == 10]\n",
    "\n",
    "X_val = data[labels.strat_fold == 9]\n",
    "y_val = Y[labels.strat_fold == 9]\n",
    "\n",
    "X_train = data[labels.strat_fold <= 8]\n",
    "y_train = Y[labels.strat_fold <= 8]\n",
    "\n",
    "n_classes = y_train.shape[1]\n",
    "\n",
    "print(f\"This experiment has {n_classes} classes\")\n",
    "\n",
    "X_train = X_train[:,:,0]\n",
    "X_test = X_test[:,:,0]\n",
    "X_val = X_val[:,:,0]"
   ]
  },
  {
   "cell_type": "code",
   "execution_count": 7,
   "metadata": {},
   "outputs": [],
   "source": [
    "import tensorflow as tf\n",
    "from tensorflow.keras.layers import LSTM, GRU, TimeDistributed, Bidirectional, LeakyReLU\n",
    "from tensorflow.keras.layers import Dense, Dropout, Activation, Flatten,  Input, Reshape\n",
    "from tensorflow.keras.layers import Conv1D, MaxPool1D, GlobalAveragePooling1D,MaxPool1D,AveragePooling1D\n",
    "from tensorflow.keras import initializers, regularizers, constraints\n",
    "from tensorflow.keras.layers import Layer\n",
    "import numpy as np\n",
    "from tensorflow.keras.layers import BatchNormalization\n",
    "from tensorflow.keras import regularizers\n",
    "from tensorflow.keras import backend as K\n",
    "from tensorflow.keras.models import Model, Sequential"
   ]
  },
  {
   "cell_type": "code",
   "execution_count": 8,
   "metadata": {},
   "outputs": [],
   "source": [
    "config = wandb.config\n",
    "\n",
    "lenet_5_model=Sequential()\n",
    "lenet_5_model.add(Conv1D(filters=config.filters_1, kernel_size=3, padding='same', input_shape=(1000,1)))\n",
    "lenet_5_model.add(BatchNormalization())\n",
    "lenet_5_model.add(Activation('relu'))\n",
    "lenet_5_model.add(MaxPool1D(pool_size=2, strides=2, padding='same'))\n",
    "lenet_5_model.add(Conv1D(filters=config.filters_2, strides=1, kernel_size=5))\n",
    "lenet_5_model.add(BatchNormalization())\n",
    "lenet_5_model.add(Activation('relu'))\n",
    "lenet_5_model.add(MaxPool1D(pool_size=2, strides=2, padding='same'))\n",
    "lenet_5_model.add(GlobalAveragePooling1D())\n",
    "lenet_5_model.add(Dense(config.dense_1, activation='relu'))\n",
    "lenet_5_model.add(Dense(config.dense_1, activation='relu'))\n",
    "lenet_5_model.add(Dense(n_classes, activation = 'sigmoid'))"
   ]
  },
  {
   "cell_type": "code",
   "execution_count": 9,
   "metadata": {},
   "outputs": [],
   "source": [
    "lenet_5_model.compile(optimizer=config.optimizer,\n",
    "                      loss=config.loss,\n",
    "                      metrics=tf.keras.metrics.AUC(num_thresholds=100, multi_label=True))"
   ]
  },
  {
   "cell_type": "code",
   "execution_count": 10,
   "metadata": {},
   "outputs": [
    {
     "name": "stdout",
     "output_type": "stream",
     "text": [
      "Epoch 1/30\n",
      "534/534 [==============================] - ETA: 0s - loss: 0.1527 - auc_1: 0.5133"
     ]
    },
    {
     "name": "stderr",
     "output_type": "stream",
     "text": [
      "WARNING:absl:Found untraced functions such as _jit_compiled_convolution_op, _jit_compiled_convolution_op, _update_step_xla while saving (showing 3 of 3). These functions will not be directly callable after loading.\n"
     ]
    },
    {
     "name": "stdout",
     "output_type": "stream",
     "text": [
      "INFO:tensorflow:Assets written to: models\\assets\n"
     ]
    },
    {
     "name": "stderr",
     "output_type": "stream",
     "text": [
      "INFO:tensorflow:Assets written to: models\\assets\n",
      "wandb: Adding directory to artifact (.\\models)... Done. 0.2s\n"
     ]
    },
    {
     "name": "stdout",
     "output_type": "stream",
     "text": [
      "534/534 [==============================] - 35s 54ms/step - loss: 0.1527 - auc_1: 0.5133 - val_loss: 0.1238 - val_auc_1: 0.5491\n",
      "Epoch 2/30\n",
      "534/534 [==============================] - ETA: 0s - loss: 0.1145 - auc_1: 0.5926"
     ]
    },
    {
     "name": "stderr",
     "output_type": "stream",
     "text": [
      "WARNING:absl:Found untraced functions such as _jit_compiled_convolution_op, _jit_compiled_convolution_op, _update_step_xla while saving (showing 3 of 3). These functions will not be directly callable after loading.\n"
     ]
    },
    {
     "name": "stdout",
     "output_type": "stream",
     "text": [
      "INFO:tensorflow:Assets written to: models\\assets\n"
     ]
    },
    {
     "name": "stderr",
     "output_type": "stream",
     "text": [
      "INFO:tensorflow:Assets written to: models\\assets\n",
      "wandb: Adding directory to artifact (.\\models)... Done. 0.3s\n"
     ]
    },
    {
     "name": "stdout",
     "output_type": "stream",
     "text": [
      "534/534 [==============================] - 28s 52ms/step - loss: 0.1145 - auc_1: 0.5926 - val_loss: 0.1747 - val_auc_1: 0.6160\n",
      "Epoch 3/30\n",
      "534/534 [==============================] - ETA: 0s - loss: 0.1089 - auc_1: 0.6280"
     ]
    },
    {
     "name": "stderr",
     "output_type": "stream",
     "text": [
      "WARNING:absl:Found untraced functions such as _jit_compiled_convolution_op, _jit_compiled_convolution_op, _update_step_xla while saving (showing 3 of 3). These functions will not be directly callable after loading.\n"
     ]
    },
    {
     "name": "stdout",
     "output_type": "stream",
     "text": [
      "INFO:tensorflow:Assets written to: models\\assets\n"
     ]
    },
    {
     "name": "stderr",
     "output_type": "stream",
     "text": [
      "INFO:tensorflow:Assets written to: models\\assets\n",
      "wandb: Adding directory to artifact (.\\models)... Done. 0.1s\n"
     ]
    },
    {
     "name": "stdout",
     "output_type": "stream",
     "text": [
      "534/534 [==============================] - 27s 51ms/step - loss: 0.1089 - auc_1: 0.6280 - val_loss: 0.1667 - val_auc_1: 0.5414\n",
      "Epoch 4/30\n",
      "534/534 [==============================] - ETA: 0s - loss: 0.1063 - auc_1: 0.6475"
     ]
    },
    {
     "name": "stderr",
     "output_type": "stream",
     "text": [
      "WARNING:absl:Found untraced functions such as _jit_compiled_convolution_op, _jit_compiled_convolution_op, _update_step_xla while saving (showing 3 of 3). These functions will not be directly callable after loading.\n"
     ]
    },
    {
     "name": "stdout",
     "output_type": "stream",
     "text": [
      "INFO:tensorflow:Assets written to: models\\assets\n"
     ]
    },
    {
     "name": "stderr",
     "output_type": "stream",
     "text": [
      "INFO:tensorflow:Assets written to: models\\assets\n",
      "wandb: Adding directory to artifact (.\\models)... Done. 0.2s\n"
     ]
    },
    {
     "name": "stdout",
     "output_type": "stream",
     "text": [
      "534/534 [==============================] - 26s 49ms/step - loss: 0.1063 - auc_1: 0.6475 - val_loss: 0.1325 - val_auc_1: 0.5696\n",
      "Epoch 5/30\n",
      "533/534 [============================>.] - ETA: 0s - loss: 0.1046 - auc_1: 0.6604"
     ]
    },
    {
     "name": "stderr",
     "output_type": "stream",
     "text": [
      "WARNING:absl:Found untraced functions such as _jit_compiled_convolution_op, _jit_compiled_convolution_op, _update_step_xla while saving (showing 3 of 3). These functions will not be directly callable after loading.\n"
     ]
    },
    {
     "name": "stdout",
     "output_type": "stream",
     "text": [
      "INFO:tensorflow:Assets written to: models\\assets\n"
     ]
    },
    {
     "name": "stderr",
     "output_type": "stream",
     "text": [
      "INFO:tensorflow:Assets written to: models\\assets\n",
      "wandb: Adding directory to artifact (.\\models)... Done. 0.2s\n"
     ]
    },
    {
     "name": "stdout",
     "output_type": "stream",
     "text": [
      "534/534 [==============================] - 26s 48ms/step - loss: 0.1047 - auc_1: 0.6606 - val_loss: 0.1078 - val_auc_1: 0.6495\n",
      "Epoch 6/30\n",
      "533/534 [============================>.] - ETA: 0s - loss: 0.1037 - auc_1: 0.6639"
     ]
    },
    {
     "name": "stderr",
     "output_type": "stream",
     "text": [
      "WARNING:absl:Found untraced functions such as _jit_compiled_convolution_op, _jit_compiled_convolution_op, _update_step_xla while saving (showing 3 of 3). These functions will not be directly callable after loading.\n"
     ]
    },
    {
     "name": "stdout",
     "output_type": "stream",
     "text": [
      "INFO:tensorflow:Assets written to: models\\assets\n"
     ]
    },
    {
     "name": "stderr",
     "output_type": "stream",
     "text": [
      "INFO:tensorflow:Assets written to: models\\assets\n",
      "wandb: Adding directory to artifact (.\\models)... Done. 0.1s\n"
     ]
    },
    {
     "name": "stdout",
     "output_type": "stream",
     "text": [
      "534/534 [==============================] - 26s 48ms/step - loss: 0.1037 - auc_1: 0.6639 - val_loss: 0.1092 - val_auc_1: 0.6265\n",
      "Epoch 7/30\n",
      "534/534 [==============================] - ETA: 0s - loss: 0.1026 - auc_1: 0.6708"
     ]
    },
    {
     "name": "stderr",
     "output_type": "stream",
     "text": [
      "WARNING:absl:Found untraced functions such as _jit_compiled_convolution_op, _jit_compiled_convolution_op, _update_step_xla while saving (showing 3 of 3). These functions will not be directly callable after loading.\n"
     ]
    },
    {
     "name": "stdout",
     "output_type": "stream",
     "text": [
      "INFO:tensorflow:Assets written to: models\\assets\n"
     ]
    },
    {
     "name": "stderr",
     "output_type": "stream",
     "text": [
      "INFO:tensorflow:Assets written to: models\\assets\n",
      "wandb: Adding directory to artifact (.\\models)... Done. 0.1s\n"
     ]
    },
    {
     "name": "stdout",
     "output_type": "stream",
     "text": [
      "534/534 [==============================] - 27s 50ms/step - loss: 0.1026 - auc_1: 0.6708 - val_loss: 0.2378 - val_auc_1: 0.5290\n",
      "Epoch 8/30\n",
      "534/534 [==============================] - ETA: 0s - loss: 0.1021 - auc_1: 0.6742"
     ]
    },
    {
     "name": "stderr",
     "output_type": "stream",
     "text": [
      "WARNING:absl:Found untraced functions such as _jit_compiled_convolution_op, _jit_compiled_convolution_op, _update_step_xla while saving (showing 3 of 3). These functions will not be directly callable after loading.\n"
     ]
    },
    {
     "name": "stdout",
     "output_type": "stream",
     "text": [
      "INFO:tensorflow:Assets written to: models\\assets\n"
     ]
    },
    {
     "name": "stderr",
     "output_type": "stream",
     "text": [
      "INFO:tensorflow:Assets written to: models\\assets\n",
      "wandb: Adding directory to artifact (.\\models)... Done. 0.1s\n"
     ]
    },
    {
     "name": "stdout",
     "output_type": "stream",
     "text": [
      "534/534 [==============================] - 26s 49ms/step - loss: 0.1021 - auc_1: 0.6742 - val_loss: 0.1650 - val_auc_1: 0.5581\n",
      "Epoch 9/30\n",
      "533/534 [============================>.] - ETA: 0s - loss: 0.1016 - auc_1: 0.6771"
     ]
    },
    {
     "name": "stderr",
     "output_type": "stream",
     "text": [
      "WARNING:absl:Found untraced functions such as _jit_compiled_convolution_op, _jit_compiled_convolution_op, _update_step_xla while saving (showing 3 of 3). These functions will not be directly callable after loading.\n"
     ]
    },
    {
     "name": "stdout",
     "output_type": "stream",
     "text": [
      "INFO:tensorflow:Assets written to: models\\assets\n"
     ]
    },
    {
     "name": "stderr",
     "output_type": "stream",
     "text": [
      "INFO:tensorflow:Assets written to: models\\assets\n",
      "wandb: Adding directory to artifact (.\\models)... Done. 0.1s\n"
     ]
    },
    {
     "name": "stdout",
     "output_type": "stream",
     "text": [
      "534/534 [==============================] - 26s 49ms/step - loss: 0.1016 - auc_1: 0.6771 - val_loss: 0.1271 - val_auc_1: 0.5901\n",
      "Epoch 10/30\n",
      "533/534 [============================>.] - ETA: 0s - loss: 0.1012 - auc_1: 0.6805"
     ]
    },
    {
     "name": "stderr",
     "output_type": "stream",
     "text": [
      "WARNING:absl:Found untraced functions such as _jit_compiled_convolution_op, _jit_compiled_convolution_op, _update_step_xla while saving (showing 3 of 3). These functions will not be directly callable after loading.\n"
     ]
    },
    {
     "name": "stdout",
     "output_type": "stream",
     "text": [
      "INFO:tensorflow:Assets written to: models\\assets\n"
     ]
    },
    {
     "name": "stderr",
     "output_type": "stream",
     "text": [
      "INFO:tensorflow:Assets written to: models\\assets\n",
      "wandb: Adding directory to artifact (.\\models)... Done. 0.2s\n"
     ]
    },
    {
     "name": "stdout",
     "output_type": "stream",
     "text": [
      "534/534 [==============================] - 26s 49ms/step - loss: 0.1012 - auc_1: 0.6805 - val_loss: 0.1505 - val_auc_1: 0.5544\n",
      "Epoch 11/30\n",
      "533/534 [============================>.] - ETA: 0s - loss: 0.1007 - auc_1: 0.6818"
     ]
    },
    {
     "name": "stderr",
     "output_type": "stream",
     "text": [
      "WARNING:absl:Found untraced functions such as _jit_compiled_convolution_op, _jit_compiled_convolution_op, _update_step_xla while saving (showing 3 of 3). These functions will not be directly callable after loading.\n"
     ]
    },
    {
     "name": "stdout",
     "output_type": "stream",
     "text": [
      "INFO:tensorflow:Assets written to: models\\assets\n"
     ]
    },
    {
     "name": "stderr",
     "output_type": "stream",
     "text": [
      "INFO:tensorflow:Assets written to: models\\assets\n",
      "wandb: Adding directory to artifact (.\\models)... Done. 0.1s\n"
     ]
    },
    {
     "name": "stdout",
     "output_type": "stream",
     "text": [
      "534/534 [==============================] - 28s 52ms/step - loss: 0.1008 - auc_1: 0.6818 - val_loss: 0.1024 - val_auc_1: 0.6913\n",
      "Epoch 12/30\n",
      "533/534 [============================>.] - ETA: 0s - loss: 0.1004 - auc_1: 0.6842"
     ]
    },
    {
     "name": "stderr",
     "output_type": "stream",
     "text": [
      "WARNING:absl:Found untraced functions such as _jit_compiled_convolution_op, _jit_compiled_convolution_op, _update_step_xla while saving (showing 3 of 3). These functions will not be directly callable after loading.\n"
     ]
    },
    {
     "name": "stdout",
     "output_type": "stream",
     "text": [
      "INFO:tensorflow:Assets written to: models\\assets\n"
     ]
    },
    {
     "name": "stderr",
     "output_type": "stream",
     "text": [
      "INFO:tensorflow:Assets written to: models\\assets\n",
      "wandb: Adding directory to artifact (.\\models)... Done. 0.2s\n"
     ]
    },
    {
     "name": "stdout",
     "output_type": "stream",
     "text": [
      "534/534 [==============================] - 103s 194ms/step - loss: 0.1004 - auc_1: 0.6842 - val_loss: 0.1950 - val_auc_1: 0.5456\n",
      "Epoch 13/30\n",
      "534/534 [==============================] - ETA: 0s - loss: 0.1000 - auc_1: 0.6890"
     ]
    },
    {
     "name": "stderr",
     "output_type": "stream",
     "text": [
      "WARNING:absl:Found untraced functions such as _jit_compiled_convolution_op, _jit_compiled_convolution_op, _update_step_xla while saving (showing 3 of 3). These functions will not be directly callable after loading.\n"
     ]
    },
    {
     "name": "stdout",
     "output_type": "stream",
     "text": [
      "INFO:tensorflow:Assets written to: models\\assets\n"
     ]
    },
    {
     "name": "stderr",
     "output_type": "stream",
     "text": [
      "INFO:tensorflow:Assets written to: models\\assets\n",
      "wandb: Adding directory to artifact (.\\models)... Done. 0.2s\n"
     ]
    },
    {
     "name": "stdout",
     "output_type": "stream",
     "text": [
      "534/534 [==============================] - 31s 57ms/step - loss: 0.1000 - auc_1: 0.6890 - val_loss: 0.1505 - val_auc_1: 0.6672\n",
      "Epoch 14/30\n",
      "533/534 [============================>.] - ETA: 0s - loss: 0.0995 - auc_1: 0.6912"
     ]
    },
    {
     "name": "stderr",
     "output_type": "stream",
     "text": [
      "WARNING:absl:Found untraced functions such as _jit_compiled_convolution_op, _jit_compiled_convolution_op, _update_step_xla while saving (showing 3 of 3). These functions will not be directly callable after loading.\n"
     ]
    },
    {
     "name": "stdout",
     "output_type": "stream",
     "text": [
      "INFO:tensorflow:Assets written to: models\\assets\n"
     ]
    },
    {
     "name": "stderr",
     "output_type": "stream",
     "text": [
      "INFO:tensorflow:Assets written to: models\\assets\n",
      "wandb: Adding directory to artifact (.\\models)... Done. 0.2s\n"
     ]
    },
    {
     "name": "stdout",
     "output_type": "stream",
     "text": [
      "534/534 [==============================] - 34s 64ms/step - loss: 0.0995 - auc_1: 0.6912 - val_loss: 0.1031 - val_auc_1: 0.6935\n",
      "Epoch 15/30\n",
      "533/534 [============================>.] - ETA: 0s - loss: 0.0994 - auc_1: 0.6960"
     ]
    },
    {
     "name": "stderr",
     "output_type": "stream",
     "text": [
      "WARNING:absl:Found untraced functions such as _jit_compiled_convolution_op, _jit_compiled_convolution_op, _update_step_xla while saving (showing 3 of 3). These functions will not be directly callable after loading.\n"
     ]
    },
    {
     "name": "stdout",
     "output_type": "stream",
     "text": [
      "INFO:tensorflow:Assets written to: models\\assets\n"
     ]
    },
    {
     "name": "stderr",
     "output_type": "stream",
     "text": [
      "INFO:tensorflow:Assets written to: models\\assets\n",
      "wandb: Adding directory to artifact (.\\models)... Done. 0.2s\n"
     ]
    },
    {
     "name": "stdout",
     "output_type": "stream",
     "text": [
      "534/534 [==============================] - 34s 64ms/step - loss: 0.0994 - auc_1: 0.6960 - val_loss: 0.1045 - val_auc_1: 0.6486\n",
      "Epoch 16/30\n",
      "534/534 [==============================] - ETA: 0s - loss: 0.0990 - auc_1: 0.6941"
     ]
    },
    {
     "name": "stderr",
     "output_type": "stream",
     "text": [
      "WARNING:absl:Found untraced functions such as _jit_compiled_convolution_op, _jit_compiled_convolution_op, _update_step_xla while saving (showing 3 of 3). These functions will not be directly callable after loading.\n"
     ]
    },
    {
     "name": "stdout",
     "output_type": "stream",
     "text": [
      "INFO:tensorflow:Assets written to: models\\assets\n"
     ]
    },
    {
     "name": "stderr",
     "output_type": "stream",
     "text": [
      "INFO:tensorflow:Assets written to: models\\assets\n",
      "wandb: Adding directory to artifact (.\\models)... Done. 0.3s\n"
     ]
    },
    {
     "name": "stdout",
     "output_type": "stream",
     "text": [
      "534/534 [==============================] - 26s 49ms/step - loss: 0.0990 - auc_1: 0.6941 - val_loss: 0.1020 - val_auc_1: 0.6964\n",
      "Epoch 17/30\n",
      "534/534 [==============================] - ETA: 0s - loss: 0.0988 - auc_1: 0.6968"
     ]
    },
    {
     "name": "stderr",
     "output_type": "stream",
     "text": [
      "WARNING:absl:Found untraced functions such as _jit_compiled_convolution_op, _jit_compiled_convolution_op, _update_step_xla while saving (showing 3 of 3). These functions will not be directly callable after loading.\n"
     ]
    },
    {
     "name": "stdout",
     "output_type": "stream",
     "text": [
      "INFO:tensorflow:Assets written to: models\\assets\n"
     ]
    },
    {
     "name": "stderr",
     "output_type": "stream",
     "text": [
      "INFO:tensorflow:Assets written to: models\\assets\n",
      "wandb: Adding directory to artifact (.\\models)... Done. 0.1s\n"
     ]
    },
    {
     "name": "stdout",
     "output_type": "stream",
     "text": [
      "534/534 [==============================] - 24s 46ms/step - loss: 0.0988 - auc_1: 0.6968 - val_loss: 0.1604 - val_auc_1: 0.5652\n",
      "Epoch 18/30\n",
      "533/534 [============================>.] - ETA: 0s - loss: 0.0985 - auc_1: 0.6955"
     ]
    },
    {
     "name": "stderr",
     "output_type": "stream",
     "text": [
      "WARNING:absl:Found untraced functions such as _jit_compiled_convolution_op, _jit_compiled_convolution_op, _update_step_xla while saving (showing 3 of 3). These functions will not be directly callable after loading.\n"
     ]
    },
    {
     "name": "stdout",
     "output_type": "stream",
     "text": [
      "INFO:tensorflow:Assets written to: models\\assets\n"
     ]
    },
    {
     "name": "stderr",
     "output_type": "stream",
     "text": [
      "INFO:tensorflow:Assets written to: models\\assets\n",
      "wandb: Adding directory to artifact (.\\models)... Done. 0.2s\n"
     ]
    },
    {
     "name": "stdout",
     "output_type": "stream",
     "text": [
      "534/534 [==============================] - 24s 45ms/step - loss: 0.0985 - auc_1: 0.6955 - val_loss: 0.1483 - val_auc_1: 0.6331\n",
      "Epoch 19/30\n",
      "534/534 [==============================] - ETA: 0s - loss: 0.0982 - auc_1: 0.6976"
     ]
    },
    {
     "name": "stderr",
     "output_type": "stream",
     "text": [
      "WARNING:absl:Found untraced functions such as _jit_compiled_convolution_op, _jit_compiled_convolution_op, _update_step_xla while saving (showing 3 of 3). These functions will not be directly callable after loading.\n"
     ]
    },
    {
     "name": "stdout",
     "output_type": "stream",
     "text": [
      "INFO:tensorflow:Assets written to: models\\assets\n"
     ]
    },
    {
     "name": "stderr",
     "output_type": "stream",
     "text": [
      "INFO:tensorflow:Assets written to: models\\assets\n",
      "wandb: Adding directory to artifact (.\\models)... Done. 0.1s\n"
     ]
    },
    {
     "name": "stdout",
     "output_type": "stream",
     "text": [
      "534/534 [==============================] - 24s 45ms/step - loss: 0.0982 - auc_1: 0.6976 - val_loss: 0.1336 - val_auc_1: 0.6507\n",
      "Epoch 20/30\n",
      "534/534 [==============================] - ETA: 0s - loss: 0.0981 - auc_1: 0.6986"
     ]
    },
    {
     "name": "stderr",
     "output_type": "stream",
     "text": [
      "WARNING:absl:Found untraced functions such as _jit_compiled_convolution_op, _jit_compiled_convolution_op, _update_step_xla while saving (showing 3 of 3). These functions will not be directly callable after loading.\n"
     ]
    },
    {
     "name": "stdout",
     "output_type": "stream",
     "text": [
      "INFO:tensorflow:Assets written to: models\\assets\n"
     ]
    },
    {
     "name": "stderr",
     "output_type": "stream",
     "text": [
      "INFO:tensorflow:Assets written to: models\\assets\n",
      "wandb: Adding directory to artifact (.\\models)... Done. 0.2s\n"
     ]
    },
    {
     "name": "stdout",
     "output_type": "stream",
     "text": [
      "534/534 [==============================] - 25s 47ms/step - loss: 0.0981 - auc_1: 0.6986 - val_loss: 0.1194 - val_auc_1: 0.6904\n",
      "Epoch 21/30\n",
      "534/534 [==============================] - ETA: 0s - loss: 0.0978 - auc_1: 0.7013"
     ]
    },
    {
     "name": "stderr",
     "output_type": "stream",
     "text": [
      "WARNING:absl:Found untraced functions such as _jit_compiled_convolution_op, _jit_compiled_convolution_op, _update_step_xla while saving (showing 3 of 3). These functions will not be directly callable after loading.\n"
     ]
    },
    {
     "name": "stdout",
     "output_type": "stream",
     "text": [
      "INFO:tensorflow:Assets written to: models\\assets\n"
     ]
    },
    {
     "name": "stderr",
     "output_type": "stream",
     "text": [
      "INFO:tensorflow:Assets written to: models\\assets\n",
      "wandb: Adding directory to artifact (.\\models)... Done. 0.2s\n"
     ]
    },
    {
     "name": "stdout",
     "output_type": "stream",
     "text": [
      "534/534 [==============================] - 26s 48ms/step - loss: 0.0978 - auc_1: 0.7013 - val_loss: 0.1402 - val_auc_1: 0.5890\n",
      "Epoch 22/30\n",
      "533/534 [============================>.] - ETA: 0s - loss: 0.0975 - auc_1: 0.7029"
     ]
    },
    {
     "name": "stderr",
     "output_type": "stream",
     "text": [
      "WARNING:absl:Found untraced functions such as _jit_compiled_convolution_op, _jit_compiled_convolution_op, _update_step_xla while saving (showing 3 of 3). These functions will not be directly callable after loading.\n"
     ]
    },
    {
     "name": "stdout",
     "output_type": "stream",
     "text": [
      "INFO:tensorflow:Assets written to: models\\assets\n"
     ]
    },
    {
     "name": "stderr",
     "output_type": "stream",
     "text": [
      "INFO:tensorflow:Assets written to: models\\assets\n",
      "wandb: Adding directory to artifact (.\\models)... Done. 0.3s\n"
     ]
    },
    {
     "name": "stdout",
     "output_type": "stream",
     "text": [
      "534/534 [==============================] - 26s 48ms/step - loss: 0.0975 - auc_1: 0.7030 - val_loss: 0.1033 - val_auc_1: 0.7206\n",
      "Epoch 23/30\n",
      "534/534 [==============================] - ETA: 0s - loss: 0.0974 - auc_1: 0.7074"
     ]
    },
    {
     "name": "stderr",
     "output_type": "stream",
     "text": [
      "WARNING:absl:Found untraced functions such as _jit_compiled_convolution_op, _jit_compiled_convolution_op, _update_step_xla while saving (showing 3 of 3). These functions will not be directly callable after loading.\n"
     ]
    },
    {
     "name": "stdout",
     "output_type": "stream",
     "text": [
      "INFO:tensorflow:Assets written to: models\\assets\n"
     ]
    },
    {
     "name": "stderr",
     "output_type": "stream",
     "text": [
      "INFO:tensorflow:Assets written to: models\\assets\n",
      "wandb: Adding directory to artifact (.\\models)... Done. 0.1s\n"
     ]
    },
    {
     "name": "stdout",
     "output_type": "stream",
     "text": [
      "534/534 [==============================] - 26s 48ms/step - loss: 0.0974 - auc_1: 0.7074 - val_loss: 0.1340 - val_auc_1: 0.6402\n",
      "Epoch 24/30\n",
      "534/534 [==============================] - ETA: 0s - loss: 0.0972 - auc_1: 0.7033"
     ]
    },
    {
     "name": "stderr",
     "output_type": "stream",
     "text": [
      "WARNING:absl:Found untraced functions such as _jit_compiled_convolution_op, _jit_compiled_convolution_op, _update_step_xla while saving (showing 3 of 3). These functions will not be directly callable after loading.\n"
     ]
    },
    {
     "name": "stdout",
     "output_type": "stream",
     "text": [
      "INFO:tensorflow:Assets written to: models\\assets\n"
     ]
    },
    {
     "name": "stderr",
     "output_type": "stream",
     "text": [
      "INFO:tensorflow:Assets written to: models\\assets\n",
      "wandb: Adding directory to artifact (.\\models)... Done. 0.1s\n"
     ]
    },
    {
     "name": "stdout",
     "output_type": "stream",
     "text": [
      "534/534 [==============================] - 25s 46ms/step - loss: 0.0972 - auc_1: 0.7033 - val_loss: 0.1642 - val_auc_1: 0.5674\n",
      "Epoch 25/30\n",
      "533/534 [============================>.] - ETA: 0s - loss: 0.0969 - auc_1: 0.7083"
     ]
    },
    {
     "name": "stderr",
     "output_type": "stream",
     "text": [
      "WARNING:absl:Found untraced functions such as _jit_compiled_convolution_op, _jit_compiled_convolution_op, _update_step_xla while saving (showing 3 of 3). These functions will not be directly callable after loading.\n"
     ]
    },
    {
     "name": "stdout",
     "output_type": "stream",
     "text": [
      "INFO:tensorflow:Assets written to: models\\assets\n"
     ]
    },
    {
     "name": "stderr",
     "output_type": "stream",
     "text": [
      "INFO:tensorflow:Assets written to: models\\assets\n",
      "wandb: Adding directory to artifact (.\\models)... Done. 0.2s\n"
     ]
    },
    {
     "name": "stdout",
     "output_type": "stream",
     "text": [
      "534/534 [==============================] - 26s 48ms/step - loss: 0.0969 - auc_1: 0.7083 - val_loss: 0.1421 - val_auc_1: 0.6388\n",
      "Epoch 26/30\n",
      "533/534 [============================>.] - ETA: 0s - loss: 0.0967 - auc_1: 0.7064"
     ]
    },
    {
     "name": "stderr",
     "output_type": "stream",
     "text": [
      "WARNING:absl:Found untraced functions such as _jit_compiled_convolution_op, _jit_compiled_convolution_op, _update_step_xla while saving (showing 3 of 3). These functions will not be directly callable after loading.\n"
     ]
    },
    {
     "name": "stdout",
     "output_type": "stream",
     "text": [
      "INFO:tensorflow:Assets written to: models\\assets\n"
     ]
    },
    {
     "name": "stderr",
     "output_type": "stream",
     "text": [
      "INFO:tensorflow:Assets written to: models\\assets\n",
      "wandb: Adding directory to artifact (.\\models)... Done. 0.2s\n"
     ]
    },
    {
     "name": "stdout",
     "output_type": "stream",
     "text": [
      "534/534 [==============================] - 25s 47ms/step - loss: 0.0967 - auc_1: 0.7064 - val_loss: 0.1050 - val_auc_1: 0.7081\n",
      "Epoch 27/30\n",
      "534/534 [==============================] - ETA: 0s - loss: 0.0966 - auc_1: 0.7074"
     ]
    },
    {
     "name": "stderr",
     "output_type": "stream",
     "text": [
      "WARNING:absl:Found untraced functions such as _jit_compiled_convolution_op, _jit_compiled_convolution_op, _update_step_xla while saving (showing 3 of 3). These functions will not be directly callable after loading.\n"
     ]
    },
    {
     "name": "stdout",
     "output_type": "stream",
     "text": [
      "INFO:tensorflow:Assets written to: models\\assets\n"
     ]
    },
    {
     "name": "stderr",
     "output_type": "stream",
     "text": [
      "INFO:tensorflow:Assets written to: models\\assets\n",
      "wandb: Adding directory to artifact (.\\models)... Done. 0.1s\n"
     ]
    },
    {
     "name": "stdout",
     "output_type": "stream",
     "text": [
      "534/534 [==============================] - 24s 45ms/step - loss: 0.0966 - auc_1: 0.7074 - val_loss: 0.1134 - val_auc_1: 0.7035\n",
      "Epoch 28/30\n",
      "534/534 [==============================] - ETA: 0s - loss: 0.0961 - auc_1: 0.7156"
     ]
    },
    {
     "name": "stderr",
     "output_type": "stream",
     "text": [
      "WARNING:absl:Found untraced functions such as _jit_compiled_convolution_op, _jit_compiled_convolution_op, _update_step_xla while saving (showing 3 of 3). These functions will not be directly callable after loading.\n"
     ]
    },
    {
     "name": "stdout",
     "output_type": "stream",
     "text": [
      "INFO:tensorflow:Assets written to: models\\assets\n"
     ]
    },
    {
     "name": "stderr",
     "output_type": "stream",
     "text": [
      "INFO:tensorflow:Assets written to: models\\assets\n",
      "wandb: Adding directory to artifact (.\\models)... Done. 0.2s\n"
     ]
    },
    {
     "name": "stdout",
     "output_type": "stream",
     "text": [
      "534/534 [==============================] - 26s 49ms/step - loss: 0.0961 - auc_1: 0.7156 - val_loss: 0.1234 - val_auc_1: 0.6100\n",
      "Epoch 29/30\n",
      "533/534 [============================>.] - ETA: 0s - loss: 0.0961 - auc_1: 0.7140"
     ]
    },
    {
     "name": "stderr",
     "output_type": "stream",
     "text": [
      "WARNING:absl:Found untraced functions such as _jit_compiled_convolution_op, _jit_compiled_convolution_op, _update_step_xla while saving (showing 3 of 3). These functions will not be directly callable after loading.\n"
     ]
    },
    {
     "name": "stdout",
     "output_type": "stream",
     "text": [
      "INFO:tensorflow:Assets written to: models\\assets\n"
     ]
    },
    {
     "name": "stderr",
     "output_type": "stream",
     "text": [
      "INFO:tensorflow:Assets written to: models\\assets\n",
      "wandb: Adding directory to artifact (.\\models)... Done. 0.2s\n"
     ]
    },
    {
     "name": "stdout",
     "output_type": "stream",
     "text": [
      "534/534 [==============================] - 27s 50ms/step - loss: 0.0961 - auc_1: 0.7141 - val_loss: 0.1187 - val_auc_1: 0.6342\n",
      "Epoch 30/30\n",
      "533/534 [============================>.] - ETA: 0s - loss: 0.0960 - auc_1: 0.7152"
     ]
    },
    {
     "name": "stderr",
     "output_type": "stream",
     "text": [
      "WARNING:absl:Found untraced functions such as _jit_compiled_convolution_op, _jit_compiled_convolution_op, _update_step_xla while saving (showing 3 of 3). These functions will not be directly callable after loading.\n"
     ]
    },
    {
     "name": "stdout",
     "output_type": "stream",
     "text": [
      "INFO:tensorflow:Assets written to: models\\assets\n"
     ]
    },
    {
     "name": "stderr",
     "output_type": "stream",
     "text": [
      "INFO:tensorflow:Assets written to: models\\assets\n",
      "wandb: Adding directory to artifact (.\\models)... Done. 0.2s\n"
     ]
    },
    {
     "name": "stdout",
     "output_type": "stream",
     "text": [
      "534/534 [==============================] - 27s 50ms/step - loss: 0.0960 - auc_1: 0.7152 - val_loss: 0.1003 - val_auc_1: 0.6982\n"
     ]
    },
    {
     "data": {
      "text/html": [
       "W&B sync reduced upload amount by 35.7%             "
      ],
      "text/plain": [
       "<IPython.core.display.HTML object>"
      ]
     },
     "metadata": {},
     "output_type": "display_data"
    },
    {
     "data": {
      "text/html": [
       "<style>\n",
       "    table.wandb td:nth-child(1) { padding: 0 10px; text-align: left ; width: auto;} td:nth-child(2) {text-align: left ; width: 100%}\n",
       "    .wandb-row { display: flex; flex-direction: row; flex-wrap: wrap; justify-content: flex-start; width: 100% }\n",
       "    .wandb-col { display: flex; flex-direction: column; flex-basis: 100%; flex: 1; padding: 10px; }\n",
       "    </style>\n",
       "<div class=\"wandb-row\"><div class=\"wandb-col\"><h3>Run history:</h3><br/><table class=\"wandb\"><tr><td>batch/auc_1</td><td>▄▄▅▆▅▇▇▇▇▇▇▇▇▆▇▇▇▇██▇▆███▇████▃██▇████▁█</td></tr><tr><td>batch/batch_step</td><td>▁▁▁▂▂▂▂▂▂▃▃▃▃▃▄▄▄▄▄▄▅▅▅▅▅▅▆▆▆▆▆▇▇▇▇▇▇███</td></tr><tr><td>batch/learning_rate</td><td>▁▁▁▁▁▁▁▁▁▁▁▁▁▁▁▁▁▁▁▁▁▁▁▁▁▁▁▁▁▁▁▁▁▁▁▁▁▁▁▁</td></tr><tr><td>batch/loss</td><td>█▄▂▂▁▂▁▁▁▁▁▁▁▁▁▁▁▁▁▁▁▁▁▁▁▁▁▁▁▁▁▁▁▁▁▁▁▁▂▁</td></tr><tr><td>epoch/auc_1</td><td>▁▄▅▆▆▆▆▇▇▇▇▇▇▇▇▇▇▇▇▇██████████</td></tr><tr><td>epoch/epoch</td><td>▁▁▁▂▂▂▂▃▃▃▃▄▄▄▄▅▅▅▅▆▆▆▆▇▇▇▇███</td></tr><tr><td>epoch/learning_rate</td><td>▁▁▁▁▁▁▁▁▁▁▁▁▁▁▁▁▁▁▁▁▁▁▁▁▁▁▁▁▁▁</td></tr><tr><td>epoch/loss</td><td>█▃▃▂▂▂▂▂▂▂▂▂▁▁▁▁▁▁▁▁▁▁▁▁▁▁▁▁▁▁</td></tr><tr><td>epoch/val_auc_1</td><td>▂▄▁▂▅▅▁▂▃▂▇▂▆▇▅▇▂▅▅▇▃█▅▂▅█▇▄▅▇</td></tr><tr><td>epoch/val_loss</td><td>▂▅▄▃▁▁█▄▂▄▁▆▄▁▁▁▄▃▃▂▃▁▃▄▃▁▂▂▂▁</td></tr></table><br/></div><div class=\"wandb-col\"><h3>Run summary:</h3><br/><table class=\"wandb\"><tr><td>batch/auc_1</td><td>0.71521</td></tr><tr><td>batch/batch_step</td><td>16018</td></tr><tr><td>batch/learning_rate</td><td>0.001</td></tr><tr><td>batch/loss</td><td>0.09596</td></tr><tr><td>epoch/auc_1</td><td>0.71518</td></tr><tr><td>epoch/epoch</td><td>29</td></tr><tr><td>epoch/learning_rate</td><td>0.001</td></tr><tr><td>epoch/loss</td><td>0.096</td></tr><tr><td>epoch/val_auc_1</td><td>0.69822</td></tr><tr><td>epoch/val_loss</td><td>0.1003</td></tr></table><br/></div></div>"
      ],
      "text/plain": [
       "<IPython.core.display.HTML object>"
      ]
     },
     "metadata": {},
     "output_type": "display_data"
    },
    {
     "data": {
      "text/html": [
       " View run <strong style=\"color:#cdcd00\">daily-river-5</strong> at: <a href='https://wandb.ai/fyp-hearts/fyp-hearts-lenet/runs/9p0p2hwk' target=\"_blank\">https://wandb.ai/fyp-hearts/fyp-hearts-lenet/runs/9p0p2hwk</a><br/>Synced 5 W&B file(s), 0 media file(s), 1770 artifact file(s) and 0 other file(s)"
      ],
      "text/plain": [
       "<IPython.core.display.HTML object>"
      ]
     },
     "metadata": {},
     "output_type": "display_data"
    },
    {
     "data": {
      "text/html": [
       "Find logs at: <code>.\\wandb\\run-20240519_131355-9p0p2hwk\\logs</code>"
      ],
      "text/plain": [
       "<IPython.core.display.HTML object>"
      ]
     },
     "metadata": {},
     "output_type": "display_data"
    }
   ],
   "source": [
    "history = lenet_5_model.fit(X_train, y_train, epochs=config.epochs, validation_data=(X_val, y_val),\n",
    "                            callbacks=[\n",
    "                                WandbMetricsLogger(log_freq=2),\n",
    "                                WandbModelCheckpoint(\"models\")\n",
    "                            ])\n",
    "\n",
    "wandb.finish()"
   ]
  },
  {
   "cell_type": "code",
   "execution_count": 11,
   "metadata": {},
   "outputs": [
    {
     "name": "stdout",
     "output_type": "stream",
     "text": [
      "68/68 [==============================] - 1s 10ms/step\n",
      "0.7716123980144007\n"
     ]
    }
   ],
   "source": [
    "from sklearn.metrics import roc_auc_score\n",
    "\n",
    "preds = lenet_5_model.predict(X_test)\n",
    "print(roc_auc_score(y_test,preds))"
   ]
  },
  {
   "cell_type": "markdown",
   "metadata": {},
   "source": [
    "## Try the sweep"
   ]
  },
  {
   "cell_type": "code",
   "execution_count": 8,
   "metadata": {},
   "outputs": [
    {
     "name": "stdout",
     "output_type": "stream",
     "text": [
      "Create sweep with ID: pj0b3bw9\n",
      "Sweep URL: https://wandb.ai/fyp-hearts/lenet_5_sweep/sweeps/pj0b3bw9\n"
     ]
    }
   ],
   "source": [
    "sweep_config = {\n",
    "    'method': 'random',  # Method of sweep: 'grid', 'random' or 'bayes'\n",
    "    'metric': {\n",
    "        'name': 'accuracy',\n",
    "        'goal': 'maximize'\n",
    "    },\n",
    "    'parameters': {\n",
    "        'filters_1': {\n",
    "            'values': [16, 32, 64]\n",
    "        },\n",
    "        'filters_2': {\n",
    "            'values': [32, 64, 128]\n",
    "        },\n",
    "        'dense_1': {\n",
    "            'values': [64, 128, 256]\n",
    "        },\n",
    "        'learning_rate': {\n",
    "            'values': [0.001, 0.0001]\n",
    "        }\n",
    "    }\n",
    "}\n",
    "\n",
    "# Initialize the sweep\n",
    "sweep_id = wandb.sweep(sweep_config, project='lenet_5_sweep')"
   ]
  },
  {
   "cell_type": "code",
   "execution_count": 9,
   "metadata": {},
   "outputs": [
    {
     "name": "stderr",
     "output_type": "stream",
     "text": [
      "wandb: WARNING Calling wandb.login() after wandb.init() has no effect.\n",
      "wandb: Agent Starting Run: 0nwu1imm with config:\n",
      "wandb: \tdense_1: 256\n",
      "wandb: \tfilters_1: 32\n",
      "wandb: \tfilters_2: 64\n",
      "wandb: \tlearning_rate: 0.0001\n"
     ]
    },
    {
     "data": {
      "text/html": [
       "wandb version 0.17.0 is available!  To upgrade, please run:\n",
       " $ pip install wandb --upgrade"
      ],
      "text/plain": [
       "<IPython.core.display.HTML object>"
      ]
     },
     "metadata": {},
     "output_type": "display_data"
    },
    {
     "data": {
      "text/html": [
       "Tracking run with wandb version 0.16.2"
      ],
      "text/plain": [
       "<IPython.core.display.HTML object>"
      ]
     },
     "metadata": {},
     "output_type": "display_data"
    },
    {
     "data": {
      "text/html": [
       "Run data is saved locally in <code>c:\\Mohit\\Imperial\\fyp-hearts\\wandb\\run-20240519_171001-0nwu1imm</code>"
      ],
      "text/plain": [
       "<IPython.core.display.HTML object>"
      ]
     },
     "metadata": {},
     "output_type": "display_data"
    },
    {
     "data": {
      "text/html": [
       "Syncing run <strong><a href='https://wandb.ai/fyp-hearts/lenet_5_sweep/runs/0nwu1imm' target=\"_blank\">sunny-sweep-1</a></strong> to <a href='https://wandb.ai/fyp-hearts/lenet_5_sweep' target=\"_blank\">Weights & Biases</a> (<a href='https://wandb.me/run' target=\"_blank\">docs</a>)<br/>Sweep page: <a href='https://wandb.ai/fyp-hearts/lenet_5_sweep/sweeps/pj0b3bw9' target=\"_blank\">https://wandb.ai/fyp-hearts/lenet_5_sweep/sweeps/pj0b3bw9</a>"
      ],
      "text/plain": [
       "<IPython.core.display.HTML object>"
      ]
     },
     "metadata": {},
     "output_type": "display_data"
    },
    {
     "data": {
      "text/html": [
       " View project at <a href='https://wandb.ai/fyp-hearts/lenet_5_sweep' target=\"_blank\">https://wandb.ai/fyp-hearts/lenet_5_sweep</a>"
      ],
      "text/plain": [
       "<IPython.core.display.HTML object>"
      ]
     },
     "metadata": {},
     "output_type": "display_data"
    },
    {
     "data": {
      "text/html": [
       " View sweep at <a href='https://wandb.ai/fyp-hearts/lenet_5_sweep/sweeps/pj0b3bw9' target=\"_blank\">https://wandb.ai/fyp-hearts/lenet_5_sweep/sweeps/pj0b3bw9</a>"
      ],
      "text/plain": [
       "<IPython.core.display.HTML object>"
      ]
     },
     "metadata": {},
     "output_type": "display_data"
    },
    {
     "data": {
      "text/html": [
       " View run at <a href='https://wandb.ai/fyp-hearts/lenet_5_sweep/runs/0nwu1imm' target=\"_blank\">https://wandb.ai/fyp-hearts/lenet_5_sweep/runs/0nwu1imm</a>"
      ],
      "text/plain": [
       "<IPython.core.display.HTML object>"
      ]
     },
     "metadata": {},
     "output_type": "display_data"
    },
    {
     "name": "stderr",
     "output_type": "stream",
     "text": [
      "wandb: WARNING The save_model argument by default saves the model in the HDF5 format that cannot save custom objects like subclassed models and custom layers. This behavior will be deprecated in a future release in favor of the SavedModel format. Meanwhile, the HDF5 model is saved as W&B files and the SavedModel as W&B Artifacts.\n"
     ]
    },
    {
     "name": "stdout",
     "output_type": "stream",
     "text": [
      "Epoch 1/30\n",
      "534/534 [==============================] - ETA: 0s - loss: 0.1909 - accuracy: 0.0544 - auc: 0.4925"
     ]
    },
    {
     "name": "stderr",
     "output_type": "stream",
     "text": [
      "WARNING:absl:Found untraced functions such as _jit_compiled_convolution_op, _jit_compiled_convolution_op, _update_step_xla while saving (showing 3 of 3). These functions will not be directly callable after loading.\n"
     ]
    },
    {
     "name": "stdout",
     "output_type": "stream",
     "text": [
      "INFO:tensorflow:Assets written to: c:\\Mohit\\Imperial\\fyp-hearts\\wandb\\run-20240519_171001-0nwu1imm\\files\\model-best\\assets\n"
     ]
    },
    {
     "name": "stderr",
     "output_type": "stream",
     "text": [
      "INFO:tensorflow:Assets written to: c:\\Mohit\\Imperial\\fyp-hearts\\wandb\\run-20240519_171001-0nwu1imm\\files\\model-best\\assets\n",
      "wandb: Adding directory to artifact (c:\\Mohit\\Imperial\\fyp-hearts\\wandb\\run-20240519_171001-0nwu1imm\\files\\model-best)... Done. 0.1s\n"
     ]
    },
    {
     "name": "stdout",
     "output_type": "stream",
     "text": [
      "534/534 [==============================] - 48s 85ms/step - loss: 0.1909 - accuracy: 0.0544 - auc: 0.4925 - val_loss: 0.1195 - val_accuracy: 0.0646 - val_auc: 0.5075\n",
      "Epoch 2/30\n",
      "534/534 [==============================] - ETA: 0s - loss: 0.1178 - accuracy: 0.0582 - auc: 0.5395"
     ]
    },
    {
     "name": "stderr",
     "output_type": "stream",
     "text": [
      "WARNING:absl:Found untraced functions such as _jit_compiled_convolution_op, _jit_compiled_convolution_op, _update_step_xla while saving (showing 3 of 3). These functions will not be directly callable after loading.\n"
     ]
    },
    {
     "name": "stdout",
     "output_type": "stream",
     "text": [
      "INFO:tensorflow:Assets written to: c:\\Mohit\\Imperial\\fyp-hearts\\wandb\\run-20240519_171001-0nwu1imm\\files\\model-best\\assets\n"
     ]
    },
    {
     "name": "stderr",
     "output_type": "stream",
     "text": [
      "INFO:tensorflow:Assets written to: c:\\Mohit\\Imperial\\fyp-hearts\\wandb\\run-20240519_171001-0nwu1imm\\files\\model-best\\assets\n",
      "wandb: Adding directory to artifact (c:\\Mohit\\Imperial\\fyp-hearts\\wandb\\run-20240519_171001-0nwu1imm\\files\\model-best)... Done. 0.0s\n"
     ]
    },
    {
     "name": "stdout",
     "output_type": "stream",
     "text": [
      "534/534 [==============================] - 50s 94ms/step - loss: 0.1178 - accuracy: 0.0582 - auc: 0.5395 - val_loss: 0.1162 - val_accuracy: 0.0646 - val_auc: 0.5772\n",
      "Epoch 3/30\n",
      "534/534 [==============================] - ETA: 0s - loss: 0.1144 - accuracy: 0.0586 - auc: 0.5905"
     ]
    },
    {
     "name": "stderr",
     "output_type": "stream",
     "text": [
      "WARNING:absl:Found untraced functions such as _jit_compiled_convolution_op, _jit_compiled_convolution_op, _update_step_xla while saving (showing 3 of 3). These functions will not be directly callable after loading.\n"
     ]
    },
    {
     "name": "stdout",
     "output_type": "stream",
     "text": [
      "INFO:tensorflow:Assets written to: c:\\Mohit\\Imperial\\fyp-hearts\\wandb\\run-20240519_171001-0nwu1imm\\files\\model-best\\assets\n"
     ]
    },
    {
     "name": "stderr",
     "output_type": "stream",
     "text": [
      "INFO:tensorflow:Assets written to: c:\\Mohit\\Imperial\\fyp-hearts\\wandb\\run-20240519_171001-0nwu1imm\\files\\model-best\\assets\n",
      "wandb: Adding directory to artifact (c:\\Mohit\\Imperial\\fyp-hearts\\wandb\\run-20240519_171001-0nwu1imm\\files\\model-best)... Done. 0.0s\n"
     ]
    },
    {
     "name": "stdout",
     "output_type": "stream",
     "text": [
      "534/534 [==============================] - 49s 92ms/step - loss: 0.1144 - accuracy: 0.0586 - auc: 0.5905 - val_loss: 0.1126 - val_accuracy: 0.0656 - val_auc: 0.6235\n",
      "Epoch 4/30\n",
      "534/534 [==============================] - ETA: 0s - loss: 0.1106 - accuracy: 0.0610 - auc: 0.6233"
     ]
    },
    {
     "name": "stderr",
     "output_type": "stream",
     "text": [
      "WARNING:absl:Found untraced functions such as _jit_compiled_convolution_op, _jit_compiled_convolution_op, _update_step_xla while saving (showing 3 of 3). These functions will not be directly callable after loading.\n"
     ]
    },
    {
     "name": "stdout",
     "output_type": "stream",
     "text": [
      "INFO:tensorflow:Assets written to: c:\\Mohit\\Imperial\\fyp-hearts\\wandb\\run-20240519_171001-0nwu1imm\\files\\model-best\\assets\n"
     ]
    },
    {
     "name": "stderr",
     "output_type": "stream",
     "text": [
      "INFO:tensorflow:Assets written to: c:\\Mohit\\Imperial\\fyp-hearts\\wandb\\run-20240519_171001-0nwu1imm\\files\\model-best\\assets\n",
      "wandb: Adding directory to artifact (c:\\Mohit\\Imperial\\fyp-hearts\\wandb\\run-20240519_171001-0nwu1imm\\files\\model-best)... Done. 0.0s\n"
     ]
    },
    {
     "name": "stdout",
     "output_type": "stream",
     "text": [
      "534/534 [==============================] - 50s 93ms/step - loss: 0.1106 - accuracy: 0.0610 - auc: 0.6233 - val_loss: 0.1094 - val_accuracy: 0.0651 - val_auc: 0.6353\n",
      "Epoch 5/30\n",
      "534/534 [==============================] - ETA: 0s - loss: 0.1077 - accuracy: 0.0640 - auc: 0.6410"
     ]
    },
    {
     "name": "stderr",
     "output_type": "stream",
     "text": [
      "WARNING:absl:Found untraced functions such as _jit_compiled_convolution_op, _jit_compiled_convolution_op, _update_step_xla while saving (showing 3 of 3). These functions will not be directly callable after loading.\n"
     ]
    },
    {
     "name": "stdout",
     "output_type": "stream",
     "text": [
      "INFO:tensorflow:Assets written to: c:\\Mohit\\Imperial\\fyp-hearts\\wandb\\run-20240519_171001-0nwu1imm\\files\\model-best\\assets\n"
     ]
    },
    {
     "name": "stderr",
     "output_type": "stream",
     "text": [
      "INFO:tensorflow:Assets written to: c:\\Mohit\\Imperial\\fyp-hearts\\wandb\\run-20240519_171001-0nwu1imm\\files\\model-best\\assets\n",
      "wandb: Adding directory to artifact (c:\\Mohit\\Imperial\\fyp-hearts\\wandb\\run-20240519_171001-0nwu1imm\\files\\model-best)... Done. 0.0s\n"
     ]
    },
    {
     "name": "stdout",
     "output_type": "stream",
     "text": [
      "534/534 [==============================] - 49s 91ms/step - loss: 0.1077 - accuracy: 0.0640 - auc: 0.6410 - val_loss: 0.1084 - val_accuracy: 0.0679 - val_auc: 0.6521\n",
      "Epoch 6/30\n",
      "534/534 [==============================] - ETA: 0s - loss: 0.1058 - accuracy: 0.0710 - auc: 0.6535"
     ]
    },
    {
     "name": "stderr",
     "output_type": "stream",
     "text": [
      "WARNING:absl:Found untraced functions such as _jit_compiled_convolution_op, _jit_compiled_convolution_op, _update_step_xla while saving (showing 3 of 3). These functions will not be directly callable after loading.\n"
     ]
    },
    {
     "name": "stdout",
     "output_type": "stream",
     "text": [
      "INFO:tensorflow:Assets written to: c:\\Mohit\\Imperial\\fyp-hearts\\wandb\\run-20240519_171001-0nwu1imm\\files\\model-best\\assets\n"
     ]
    },
    {
     "name": "stderr",
     "output_type": "stream",
     "text": [
      "INFO:tensorflow:Assets written to: c:\\Mohit\\Imperial\\fyp-hearts\\wandb\\run-20240519_171001-0nwu1imm\\files\\model-best\\assets\n",
      "wandb: Adding directory to artifact (c:\\Mohit\\Imperial\\fyp-hearts\\wandb\\run-20240519_171001-0nwu1imm\\files\\model-best)... Done. 0.0s\n"
     ]
    },
    {
     "name": "stdout",
     "output_type": "stream",
     "text": [
      "534/534 [==============================] - 43s 80ms/step - loss: 0.1058 - accuracy: 0.0710 - auc: 0.6535 - val_loss: 0.1077 - val_accuracy: 0.0740 - val_auc: 0.6714\n",
      "Epoch 7/30\n",
      "534/534 [==============================] - ETA: 0s - loss: 0.1044 - accuracy: 0.0799 - auc: 0.6624"
     ]
    },
    {
     "name": "stderr",
     "output_type": "stream",
     "text": [
      "WARNING:absl:Found untraced functions such as _jit_compiled_convolution_op, _jit_compiled_convolution_op, _update_step_xla while saving (showing 3 of 3). These functions will not be directly callable after loading.\n"
     ]
    },
    {
     "name": "stdout",
     "output_type": "stream",
     "text": [
      "INFO:tensorflow:Assets written to: c:\\Mohit\\Imperial\\fyp-hearts\\wandb\\run-20240519_171001-0nwu1imm\\files\\model-best\\assets\n"
     ]
    },
    {
     "name": "stderr",
     "output_type": "stream",
     "text": [
      "INFO:tensorflow:Assets written to: c:\\Mohit\\Imperial\\fyp-hearts\\wandb\\run-20240519_171001-0nwu1imm\\files\\model-best\\assets\n",
      "wandb: Adding directory to artifact (c:\\Mohit\\Imperial\\fyp-hearts\\wandb\\run-20240519_171001-0nwu1imm\\files\\model-best)... Done. 0.0s\n"
     ]
    },
    {
     "name": "stdout",
     "output_type": "stream",
     "text": [
      "534/534 [==============================] - 38s 71ms/step - loss: 0.1044 - accuracy: 0.0799 - auc: 0.6624 - val_loss: 0.1054 - val_accuracy: 0.0740 - val_auc: 0.6713\n",
      "Epoch 8/30\n",
      "534/534 [==============================] - 41s 76ms/step - loss: 0.1036 - accuracy: 0.0888 - auc: 0.6690 - val_loss: 0.1073 - val_accuracy: 0.2112 - val_auc: 0.6689\n",
      "Epoch 9/30\n",
      "534/534 [==============================] - ETA: 0s - loss: 0.1027 - accuracy: 0.0956 - auc: 0.6764"
     ]
    },
    {
     "name": "stderr",
     "output_type": "stream",
     "text": [
      "WARNING:absl:Found untraced functions such as _jit_compiled_convolution_op, _jit_compiled_convolution_op, _update_step_xla while saving (showing 3 of 3). These functions will not be directly callable after loading.\n"
     ]
    },
    {
     "name": "stdout",
     "output_type": "stream",
     "text": [
      "INFO:tensorflow:Assets written to: c:\\Mohit\\Imperial\\fyp-hearts\\wandb\\run-20240519_171001-0nwu1imm\\files\\model-best\\assets\n"
     ]
    },
    {
     "name": "stderr",
     "output_type": "stream",
     "text": [
      "INFO:tensorflow:Assets written to: c:\\Mohit\\Imperial\\fyp-hearts\\wandb\\run-20240519_171001-0nwu1imm\\files\\model-best\\assets\n",
      "wandb: Adding directory to artifact (c:\\Mohit\\Imperial\\fyp-hearts\\wandb\\run-20240519_171001-0nwu1imm\\files\\model-best)... Done. 0.0s\n"
     ]
    },
    {
     "name": "stdout",
     "output_type": "stream",
     "text": [
      "534/534 [==============================] - 44s 82ms/step - loss: 0.1027 - accuracy: 0.0956 - auc: 0.6764 - val_loss: 0.1030 - val_accuracy: 0.0829 - val_auc: 0.6894\n",
      "Epoch 10/30\n",
      "534/534 [==============================] - ETA: 0s - loss: 0.1020 - accuracy: 0.0992 - auc: 0.6808"
     ]
    },
    {
     "name": "stderr",
     "output_type": "stream",
     "text": [
      "WARNING:absl:Found untraced functions such as _jit_compiled_convolution_op, _jit_compiled_convolution_op, _update_step_xla while saving (showing 3 of 3). These functions will not be directly callable after loading.\n"
     ]
    },
    {
     "name": "stdout",
     "output_type": "stream",
     "text": [
      "INFO:tensorflow:Assets written to: c:\\Mohit\\Imperial\\fyp-hearts\\wandb\\run-20240519_171001-0nwu1imm\\files\\model-best\\assets\n"
     ]
    },
    {
     "name": "stderr",
     "output_type": "stream",
     "text": [
      "INFO:tensorflow:Assets written to: c:\\Mohit\\Imperial\\fyp-hearts\\wandb\\run-20240519_171001-0nwu1imm\\files\\model-best\\assets\n",
      "wandb: Adding directory to artifact (c:\\Mohit\\Imperial\\fyp-hearts\\wandb\\run-20240519_171001-0nwu1imm\\files\\model-best)... Done. 0.0s\n"
     ]
    },
    {
     "name": "stdout",
     "output_type": "stream",
     "text": [
      "534/534 [==============================] - 47s 87ms/step - loss: 0.1020 - accuracy: 0.0992 - auc: 0.6808 - val_loss: 0.1027 - val_accuracy: 0.0843 - val_auc: 0.6889\n",
      "Epoch 11/30\n",
      "534/534 [==============================] - 34s 63ms/step - loss: 0.1015 - accuracy: 0.1048 - auc: 0.6871 - val_loss: 0.1054 - val_accuracy: 0.1621 - val_auc: 0.6826\n",
      "Epoch 12/30\n",
      "534/534 [==============================] - ETA: 0s - loss: 0.1012 - accuracy: 0.1120 - auc: 0.6959"
     ]
    },
    {
     "name": "stderr",
     "output_type": "stream",
     "text": [
      "WARNING:absl:Found untraced functions such as _jit_compiled_convolution_op, _jit_compiled_convolution_op, _update_step_xla while saving (showing 3 of 3). These functions will not be directly callable after loading.\n"
     ]
    },
    {
     "name": "stdout",
     "output_type": "stream",
     "text": [
      "INFO:tensorflow:Assets written to: c:\\Mohit\\Imperial\\fyp-hearts\\wandb\\run-20240519_171001-0nwu1imm\\files\\model-best\\assets\n"
     ]
    },
    {
     "name": "stderr",
     "output_type": "stream",
     "text": [
      "INFO:tensorflow:Assets written to: c:\\Mohit\\Imperial\\fyp-hearts\\wandb\\run-20240519_171001-0nwu1imm\\files\\model-best\\assets\n",
      "wandb: Adding directory to artifact (c:\\Mohit\\Imperial\\fyp-hearts\\wandb\\run-20240519_171001-0nwu1imm\\files\\model-best)... Done. 0.1s\n"
     ]
    },
    {
     "name": "stdout",
     "output_type": "stream",
     "text": [
      "534/534 [==============================] - 51s 96ms/step - loss: 0.1012 - accuracy: 0.1120 - auc: 0.6959 - val_loss: 0.1014 - val_accuracy: 0.1143 - val_auc: 0.6955\n",
      "Epoch 13/30\n",
      "534/534 [==============================] - ETA: 0s - loss: 0.1007 - accuracy: 0.1114 - auc: 0.6967"
     ]
    },
    {
     "name": "stderr",
     "output_type": "stream",
     "text": [
      "WARNING:absl:Found untraced functions such as _jit_compiled_convolution_op, _jit_compiled_convolution_op, _update_step_xla while saving (showing 3 of 3). These functions will not be directly callable after loading.\n"
     ]
    },
    {
     "name": "stdout",
     "output_type": "stream",
     "text": [
      "INFO:tensorflow:Assets written to: c:\\Mohit\\Imperial\\fyp-hearts\\wandb\\run-20240519_171001-0nwu1imm\\files\\model-best\\assets\n"
     ]
    },
    {
     "name": "stderr",
     "output_type": "stream",
     "text": [
      "INFO:tensorflow:Assets written to: c:\\Mohit\\Imperial\\fyp-hearts\\wandb\\run-20240519_171001-0nwu1imm\\files\\model-best\\assets\n",
      "wandb: Adding directory to artifact (c:\\Mohit\\Imperial\\fyp-hearts\\wandb\\run-20240519_171001-0nwu1imm\\files\\model-best)... Done. 0.0s\n"
     ]
    },
    {
     "name": "stdout",
     "output_type": "stream",
     "text": [
      "534/534 [==============================] - 50s 93ms/step - loss: 0.1007 - accuracy: 0.1114 - auc: 0.6967 - val_loss: 0.1010 - val_accuracy: 0.0965 - val_auc: 0.7056\n",
      "Epoch 14/30\n",
      "534/534 [==============================] - 43s 81ms/step - loss: 0.1002 - accuracy: 0.1170 - auc: 0.7051 - val_loss: 0.1019 - val_accuracy: 0.1850 - val_auc: 0.6894\n",
      "Epoch 15/30\n",
      "534/534 [==============================] - ETA: 0s - loss: 0.0998 - accuracy: 0.1153 - auc: 0.7078"
     ]
    },
    {
     "name": "stderr",
     "output_type": "stream",
     "text": [
      "WARNING:absl:Found untraced functions such as _jit_compiled_convolution_op, _jit_compiled_convolution_op, _update_step_xla while saving (showing 3 of 3). These functions will not be directly callable after loading.\n"
     ]
    },
    {
     "name": "stdout",
     "output_type": "stream",
     "text": [
      "INFO:tensorflow:Assets written to: c:\\Mohit\\Imperial\\fyp-hearts\\wandb\\run-20240519_171001-0nwu1imm\\files\\model-best\\assets\n"
     ]
    },
    {
     "name": "stderr",
     "output_type": "stream",
     "text": [
      "INFO:tensorflow:Assets written to: c:\\Mohit\\Imperial\\fyp-hearts\\wandb\\run-20240519_171001-0nwu1imm\\files\\model-best\\assets\n",
      "wandb: Adding directory to artifact (c:\\Mohit\\Imperial\\fyp-hearts\\wandb\\run-20240519_171001-0nwu1imm\\files\\model-best)... Done. 0.0s\n"
     ]
    },
    {
     "name": "stdout",
     "output_type": "stream",
     "text": [
      "534/534 [==============================] - 47s 88ms/step - loss: 0.0998 - accuracy: 0.1153 - auc: 0.7078 - val_loss: 0.1009 - val_accuracy: 0.1162 - val_auc: 0.7083\n",
      "Epoch 16/30\n",
      "534/534 [==============================] - 51s 96ms/step - loss: 0.0997 - accuracy: 0.1187 - auc: 0.7052 - val_loss: 0.1013 - val_accuracy: 0.0829 - val_auc: 0.7121\n",
      "Epoch 17/30\n",
      "534/534 [==============================] - 41s 77ms/step - loss: 0.0994 - accuracy: 0.1221 - auc: 0.7110 - val_loss: 0.1095 - val_accuracy: 0.2909 - val_auc: 0.6925\n",
      "Epoch 18/30\n",
      "534/534 [==============================] - ETA: 0s - loss: 0.0991 - accuracy: 0.1231 - auc: 0.7119"
     ]
    },
    {
     "name": "stderr",
     "output_type": "stream",
     "text": [
      "WARNING:absl:Found untraced functions such as _jit_compiled_convolution_op, _jit_compiled_convolution_op, _update_step_xla while saving (showing 3 of 3). These functions will not be directly callable after loading.\n"
     ]
    },
    {
     "name": "stdout",
     "output_type": "stream",
     "text": [
      "INFO:tensorflow:Assets written to: c:\\Mohit\\Imperial\\fyp-hearts\\wandb\\run-20240519_171001-0nwu1imm\\files\\model-best\\assets\n"
     ]
    },
    {
     "name": "stderr",
     "output_type": "stream",
     "text": [
      "INFO:tensorflow:Assets written to: c:\\Mohit\\Imperial\\fyp-hearts\\wandb\\run-20240519_171001-0nwu1imm\\files\\model-best\\assets\n",
      "wandb: Adding directory to artifact (c:\\Mohit\\Imperial\\fyp-hearts\\wandb\\run-20240519_171001-0nwu1imm\\files\\model-best)... Done. 0.1s\n"
     ]
    },
    {
     "name": "stdout",
     "output_type": "stream",
     "text": [
      "534/534 [==============================] - 53s 98ms/step - loss: 0.0991 - accuracy: 0.1231 - auc: 0.7119 - val_loss: 0.0999 - val_accuracy: 0.0951 - val_auc: 0.7322\n",
      "Epoch 19/30\n",
      "534/534 [==============================] - 49s 92ms/step - loss: 0.0987 - accuracy: 0.1213 - auc: 0.7152 - val_loss: 0.1015 - val_accuracy: 0.2066 - val_auc: 0.7135\n",
      "Epoch 20/30\n",
      "534/534 [==============================] - 41s 76ms/step - loss: 0.0984 - accuracy: 0.1246 - auc: 0.7214 - val_loss: 0.0999 - val_accuracy: 0.1143 - val_auc: 0.7111\n",
      "Epoch 21/30\n",
      "534/534 [==============================] - 44s 83ms/step - loss: 0.0981 - accuracy: 0.1258 - auc: 0.7224 - val_loss: 0.1004 - val_accuracy: 0.1485 - val_auc: 0.7062\n",
      "Epoch 22/30\n",
      "534/534 [==============================] - ETA: 0s - loss: 0.0979 - accuracy: 0.1253 - auc: 0.7256"
     ]
    },
    {
     "name": "stderr",
     "output_type": "stream",
     "text": [
      "WARNING:absl:Found untraced functions such as _jit_compiled_convolution_op, _jit_compiled_convolution_op, _update_step_xla while saving (showing 3 of 3). These functions will not be directly callable after loading.\n"
     ]
    },
    {
     "name": "stdout",
     "output_type": "stream",
     "text": [
      "INFO:tensorflow:Assets written to: c:\\Mohit\\Imperial\\fyp-hearts\\wandb\\run-20240519_171001-0nwu1imm\\files\\model-best\\assets\n"
     ]
    },
    {
     "name": "stderr",
     "output_type": "stream",
     "text": [
      "INFO:tensorflow:Assets written to: c:\\Mohit\\Imperial\\fyp-hearts\\wandb\\run-20240519_171001-0nwu1imm\\files\\model-best\\assets\n",
      "wandb: Adding directory to artifact (c:\\Mohit\\Imperial\\fyp-hearts\\wandb\\run-20240519_171001-0nwu1imm\\files\\model-best)... Done. 0.0s\n"
     ]
    },
    {
     "name": "stdout",
     "output_type": "stream",
     "text": [
      "534/534 [==============================] - 47s 88ms/step - loss: 0.0979 - accuracy: 0.1253 - auc: 0.7256 - val_loss: 0.0984 - val_accuracy: 0.1194 - val_auc: 0.7235\n",
      "Epoch 23/30\n",
      "534/534 [==============================] - 49s 91ms/step - loss: 0.0977 - accuracy: 0.1305 - auc: 0.7249 - val_loss: 0.0985 - val_accuracy: 0.1068 - val_auc: 0.7085\n",
      "Epoch 24/30\n",
      "534/534 [==============================] - 49s 92ms/step - loss: 0.0975 - accuracy: 0.1293 - auc: 0.7262 - val_loss: 0.1003 - val_accuracy: 0.1995 - val_auc: 0.7216\n",
      "Epoch 25/30\n",
      "534/534 [==============================] - 47s 88ms/step - loss: 0.0972 - accuracy: 0.1334 - auc: 0.7327 - val_loss: 0.1003 - val_accuracy: 0.1012 - val_auc: 0.7420\n",
      "Epoch 26/30\n",
      "534/534 [==============================] - 53s 100ms/step - loss: 0.0972 - accuracy: 0.1315 - auc: 0.7318 - val_loss: 0.1001 - val_accuracy: 0.1878 - val_auc: 0.7166\n",
      "Epoch 27/30\n",
      "534/534 [==============================] - 48s 89ms/step - loss: 0.0968 - accuracy: 0.1355 - auc: 0.7345 - val_loss: 0.1004 - val_accuracy: 0.0988 - val_auc: 0.7483\n",
      "Epoch 28/30\n",
      "534/534 [==============================] - 40s 75ms/step - loss: 0.0967 - accuracy: 0.1332 - auc: 0.7329 - val_loss: 0.0993 - val_accuracy: 0.0890 - val_auc: 0.7370\n",
      "Epoch 29/30\n",
      "534/534 [==============================] - 37s 69ms/step - loss: 0.0963 - accuracy: 0.1299 - auc: 0.7416 - val_loss: 0.0986 - val_accuracy: 0.1855 - val_auc: 0.7188\n",
      "Epoch 30/30\n",
      "534/534 [==============================] - 38s 71ms/step - loss: 0.0964 - accuracy: 0.1413 - auc: 0.7425 - val_loss: 0.0990 - val_accuracy: 0.1012 - val_auc: 0.7382\n"
     ]
    },
    {
     "data": {
      "text/html": [
       "W&B sync reduced upload amount by 1.3%             "
      ],
      "text/plain": [
       "<IPython.core.display.HTML object>"
      ]
     },
     "metadata": {},
     "output_type": "display_data"
    },
    {
     "data": {
      "text/html": [
       "<style>\n",
       "    table.wandb td:nth-child(1) { padding: 0 10px; text-align: left ; width: auto;} td:nth-child(2) {text-align: left ; width: 100%}\n",
       "    .wandb-row { display: flex; flex-direction: row; flex-wrap: wrap; justify-content: flex-start; width: 100% }\n",
       "    .wandb-col { display: flex; flex-direction: column; flex-basis: 100%; flex: 1; padding: 10px; }\n",
       "    </style>\n",
       "<div class=\"wandb-row\"><div class=\"wandb-col\"><h3>Run history:</h3><br/><table class=\"wandb\"><tr><td>accuracy</td><td>▁▁▁▂▂▂▃▄▄▅▅▆▆▆▆▆▆▇▆▇▇▇▇▇▇▇█▇▇█</td></tr><tr><td>auc</td><td>▁▂▄▅▅▆▆▆▆▆▆▇▇▇▇▇▇▇▇▇▇█████████</td></tr><tr><td>epoch</td><td>▁▁▁▂▂▂▂▃▃▃▃▄▄▄▄▅▅▅▅▆▆▆▆▇▇▇▇███</td></tr><tr><td>loss</td><td>█▃▂▂▂▂▂▂▁▁▁▁▁▁▁▁▁▁▁▁▁▁▁▁▁▁▁▁▁▁</td></tr><tr><td>val_accuracy</td><td>▁▁▁▁▁▁▁▆▂▂▄▃▂▅▃▂█▂▅▃▄▃▂▅▂▅▂▂▅▂</td></tr><tr><td>val_auc</td><td>▁▃▄▅▅▆▆▆▆▆▆▆▇▆▇▇▆█▇▇▇▇▇▇█▇██▇█</td></tr><tr><td>val_loss</td><td>█▇▆▅▄▄▃▄▃▂▃▂▂▂▂▂▅▁▂▁▂▁▁▂▂▂▂▁▁▁</td></tr></table><br/></div><div class=\"wandb-col\"><h3>Run summary:</h3><br/><table class=\"wandb\"><tr><td>accuracy</td><td>0.14133</td></tr><tr><td>auc</td><td>0.74249</td></tr><tr><td>best_epoch</td><td>21</td></tr><tr><td>best_val_loss</td><td>0.09838</td></tr><tr><td>epoch</td><td>29</td></tr><tr><td>loss</td><td>0.09638</td></tr><tr><td>val_accuracy</td><td>0.10117</td></tr><tr><td>val_auc</td><td>0.73815</td></tr><tr><td>val_loss</td><td>0.09901</td></tr></table><br/></div></div>"
      ],
      "text/plain": [
       "<IPython.core.display.HTML object>"
      ]
     },
     "metadata": {},
     "output_type": "display_data"
    },
    {
     "data": {
      "text/html": [
       " View run <strong style=\"color:#cdcd00\">sunny-sweep-1</strong> at: <a href='https://wandb.ai/fyp-hearts/lenet_5_sweep/runs/0nwu1imm' target=\"_blank\">https://wandb.ai/fyp-hearts/lenet_5_sweep/runs/0nwu1imm</a><br/>Synced 5 W&B file(s), 1 media file(s), 70 artifact file(s) and 1 other file(s)"
      ],
      "text/plain": [
       "<IPython.core.display.HTML object>"
      ]
     },
     "metadata": {},
     "output_type": "display_data"
    },
    {
     "data": {
      "text/html": [
       "Find logs at: <code>.\\wandb\\run-20240519_171001-0nwu1imm\\logs</code>"
      ],
      "text/plain": [
       "<IPython.core.display.HTML object>"
      ]
     },
     "metadata": {},
     "output_type": "display_data"
    },
    {
     "name": "stderr",
     "output_type": "stream",
     "text": [
      "wandb: Agent Starting Run: 7zyjbi2y with config:\n",
      "wandb: \tdense_1: 256\n",
      "wandb: \tfilters_1: 32\n",
      "wandb: \tfilters_2: 128\n",
      "wandb: \tlearning_rate: 0.0001\n"
     ]
    },
    {
     "data": {
      "text/html": [
       "wandb version 0.17.0 is available!  To upgrade, please run:\n",
       " $ pip install wandb --upgrade"
      ],
      "text/plain": [
       "<IPython.core.display.HTML object>"
      ]
     },
     "metadata": {},
     "output_type": "display_data"
    },
    {
     "data": {
      "text/html": [
       "Tracking run with wandb version 0.16.2"
      ],
      "text/plain": [
       "<IPython.core.display.HTML object>"
      ]
     },
     "metadata": {},
     "output_type": "display_data"
    },
    {
     "data": {
      "text/html": [
       "Run data is saved locally in <code>c:\\Mohit\\Imperial\\fyp-hearts\\wandb\\run-20240519_173308-7zyjbi2y</code>"
      ],
      "text/plain": [
       "<IPython.core.display.HTML object>"
      ]
     },
     "metadata": {},
     "output_type": "display_data"
    },
    {
     "data": {
      "text/html": [
       "Syncing run <strong><a href='https://wandb.ai/fyp-hearts/lenet_5_sweep/runs/7zyjbi2y' target=\"_blank\">ethereal-sweep-2</a></strong> to <a href='https://wandb.ai/fyp-hearts/lenet_5_sweep' target=\"_blank\">Weights & Biases</a> (<a href='https://wandb.me/run' target=\"_blank\">docs</a>)<br/>Sweep page: <a href='https://wandb.ai/fyp-hearts/lenet_5_sweep/sweeps/pj0b3bw9' target=\"_blank\">https://wandb.ai/fyp-hearts/lenet_5_sweep/sweeps/pj0b3bw9</a>"
      ],
      "text/plain": [
       "<IPython.core.display.HTML object>"
      ]
     },
     "metadata": {},
     "output_type": "display_data"
    },
    {
     "data": {
      "text/html": [
       " View project at <a href='https://wandb.ai/fyp-hearts/lenet_5_sweep' target=\"_blank\">https://wandb.ai/fyp-hearts/lenet_5_sweep</a>"
      ],
      "text/plain": [
       "<IPython.core.display.HTML object>"
      ]
     },
     "metadata": {},
     "output_type": "display_data"
    },
    {
     "data": {
      "text/html": [
       " View sweep at <a href='https://wandb.ai/fyp-hearts/lenet_5_sweep/sweeps/pj0b3bw9' target=\"_blank\">https://wandb.ai/fyp-hearts/lenet_5_sweep/sweeps/pj0b3bw9</a>"
      ],
      "text/plain": [
       "<IPython.core.display.HTML object>"
      ]
     },
     "metadata": {},
     "output_type": "display_data"
    },
    {
     "data": {
      "text/html": [
       " View run at <a href='https://wandb.ai/fyp-hearts/lenet_5_sweep/runs/7zyjbi2y' target=\"_blank\">https://wandb.ai/fyp-hearts/lenet_5_sweep/runs/7zyjbi2y</a>"
      ],
      "text/plain": [
       "<IPython.core.display.HTML object>"
      ]
     },
     "metadata": {},
     "output_type": "display_data"
    },
    {
     "name": "stdout",
     "output_type": "stream",
     "text": [
      "Epoch 1/30\n",
      "534/534 [==============================] - ETA: 0s - loss: 0.1767 - accuracy: 0.0556 - auc: 0.5024"
     ]
    },
    {
     "name": "stderr",
     "output_type": "stream",
     "text": [
      "WARNING:absl:Found untraced functions such as _jit_compiled_convolution_op, _jit_compiled_convolution_op, _update_step_xla while saving (showing 3 of 3). These functions will not be directly callable after loading.\n"
     ]
    },
    {
     "name": "stdout",
     "output_type": "stream",
     "text": [
      "INFO:tensorflow:Assets written to: c:\\Mohit\\Imperial\\fyp-hearts\\wandb\\run-20240519_173308-7zyjbi2y\\files\\model-best\\assets\n"
     ]
    },
    {
     "name": "stderr",
     "output_type": "stream",
     "text": [
      "INFO:tensorflow:Assets written to: c:\\Mohit\\Imperial\\fyp-hearts\\wandb\\run-20240519_173308-7zyjbi2y\\files\\model-best\\assets\n",
      "wandb: Adding directory to artifact (c:\\Mohit\\Imperial\\fyp-hearts\\wandb\\run-20240519_173308-7zyjbi2y\\files\\model-best)... Done. 0.0s\n"
     ]
    },
    {
     "name": "stdout",
     "output_type": "stream",
     "text": [
      "534/534 [==============================] - 59s 107ms/step - loss: 0.1767 - accuracy: 0.0556 - auc: 0.5024 - val_loss: 0.1186 - val_accuracy: 0.0646 - val_auc: 0.5344\n",
      "Epoch 2/30\n",
      "534/534 [==============================] - ETA: 0s - loss: 0.1152 - accuracy: 0.0588 - auc: 0.5657"
     ]
    },
    {
     "name": "stderr",
     "output_type": "stream",
     "text": [
      "WARNING:absl:Found untraced functions such as _jit_compiled_convolution_op, _jit_compiled_convolution_op, _update_step_xla while saving (showing 3 of 3). These functions will not be directly callable after loading.\n"
     ]
    },
    {
     "name": "stdout",
     "output_type": "stream",
     "text": [
      "INFO:tensorflow:Assets written to: c:\\Mohit\\Imperial\\fyp-hearts\\wandb\\run-20240519_173308-7zyjbi2y\\files\\model-best\\assets\n"
     ]
    },
    {
     "name": "stderr",
     "output_type": "stream",
     "text": [
      "INFO:tensorflow:Assets written to: c:\\Mohit\\Imperial\\fyp-hearts\\wandb\\run-20240519_173308-7zyjbi2y\\files\\model-best\\assets\n",
      "wandb: Adding directory to artifact (c:\\Mohit\\Imperial\\fyp-hearts\\wandb\\run-20240519_173308-7zyjbi2y\\files\\model-best)... Done. 0.1s\n"
     ]
    },
    {
     "name": "stdout",
     "output_type": "stream",
     "text": [
      "534/534 [==============================] - 63s 117ms/step - loss: 0.1152 - accuracy: 0.0588 - auc: 0.5657 - val_loss: 0.1128 - val_accuracy: 0.0642 - val_auc: 0.6130\n",
      "Epoch 3/30\n",
      "534/534 [==============================] - ETA: 0s - loss: 0.1101 - accuracy: 0.0620 - auc: 0.6164"
     ]
    },
    {
     "name": "stderr",
     "output_type": "stream",
     "text": [
      "WARNING:absl:Found untraced functions such as _jit_compiled_convolution_op, _jit_compiled_convolution_op, _update_step_xla while saving (showing 3 of 3). These functions will not be directly callable after loading.\n"
     ]
    },
    {
     "name": "stdout",
     "output_type": "stream",
     "text": [
      "INFO:tensorflow:Assets written to: c:\\Mohit\\Imperial\\fyp-hearts\\wandb\\run-20240519_173308-7zyjbi2y\\files\\model-best\\assets\n"
     ]
    },
    {
     "name": "stderr",
     "output_type": "stream",
     "text": [
      "INFO:tensorflow:Assets written to: c:\\Mohit\\Imperial\\fyp-hearts\\wandb\\run-20240519_173308-7zyjbi2y\\files\\model-best\\assets\n",
      "wandb: Adding directory to artifact (c:\\Mohit\\Imperial\\fyp-hearts\\wandb\\run-20240519_173308-7zyjbi2y\\files\\model-best)... Done. 0.1s\n"
     ]
    },
    {
     "name": "stdout",
     "output_type": "stream",
     "text": [
      "534/534 [==============================] - 75s 141ms/step - loss: 0.1101 - accuracy: 0.0620 - auc: 0.6164 - val_loss: 0.1084 - val_accuracy: 0.0660 - val_auc: 0.6351\n",
      "Epoch 4/30\n",
      "534/534 [==============================] - ETA: 0s - loss: 0.1070 - accuracy: 0.0669 - auc: 0.6400"
     ]
    },
    {
     "name": "stderr",
     "output_type": "stream",
     "text": [
      "WARNING:absl:Found untraced functions such as _jit_compiled_convolution_op, _jit_compiled_convolution_op, _update_step_xla while saving (showing 3 of 3). These functions will not be directly callable after loading.\n"
     ]
    },
    {
     "name": "stdout",
     "output_type": "stream",
     "text": [
      "INFO:tensorflow:Assets written to: c:\\Mohit\\Imperial\\fyp-hearts\\wandb\\run-20240519_173308-7zyjbi2y\\files\\model-best\\assets\n"
     ]
    },
    {
     "name": "stderr",
     "output_type": "stream",
     "text": [
      "INFO:tensorflow:Assets written to: c:\\Mohit\\Imperial\\fyp-hearts\\wandb\\run-20240519_173308-7zyjbi2y\\files\\model-best\\assets\n",
      "wandb: Adding directory to artifact (c:\\Mohit\\Imperial\\fyp-hearts\\wandb\\run-20240519_173308-7zyjbi2y\\files\\model-best)... Done. 0.0s\n"
     ]
    },
    {
     "name": "stdout",
     "output_type": "stream",
     "text": [
      "534/534 [==============================] - 54s 101ms/step - loss: 0.1070 - accuracy: 0.0669 - auc: 0.6400 - val_loss: 0.1066 - val_accuracy: 0.0703 - val_auc: 0.6496\n",
      "Epoch 5/30\n",
      "534/534 [==============================] - ETA: 0s - loss: 0.1051 - accuracy: 0.0762 - auc: 0.6574"
     ]
    },
    {
     "name": "stderr",
     "output_type": "stream",
     "text": [
      "WARNING:absl:Found untraced functions such as _jit_compiled_convolution_op, _jit_compiled_convolution_op, _update_step_xla while saving (showing 3 of 3). These functions will not be directly callable after loading.\n"
     ]
    },
    {
     "name": "stdout",
     "output_type": "stream",
     "text": [
      "INFO:tensorflow:Assets written to: c:\\Mohit\\Imperial\\fyp-hearts\\wandb\\run-20240519_173308-7zyjbi2y\\files\\model-best\\assets\n"
     ]
    },
    {
     "name": "stderr",
     "output_type": "stream",
     "text": [
      "INFO:tensorflow:Assets written to: c:\\Mohit\\Imperial\\fyp-hearts\\wandb\\run-20240519_173308-7zyjbi2y\\files\\model-best\\assets\n",
      "wandb: Adding directory to artifact (c:\\Mohit\\Imperial\\fyp-hearts\\wandb\\run-20240519_173308-7zyjbi2y\\files\\model-best)... Done. 0.0s\n"
     ]
    },
    {
     "name": "stdout",
     "output_type": "stream",
     "text": [
      "534/534 [==============================] - 53s 100ms/step - loss: 0.1051 - accuracy: 0.0762 - auc: 0.6574 - val_loss: 0.1065 - val_accuracy: 0.0679 - val_auc: 0.6884\n",
      "Epoch 6/30\n",
      "534/534 [==============================] - ETA: 0s - loss: 0.1039 - accuracy: 0.0845 - auc: 0.6685"
     ]
    },
    {
     "name": "stderr",
     "output_type": "stream",
     "text": [
      "WARNING:absl:Found untraced functions such as _jit_compiled_convolution_op, _jit_compiled_convolution_op, _update_step_xla while saving (showing 3 of 3). These functions will not be directly callable after loading.\n"
     ]
    },
    {
     "name": "stdout",
     "output_type": "stream",
     "text": [
      "INFO:tensorflow:Assets written to: c:\\Mohit\\Imperial\\fyp-hearts\\wandb\\run-20240519_173308-7zyjbi2y\\files\\model-best\\assets\n"
     ]
    },
    {
     "name": "stderr",
     "output_type": "stream",
     "text": [
      "INFO:tensorflow:Assets written to: c:\\Mohit\\Imperial\\fyp-hearts\\wandb\\run-20240519_173308-7zyjbi2y\\files\\model-best\\assets\n",
      "wandb: Adding directory to artifact (c:\\Mohit\\Imperial\\fyp-hearts\\wandb\\run-20240519_173308-7zyjbi2y\\files\\model-best)... Done. 0.0s\n"
     ]
    },
    {
     "name": "stdout",
     "output_type": "stream",
     "text": [
      "534/534 [==============================] - 62s 117ms/step - loss: 0.1039 - accuracy: 0.0845 - auc: 0.6685 - val_loss: 0.1044 - val_accuracy: 0.0796 - val_auc: 0.6869\n",
      "Epoch 7/30\n",
      "534/534 [==============================] - ETA: 0s - loss: 0.1030 - accuracy: 0.0902 - auc: 0.6776"
     ]
    },
    {
     "name": "stderr",
     "output_type": "stream",
     "text": [
      "WARNING:absl:Found untraced functions such as _jit_compiled_convolution_op, _jit_compiled_convolution_op, _update_step_xla while saving (showing 3 of 3). These functions will not be directly callable after loading.\n"
     ]
    },
    {
     "name": "stdout",
     "output_type": "stream",
     "text": [
      "INFO:tensorflow:Assets written to: c:\\Mohit\\Imperial\\fyp-hearts\\wandb\\run-20240519_173308-7zyjbi2y\\files\\model-best\\assets\n"
     ]
    },
    {
     "name": "stderr",
     "output_type": "stream",
     "text": [
      "INFO:tensorflow:Assets written to: c:\\Mohit\\Imperial\\fyp-hearts\\wandb\\run-20240519_173308-7zyjbi2y\\files\\model-best\\assets\n",
      "wandb: Adding directory to artifact (c:\\Mohit\\Imperial\\fyp-hearts\\wandb\\run-20240519_173308-7zyjbi2y\\files\\model-best)... Done. 0.0s\n"
     ]
    },
    {
     "name": "stdout",
     "output_type": "stream",
     "text": [
      "534/534 [==============================] - 64s 119ms/step - loss: 0.1030 - accuracy: 0.0902 - auc: 0.6776 - val_loss: 0.1026 - val_accuracy: 0.0848 - val_auc: 0.6876\n",
      "Epoch 8/30\n",
      "534/534 [==============================] - ETA: 0s - loss: 0.1020 - accuracy: 0.0999 - auc: 0.6859"
     ]
    },
    {
     "name": "stderr",
     "output_type": "stream",
     "text": [
      "WARNING:absl:Found untraced functions such as _jit_compiled_convolution_op, _jit_compiled_convolution_op, _update_step_xla while saving (showing 3 of 3). These functions will not be directly callable after loading.\n"
     ]
    },
    {
     "name": "stdout",
     "output_type": "stream",
     "text": [
      "INFO:tensorflow:Assets written to: c:\\Mohit\\Imperial\\fyp-hearts\\wandb\\run-20240519_173308-7zyjbi2y\\files\\model-best\\assets\n"
     ]
    },
    {
     "name": "stderr",
     "output_type": "stream",
     "text": [
      "INFO:tensorflow:Assets written to: c:\\Mohit\\Imperial\\fyp-hearts\\wandb\\run-20240519_173308-7zyjbi2y\\files\\model-best\\assets\n",
      "wandb: Adding directory to artifact (c:\\Mohit\\Imperial\\fyp-hearts\\wandb\\run-20240519_173308-7zyjbi2y\\files\\model-best)... Done. 0.0s\n"
     ]
    },
    {
     "name": "stdout",
     "output_type": "stream",
     "text": [
      "534/534 [==============================] - 67s 126ms/step - loss: 0.1020 - accuracy: 0.0999 - auc: 0.6859 - val_loss: 0.1026 - val_accuracy: 0.0815 - val_auc: 0.7067\n",
      "Epoch 9/30\n",
      "534/534 [==============================] - ETA: 0s - loss: 0.1015 - accuracy: 0.1008 - auc: 0.6930"
     ]
    },
    {
     "name": "stderr",
     "output_type": "stream",
     "text": [
      "WARNING:absl:Found untraced functions such as _jit_compiled_convolution_op, _jit_compiled_convolution_op, _update_step_xla while saving (showing 3 of 3). These functions will not be directly callable after loading.\n"
     ]
    },
    {
     "name": "stdout",
     "output_type": "stream",
     "text": [
      "INFO:tensorflow:Assets written to: c:\\Mohit\\Imperial\\fyp-hearts\\wandb\\run-20240519_173308-7zyjbi2y\\files\\model-best\\assets\n"
     ]
    },
    {
     "name": "stderr",
     "output_type": "stream",
     "text": [
      "INFO:tensorflow:Assets written to: c:\\Mohit\\Imperial\\fyp-hearts\\wandb\\run-20240519_173308-7zyjbi2y\\files\\model-best\\assets\n",
      "wandb: Adding directory to artifact (c:\\Mohit\\Imperial\\fyp-hearts\\wandb\\run-20240519_173308-7zyjbi2y\\files\\model-best)... Done. 0.0s\n"
     ]
    },
    {
     "name": "stdout",
     "output_type": "stream",
     "text": [
      "534/534 [==============================] - 71s 133ms/step - loss: 0.1015 - accuracy: 0.1008 - auc: 0.6930 - val_loss: 0.1018 - val_accuracy: 0.1124 - val_auc: 0.7162\n",
      "Epoch 10/30\n",
      "534/534 [==============================] - ETA: 0s - loss: 0.1008 - accuracy: 0.1049 - auc: 0.6924"
     ]
    },
    {
     "name": "stderr",
     "output_type": "stream",
     "text": [
      "WARNING:absl:Found untraced functions such as _jit_compiled_convolution_op, _jit_compiled_convolution_op, _update_step_xla while saving (showing 3 of 3). These functions will not be directly callable after loading.\n"
     ]
    },
    {
     "name": "stdout",
     "output_type": "stream",
     "text": [
      "INFO:tensorflow:Assets written to: c:\\Mohit\\Imperial\\fyp-hearts\\wandb\\run-20240519_173308-7zyjbi2y\\files\\model-best\\assets\n"
     ]
    },
    {
     "name": "stderr",
     "output_type": "stream",
     "text": [
      "INFO:tensorflow:Assets written to: c:\\Mohit\\Imperial\\fyp-hearts\\wandb\\run-20240519_173308-7zyjbi2y\\files\\model-best\\assets\n",
      "wandb: Adding directory to artifact (c:\\Mohit\\Imperial\\fyp-hearts\\wandb\\run-20240519_173308-7zyjbi2y\\files\\model-best)... Done. 0.0s\n"
     ]
    },
    {
     "name": "stdout",
     "output_type": "stream",
     "text": [
      "534/534 [==============================] - 64s 119ms/step - loss: 0.1008 - accuracy: 0.1049 - auc: 0.6924 - val_loss: 0.1016 - val_accuracy: 0.0927 - val_auc: 0.6853\n",
      "Epoch 11/30\n",
      "534/534 [==============================] - ETA: 0s - loss: 0.1003 - accuracy: 0.1048 - auc: 0.7041"
     ]
    },
    {
     "name": "stderr",
     "output_type": "stream",
     "text": [
      "WARNING:absl:Found untraced functions such as _jit_compiled_convolution_op, _jit_compiled_convolution_op, _update_step_xla while saving (showing 3 of 3). These functions will not be directly callable after loading.\n"
     ]
    },
    {
     "name": "stdout",
     "output_type": "stream",
     "text": [
      "INFO:tensorflow:Assets written to: c:\\Mohit\\Imperial\\fyp-hearts\\wandb\\run-20240519_173308-7zyjbi2y\\files\\model-best\\assets\n"
     ]
    },
    {
     "name": "stderr",
     "output_type": "stream",
     "text": [
      "INFO:tensorflow:Assets written to: c:\\Mohit\\Imperial\\fyp-hearts\\wandb\\run-20240519_173308-7zyjbi2y\\files\\model-best\\assets\n",
      "wandb: Adding directory to artifact (c:\\Mohit\\Imperial\\fyp-hearts\\wandb\\run-20240519_173308-7zyjbi2y\\files\\model-best)... Done. 0.0s\n"
     ]
    },
    {
     "name": "stdout",
     "output_type": "stream",
     "text": [
      "534/534 [==============================] - 51s 95ms/step - loss: 0.1003 - accuracy: 0.1048 - auc: 0.7041 - val_loss: 0.1004 - val_accuracy: 0.1255 - val_auc: 0.7163\n",
      "Epoch 12/30\n",
      "534/534 [==============================] - 48s 89ms/step - loss: 0.1000 - accuracy: 0.1129 - auc: 0.7045 - val_loss: 0.1022 - val_accuracy: 0.1639 - val_auc: 0.7066\n",
      "Epoch 13/30\n",
      "534/534 [==============================] - ETA: 0s - loss: 0.0995 - accuracy: 0.1148 - auc: 0.7052"
     ]
    },
    {
     "name": "stderr",
     "output_type": "stream",
     "text": [
      "WARNING:absl:Found untraced functions such as _jit_compiled_convolution_op, _jit_compiled_convolution_op, _update_step_xla while saving (showing 3 of 3). These functions will not be directly callable after loading.\n"
     ]
    },
    {
     "name": "stdout",
     "output_type": "stream",
     "text": [
      "INFO:tensorflow:Assets written to: c:\\Mohit\\Imperial\\fyp-hearts\\wandb\\run-20240519_173308-7zyjbi2y\\files\\model-best\\assets\n"
     ]
    },
    {
     "name": "stderr",
     "output_type": "stream",
     "text": [
      "INFO:tensorflow:Assets written to: c:\\Mohit\\Imperial\\fyp-hearts\\wandb\\run-20240519_173308-7zyjbi2y\\files\\model-best\\assets\n",
      "wandb: Adding directory to artifact (c:\\Mohit\\Imperial\\fyp-hearts\\wandb\\run-20240519_173308-7zyjbi2y\\files\\model-best)... Done. 0.0s\n"
     ]
    },
    {
     "name": "stdout",
     "output_type": "stream",
     "text": [
      "534/534 [==============================] - 50s 94ms/step - loss: 0.0995 - accuracy: 0.1148 - auc: 0.7052 - val_loss: 0.1003 - val_accuracy: 0.1527 - val_auc: 0.7024\n",
      "Epoch 14/30\n",
      "534/534 [==============================] - 49s 92ms/step - loss: 0.0992 - accuracy: 0.1104 - auc: 0.7086 - val_loss: 0.1029 - val_accuracy: 0.1471 - val_auc: 0.7107\n",
      "Epoch 15/30\n",
      "534/534 [==============================] - 51s 96ms/step - loss: 0.0989 - accuracy: 0.1111 - auc: 0.7110 - val_loss: 0.1021 - val_accuracy: 0.0923 - val_auc: 0.7347\n",
      "Epoch 16/30\n",
      "534/534 [==============================] - 49s 92ms/step - loss: 0.0983 - accuracy: 0.1141 - auc: 0.7163 - val_loss: 0.1019 - val_accuracy: 0.1307 - val_auc: 0.7049\n",
      "Epoch 17/30\n",
      "534/534 [==============================] - 48s 90ms/step - loss: 0.0983 - accuracy: 0.1170 - auc: 0.7209 - val_loss: 0.1006 - val_accuracy: 0.1218 - val_auc: 0.7080\n",
      "Epoch 18/30\n",
      "534/534 [==============================] - ETA: 0s - loss: 0.0980 - accuracy: 0.1176 - auc: 0.7167"
     ]
    },
    {
     "name": "stderr",
     "output_type": "stream",
     "text": [
      "WARNING:absl:Found untraced functions such as _jit_compiled_convolution_op, _jit_compiled_convolution_op, _update_step_xla while saving (showing 3 of 3). These functions will not be directly callable after loading.\n"
     ]
    },
    {
     "name": "stdout",
     "output_type": "stream",
     "text": [
      "INFO:tensorflow:Assets written to: c:\\Mohit\\Imperial\\fyp-hearts\\wandb\\run-20240519_173308-7zyjbi2y\\files\\model-best\\assets\n"
     ]
    },
    {
     "name": "stderr",
     "output_type": "stream",
     "text": [
      "INFO:tensorflow:Assets written to: c:\\Mohit\\Imperial\\fyp-hearts\\wandb\\run-20240519_173308-7zyjbi2y\\files\\model-best\\assets\n",
      "wandb: Adding directory to artifact (c:\\Mohit\\Imperial\\fyp-hearts\\wandb\\run-20240519_173308-7zyjbi2y\\files\\model-best)... Done. 0.0s\n"
     ]
    },
    {
     "name": "stdout",
     "output_type": "stream",
     "text": [
      "534/534 [==============================] - 52s 97ms/step - loss: 0.0980 - accuracy: 0.1176 - auc: 0.7167 - val_loss: 0.0999 - val_accuracy: 0.1756 - val_auc: 0.7322\n",
      "Epoch 19/30\n",
      "534/534 [==============================] - 49s 92ms/step - loss: 0.0976 - accuracy: 0.1162 - auc: 0.7244 - val_loss: 0.1094 - val_accuracy: 0.2178 - val_auc: 0.6913\n",
      "Epoch 20/30\n",
      "534/534 [==============================] - 48s 91ms/step - loss: 0.0974 - accuracy: 0.1195 - auc: 0.7279 - val_loss: 0.1004 - val_accuracy: 0.1087 - val_auc: 0.7409\n",
      "Epoch 21/30\n",
      "534/534 [==============================] - 48s 91ms/step - loss: 0.0970 - accuracy: 0.1276 - auc: 0.7343 - val_loss: 0.1102 - val_accuracy: 0.0965 - val_auc: 0.7541\n",
      "Epoch 22/30\n",
      "534/534 [==============================] - ETA: 0s - loss: 0.0969 - accuracy: 0.1254 - auc: 0.7338"
     ]
    },
    {
     "name": "stderr",
     "output_type": "stream",
     "text": [
      "WARNING:absl:Found untraced functions such as _jit_compiled_convolution_op, _jit_compiled_convolution_op, _update_step_xla while saving (showing 3 of 3). These functions will not be directly callable after loading.\n"
     ]
    },
    {
     "name": "stdout",
     "output_type": "stream",
     "text": [
      "INFO:tensorflow:Assets written to: c:\\Mohit\\Imperial\\fyp-hearts\\wandb\\run-20240519_173308-7zyjbi2y\\files\\model-best\\assets\n"
     ]
    },
    {
     "name": "stderr",
     "output_type": "stream",
     "text": [
      "INFO:tensorflow:Assets written to: c:\\Mohit\\Imperial\\fyp-hearts\\wandb\\run-20240519_173308-7zyjbi2y\\files\\model-best\\assets\n",
      "wandb: Adding directory to artifact (c:\\Mohit\\Imperial\\fyp-hearts\\wandb\\run-20240519_173308-7zyjbi2y\\files\\model-best)... Done. 0.0s\n"
     ]
    },
    {
     "name": "stdout",
     "output_type": "stream",
     "text": [
      "534/534 [==============================] - 75s 141ms/step - loss: 0.0969 - accuracy: 0.1254 - auc: 0.7338 - val_loss: 0.0984 - val_accuracy: 0.1742 - val_auc: 0.7282\n",
      "Epoch 23/30\n",
      "534/534 [==============================] - 74s 138ms/step - loss: 0.0967 - accuracy: 0.1220 - auc: 0.7352 - val_loss: 0.1031 - val_accuracy: 0.1372 - val_auc: 0.7090\n",
      "Epoch 24/30\n",
      "534/534 [==============================] - 57s 107ms/step - loss: 0.0966 - accuracy: 0.1280 - auc: 0.7335 - val_loss: 0.0987 - val_accuracy: 0.1110 - val_auc: 0.7234\n",
      "Epoch 25/30\n",
      "534/534 [==============================] - 54s 101ms/step - loss: 0.0962 - accuracy: 0.1291 - auc: 0.7384 - val_loss: 0.1053 - val_accuracy: 0.1986 - val_auc: 0.6994\n",
      "Epoch 26/30\n",
      "534/534 [==============================] - ETA: 0s - loss: 0.0960 - accuracy: 0.1304 - auc: 0.7423"
     ]
    },
    {
     "name": "stderr",
     "output_type": "stream",
     "text": [
      "WARNING:absl:Found untraced functions such as _jit_compiled_convolution_op, _jit_compiled_convolution_op, _update_step_xla while saving (showing 3 of 3). These functions will not be directly callable after loading.\n"
     ]
    },
    {
     "name": "stdout",
     "output_type": "stream",
     "text": [
      "INFO:tensorflow:Assets written to: c:\\Mohit\\Imperial\\fyp-hearts\\wandb\\run-20240519_173308-7zyjbi2y\\files\\model-best\\assets\n"
     ]
    },
    {
     "name": "stderr",
     "output_type": "stream",
     "text": [
      "INFO:tensorflow:Assets written to: c:\\Mohit\\Imperial\\fyp-hearts\\wandb\\run-20240519_173308-7zyjbi2y\\files\\model-best\\assets\n",
      "wandb: Adding directory to artifact (c:\\Mohit\\Imperial\\fyp-hearts\\wandb\\run-20240519_173308-7zyjbi2y\\files\\model-best)... Done. 0.1s\n"
     ]
    },
    {
     "name": "stdout",
     "output_type": "stream",
     "text": [
      "534/534 [==============================] - 79s 148ms/step - loss: 0.0960 - accuracy: 0.1304 - auc: 0.7423 - val_loss: 0.0982 - val_accuracy: 0.1438 - val_auc: 0.7311\n",
      "Epoch 27/30\n",
      "534/534 [==============================] - ETA: 0s - loss: 0.0959 - accuracy: 0.1335 - auc: 0.7447"
     ]
    },
    {
     "name": "stderr",
     "output_type": "stream",
     "text": [
      "WARNING:absl:Found untraced functions such as _jit_compiled_convolution_op, _jit_compiled_convolution_op, _update_step_xla while saving (showing 3 of 3). These functions will not be directly callable after loading.\n"
     ]
    },
    {
     "name": "stdout",
     "output_type": "stream",
     "text": [
      "INFO:tensorflow:Assets written to: c:\\Mohit\\Imperial\\fyp-hearts\\wandb\\run-20240519_173308-7zyjbi2y\\files\\model-best\\assets\n"
     ]
    },
    {
     "name": "stderr",
     "output_type": "stream",
     "text": [
      "INFO:tensorflow:Assets written to: c:\\Mohit\\Imperial\\fyp-hearts\\wandb\\run-20240519_173308-7zyjbi2y\\files\\model-best\\assets\n",
      "wandb: Adding directory to artifact (c:\\Mohit\\Imperial\\fyp-hearts\\wandb\\run-20240519_173308-7zyjbi2y\\files\\model-best)... Done. 0.0s\n"
     ]
    },
    {
     "name": "stdout",
     "output_type": "stream",
     "text": [
      "534/534 [==============================] - 64s 120ms/step - loss: 0.0959 - accuracy: 0.1335 - auc: 0.7447 - val_loss: 0.0976 - val_accuracy: 0.1817 - val_auc: 0.7382\n",
      "Epoch 28/30\n",
      "534/534 [==============================] - 66s 124ms/step - loss: 0.0955 - accuracy: 0.1344 - auc: 0.7449 - val_loss: 0.1024 - val_accuracy: 0.1077 - val_auc: 0.7431\n",
      "Epoch 29/30\n",
      "534/534 [==============================] - ETA: 0s - loss: 0.0954 - accuracy: 0.1354 - auc: 0.7451"
     ]
    },
    {
     "name": "stderr",
     "output_type": "stream",
     "text": [
      "WARNING:absl:Found untraced functions such as _jit_compiled_convolution_op, _jit_compiled_convolution_op, _update_step_xla while saving (showing 3 of 3). These functions will not be directly callable after loading.\n"
     ]
    },
    {
     "name": "stdout",
     "output_type": "stream",
     "text": [
      "INFO:tensorflow:Assets written to: c:\\Mohit\\Imperial\\fyp-hearts\\wandb\\run-20240519_173308-7zyjbi2y\\files\\model-best\\assets\n"
     ]
    },
    {
     "name": "stderr",
     "output_type": "stream",
     "text": [
      "INFO:tensorflow:Assets written to: c:\\Mohit\\Imperial\\fyp-hearts\\wandb\\run-20240519_173308-7zyjbi2y\\files\\model-best\\assets\n",
      "wandb: Adding directory to artifact (c:\\Mohit\\Imperial\\fyp-hearts\\wandb\\run-20240519_173308-7zyjbi2y\\files\\model-best)... Done. 0.0s\n"
     ]
    },
    {
     "name": "stdout",
     "output_type": "stream",
     "text": [
      "534/534 [==============================] - 72s 134ms/step - loss: 0.0954 - accuracy: 0.1354 - auc: 0.7451 - val_loss: 0.0970 - val_accuracy: 0.1288 - val_auc: 0.7365\n",
      "Epoch 30/30\n",
      "534/534 [==============================] - 66s 124ms/step - loss: 0.0951 - accuracy: 0.1369 - auc: 0.7480 - val_loss: 0.0977 - val_accuracy: 0.1340 - val_auc: 0.7292\n"
     ]
    },
    {
     "data": {
      "text/html": [
       "W&B sync reduced upload amount by 1.1%             "
      ],
      "text/plain": [
       "<IPython.core.display.HTML object>"
      ]
     },
     "metadata": {},
     "output_type": "display_data"
    },
    {
     "data": {
      "text/html": [
       "<style>\n",
       "    table.wandb td:nth-child(1) { padding: 0 10px; text-align: left ; width: auto;} td:nth-child(2) {text-align: left ; width: 100%}\n",
       "    .wandb-row { display: flex; flex-direction: row; flex-wrap: wrap; justify-content: flex-start; width: 100% }\n",
       "    .wandb-col { display: flex; flex-direction: column; flex-basis: 100%; flex: 1; padding: 10px; }\n",
       "    </style>\n",
       "<div class=\"wandb-row\"><div class=\"wandb-col\"><h3>Run history:</h3><br/><table class=\"wandb\"><tr><td>accuracy</td><td>▁▁▂▂▃▃▄▅▅▅▅▆▆▆▆▆▆▆▆▇▇▇▇▇▇▇████</td></tr><tr><td>auc</td><td>▁▃▄▅▅▆▆▆▆▆▇▇▇▇▇▇▇▇▇▇██████████</td></tr><tr><td>epoch</td><td>▁▁▁▂▂▂▂▃▃▃▃▄▄▄▄▅▅▅▅▆▆▆▆▇▇▇▇███</td></tr><tr><td>loss</td><td>█▃▂▂▂▂▂▂▂▁▁▁▁▁▁▁▁▁▁▁▁▁▁▁▁▁▁▁▁▁</td></tr><tr><td>val_accuracy</td><td>▁▁▁▁▁▂▂▂▃▂▄▆▅▅▂▄▄▆█▃▂▆▄▃▇▅▆▃▄▄</td></tr><tr><td>val_auc</td><td>▁▄▄▅▆▆▆▆▇▆▇▆▆▇▇▆▇▇▆██▇▇▇▆▇▇█▇▇</td></tr><tr><td>val_loss</td><td>█▆▅▄▄▃▃▃▃▂▂▃▂▃▃▃▂▂▅▂▅▁▃▂▄▁▁▃▁▁</td></tr></table><br/></div><div class=\"wandb-col\"><h3>Run summary:</h3><br/><table class=\"wandb\"><tr><td>accuracy</td><td>0.13689</td></tr><tr><td>auc</td><td>0.74797</td></tr><tr><td>best_epoch</td><td>28</td></tr><tr><td>best_val_loss</td><td>0.09702</td></tr><tr><td>epoch</td><td>29</td></tr><tr><td>loss</td><td>0.09511</td></tr><tr><td>val_accuracy</td><td>0.13396</td></tr><tr><td>val_auc</td><td>0.72922</td></tr><tr><td>val_loss</td><td>0.09769</td></tr></table><br/></div></div>"
      ],
      "text/plain": [
       "<IPython.core.display.HTML object>"
      ]
     },
     "metadata": {},
     "output_type": "display_data"
    },
    {
     "data": {
      "text/html": [
       " View run <strong style=\"color:#cdcd00\">ethereal-sweep-2</strong> at: <a href='https://wandb.ai/fyp-hearts/lenet_5_sweep/runs/7zyjbi2y' target=\"_blank\">https://wandb.ai/fyp-hearts/lenet_5_sweep/runs/7zyjbi2y</a><br/>Synced 5 W&B file(s), 1 media file(s), 85 artifact file(s) and 1 other file(s)"
      ],
      "text/plain": [
       "<IPython.core.display.HTML object>"
      ]
     },
     "metadata": {},
     "output_type": "display_data"
    },
    {
     "data": {
      "text/html": [
       "Find logs at: <code>.\\wandb\\run-20240519_173308-7zyjbi2y\\logs</code>"
      ],
      "text/plain": [
       "<IPython.core.display.HTML object>"
      ]
     },
     "metadata": {},
     "output_type": "display_data"
    },
    {
     "name": "stderr",
     "output_type": "stream",
     "text": [
      "wandb: Agent Starting Run: th9oou1m with config:\n",
      "wandb: \tdense_1: 256\n",
      "wandb: \tfilters_1: 32\n",
      "wandb: \tfilters_2: 32\n",
      "wandb: \tlearning_rate: 0.001\n"
     ]
    },
    {
     "data": {
      "text/html": [
       "wandb version 0.17.0 is available!  To upgrade, please run:\n",
       " $ pip install wandb --upgrade"
      ],
      "text/plain": [
       "<IPython.core.display.HTML object>"
      ]
     },
     "metadata": {},
     "output_type": "display_data"
    },
    {
     "data": {
      "text/html": [
       "Tracking run with wandb version 0.16.2"
      ],
      "text/plain": [
       "<IPython.core.display.HTML object>"
      ]
     },
     "metadata": {},
     "output_type": "display_data"
    },
    {
     "data": {
      "text/html": [
       "Run data is saved locally in <code>c:\\Mohit\\Imperial\\fyp-hearts\\wandb\\run-20240519_180316-th9oou1m</code>"
      ],
      "text/plain": [
       "<IPython.core.display.HTML object>"
      ]
     },
     "metadata": {},
     "output_type": "display_data"
    },
    {
     "data": {
      "text/html": [
       "Syncing run <strong><a href='https://wandb.ai/fyp-hearts/lenet_5_sweep/runs/th9oou1m' target=\"_blank\">curious-sweep-3</a></strong> to <a href='https://wandb.ai/fyp-hearts/lenet_5_sweep' target=\"_blank\">Weights & Biases</a> (<a href='https://wandb.me/run' target=\"_blank\">docs</a>)<br/>Sweep page: <a href='https://wandb.ai/fyp-hearts/lenet_5_sweep/sweeps/pj0b3bw9' target=\"_blank\">https://wandb.ai/fyp-hearts/lenet_5_sweep/sweeps/pj0b3bw9</a>"
      ],
      "text/plain": [
       "<IPython.core.display.HTML object>"
      ]
     },
     "metadata": {},
     "output_type": "display_data"
    },
    {
     "data": {
      "text/html": [
       " View project at <a href='https://wandb.ai/fyp-hearts/lenet_5_sweep' target=\"_blank\">https://wandb.ai/fyp-hearts/lenet_5_sweep</a>"
      ],
      "text/plain": [
       "<IPython.core.display.HTML object>"
      ]
     },
     "metadata": {},
     "output_type": "display_data"
    },
    {
     "data": {
      "text/html": [
       " View sweep at <a href='https://wandb.ai/fyp-hearts/lenet_5_sweep/sweeps/pj0b3bw9' target=\"_blank\">https://wandb.ai/fyp-hearts/lenet_5_sweep/sweeps/pj0b3bw9</a>"
      ],
      "text/plain": [
       "<IPython.core.display.HTML object>"
      ]
     },
     "metadata": {},
     "output_type": "display_data"
    },
    {
     "data": {
      "text/html": [
       " View run at <a href='https://wandb.ai/fyp-hearts/lenet_5_sweep/runs/th9oou1m' target=\"_blank\">https://wandb.ai/fyp-hearts/lenet_5_sweep/runs/th9oou1m</a>"
      ],
      "text/plain": [
       "<IPython.core.display.HTML object>"
      ]
     },
     "metadata": {},
     "output_type": "display_data"
    },
    {
     "name": "stdout",
     "output_type": "stream",
     "text": [
      "Epoch 1/30\n",
      "534/534 [==============================] - ETA: 0s - loss: 0.1289 - accuracy: 0.0601 - auc: 0.5706"
     ]
    },
    {
     "name": "stderr",
     "output_type": "stream",
     "text": [
      "WARNING:absl:Found untraced functions such as _jit_compiled_convolution_op, _jit_compiled_convolution_op, _update_step_xla while saving (showing 3 of 3). These functions will not be directly callable after loading.\n"
     ]
    },
    {
     "name": "stdout",
     "output_type": "stream",
     "text": [
      "INFO:tensorflow:Assets written to: c:\\Mohit\\Imperial\\fyp-hearts\\wandb\\run-20240519_180316-th9oou1m\\files\\model-best\\assets\n"
     ]
    },
    {
     "name": "stderr",
     "output_type": "stream",
     "text": [
      "INFO:tensorflow:Assets written to: c:\\Mohit\\Imperial\\fyp-hearts\\wandb\\run-20240519_180316-th9oou1m\\files\\model-best\\assets\n",
      "wandb: Adding directory to artifact (c:\\Mohit\\Imperial\\fyp-hearts\\wandb\\run-20240519_180316-th9oou1m\\files\\model-best)... Done. 0.1s\n"
     ]
    },
    {
     "name": "stdout",
     "output_type": "stream",
     "text": [
      "534/534 [==============================] - 46s 82ms/step - loss: 0.1289 - accuracy: 0.0601 - auc: 0.5706 - val_loss: 0.1155 - val_accuracy: 0.0759 - val_auc: 0.6345\n",
      "Epoch 2/30\n",
      "534/534 [==============================] - ETA: 0s - loss: 0.1068 - accuracy: 0.0865 - auc: 0.6565"
     ]
    },
    {
     "name": "stderr",
     "output_type": "stream",
     "text": [
      "WARNING:absl:Found untraced functions such as _jit_compiled_convolution_op, _jit_compiled_convolution_op, _update_step_xla while saving (showing 3 of 3). These functions will not be directly callable after loading.\n"
     ]
    },
    {
     "name": "stdout",
     "output_type": "stream",
     "text": [
      "INFO:tensorflow:Assets written to: c:\\Mohit\\Imperial\\fyp-hearts\\wandb\\run-20240519_180316-th9oou1m\\files\\model-best\\assets\n"
     ]
    },
    {
     "name": "stderr",
     "output_type": "stream",
     "text": [
      "INFO:tensorflow:Assets written to: c:\\Mohit\\Imperial\\fyp-hearts\\wandb\\run-20240519_180316-th9oou1m\\files\\model-best\\assets\n",
      "wandb: Adding directory to artifact (c:\\Mohit\\Imperial\\fyp-hearts\\wandb\\run-20240519_180316-th9oou1m\\files\\model-best)... Done. 0.0s\n"
     ]
    },
    {
     "name": "stdout",
     "output_type": "stream",
     "text": [
      "534/534 [==============================] - 32s 61ms/step - loss: 0.1068 - accuracy: 0.0865 - auc: 0.6565 - val_loss: 0.1131 - val_accuracy: 0.2852 - val_auc: 0.6569\n",
      "Epoch 3/30\n",
      "534/534 [==============================] - 29s 55ms/step - loss: 0.1037 - accuracy: 0.0915 - auc: 0.6772 - val_loss: 0.1467 - val_accuracy: 0.3934 - val_auc: 0.5940\n",
      "Epoch 4/30\n",
      "534/534 [==============================] - 33s 61ms/step - loss: 0.1017 - accuracy: 0.1075 - auc: 0.6980 - val_loss: 0.1858 - val_accuracy: 0.0881 - val_auc: 0.6083\n",
      "Epoch 5/30\n",
      "534/534 [==============================] - ETA: 0s - loss: 0.1005 - accuracy: 0.1119 - auc: 0.7034"
     ]
    },
    {
     "name": "stderr",
     "output_type": "stream",
     "text": [
      "WARNING:absl:Found untraced functions such as _jit_compiled_convolution_op, _jit_compiled_convolution_op, _update_step_xla while saving (showing 3 of 3). These functions will not be directly callable after loading.\n"
     ]
    },
    {
     "name": "stdout",
     "output_type": "stream",
     "text": [
      "INFO:tensorflow:Assets written to: c:\\Mohit\\Imperial\\fyp-hearts\\wandb\\run-20240519_180316-th9oou1m\\files\\model-best\\assets\n"
     ]
    },
    {
     "name": "stderr",
     "output_type": "stream",
     "text": [
      "INFO:tensorflow:Assets written to: c:\\Mohit\\Imperial\\fyp-hearts\\wandb\\run-20240519_180316-th9oou1m\\files\\model-best\\assets\n",
      "wandb: Adding directory to artifact (c:\\Mohit\\Imperial\\fyp-hearts\\wandb\\run-20240519_180316-th9oou1m\\files\\model-best)... Done. 0.0s\n"
     ]
    },
    {
     "name": "stdout",
     "output_type": "stream",
     "text": [
      "534/534 [==============================] - 36s 67ms/step - loss: 0.1005 - accuracy: 0.1119 - auc: 0.7034 - val_loss: 0.1035 - val_accuracy: 0.0824 - val_auc: 0.7066\n",
      "Epoch 6/30\n",
      "534/534 [==============================] - 28s 52ms/step - loss: 0.0993 - accuracy: 0.1220 - auc: 0.7176 - val_loss: 0.1165 - val_accuracy: 0.0778 - val_auc: 0.6801\n",
      "Epoch 7/30\n",
      "534/534 [==============================] - 28s 52ms/step - loss: 0.0988 - accuracy: 0.1220 - auc: 0.7214 - val_loss: 0.1201 - val_accuracy: 0.2131 - val_auc: 0.6446\n",
      "Epoch 8/30\n",
      "534/534 [==============================] - 27s 51ms/step - loss: 0.0978 - accuracy: 0.1313 - auc: 0.7262 - val_loss: 0.1112 - val_accuracy: 0.1803 - val_auc: 0.6874\n",
      "Epoch 9/30\n",
      "534/534 [==============================] - 27s 50ms/step - loss: 0.0972 - accuracy: 0.1323 - auc: 0.7346 - val_loss: 0.1099 - val_accuracy: 0.0890 - val_auc: 0.7133\n",
      "Epoch 10/30\n",
      "534/534 [==============================] - 31s 58ms/step - loss: 0.0965 - accuracy: 0.1397 - auc: 0.7358 - val_loss: 0.1240 - val_accuracy: 0.0670 - val_auc: 0.6761\n",
      "Epoch 11/30\n",
      "534/534 [==============================] - 33s 62ms/step - loss: 0.0956 - accuracy: 0.1430 - auc: 0.7491 - val_loss: 0.1747 - val_accuracy: 0.0754 - val_auc: 0.6889\n",
      "Epoch 12/30\n",
      "534/534 [==============================] - 29s 55ms/step - loss: 0.0949 - accuracy: 0.1477 - auc: 0.7551 - val_loss: 0.1149 - val_accuracy: 0.0745 - val_auc: 0.6847\n",
      "Epoch 13/30\n",
      "533/534 [============================>.] - ETA: 0s - loss: 0.0944 - accuracy: 0.1545 - auc: 0.7591"
     ]
    },
    {
     "name": "stderr",
     "output_type": "stream",
     "text": [
      "WARNING:absl:Found untraced functions such as _jit_compiled_convolution_op, _jit_compiled_convolution_op, _update_step_xla while saving (showing 3 of 3). These functions will not be directly callable after loading.\n"
     ]
    },
    {
     "name": "stdout",
     "output_type": "stream",
     "text": [
      "INFO:tensorflow:Assets written to: c:\\Mohit\\Imperial\\fyp-hearts\\wandb\\run-20240519_180316-th9oou1m\\files\\model-best\\assets\n"
     ]
    },
    {
     "name": "stderr",
     "output_type": "stream",
     "text": [
      "INFO:tensorflow:Assets written to: c:\\Mohit\\Imperial\\fyp-hearts\\wandb\\run-20240519_180316-th9oou1m\\files\\model-best\\assets\n",
      "wandb: Adding directory to artifact (c:\\Mohit\\Imperial\\fyp-hearts\\wandb\\run-20240519_180316-th9oou1m\\files\\model-best)... Done. 0.0s\n"
     ]
    },
    {
     "name": "stdout",
     "output_type": "stream",
     "text": [
      "534/534 [==============================] - 34s 64ms/step - loss: 0.0944 - accuracy: 0.1547 - auc: 0.7589 - val_loss: 0.1020 - val_accuracy: 0.1199 - val_auc: 0.7146\n",
      "Epoch 14/30\n",
      "534/534 [==============================] - 29s 54ms/step - loss: 0.0937 - accuracy: 0.1509 - auc: 0.7599 - val_loss: 0.1251 - val_accuracy: 0.1485 - val_auc: 0.6526\n",
      "Epoch 15/30\n",
      "534/534 [==============================] - 50s 94ms/step - loss: 0.0936 - accuracy: 0.1584 - auc: 0.7662 - val_loss: 0.1146 - val_accuracy: 0.2562 - val_auc: 0.6761\n",
      "Epoch 16/30\n",
      "534/534 [==============================] - 36s 67ms/step - loss: 0.0928 - accuracy: 0.1568 - auc: 0.7693 - val_loss: 0.2098 - val_accuracy: 0.0600 - val_auc: 0.6750\n",
      "Epoch 17/30\n",
      "534/534 [==============================] - 79s 149ms/step - loss: 0.0923 - accuracy: 0.1595 - auc: 0.7807 - val_loss: 0.1065 - val_accuracy: 0.1916 - val_auc: 0.6980\n",
      "Epoch 18/30\n",
      "534/534 [==============================] - 71s 133ms/step - loss: 0.0917 - accuracy: 0.1580 - auc: 0.7783 - val_loss: 0.1064 - val_accuracy: 0.3162 - val_auc: 0.7058\n",
      "Epoch 19/30\n",
      "534/534 [==============================] - 67s 126ms/step - loss: 0.0916 - accuracy: 0.1645 - auc: 0.7811 - val_loss: 0.1074 - val_accuracy: 0.2693 - val_auc: 0.6951\n",
      "Epoch 20/30\n",
      "534/534 [==============================] - 61s 115ms/step - loss: 0.0911 - accuracy: 0.1607 - auc: 0.7852 - val_loss: 0.1146 - val_accuracy: 0.2656 - val_auc: 0.6784\n",
      "Epoch 21/30\n",
      "534/534 [==============================] - 74s 138ms/step - loss: 0.0907 - accuracy: 0.1646 - auc: 0.7823 - val_loss: 0.1102 - val_accuracy: 0.1251 - val_auc: 0.7176\n",
      "Epoch 22/30\n",
      "534/534 [==============================] - ETA: 0s - loss: 0.0902 - accuracy: 0.1657 - auc: 0.7884"
     ]
    },
    {
     "name": "stderr",
     "output_type": "stream",
     "text": [
      "WARNING:absl:Found untraced functions such as _jit_compiled_convolution_op, _jit_compiled_convolution_op, _update_step_xla while saving (showing 3 of 3). These functions will not be directly callable after loading.\n"
     ]
    },
    {
     "name": "stdout",
     "output_type": "stream",
     "text": [
      "INFO:tensorflow:Assets written to: c:\\Mohit\\Imperial\\fyp-hearts\\wandb\\run-20240519_180316-th9oou1m\\files\\model-best\\assets\n"
     ]
    },
    {
     "name": "stderr",
     "output_type": "stream",
     "text": [
      "INFO:tensorflow:Assets written to: c:\\Mohit\\Imperial\\fyp-hearts\\wandb\\run-20240519_180316-th9oou1m\\files\\model-best\\assets\n",
      "wandb: Adding directory to artifact (c:\\Mohit\\Imperial\\fyp-hearts\\wandb\\run-20240519_180316-th9oou1m\\files\\model-best)... Done. 0.1s\n"
     ]
    },
    {
     "name": "stdout",
     "output_type": "stream",
     "text": [
      "534/534 [==============================] - 60s 112ms/step - loss: 0.0902 - accuracy: 0.1657 - auc: 0.7884 - val_loss: 0.0993 - val_accuracy: 0.1977 - val_auc: 0.7426\n",
      "Epoch 23/30\n",
      "534/534 [==============================] - 50s 94ms/step - loss: 0.0900 - accuracy: 0.1615 - auc: 0.7887 - val_loss: 0.1277 - val_accuracy: 0.1326 - val_auc: 0.7222\n",
      "Epoch 24/30\n",
      "534/534 [==============================] - 44s 83ms/step - loss: 0.0897 - accuracy: 0.1659 - auc: 0.7944 - val_loss: 0.1160 - val_accuracy: 0.1330 - val_auc: 0.6959\n",
      "Epoch 25/30\n",
      "534/534 [==============================] - ETA: 0s - loss: 0.0894 - accuracy: 0.1701 - auc: 0.7957"
     ]
    },
    {
     "name": "stderr",
     "output_type": "stream",
     "text": [
      "WARNING:absl:Found untraced functions such as _jit_compiled_convolution_op, _jit_compiled_convolution_op, _update_step_xla while saving (showing 3 of 3). These functions will not be directly callable after loading.\n"
     ]
    },
    {
     "name": "stdout",
     "output_type": "stream",
     "text": [
      "INFO:tensorflow:Assets written to: c:\\Mohit\\Imperial\\fyp-hearts\\wandb\\run-20240519_180316-th9oou1m\\files\\model-best\\assets\n"
     ]
    },
    {
     "name": "stderr",
     "output_type": "stream",
     "text": [
      "INFO:tensorflow:Assets written to: c:\\Mohit\\Imperial\\fyp-hearts\\wandb\\run-20240519_180316-th9oou1m\\files\\model-best\\assets\n",
      "wandb: Adding directory to artifact (c:\\Mohit\\Imperial\\fyp-hearts\\wandb\\run-20240519_180316-th9oou1m\\files\\model-best)... Done. 0.0s\n"
     ]
    },
    {
     "name": "stdout",
     "output_type": "stream",
     "text": [
      "534/534 [==============================] - 74s 140ms/step - loss: 0.0894 - accuracy: 0.1701 - auc: 0.7957 - val_loss: 0.0965 - val_accuracy: 0.1073 - val_auc: 0.7281\n",
      "Epoch 26/30\n",
      "534/534 [==============================] - 53s 99ms/step - loss: 0.0891 - accuracy: 0.1632 - auc: 0.7936 - val_loss: 0.1272 - val_accuracy: 0.0998 - val_auc: 0.6785\n",
      "Epoch 27/30\n",
      "534/534 [==============================] - 42s 78ms/step - loss: 0.0888 - accuracy: 0.1655 - auc: 0.8030 - val_loss: 0.1100 - val_accuracy: 0.1770 - val_auc: 0.7025\n",
      "Epoch 28/30\n",
      "534/534 [==============================] - 41s 77ms/step - loss: 0.0884 - accuracy: 0.1655 - auc: 0.8041 - val_loss: 0.1175 - val_accuracy: 0.1653 - val_auc: 0.7222\n",
      "Epoch 29/30\n",
      "534/534 [==============================] - 50s 94ms/step - loss: 0.0884 - accuracy: 0.1691 - auc: 0.8000 - val_loss: 0.1101 - val_accuracy: 0.1527 - val_auc: 0.6719\n",
      "Epoch 30/30\n",
      "534/534 [==============================] - 57s 107ms/step - loss: 0.0882 - accuracy: 0.1708 - auc: 0.8087 - val_loss: 0.1129 - val_accuracy: 0.2417 - val_auc: 0.7311\n"
     ]
    },
    {
     "data": {
      "text/html": [
       "W&B sync reduced upload amount by 1.2%             "
      ],
      "text/plain": [
       "<IPython.core.display.HTML object>"
      ]
     },
     "metadata": {},
     "output_type": "display_data"
    },
    {
     "data": {
      "text/html": [
       "<style>\n",
       "    table.wandb td:nth-child(1) { padding: 0 10px; text-align: left ; width: auto;} td:nth-child(2) {text-align: left ; width: 100%}\n",
       "    .wandb-row { display: flex; flex-direction: row; flex-wrap: wrap; justify-content: flex-start; width: 100% }\n",
       "    .wandb-col { display: flex; flex-direction: column; flex-basis: 100%; flex: 1; padding: 10px; }\n",
       "    </style>\n",
       "<div class=\"wandb-row\"><div class=\"wandb-col\"><h3>Run history:</h3><br/><table class=\"wandb\"><tr><td>accuracy</td><td>▁▃▃▄▄▅▅▆▆▆▆▇▇▇▇▇▇▇█▇██▇███████</td></tr><tr><td>auc</td><td>▁▄▄▅▅▅▅▆▆▆▆▆▇▇▇▇▇▇▇▇▇▇▇███████</td></tr><tr><td>epoch</td><td>▁▁▁▂▂▂▂▃▃▃▃▄▄▄▄▅▅▅▅▆▆▆▆▇▇▇▇███</td></tr><tr><td>loss</td><td>█▄▄▃▃▃▃▃▃▂▂▂▂▂▂▂▂▂▂▁▁▁▁▁▁▁▁▁▁▁</td></tr><tr><td>val_accuracy</td><td>▁▆█▂▁▁▄▄▂▁▁▁▂▃▅▁▄▆▅▅▂▄▃▃▂▂▃▃▃▅</td></tr><tr><td>val_auc</td><td>▃▄▁▂▆▅▃▅▇▅▅▅▇▄▅▅▆▆▆▅▇█▇▆▇▅▆▇▅▇</td></tr><tr><td>val_loss</td><td>▂▂▄▇▁▂▂▂▂▃▆▂▁▃▂█▂▂▂▂▂▁▃▂▁▃▂▂▂▂</td></tr></table><br/></div><div class=\"wandb-col\"><h3>Run summary:</h3><br/><table class=\"wandb\"><tr><td>accuracy</td><td>0.17084</td></tr><tr><td>auc</td><td>0.80871</td></tr><tr><td>best_epoch</td><td>24</td></tr><tr><td>best_val_loss</td><td>0.09653</td></tr><tr><td>epoch</td><td>29</td></tr><tr><td>loss</td><td>0.08822</td></tr><tr><td>val_accuracy</td><td>0.24169</td></tr><tr><td>val_auc</td><td>0.73114</td></tr><tr><td>val_loss</td><td>0.11294</td></tr></table><br/></div></div>"
      ],
      "text/plain": [
       "<IPython.core.display.HTML object>"
      ]
     },
     "metadata": {},
     "output_type": "display_data"
    },
    {
     "data": {
      "text/html": [
       " View run <strong style=\"color:#cdcd00\">curious-sweep-3</strong> at: <a href='https://wandb.ai/fyp-hearts/lenet_5_sweep/runs/th9oou1m' target=\"_blank\">https://wandb.ai/fyp-hearts/lenet_5_sweep/runs/th9oou1m</a><br/>Synced 5 W&B file(s), 1 media file(s), 30 artifact file(s) and 1 other file(s)"
      ],
      "text/plain": [
       "<IPython.core.display.HTML object>"
      ]
     },
     "metadata": {},
     "output_type": "display_data"
    },
    {
     "data": {
      "text/html": [
       "Find logs at: <code>.\\wandb\\run-20240519_180316-th9oou1m\\logs</code>"
      ],
      "text/plain": [
       "<IPython.core.display.HTML object>"
      ]
     },
     "metadata": {},
     "output_type": "display_data"
    },
    {
     "name": "stderr",
     "output_type": "stream",
     "text": [
      "wandb: Agent Starting Run: fyzd5a95 with config:\n",
      "wandb: \tdense_1: 256\n",
      "wandb: \tfilters_1: 32\n",
      "wandb: \tfilters_2: 32\n",
      "wandb: \tlearning_rate: 0.001\n"
     ]
    },
    {
     "data": {
      "text/html": [
       "wandb version 0.17.0 is available!  To upgrade, please run:\n",
       " $ pip install wandb --upgrade"
      ],
      "text/plain": [
       "<IPython.core.display.HTML object>"
      ]
     },
     "metadata": {},
     "output_type": "display_data"
    },
    {
     "data": {
      "text/html": [
       "Tracking run with wandb version 0.16.2"
      ],
      "text/plain": [
       "<IPython.core.display.HTML object>"
      ]
     },
     "metadata": {},
     "output_type": "display_data"
    },
    {
     "data": {
      "text/html": [
       "Run data is saved locally in <code>c:\\Mohit\\Imperial\\fyp-hearts\\wandb\\run-20240519_182608-fyzd5a95</code>"
      ],
      "text/plain": [
       "<IPython.core.display.HTML object>"
      ]
     },
     "metadata": {},
     "output_type": "display_data"
    },
    {
     "data": {
      "text/html": [
       "Syncing run <strong><a href='https://wandb.ai/fyp-hearts/lenet_5_sweep/runs/fyzd5a95' target=\"_blank\">dark-sweep-4</a></strong> to <a href='https://wandb.ai/fyp-hearts/lenet_5_sweep' target=\"_blank\">Weights & Biases</a> (<a href='https://wandb.me/run' target=\"_blank\">docs</a>)<br/>Sweep page: <a href='https://wandb.ai/fyp-hearts/lenet_5_sweep/sweeps/pj0b3bw9' target=\"_blank\">https://wandb.ai/fyp-hearts/lenet_5_sweep/sweeps/pj0b3bw9</a>"
      ],
      "text/plain": [
       "<IPython.core.display.HTML object>"
      ]
     },
     "metadata": {},
     "output_type": "display_data"
    },
    {
     "data": {
      "text/html": [
       " View project at <a href='https://wandb.ai/fyp-hearts/lenet_5_sweep' target=\"_blank\">https://wandb.ai/fyp-hearts/lenet_5_sweep</a>"
      ],
      "text/plain": [
       "<IPython.core.display.HTML object>"
      ]
     },
     "metadata": {},
     "output_type": "display_data"
    },
    {
     "data": {
      "text/html": [
       " View sweep at <a href='https://wandb.ai/fyp-hearts/lenet_5_sweep/sweeps/pj0b3bw9' target=\"_blank\">https://wandb.ai/fyp-hearts/lenet_5_sweep/sweeps/pj0b3bw9</a>"
      ],
      "text/plain": [
       "<IPython.core.display.HTML object>"
      ]
     },
     "metadata": {},
     "output_type": "display_data"
    },
    {
     "data": {
      "text/html": [
       " View run at <a href='https://wandb.ai/fyp-hearts/lenet_5_sweep/runs/fyzd5a95' target=\"_blank\">https://wandb.ai/fyp-hearts/lenet_5_sweep/runs/fyzd5a95</a>"
      ],
      "text/plain": [
       "<IPython.core.display.HTML object>"
      ]
     },
     "metadata": {},
     "output_type": "display_data"
    },
    {
     "name": "stdout",
     "output_type": "stream",
     "text": [
      "Epoch 1/30\n",
      "534/534 [==============================] - ETA: 0s - loss: 0.1291 - accuracy: 0.0599 - auc: 0.5700"
     ]
    },
    {
     "name": "stderr",
     "output_type": "stream",
     "text": [
      "WARNING:absl:Found untraced functions such as _jit_compiled_convolution_op, _jit_compiled_convolution_op, _update_step_xla while saving (showing 3 of 3). These functions will not be directly callable after loading.\n"
     ]
    },
    {
     "name": "stdout",
     "output_type": "stream",
     "text": [
      "INFO:tensorflow:Assets written to: c:\\Mohit\\Imperial\\fyp-hearts\\wandb\\run-20240519_182608-fyzd5a95\\files\\model-best\\assets\n"
     ]
    },
    {
     "name": "stderr",
     "output_type": "stream",
     "text": [
      "INFO:tensorflow:Assets written to: c:\\Mohit\\Imperial\\fyp-hearts\\wandb\\run-20240519_182608-fyzd5a95\\files\\model-best\\assets\n",
      "wandb: Adding directory to artifact (c:\\Mohit\\Imperial\\fyp-hearts\\wandb\\run-20240519_182608-fyzd5a95\\files\\model-best)... Done. 0.1s\n"
     ]
    },
    {
     "name": "stdout",
     "output_type": "stream",
     "text": [
      "534/534 [==============================] - 63s 109ms/step - loss: 0.1291 - accuracy: 0.0599 - auc: 0.5700 - val_loss: 0.1168 - val_accuracy: 0.0646 - val_auc: 0.6444\n",
      "Epoch 2/30\n",
      "534/534 [==============================] - ETA: 0s - loss: 0.1069 - accuracy: 0.0824 - auc: 0.6508"
     ]
    },
    {
     "name": "stderr",
     "output_type": "stream",
     "text": [
      "WARNING:absl:Found untraced functions such as _jit_compiled_convolution_op, _jit_compiled_convolution_op, _update_step_xla while saving (showing 3 of 3). These functions will not be directly callable after loading.\n"
     ]
    },
    {
     "name": "stdout",
     "output_type": "stream",
     "text": [
      "INFO:tensorflow:Assets written to: c:\\Mohit\\Imperial\\fyp-hearts\\wandb\\run-20240519_182608-fyzd5a95\\files\\model-best\\assets\n"
     ]
    },
    {
     "name": "stderr",
     "output_type": "stream",
     "text": [
      "INFO:tensorflow:Assets written to: c:\\Mohit\\Imperial\\fyp-hearts\\wandb\\run-20240519_182608-fyzd5a95\\files\\model-best\\assets\n",
      "wandb: Adding directory to artifact (c:\\Mohit\\Imperial\\fyp-hearts\\wandb\\run-20240519_182608-fyzd5a95\\files\\model-best)... Done. 0.0s\n"
     ]
    },
    {
     "name": "stdout",
     "output_type": "stream",
     "text": [
      "534/534 [==============================] - 49s 92ms/step - loss: 0.1069 - accuracy: 0.0824 - auc: 0.6508 - val_loss: 0.1157 - val_accuracy: 0.0693 - val_auc: 0.7020\n",
      "Epoch 3/30\n",
      "534/534 [==============================] - 55s 103ms/step - loss: 0.1037 - accuracy: 0.0956 - auc: 0.6746 - val_loss: 0.1213 - val_accuracy: 0.1991 - val_auc: 0.6379\n",
      "Epoch 4/30\n",
      "534/534 [==============================] - 52s 98ms/step - loss: 0.1015 - accuracy: 0.1022 - auc: 0.6922 - val_loss: 0.1578 - val_accuracy: 0.0820 - val_auc: 0.6637\n",
      "Epoch 5/30\n",
      "534/534 [==============================] - ETA: 0s - loss: 0.1003 - accuracy: 0.1002 - auc: 0.7057"
     ]
    },
    {
     "name": "stderr",
     "output_type": "stream",
     "text": [
      "WARNING:absl:Found untraced functions such as _jit_compiled_convolution_op, _jit_compiled_convolution_op, _update_step_xla while saving (showing 3 of 3). These functions will not be directly callable after loading.\n"
     ]
    },
    {
     "name": "stdout",
     "output_type": "stream",
     "text": [
      "INFO:tensorflow:Assets written to: c:\\Mohit\\Imperial\\fyp-hearts\\wandb\\run-20240519_182608-fyzd5a95\\files\\model-best\\assets\n"
     ]
    },
    {
     "name": "stderr",
     "output_type": "stream",
     "text": [
      "INFO:tensorflow:Assets written to: c:\\Mohit\\Imperial\\fyp-hearts\\wandb\\run-20240519_182608-fyzd5a95\\files\\model-best\\assets\n",
      "wandb: Adding directory to artifact (c:\\Mohit\\Imperial\\fyp-hearts\\wandb\\run-20240519_182608-fyzd5a95\\files\\model-best)... Done. 0.1s\n"
     ]
    },
    {
     "name": "stdout",
     "output_type": "stream",
     "text": [
      "534/534 [==============================] - 67s 125ms/step - loss: 0.1003 - accuracy: 0.1002 - auc: 0.7057 - val_loss: 0.1104 - val_accuracy: 0.0913 - val_auc: 0.6462\n",
      "Epoch 6/30\n",
      "534/534 [==============================] - 69s 128ms/step - loss: 0.0994 - accuracy: 0.1046 - auc: 0.7094 - val_loss: 0.1206 - val_accuracy: 0.0712 - val_auc: 0.7159\n",
      "Epoch 7/30\n",
      "534/534 [==============================] - ETA: 0s - loss: 0.0987 - accuracy: 0.1063 - auc: 0.7205"
     ]
    },
    {
     "name": "stderr",
     "output_type": "stream",
     "text": [
      "WARNING:absl:Found untraced functions such as _jit_compiled_convolution_op, _jit_compiled_convolution_op, _update_step_xla while saving (showing 3 of 3). These functions will not be directly callable after loading.\n"
     ]
    },
    {
     "name": "stdout",
     "output_type": "stream",
     "text": [
      "INFO:tensorflow:Assets written to: c:\\Mohit\\Imperial\\fyp-hearts\\wandb\\run-20240519_182608-fyzd5a95\\files\\model-best\\assets\n"
     ]
    },
    {
     "name": "stderr",
     "output_type": "stream",
     "text": [
      "INFO:tensorflow:Assets written to: c:\\Mohit\\Imperial\\fyp-hearts\\wandb\\run-20240519_182608-fyzd5a95\\files\\model-best\\assets\n",
      "wandb: Adding directory to artifact (c:\\Mohit\\Imperial\\fyp-hearts\\wandb\\run-20240519_182608-fyzd5a95\\files\\model-best)... Done. 0.1s\n"
     ]
    },
    {
     "name": "stdout",
     "output_type": "stream",
     "text": [
      "534/534 [==============================] - 74s 140ms/step - loss: 0.0987 - accuracy: 0.1063 - auc: 0.7205 - val_loss: 0.1091 - val_accuracy: 0.0763 - val_auc: 0.7192\n",
      "Epoch 8/30\n",
      "534/534 [==============================] - 63s 118ms/step - loss: 0.0978 - accuracy: 0.1184 - auc: 0.7302 - val_loss: 0.1123 - val_accuracy: 0.1630 - val_auc: 0.6960\n",
      "Epoch 9/30\n",
      "534/534 [==============================] - 51s 96ms/step - loss: 0.0971 - accuracy: 0.1177 - auc: 0.7328 - val_loss: 0.1118 - val_accuracy: 0.0927 - val_auc: 0.7094\n",
      "Epoch 10/30\n",
      "534/534 [==============================] - 59s 110ms/step - loss: 0.0963 - accuracy: 0.1224 - auc: 0.7412 - val_loss: 0.1202 - val_accuracy: 0.1672 - val_auc: 0.6535\n",
      "Epoch 11/30\n",
      "534/534 [==============================] - ETA: 0s - loss: 0.0959 - accuracy: 0.1297 - auc: 0.7555"
     ]
    },
    {
     "name": "stderr",
     "output_type": "stream",
     "text": [
      "WARNING:absl:Found untraced functions such as _jit_compiled_convolution_op, _jit_compiled_convolution_op, _update_step_xla while saving (showing 3 of 3). These functions will not be directly callable after loading.\n"
     ]
    },
    {
     "name": "stdout",
     "output_type": "stream",
     "text": [
      "INFO:tensorflow:Assets written to: c:\\Mohit\\Imperial\\fyp-hearts\\wandb\\run-20240519_182608-fyzd5a95\\files\\model-best\\assets\n"
     ]
    },
    {
     "name": "stderr",
     "output_type": "stream",
     "text": [
      "INFO:tensorflow:Assets written to: c:\\Mohit\\Imperial\\fyp-hearts\\wandb\\run-20240519_182608-fyzd5a95\\files\\model-best\\assets\n",
      "wandb: Adding directory to artifact (c:\\Mohit\\Imperial\\fyp-hearts\\wandb\\run-20240519_182608-fyzd5a95\\files\\model-best)... Done. 0.1s\n"
     ]
    },
    {
     "name": "stdout",
     "output_type": "stream",
     "text": [
      "534/534 [==============================] - 72s 135ms/step - loss: 0.0959 - accuracy: 0.1297 - auc: 0.7555 - val_loss: 0.1079 - val_accuracy: 0.0890 - val_auc: 0.7036\n",
      "Epoch 12/30\n",
      "534/534 [==============================] - 57s 107ms/step - loss: 0.0952 - accuracy: 0.1351 - auc: 0.7537 - val_loss: 0.1425 - val_accuracy: 0.1152 - val_auc: 0.5937\n",
      "Epoch 13/30\n",
      "534/534 [==============================] - 55s 102ms/step - loss: 0.0945 - accuracy: 0.1433 - auc: 0.7560 - val_loss: 0.1256 - val_accuracy: 0.1902 - val_auc: 0.6497\n",
      "Epoch 14/30\n",
      "534/534 [==============================] - ETA: 0s - loss: 0.0940 - accuracy: 0.1420 - auc: 0.7647"
     ]
    },
    {
     "name": "stderr",
     "output_type": "stream",
     "text": [
      "WARNING:absl:Found untraced functions such as _jit_compiled_convolution_op, _jit_compiled_convolution_op, _update_step_xla while saving (showing 3 of 3). These functions will not be directly callable after loading.\n"
     ]
    },
    {
     "name": "stdout",
     "output_type": "stream",
     "text": [
      "INFO:tensorflow:Assets written to: c:\\Mohit\\Imperial\\fyp-hearts\\wandb\\run-20240519_182608-fyzd5a95\\files\\model-best\\assets\n"
     ]
    },
    {
     "name": "stderr",
     "output_type": "stream",
     "text": [
      "INFO:tensorflow:Assets written to: c:\\Mohit\\Imperial\\fyp-hearts\\wandb\\run-20240519_182608-fyzd5a95\\files\\model-best\\assets\n",
      "wandb: Adding directory to artifact (c:\\Mohit\\Imperial\\fyp-hearts\\wandb\\run-20240519_182608-fyzd5a95\\files\\model-best)... Done. 0.1s\n"
     ]
    },
    {
     "name": "stdout",
     "output_type": "stream",
     "text": [
      "534/534 [==============================] - 63s 118ms/step - loss: 0.0940 - accuracy: 0.1420 - auc: 0.7647 - val_loss: 0.0984 - val_accuracy: 0.0895 - val_auc: 0.7456\n",
      "Epoch 15/30\n",
      "534/534 [==============================] - 55s 103ms/step - loss: 0.0934 - accuracy: 0.1441 - auc: 0.7762 - val_loss: 0.1281 - val_accuracy: 0.1049 - val_auc: 0.7278\n",
      "Epoch 16/30\n",
      "534/534 [==============================] - 55s 103ms/step - loss: 0.0930 - accuracy: 0.1480 - auc: 0.7723 - val_loss: 0.1053 - val_accuracy: 0.0824 - val_auc: 0.7287\n",
      "Epoch 17/30\n",
      "534/534 [==============================] - 57s 106ms/step - loss: 0.0925 - accuracy: 0.1520 - auc: 0.7749 - val_loss: 0.1038 - val_accuracy: 0.1208 - val_auc: 0.7530\n",
      "Epoch 18/30\n",
      "534/534 [==============================] - 55s 102ms/step - loss: 0.0920 - accuracy: 0.1506 - auc: 0.7709 - val_loss: 0.1819 - val_accuracy: 0.2792 - val_auc: 0.6003\n",
      "Epoch 19/30\n",
      "534/534 [==============================] - 54s 101ms/step - loss: 0.0919 - accuracy: 0.1572 - auc: 0.7811 - val_loss: 0.1473 - val_accuracy: 0.1443 - val_auc: 0.6125\n",
      "Epoch 20/30\n",
      "534/534 [==============================] - 51s 95ms/step - loss: 0.0912 - accuracy: 0.1571 - auc: 0.7878 - val_loss: 0.1178 - val_accuracy: 0.1663 - val_auc: 0.6672\n",
      "Epoch 21/30\n",
      "534/534 [==============================] - 55s 102ms/step - loss: 0.0909 - accuracy: 0.1575 - auc: 0.7838 - val_loss: 0.1111 - val_accuracy: 0.2159 - val_auc: 0.7302\n",
      "Epoch 22/30\n",
      "534/534 [==============================] - 60s 112ms/step - loss: 0.0904 - accuracy: 0.1580 - auc: 0.7907 - val_loss: 0.1254 - val_accuracy: 0.0735 - val_auc: 0.6561\n",
      "Epoch 23/30\n",
      "534/534 [==============================] - 60s 113ms/step - loss: 0.0900 - accuracy: 0.1601 - auc: 0.7984 - val_loss: 0.1017 - val_accuracy: 0.2773 - val_auc: 0.7441\n",
      "Epoch 24/30\n",
      "534/534 [==============================] - 59s 110ms/step - loss: 0.0897 - accuracy: 0.1591 - auc: 0.7943 - val_loss: 0.1488 - val_accuracy: 0.1564 - val_auc: 0.6946\n",
      "Epoch 25/30\n",
      "534/534 [==============================] - 47s 89ms/step - loss: 0.0896 - accuracy: 0.1667 - auc: 0.7987 - val_loss: 0.1177 - val_accuracy: 0.2567 - val_auc: 0.7131\n",
      "Epoch 26/30\n",
      "534/534 [==============================] - 48s 89ms/step - loss: 0.0894 - accuracy: 0.1612 - auc: 0.7989 - val_loss: 0.1026 - val_accuracy: 0.0787 - val_auc: 0.7358\n",
      "Epoch 27/30\n",
      "534/534 [==============================] - 48s 91ms/step - loss: 0.0891 - accuracy: 0.1608 - auc: 0.8107 - val_loss: 0.0989 - val_accuracy: 0.2464 - val_auc: 0.7586\n",
      "Epoch 28/30\n",
      "534/534 [==============================] - 46s 85ms/step - loss: 0.0886 - accuracy: 0.1608 - auc: 0.8015 - val_loss: 0.1051 - val_accuracy: 0.1054 - val_auc: 0.7223\n",
      "Epoch 29/30\n",
      "534/534 [==============================] - 55s 103ms/step - loss: 0.0885 - accuracy: 0.1632 - auc: 0.8049 - val_loss: 0.1089 - val_accuracy: 0.1916 - val_auc: 0.7081\n",
      "Epoch 30/30\n",
      "534/534 [==============================] - 55s 104ms/step - loss: 0.0882 - accuracy: 0.1650 - auc: 0.8049 - val_loss: 0.1188 - val_accuracy: 0.1794 - val_auc: 0.6916\n"
     ]
    },
    {
     "data": {
      "text/html": [
       "W&B sync reduced upload amount by 1.2%             "
      ],
      "text/plain": [
       "<IPython.core.display.HTML object>"
      ]
     },
     "metadata": {},
     "output_type": "display_data"
    },
    {
     "data": {
      "text/html": [
       "<style>\n",
       "    table.wandb td:nth-child(1) { padding: 0 10px; text-align: left ; width: auto;} td:nth-child(2) {text-align: left ; width: 100%}\n",
       "    .wandb-row { display: flex; flex-direction: row; flex-wrap: wrap; justify-content: flex-start; width: 100% }\n",
       "    .wandb-col { display: flex; flex-direction: column; flex-basis: 100%; flex: 1; padding: 10px; }\n",
       "    </style>\n",
       "<div class=\"wandb-row\"><div class=\"wandb-col\"><h3>Run history:</h3><br/><table class=\"wandb\"><tr><td>accuracy</td><td>▁▂▃▄▄▄▄▅▅▅▆▆▆▆▇▇▇▇▇▇▇▇████████</td></tr><tr><td>auc</td><td>▁▃▄▅▅▅▅▆▆▆▆▆▆▇▇▇▇▇▇▇▇▇████████</td></tr><tr><td>epoch</td><td>▁▁▁▂▂▂▂▃▃▃▃▄▄▄▄▅▅▅▅▆▆▆▆▇▇▇▇███</td></tr><tr><td>loss</td><td>█▄▄▃▃▃▃▃▃▂▂▂▂▂▂▂▂▂▂▂▁▁▁▁▁▁▁▁▁▁</td></tr><tr><td>val_accuracy</td><td>▁▁▅▂▂▁▁▄▂▄▂▃▅▂▂▂▃█▄▄▆▁█▄▇▁▇▂▅▅</td></tr><tr><td>val_auc</td><td>▃▆▃▄▃▆▆▅▆▄▆▁▃▇▇▇█▁▂▄▇▄▇▅▆▇█▆▆▅</td></tr><tr><td>val_loss</td><td>▃▂▃▆▂▃▂▂▂▃▂▅▃▁▃▂▁█▅▃▂▃▁▅▃▁▁▂▂▃</td></tr></table><br/></div><div class=\"wandb-col\"><h3>Run summary:</h3><br/><table class=\"wandb\"><tr><td>accuracy</td><td>0.16505</td></tr><tr><td>auc</td><td>0.80487</td></tr><tr><td>best_epoch</td><td>13</td></tr><tr><td>best_val_loss</td><td>0.0984</td></tr><tr><td>epoch</td><td>29</td></tr><tr><td>loss</td><td>0.08823</td></tr><tr><td>val_accuracy</td><td>0.17939</td></tr><tr><td>val_auc</td><td>0.69163</td></tr><tr><td>val_loss</td><td>0.1188</td></tr></table><br/></div></div>"
      ],
      "text/plain": [
       "<IPython.core.display.HTML object>"
      ]
     },
     "metadata": {},
     "output_type": "display_data"
    },
    {
     "data": {
      "text/html": [
       " View run <strong style=\"color:#cdcd00\">dark-sweep-4</strong> at: <a href='https://wandb.ai/fyp-hearts/lenet_5_sweep/runs/fyzd5a95' target=\"_blank\">https://wandb.ai/fyp-hearts/lenet_5_sweep/runs/fyzd5a95</a><br/>Synced 5 W&B file(s), 1 media file(s), 30 artifact file(s) and 1 other file(s)"
      ],
      "text/plain": [
       "<IPython.core.display.HTML object>"
      ]
     },
     "metadata": {},
     "output_type": "display_data"
    },
    {
     "data": {
      "text/html": [
       "Find logs at: <code>.\\wandb\\run-20240519_182608-fyzd5a95\\logs</code>"
      ],
      "text/plain": [
       "<IPython.core.display.HTML object>"
      ]
     },
     "metadata": {},
     "output_type": "display_data"
    },
    {
     "name": "stderr",
     "output_type": "stream",
     "text": [
      "wandb: Agent Starting Run: 3yrhcay4 with config:\n",
      "wandb: \tdense_1: 64\n",
      "wandb: \tfilters_1: 64\n",
      "wandb: \tfilters_2: 64\n",
      "wandb: \tlearning_rate: 0.0001\n"
     ]
    },
    {
     "data": {
      "text/html": [
       "wandb version 0.17.0 is available!  To upgrade, please run:\n",
       " $ pip install wandb --upgrade"
      ],
      "text/plain": [
       "<IPython.core.display.HTML object>"
      ]
     },
     "metadata": {},
     "output_type": "display_data"
    },
    {
     "data": {
      "text/html": [
       "Tracking run with wandb version 0.16.2"
      ],
      "text/plain": [
       "<IPython.core.display.HTML object>"
      ]
     },
     "metadata": {},
     "output_type": "display_data"
    },
    {
     "data": {
      "text/html": [
       "Run data is saved locally in <code>c:\\Mohit\\Imperial\\fyp-hearts\\wandb\\run-20240519_185508-3yrhcay4</code>"
      ],
      "text/plain": [
       "<IPython.core.display.HTML object>"
      ]
     },
     "metadata": {},
     "output_type": "display_data"
    },
    {
     "data": {
      "text/html": [
       "Syncing run <strong><a href='https://wandb.ai/fyp-hearts/lenet_5_sweep/runs/3yrhcay4' target=\"_blank\">curious-sweep-5</a></strong> to <a href='https://wandb.ai/fyp-hearts/lenet_5_sweep' target=\"_blank\">Weights & Biases</a> (<a href='https://wandb.me/run' target=\"_blank\">docs</a>)<br/>Sweep page: <a href='https://wandb.ai/fyp-hearts/lenet_5_sweep/sweeps/pj0b3bw9' target=\"_blank\">https://wandb.ai/fyp-hearts/lenet_5_sweep/sweeps/pj0b3bw9</a>"
      ],
      "text/plain": [
       "<IPython.core.display.HTML object>"
      ]
     },
     "metadata": {},
     "output_type": "display_data"
    },
    {
     "data": {
      "text/html": [
       " View project at <a href='https://wandb.ai/fyp-hearts/lenet_5_sweep' target=\"_blank\">https://wandb.ai/fyp-hearts/lenet_5_sweep</a>"
      ],
      "text/plain": [
       "<IPython.core.display.HTML object>"
      ]
     },
     "metadata": {},
     "output_type": "display_data"
    },
    {
     "data": {
      "text/html": [
       " View sweep at <a href='https://wandb.ai/fyp-hearts/lenet_5_sweep/sweeps/pj0b3bw9' target=\"_blank\">https://wandb.ai/fyp-hearts/lenet_5_sweep/sweeps/pj0b3bw9</a>"
      ],
      "text/plain": [
       "<IPython.core.display.HTML object>"
      ]
     },
     "metadata": {},
     "output_type": "display_data"
    },
    {
     "data": {
      "text/html": [
       " View run at <a href='https://wandb.ai/fyp-hearts/lenet_5_sweep/runs/3yrhcay4' target=\"_blank\">https://wandb.ai/fyp-hearts/lenet_5_sweep/runs/3yrhcay4</a>"
      ],
      "text/plain": [
       "<IPython.core.display.HTML object>"
      ]
     },
     "metadata": {},
     "output_type": "display_data"
    },
    {
     "name": "stdout",
     "output_type": "stream",
     "text": [
      "Epoch 1/30\n"
     ]
    },
    {
     "data": {
      "text/html": [
       " View run <strong style=\"color:#cdcd00\">curious-sweep-5</strong> at: <a href='https://wandb.ai/fyp-hearts/lenet_5_sweep/runs/3yrhcay4' target=\"_blank\">https://wandb.ai/fyp-hearts/lenet_5_sweep/runs/3yrhcay4</a><br/>Synced 5 W&B file(s), 0 media file(s), 0 artifact file(s) and 0 other file(s)"
      ],
      "text/plain": [
       "<IPython.core.display.HTML object>"
      ]
     },
     "metadata": {},
     "output_type": "display_data"
    },
    {
     "data": {
      "text/html": [
       "Find logs at: <code>.\\wandb\\run-20240519_185508-3yrhcay4\\logs</code>"
      ],
      "text/plain": [
       "<IPython.core.display.HTML object>"
      ]
     },
     "metadata": {},
     "output_type": "display_data"
    },
    {
     "name": "stderr",
     "output_type": "stream",
     "text": [
      "wandb: ERROR Run 3yrhcay4 errored: FileNotFoundError(2, 'No such file or directory')\n",
      "wandb: Agent Starting Run: sms9hrbn with config:\n",
      "wandb: \tdense_1: 64\n",
      "wandb: \tfilters_1: 16\n",
      "wandb: \tfilters_2: 64\n",
      "wandb: \tlearning_rate: 0.001\n"
     ]
    },
    {
     "data": {
      "text/html": [
       "wandb version 0.17.0 is available!  To upgrade, please run:\n",
       " $ pip install wandb --upgrade"
      ],
      "text/plain": [
       "<IPython.core.display.HTML object>"
      ]
     },
     "metadata": {},
     "output_type": "display_data"
    },
    {
     "data": {
      "text/html": [
       "Tracking run with wandb version 0.16.2"
      ],
      "text/plain": [
       "<IPython.core.display.HTML object>"
      ]
     },
     "metadata": {},
     "output_type": "display_data"
    },
    {
     "data": {
      "text/html": [
       "Run data is saved locally in <code>c:\\Mohit\\Imperial\\fyp-hearts\\wandb\\run-20240519_185534-sms9hrbn</code>"
      ],
      "text/plain": [
       "<IPython.core.display.HTML object>"
      ]
     },
     "metadata": {},
     "output_type": "display_data"
    },
    {
     "data": {
      "text/html": [
       "Syncing run <strong><a href='https://wandb.ai/fyp-hearts/lenet_5_sweep/runs/sms9hrbn' target=\"_blank\">revived-sweep-6</a></strong> to <a href='https://wandb.ai/fyp-hearts/lenet_5_sweep' target=\"_blank\">Weights & Biases</a> (<a href='https://wandb.me/run' target=\"_blank\">docs</a>)<br/>Sweep page: <a href='https://wandb.ai/fyp-hearts/lenet_5_sweep/sweeps/pj0b3bw9' target=\"_blank\">https://wandb.ai/fyp-hearts/lenet_5_sweep/sweeps/pj0b3bw9</a>"
      ],
      "text/plain": [
       "<IPython.core.display.HTML object>"
      ]
     },
     "metadata": {},
     "output_type": "display_data"
    },
    {
     "data": {
      "text/html": [
       " View project at <a href='https://wandb.ai/fyp-hearts/lenet_5_sweep' target=\"_blank\">https://wandb.ai/fyp-hearts/lenet_5_sweep</a>"
      ],
      "text/plain": [
       "<IPython.core.display.HTML object>"
      ]
     },
     "metadata": {},
     "output_type": "display_data"
    },
    {
     "data": {
      "text/html": [
       " View sweep at <a href='https://wandb.ai/fyp-hearts/lenet_5_sweep/sweeps/pj0b3bw9' target=\"_blank\">https://wandb.ai/fyp-hearts/lenet_5_sweep/sweeps/pj0b3bw9</a>"
      ],
      "text/plain": [
       "<IPython.core.display.HTML object>"
      ]
     },
     "metadata": {},
     "output_type": "display_data"
    },
    {
     "data": {
      "text/html": [
       " View run at <a href='https://wandb.ai/fyp-hearts/lenet_5_sweep/runs/sms9hrbn' target=\"_blank\">https://wandb.ai/fyp-hearts/lenet_5_sweep/runs/sms9hrbn</a>"
      ],
      "text/plain": [
       "<IPython.core.display.HTML object>"
      ]
     },
     "metadata": {},
     "output_type": "display_data"
    },
    {
     "name": "stdout",
     "output_type": "stream",
     "text": [
      "Epoch 1/30\n"
     ]
    },
    {
     "data": {
      "text/html": [
       " View run <strong style=\"color:#cdcd00\">revived-sweep-6</strong> at: <a href='https://wandb.ai/fyp-hearts/lenet_5_sweep/runs/sms9hrbn' target=\"_blank\">https://wandb.ai/fyp-hearts/lenet_5_sweep/runs/sms9hrbn</a><br/>Synced 5 W&B file(s), 0 media file(s), 0 artifact file(s) and 0 other file(s)"
      ],
      "text/plain": [
       "<IPython.core.display.HTML object>"
      ]
     },
     "metadata": {},
     "output_type": "display_data"
    },
    {
     "data": {
      "text/html": [
       "Find logs at: <code>.\\wandb\\run-20240519_185534-sms9hrbn\\logs</code>"
      ],
      "text/plain": [
       "<IPython.core.display.HTML object>"
      ]
     },
     "metadata": {},
     "output_type": "display_data"
    },
    {
     "name": "stderr",
     "output_type": "stream",
     "text": [
      "wandb: ERROR Run sms9hrbn errored: FileNotFoundError(2, 'No such file or directory')\n",
      "wandb: Sweep Agent: Waiting for job.\n",
      "wandb: Job received.\n",
      "wandb: Agent Starting Run: 6u201jwq with config:\n",
      "wandb: \tdense_1: 256\n",
      "wandb: \tfilters_1: 64\n",
      "wandb: \tfilters_2: 32\n",
      "wandb: \tlearning_rate: 0.001\n"
     ]
    },
    {
     "data": {
      "text/html": [
       "wandb version 0.17.0 is available!  To upgrade, please run:\n",
       " $ pip install wandb --upgrade"
      ],
      "text/plain": [
       "<IPython.core.display.HTML object>"
      ]
     },
     "metadata": {},
     "output_type": "display_data"
    },
    {
     "data": {
      "text/html": [
       "Tracking run with wandb version 0.16.2"
      ],
      "text/plain": [
       "<IPython.core.display.HTML object>"
      ]
     },
     "metadata": {},
     "output_type": "display_data"
    },
    {
     "data": {
      "text/html": [
       "Run data is saved locally in <code>c:\\Mohit\\Imperial\\fyp-hearts\\wandb\\run-20240519_185559-6u201jwq</code>"
      ],
      "text/plain": [
       "<IPython.core.display.HTML object>"
      ]
     },
     "metadata": {},
     "output_type": "display_data"
    },
    {
     "data": {
      "text/html": [
       "Syncing run <strong><a href='https://wandb.ai/fyp-hearts/lenet_5_sweep/runs/6u201jwq' target=\"_blank\">upbeat-sweep-7</a></strong> to <a href='https://wandb.ai/fyp-hearts/lenet_5_sweep' target=\"_blank\">Weights & Biases</a> (<a href='https://wandb.me/run' target=\"_blank\">docs</a>)<br/>Sweep page: <a href='https://wandb.ai/fyp-hearts/lenet_5_sweep/sweeps/pj0b3bw9' target=\"_blank\">https://wandb.ai/fyp-hearts/lenet_5_sweep/sweeps/pj0b3bw9</a>"
      ],
      "text/plain": [
       "<IPython.core.display.HTML object>"
      ]
     },
     "metadata": {},
     "output_type": "display_data"
    },
    {
     "data": {
      "text/html": [
       " View project at <a href='https://wandb.ai/fyp-hearts/lenet_5_sweep' target=\"_blank\">https://wandb.ai/fyp-hearts/lenet_5_sweep</a>"
      ],
      "text/plain": [
       "<IPython.core.display.HTML object>"
      ]
     },
     "metadata": {},
     "output_type": "display_data"
    },
    {
     "data": {
      "text/html": [
       " View sweep at <a href='https://wandb.ai/fyp-hearts/lenet_5_sweep/sweeps/pj0b3bw9' target=\"_blank\">https://wandb.ai/fyp-hearts/lenet_5_sweep/sweeps/pj0b3bw9</a>"
      ],
      "text/plain": [
       "<IPython.core.display.HTML object>"
      ]
     },
     "metadata": {},
     "output_type": "display_data"
    },
    {
     "data": {
      "text/html": [
       " View run at <a href='https://wandb.ai/fyp-hearts/lenet_5_sweep/runs/6u201jwq' target=\"_blank\">https://wandb.ai/fyp-hearts/lenet_5_sweep/runs/6u201jwq</a>"
      ],
      "text/plain": [
       "<IPython.core.display.HTML object>"
      ]
     },
     "metadata": {},
     "output_type": "display_data"
    },
    {
     "name": "stdout",
     "output_type": "stream",
     "text": [
      "Epoch 1/30\n"
     ]
    },
    {
     "data": {
      "text/html": [
       " View run <strong style=\"color:#cdcd00\">upbeat-sweep-7</strong> at: <a href='https://wandb.ai/fyp-hearts/lenet_5_sweep/runs/6u201jwq' target=\"_blank\">https://wandb.ai/fyp-hearts/lenet_5_sweep/runs/6u201jwq</a><br/>Synced 5 W&B file(s), 0 media file(s), 0 artifact file(s) and 0 other file(s)"
      ],
      "text/plain": [
       "<IPython.core.display.HTML object>"
      ]
     },
     "metadata": {},
     "output_type": "display_data"
    },
    {
     "data": {
      "text/html": [
       "Find logs at: <code>.\\wandb\\run-20240519_185559-6u201jwq\\logs</code>"
      ],
      "text/plain": [
       "<IPython.core.display.HTML object>"
      ]
     },
     "metadata": {},
     "output_type": "display_data"
    },
    {
     "name": "stderr",
     "output_type": "stream",
     "text": [
      "wandb: ERROR Run 6u201jwq errored: FileNotFoundError(2, 'No such file or directory')\n",
      "wandb: Agent Starting Run: b51k2ess with config:\n",
      "wandb: \tdense_1: 64\n",
      "wandb: \tfilters_1: 16\n",
      "wandb: \tfilters_2: 128\n",
      "wandb: \tlearning_rate: 0.001\n"
     ]
    },
    {
     "data": {
      "text/html": [
       "wandb version 0.17.0 is available!  To upgrade, please run:\n",
       " $ pip install wandb --upgrade"
      ],
      "text/plain": [
       "<IPython.core.display.HTML object>"
      ]
     },
     "metadata": {},
     "output_type": "display_data"
    },
    {
     "data": {
      "text/html": [
       "Tracking run with wandb version 0.16.2"
      ],
      "text/plain": [
       "<IPython.core.display.HTML object>"
      ]
     },
     "metadata": {},
     "output_type": "display_data"
    },
    {
     "data": {
      "text/html": [
       "Run data is saved locally in <code>c:\\Mohit\\Imperial\\fyp-hearts\\wandb\\run-20240519_185615-b51k2ess</code>"
      ],
      "text/plain": [
       "<IPython.core.display.HTML object>"
      ]
     },
     "metadata": {},
     "output_type": "display_data"
    },
    {
     "data": {
      "text/html": [
       "Syncing run <strong><a href='https://wandb.ai/fyp-hearts/lenet_5_sweep/runs/b51k2ess' target=\"_blank\">exalted-sweep-8</a></strong> to <a href='https://wandb.ai/fyp-hearts/lenet_5_sweep' target=\"_blank\">Weights & Biases</a> (<a href='https://wandb.me/run' target=\"_blank\">docs</a>)<br/>Sweep page: <a href='https://wandb.ai/fyp-hearts/lenet_5_sweep/sweeps/pj0b3bw9' target=\"_blank\">https://wandb.ai/fyp-hearts/lenet_5_sweep/sweeps/pj0b3bw9</a>"
      ],
      "text/plain": [
       "<IPython.core.display.HTML object>"
      ]
     },
     "metadata": {},
     "output_type": "display_data"
    },
    {
     "data": {
      "text/html": [
       " View project at <a href='https://wandb.ai/fyp-hearts/lenet_5_sweep' target=\"_blank\">https://wandb.ai/fyp-hearts/lenet_5_sweep</a>"
      ],
      "text/plain": [
       "<IPython.core.display.HTML object>"
      ]
     },
     "metadata": {},
     "output_type": "display_data"
    },
    {
     "data": {
      "text/html": [
       " View sweep at <a href='https://wandb.ai/fyp-hearts/lenet_5_sweep/sweeps/pj0b3bw9' target=\"_blank\">https://wandb.ai/fyp-hearts/lenet_5_sweep/sweeps/pj0b3bw9</a>"
      ],
      "text/plain": [
       "<IPython.core.display.HTML object>"
      ]
     },
     "metadata": {},
     "output_type": "display_data"
    },
    {
     "data": {
      "text/html": [
       " View run at <a href='https://wandb.ai/fyp-hearts/lenet_5_sweep/runs/b51k2ess' target=\"_blank\">https://wandb.ai/fyp-hearts/lenet_5_sweep/runs/b51k2ess</a>"
      ],
      "text/plain": [
       "<IPython.core.display.HTML object>"
      ]
     },
     "metadata": {},
     "output_type": "display_data"
    },
    {
     "name": "stdout",
     "output_type": "stream",
     "text": [
      "Epoch 1/30\n",
      "WARNING:tensorflow:5 out of the last 16024 calls to <function Model.make_train_function.<locals>.train_function at 0x0000029C419DE830> triggered tf.function retracing. Tracing is expensive and the excessive number of tracings could be due to (1) creating @tf.function repeatedly in a loop, (2) passing tensors with different shapes, (3) passing Python objects instead of tensors. For (1), please define your @tf.function outside of the loop. For (2), @tf.function has reduce_retracing=True option that can avoid unnecessary retracing. For (3), please refer to https://www.tensorflow.org/guide/function#controlling_retracing and https://www.tensorflow.org/api_docs/python/tf/function for  more details.\n"
     ]
    },
    {
     "name": "stderr",
     "output_type": "stream",
     "text": [
      "WARNING:tensorflow:5 out of the last 16024 calls to <function Model.make_train_function.<locals>.train_function at 0x0000029C419DE830> triggered tf.function retracing. Tracing is expensive and the excessive number of tracings could be due to (1) creating @tf.function repeatedly in a loop, (2) passing tensors with different shapes, (3) passing Python objects instead of tensors. For (1), please define your @tf.function outside of the loop. For (2), @tf.function has reduce_retracing=True option that can avoid unnecessary retracing. For (3), please refer to https://www.tensorflow.org/guide/function#controlling_retracing and https://www.tensorflow.org/api_docs/python/tf/function for  more details.\n"
     ]
    },
    {
     "data": {
      "text/html": [
       " View run <strong style=\"color:#cdcd00\">exalted-sweep-8</strong> at: <a href='https://wandb.ai/fyp-hearts/lenet_5_sweep/runs/b51k2ess' target=\"_blank\">https://wandb.ai/fyp-hearts/lenet_5_sweep/runs/b51k2ess</a><br/>Synced 5 W&B file(s), 0 media file(s), 0 artifact file(s) and 0 other file(s)"
      ],
      "text/plain": [
       "<IPython.core.display.HTML object>"
      ]
     },
     "metadata": {},
     "output_type": "display_data"
    },
    {
     "data": {
      "text/html": [
       "Find logs at: <code>.\\wandb\\run-20240519_185615-b51k2ess\\logs</code>"
      ],
      "text/plain": [
       "<IPython.core.display.HTML object>"
      ]
     },
     "metadata": {},
     "output_type": "display_data"
    },
    {
     "name": "stderr",
     "output_type": "stream",
     "text": [
      "wandb: ERROR Run b51k2ess errored: FileNotFoundError(2, 'No such file or directory')\n",
      "wandb: Agent Starting Run: gbrhdbks with config:\n",
      "wandb: \tdense_1: 256\n",
      "wandb: \tfilters_1: 32\n",
      "wandb: \tfilters_2: 64\n",
      "wandb: \tlearning_rate: 0.001\n"
     ]
    },
    {
     "data": {
      "text/html": [
       "wandb version 0.17.0 is available!  To upgrade, please run:\n",
       " $ pip install wandb --upgrade"
      ],
      "text/plain": [
       "<IPython.core.display.HTML object>"
      ]
     },
     "metadata": {},
     "output_type": "display_data"
    },
    {
     "data": {
      "text/html": [
       "Tracking run with wandb version 0.16.2"
      ],
      "text/plain": [
       "<IPython.core.display.HTML object>"
      ]
     },
     "metadata": {},
     "output_type": "display_data"
    },
    {
     "data": {
      "text/html": [
       "Run data is saved locally in <code>c:\\Mohit\\Imperial\\fyp-hearts\\wandb\\run-20240519_185633-gbrhdbks</code>"
      ],
      "text/plain": [
       "<IPython.core.display.HTML object>"
      ]
     },
     "metadata": {},
     "output_type": "display_data"
    },
    {
     "data": {
      "text/html": [
       "Syncing run <strong><a href='https://wandb.ai/fyp-hearts/lenet_5_sweep/runs/gbrhdbks' target=\"_blank\">drawn-sweep-9</a></strong> to <a href='https://wandb.ai/fyp-hearts/lenet_5_sweep' target=\"_blank\">Weights & Biases</a> (<a href='https://wandb.me/run' target=\"_blank\">docs</a>)<br/>Sweep page: <a href='https://wandb.ai/fyp-hearts/lenet_5_sweep/sweeps/pj0b3bw9' target=\"_blank\">https://wandb.ai/fyp-hearts/lenet_5_sweep/sweeps/pj0b3bw9</a>"
      ],
      "text/plain": [
       "<IPython.core.display.HTML object>"
      ]
     },
     "metadata": {},
     "output_type": "display_data"
    },
    {
     "data": {
      "text/html": [
       " View project at <a href='https://wandb.ai/fyp-hearts/lenet_5_sweep' target=\"_blank\">https://wandb.ai/fyp-hearts/lenet_5_sweep</a>"
      ],
      "text/plain": [
       "<IPython.core.display.HTML object>"
      ]
     },
     "metadata": {},
     "output_type": "display_data"
    },
    {
     "data": {
      "text/html": [
       " View sweep at <a href='https://wandb.ai/fyp-hearts/lenet_5_sweep/sweeps/pj0b3bw9' target=\"_blank\">https://wandb.ai/fyp-hearts/lenet_5_sweep/sweeps/pj0b3bw9</a>"
      ],
      "text/plain": [
       "<IPython.core.display.HTML object>"
      ]
     },
     "metadata": {},
     "output_type": "display_data"
    },
    {
     "data": {
      "text/html": [
       " View run at <a href='https://wandb.ai/fyp-hearts/lenet_5_sweep/runs/gbrhdbks' target=\"_blank\">https://wandb.ai/fyp-hearts/lenet_5_sweep/runs/gbrhdbks</a>"
      ],
      "text/plain": [
       "<IPython.core.display.HTML object>"
      ]
     },
     "metadata": {},
     "output_type": "display_data"
    },
    {
     "name": "stdout",
     "output_type": "stream",
     "text": [
      "Epoch 1/30\n",
      "WARNING:tensorflow:6 out of the last 16025 calls to <function Model.make_train_function.<locals>.train_function at 0x0000029C43A97C70> triggered tf.function retracing. Tracing is expensive and the excessive number of tracings could be due to (1) creating @tf.function repeatedly in a loop, (2) passing tensors with different shapes, (3) passing Python objects instead of tensors. For (1), please define your @tf.function outside of the loop. For (2), @tf.function has reduce_retracing=True option that can avoid unnecessary retracing. For (3), please refer to https://www.tensorflow.org/guide/function#controlling_retracing and https://www.tensorflow.org/api_docs/python/tf/function for  more details.\n"
     ]
    },
    {
     "name": "stderr",
     "output_type": "stream",
     "text": [
      "WARNING:tensorflow:6 out of the last 16025 calls to <function Model.make_train_function.<locals>.train_function at 0x0000029C43A97C70> triggered tf.function retracing. Tracing is expensive and the excessive number of tracings could be due to (1) creating @tf.function repeatedly in a loop, (2) passing tensors with different shapes, (3) passing Python objects instead of tensors. For (1), please define your @tf.function outside of the loop. For (2), @tf.function has reduce_retracing=True option that can avoid unnecessary retracing. For (3), please refer to https://www.tensorflow.org/guide/function#controlling_retracing and https://www.tensorflow.org/api_docs/python/tf/function for  more details.\n"
     ]
    },
    {
     "data": {
      "text/html": [
       " View run <strong style=\"color:#cdcd00\">drawn-sweep-9</strong> at: <a href='https://wandb.ai/fyp-hearts/lenet_5_sweep/runs/gbrhdbks' target=\"_blank\">https://wandb.ai/fyp-hearts/lenet_5_sweep/runs/gbrhdbks</a><br/>Synced 5 W&B file(s), 0 media file(s), 0 artifact file(s) and 0 other file(s)"
      ],
      "text/plain": [
       "<IPython.core.display.HTML object>"
      ]
     },
     "metadata": {},
     "output_type": "display_data"
    },
    {
     "data": {
      "text/html": [
       "Find logs at: <code>.\\wandb\\run-20240519_185633-gbrhdbks\\logs</code>"
      ],
      "text/plain": [
       "<IPython.core.display.HTML object>"
      ]
     },
     "metadata": {},
     "output_type": "display_data"
    },
    {
     "name": "stderr",
     "output_type": "stream",
     "text": [
      "wandb: ERROR Run gbrhdbks errored: FileNotFoundError(2, 'No such file or directory')\n",
      "wandb: Agent Starting Run: 1f1ojx98 with config:\n",
      "wandb: \tdense_1: 64\n",
      "wandb: \tfilters_1: 16\n",
      "wandb: \tfilters_2: 128\n",
      "wandb: \tlearning_rate: 0.0001\n"
     ]
    },
    {
     "data": {
      "text/html": [
       "wandb version 0.17.0 is available!  To upgrade, please run:\n",
       " $ pip install wandb --upgrade"
      ],
      "text/plain": [
       "<IPython.core.display.HTML object>"
      ]
     },
     "metadata": {},
     "output_type": "display_data"
    },
    {
     "data": {
      "text/html": [
       "Tracking run with wandb version 0.16.2"
      ],
      "text/plain": [
       "<IPython.core.display.HTML object>"
      ]
     },
     "metadata": {},
     "output_type": "display_data"
    },
    {
     "data": {
      "text/html": [
       "Run data is saved locally in <code>c:\\Mohit\\Imperial\\fyp-hearts\\wandb\\run-20240519_185647-1f1ojx98</code>"
      ],
      "text/plain": [
       "<IPython.core.display.HTML object>"
      ]
     },
     "metadata": {},
     "output_type": "display_data"
    },
    {
     "data": {
      "text/html": [
       "Syncing run <strong><a href='https://wandb.ai/fyp-hearts/lenet_5_sweep/runs/1f1ojx98' target=\"_blank\">legendary-sweep-10</a></strong> to <a href='https://wandb.ai/fyp-hearts/lenet_5_sweep' target=\"_blank\">Weights & Biases</a> (<a href='https://wandb.me/run' target=\"_blank\">docs</a>)<br/>Sweep page: <a href='https://wandb.ai/fyp-hearts/lenet_5_sweep/sweeps/pj0b3bw9' target=\"_blank\">https://wandb.ai/fyp-hearts/lenet_5_sweep/sweeps/pj0b3bw9</a>"
      ],
      "text/plain": [
       "<IPython.core.display.HTML object>"
      ]
     },
     "metadata": {},
     "output_type": "display_data"
    },
    {
     "data": {
      "text/html": [
       " View project at <a href='https://wandb.ai/fyp-hearts/lenet_5_sweep' target=\"_blank\">https://wandb.ai/fyp-hearts/lenet_5_sweep</a>"
      ],
      "text/plain": [
       "<IPython.core.display.HTML object>"
      ]
     },
     "metadata": {},
     "output_type": "display_data"
    },
    {
     "data": {
      "text/html": [
       " View sweep at <a href='https://wandb.ai/fyp-hearts/lenet_5_sweep/sweeps/pj0b3bw9' target=\"_blank\">https://wandb.ai/fyp-hearts/lenet_5_sweep/sweeps/pj0b3bw9</a>"
      ],
      "text/plain": [
       "<IPython.core.display.HTML object>"
      ]
     },
     "metadata": {},
     "output_type": "display_data"
    },
    {
     "data": {
      "text/html": [
       " View run at <a href='https://wandb.ai/fyp-hearts/lenet_5_sweep/runs/1f1ojx98' target=\"_blank\">https://wandb.ai/fyp-hearts/lenet_5_sweep/runs/1f1ojx98</a>"
      ],
      "text/plain": [
       "<IPython.core.display.HTML object>"
      ]
     },
     "metadata": {},
     "output_type": "display_data"
    },
    {
     "name": "stdout",
     "output_type": "stream",
     "text": [
      "Epoch 1/30\n"
     ]
    },
    {
     "data": {
      "text/html": [
       " View run <strong style=\"color:#cdcd00\">legendary-sweep-10</strong> at: <a href='https://wandb.ai/fyp-hearts/lenet_5_sweep/runs/1f1ojx98' target=\"_blank\">https://wandb.ai/fyp-hearts/lenet_5_sweep/runs/1f1ojx98</a><br/>Synced 5 W&B file(s), 0 media file(s), 0 artifact file(s) and 0 other file(s)"
      ],
      "text/plain": [
       "<IPython.core.display.HTML object>"
      ]
     },
     "metadata": {},
     "output_type": "display_data"
    },
    {
     "data": {
      "text/html": [
       "Find logs at: <code>.\\wandb\\run-20240519_185647-1f1ojx98\\logs</code>"
      ],
      "text/plain": [
       "<IPython.core.display.HTML object>"
      ]
     },
     "metadata": {},
     "output_type": "display_data"
    },
    {
     "name": "stderr",
     "output_type": "stream",
     "text": [
      "wandb: ERROR Run 1f1ojx98 errored: FileNotFoundError(2, 'No such file or directory')\n",
      "wandb: Agent Starting Run: kns70dou with config:\n",
      "wandb: \tdense_1: 128\n",
      "wandb: \tfilters_1: 32\n",
      "wandb: \tfilters_2: 32\n",
      "wandb: \tlearning_rate: 0.0001\n"
     ]
    },
    {
     "data": {
      "text/html": [
       "wandb version 0.17.0 is available!  To upgrade, please run:\n",
       " $ pip install wandb --upgrade"
      ],
      "text/plain": [
       "<IPython.core.display.HTML object>"
      ]
     },
     "metadata": {},
     "output_type": "display_data"
    },
    {
     "data": {
      "text/html": [
       "Tracking run with wandb version 0.16.2"
      ],
      "text/plain": [
       "<IPython.core.display.HTML object>"
      ]
     },
     "metadata": {},
     "output_type": "display_data"
    },
    {
     "data": {
      "text/html": [
       "Run data is saved locally in <code>c:\\Mohit\\Imperial\\fyp-hearts\\wandb\\run-20240519_185709-kns70dou</code>"
      ],
      "text/plain": [
       "<IPython.core.display.HTML object>"
      ]
     },
     "metadata": {},
     "output_type": "display_data"
    },
    {
     "data": {
      "text/html": [
       "Syncing run <strong><a href='https://wandb.ai/fyp-hearts/lenet_5_sweep/runs/kns70dou' target=\"_blank\">gallant-sweep-11</a></strong> to <a href='https://wandb.ai/fyp-hearts/lenet_5_sweep' target=\"_blank\">Weights & Biases</a> (<a href='https://wandb.me/run' target=\"_blank\">docs</a>)<br/>Sweep page: <a href='https://wandb.ai/fyp-hearts/lenet_5_sweep/sweeps/pj0b3bw9' target=\"_blank\">https://wandb.ai/fyp-hearts/lenet_5_sweep/sweeps/pj0b3bw9</a>"
      ],
      "text/plain": [
       "<IPython.core.display.HTML object>"
      ]
     },
     "metadata": {},
     "output_type": "display_data"
    },
    {
     "data": {
      "text/html": [
       " View project at <a href='https://wandb.ai/fyp-hearts/lenet_5_sweep' target=\"_blank\">https://wandb.ai/fyp-hearts/lenet_5_sweep</a>"
      ],
      "text/plain": [
       "<IPython.core.display.HTML object>"
      ]
     },
     "metadata": {},
     "output_type": "display_data"
    },
    {
     "data": {
      "text/html": [
       " View sweep at <a href='https://wandb.ai/fyp-hearts/lenet_5_sweep/sweeps/pj0b3bw9' target=\"_blank\">https://wandb.ai/fyp-hearts/lenet_5_sweep/sweeps/pj0b3bw9</a>"
      ],
      "text/plain": [
       "<IPython.core.display.HTML object>"
      ]
     },
     "metadata": {},
     "output_type": "display_data"
    },
    {
     "data": {
      "text/html": [
       " View run at <a href='https://wandb.ai/fyp-hearts/lenet_5_sweep/runs/kns70dou' target=\"_blank\">https://wandb.ai/fyp-hearts/lenet_5_sweep/runs/kns70dou</a>"
      ],
      "text/plain": [
       "<IPython.core.display.HTML object>"
      ]
     },
     "metadata": {},
     "output_type": "display_data"
    },
    {
     "name": "stdout",
     "output_type": "stream",
     "text": [
      "Epoch 1/30\n"
     ]
    },
    {
     "data": {
      "text/html": [
       " View run <strong style=\"color:#cdcd00\">gallant-sweep-11</strong> at: <a href='https://wandb.ai/fyp-hearts/lenet_5_sweep/runs/kns70dou' target=\"_blank\">https://wandb.ai/fyp-hearts/lenet_5_sweep/runs/kns70dou</a><br/>Synced 5 W&B file(s), 0 media file(s), 0 artifact file(s) and 0 other file(s)"
      ],
      "text/plain": [
       "<IPython.core.display.HTML object>"
      ]
     },
     "metadata": {},
     "output_type": "display_data"
    },
    {
     "data": {
      "text/html": [
       "Find logs at: <code>.\\wandb\\run-20240519_185709-kns70dou\\logs</code>"
      ],
      "text/plain": [
       "<IPython.core.display.HTML object>"
      ]
     },
     "metadata": {},
     "output_type": "display_data"
    },
    {
     "name": "stderr",
     "output_type": "stream",
     "text": [
      "wandb: ERROR Run kns70dou errored: FileNotFoundError(2, 'No such file or directory')\n",
      "wandb: Agent Starting Run: hoyq9vg6 with config:\n",
      "wandb: \tdense_1: 256\n",
      "wandb: \tfilters_1: 32\n",
      "wandb: \tfilters_2: 64\n",
      "wandb: \tlearning_rate: 0.001\n"
     ]
    },
    {
     "data": {
      "text/html": [
       "wandb version 0.17.0 is available!  To upgrade, please run:\n",
       " $ pip install wandb --upgrade"
      ],
      "text/plain": [
       "<IPython.core.display.HTML object>"
      ]
     },
     "metadata": {},
     "output_type": "display_data"
    },
    {
     "data": {
      "text/html": [
       "Tracking run with wandb version 0.16.2"
      ],
      "text/plain": [
       "<IPython.core.display.HTML object>"
      ]
     },
     "metadata": {},
     "output_type": "display_data"
    },
    {
     "data": {
      "text/html": [
       "Run data is saved locally in <code>c:\\Mohit\\Imperial\\fyp-hearts\\wandb\\run-20240519_185726-hoyq9vg6</code>"
      ],
      "text/plain": [
       "<IPython.core.display.HTML object>"
      ]
     },
     "metadata": {},
     "output_type": "display_data"
    },
    {
     "data": {
      "text/html": [
       "Syncing run <strong><a href='https://wandb.ai/fyp-hearts/lenet_5_sweep/runs/hoyq9vg6' target=\"_blank\">upbeat-sweep-12</a></strong> to <a href='https://wandb.ai/fyp-hearts/lenet_5_sweep' target=\"_blank\">Weights & Biases</a> (<a href='https://wandb.me/run' target=\"_blank\">docs</a>)<br/>Sweep page: <a href='https://wandb.ai/fyp-hearts/lenet_5_sweep/sweeps/pj0b3bw9' target=\"_blank\">https://wandb.ai/fyp-hearts/lenet_5_sweep/sweeps/pj0b3bw9</a>"
      ],
      "text/plain": [
       "<IPython.core.display.HTML object>"
      ]
     },
     "metadata": {},
     "output_type": "display_data"
    },
    {
     "data": {
      "text/html": [
       " View project at <a href='https://wandb.ai/fyp-hearts/lenet_5_sweep' target=\"_blank\">https://wandb.ai/fyp-hearts/lenet_5_sweep</a>"
      ],
      "text/plain": [
       "<IPython.core.display.HTML object>"
      ]
     },
     "metadata": {},
     "output_type": "display_data"
    },
    {
     "data": {
      "text/html": [
       " View sweep at <a href='https://wandb.ai/fyp-hearts/lenet_5_sweep/sweeps/pj0b3bw9' target=\"_blank\">https://wandb.ai/fyp-hearts/lenet_5_sweep/sweeps/pj0b3bw9</a>"
      ],
      "text/plain": [
       "<IPython.core.display.HTML object>"
      ]
     },
     "metadata": {},
     "output_type": "display_data"
    },
    {
     "data": {
      "text/html": [
       " View run at <a href='https://wandb.ai/fyp-hearts/lenet_5_sweep/runs/hoyq9vg6' target=\"_blank\">https://wandb.ai/fyp-hearts/lenet_5_sweep/runs/hoyq9vg6</a>"
      ],
      "text/plain": [
       "<IPython.core.display.HTML object>"
      ]
     },
     "metadata": {},
     "output_type": "display_data"
    },
    {
     "name": "stdout",
     "output_type": "stream",
     "text": [
      "Epoch 1/30\n"
     ]
    },
    {
     "data": {
      "text/html": [
       " View run <strong style=\"color:#cdcd00\">upbeat-sweep-12</strong> at: <a href='https://wandb.ai/fyp-hearts/lenet_5_sweep/runs/hoyq9vg6' target=\"_blank\">https://wandb.ai/fyp-hearts/lenet_5_sweep/runs/hoyq9vg6</a><br/>Synced 5 W&B file(s), 0 media file(s), 0 artifact file(s) and 0 other file(s)"
      ],
      "text/plain": [
       "<IPython.core.display.HTML object>"
      ]
     },
     "metadata": {},
     "output_type": "display_data"
    },
    {
     "data": {
      "text/html": [
       "Find logs at: <code>.\\wandb\\run-20240519_185726-hoyq9vg6\\logs</code>"
      ],
      "text/plain": [
       "<IPython.core.display.HTML object>"
      ]
     },
     "metadata": {},
     "output_type": "display_data"
    },
    {
     "name": "stderr",
     "output_type": "stream",
     "text": [
      "wandb: ERROR Run hoyq9vg6 errored: FileNotFoundError(2, 'No such file or directory')\n",
      "wandb: Sweep Agent: Waiting for job.\n",
      "wandb: Job received.\n",
      "wandb: Agent Starting Run: 0v3dl2yi with config:\n",
      "wandb: \tdense_1: 256\n",
      "wandb: \tfilters_1: 16\n",
      "wandb: \tfilters_2: 64\n",
      "wandb: \tlearning_rate: 0.001\n"
     ]
    },
    {
     "data": {
      "text/html": [
       "wandb version 0.17.0 is available!  To upgrade, please run:\n",
       " $ pip install wandb --upgrade"
      ],
      "text/plain": [
       "<IPython.core.display.HTML object>"
      ]
     },
     "metadata": {},
     "output_type": "display_data"
    },
    {
     "data": {
      "text/html": [
       "Tracking run with wandb version 0.16.2"
      ],
      "text/plain": [
       "<IPython.core.display.HTML object>"
      ]
     },
     "metadata": {},
     "output_type": "display_data"
    },
    {
     "data": {
      "text/html": [
       "Run data is saved locally in <code>c:\\Mohit\\Imperial\\fyp-hearts\\wandb\\run-20240519_185752-0v3dl2yi</code>"
      ],
      "text/plain": [
       "<IPython.core.display.HTML object>"
      ]
     },
     "metadata": {},
     "output_type": "display_data"
    },
    {
     "data": {
      "text/html": [
       "Syncing run <strong><a href='https://wandb.ai/fyp-hearts/lenet_5_sweep/runs/0v3dl2yi' target=\"_blank\">generous-sweep-13</a></strong> to <a href='https://wandb.ai/fyp-hearts/lenet_5_sweep' target=\"_blank\">Weights & Biases</a> (<a href='https://wandb.me/run' target=\"_blank\">docs</a>)<br/>Sweep page: <a href='https://wandb.ai/fyp-hearts/lenet_5_sweep/sweeps/pj0b3bw9' target=\"_blank\">https://wandb.ai/fyp-hearts/lenet_5_sweep/sweeps/pj0b3bw9</a>"
      ],
      "text/plain": [
       "<IPython.core.display.HTML object>"
      ]
     },
     "metadata": {},
     "output_type": "display_data"
    },
    {
     "data": {
      "text/html": [
       " View project at <a href='https://wandb.ai/fyp-hearts/lenet_5_sweep' target=\"_blank\">https://wandb.ai/fyp-hearts/lenet_5_sweep</a>"
      ],
      "text/plain": [
       "<IPython.core.display.HTML object>"
      ]
     },
     "metadata": {},
     "output_type": "display_data"
    },
    {
     "data": {
      "text/html": [
       " View sweep at <a href='https://wandb.ai/fyp-hearts/lenet_5_sweep/sweeps/pj0b3bw9' target=\"_blank\">https://wandb.ai/fyp-hearts/lenet_5_sweep/sweeps/pj0b3bw9</a>"
      ],
      "text/plain": [
       "<IPython.core.display.HTML object>"
      ]
     },
     "metadata": {},
     "output_type": "display_data"
    },
    {
     "data": {
      "text/html": [
       " View run at <a href='https://wandb.ai/fyp-hearts/lenet_5_sweep/runs/0v3dl2yi' target=\"_blank\">https://wandb.ai/fyp-hearts/lenet_5_sweep/runs/0v3dl2yi</a>"
      ],
      "text/plain": [
       "<IPython.core.display.HTML object>"
      ]
     },
     "metadata": {},
     "output_type": "display_data"
    },
    {
     "name": "stdout",
     "output_type": "stream",
     "text": [
      "Epoch 1/30\n"
     ]
    },
    {
     "data": {
      "text/html": [
       " View run <strong style=\"color:#cdcd00\">generous-sweep-13</strong> at: <a href='https://wandb.ai/fyp-hearts/lenet_5_sweep/runs/0v3dl2yi' target=\"_blank\">https://wandb.ai/fyp-hearts/lenet_5_sweep/runs/0v3dl2yi</a><br/>Synced 5 W&B file(s), 0 media file(s), 0 artifact file(s) and 0 other file(s)"
      ],
      "text/plain": [
       "<IPython.core.display.HTML object>"
      ]
     },
     "metadata": {},
     "output_type": "display_data"
    },
    {
     "data": {
      "text/html": [
       "Find logs at: <code>.\\wandb\\run-20240519_185752-0v3dl2yi\\logs</code>"
      ],
      "text/plain": [
       "<IPython.core.display.HTML object>"
      ]
     },
     "metadata": {},
     "output_type": "display_data"
    },
    {
     "name": "stderr",
     "output_type": "stream",
     "text": [
      "wandb: ERROR Run 0v3dl2yi errored: FileNotFoundError(2, 'No such file or directory')\n",
      "wandb: Agent Starting Run: 8cilc649 with config:\n",
      "wandb: \tdense_1: 64\n",
      "wandb: \tfilters_1: 64\n",
      "wandb: \tfilters_2: 128\n",
      "wandb: \tlearning_rate: 0.001\n"
     ]
    },
    {
     "data": {
      "text/html": [
       "wandb version 0.17.0 is available!  To upgrade, please run:\n",
       " $ pip install wandb --upgrade"
      ],
      "text/plain": [
       "<IPython.core.display.HTML object>"
      ]
     },
     "metadata": {},
     "output_type": "display_data"
    },
    {
     "data": {
      "text/html": [
       "Tracking run with wandb version 0.16.2"
      ],
      "text/plain": [
       "<IPython.core.display.HTML object>"
      ]
     },
     "metadata": {},
     "output_type": "display_data"
    },
    {
     "data": {
      "text/html": [
       "Run data is saved locally in <code>c:\\Mohit\\Imperial\\fyp-hearts\\wandb\\run-20240519_185812-8cilc649</code>"
      ],
      "text/plain": [
       "<IPython.core.display.HTML object>"
      ]
     },
     "metadata": {},
     "output_type": "display_data"
    },
    {
     "data": {
      "text/html": [
       "Syncing run <strong><a href='https://wandb.ai/fyp-hearts/lenet_5_sweep/runs/8cilc649' target=\"_blank\">lemon-sweep-14</a></strong> to <a href='https://wandb.ai/fyp-hearts/lenet_5_sweep' target=\"_blank\">Weights & Biases</a> (<a href='https://wandb.me/run' target=\"_blank\">docs</a>)<br/>Sweep page: <a href='https://wandb.ai/fyp-hearts/lenet_5_sweep/sweeps/pj0b3bw9' target=\"_blank\">https://wandb.ai/fyp-hearts/lenet_5_sweep/sweeps/pj0b3bw9</a>"
      ],
      "text/plain": [
       "<IPython.core.display.HTML object>"
      ]
     },
     "metadata": {},
     "output_type": "display_data"
    },
    {
     "data": {
      "text/html": [
       " View project at <a href='https://wandb.ai/fyp-hearts/lenet_5_sweep' target=\"_blank\">https://wandb.ai/fyp-hearts/lenet_5_sweep</a>"
      ],
      "text/plain": [
       "<IPython.core.display.HTML object>"
      ]
     },
     "metadata": {},
     "output_type": "display_data"
    },
    {
     "data": {
      "text/html": [
       " View sweep at <a href='https://wandb.ai/fyp-hearts/lenet_5_sweep/sweeps/pj0b3bw9' target=\"_blank\">https://wandb.ai/fyp-hearts/lenet_5_sweep/sweeps/pj0b3bw9</a>"
      ],
      "text/plain": [
       "<IPython.core.display.HTML object>"
      ]
     },
     "metadata": {},
     "output_type": "display_data"
    },
    {
     "data": {
      "text/html": [
       " View run at <a href='https://wandb.ai/fyp-hearts/lenet_5_sweep/runs/8cilc649' target=\"_blank\">https://wandb.ai/fyp-hearts/lenet_5_sweep/runs/8cilc649</a>"
      ],
      "text/plain": [
       "<IPython.core.display.HTML object>"
      ]
     },
     "metadata": {},
     "output_type": "display_data"
    },
    {
     "name": "stdout",
     "output_type": "stream",
     "text": [
      "Epoch 1/30\n"
     ]
    },
    {
     "data": {
      "text/html": [
       " View run <strong style=\"color:#cdcd00\">lemon-sweep-14</strong> at: <a href='https://wandb.ai/fyp-hearts/lenet_5_sweep/runs/8cilc649' target=\"_blank\">https://wandb.ai/fyp-hearts/lenet_5_sweep/runs/8cilc649</a><br/>Synced 5 W&B file(s), 0 media file(s), 0 artifact file(s) and 0 other file(s)"
      ],
      "text/plain": [
       "<IPython.core.display.HTML object>"
      ]
     },
     "metadata": {},
     "output_type": "display_data"
    },
    {
     "data": {
      "text/html": [
       "Find logs at: <code>.\\wandb\\run-20240519_185812-8cilc649\\logs</code>"
      ],
      "text/plain": [
       "<IPython.core.display.HTML object>"
      ]
     },
     "metadata": {},
     "output_type": "display_data"
    },
    {
     "name": "stderr",
     "output_type": "stream",
     "text": [
      "wandb: ERROR Run 8cilc649 errored: FileNotFoundError(2, 'No such file or directory')\n",
      "wandb: Sweep Agent: Waiting for job.\n",
      "wandb: Job received.\n",
      "wandb: Agent Starting Run: rc0q0mnz with config:\n",
      "wandb: \tdense_1: 64\n",
      "wandb: \tfilters_1: 32\n",
      "wandb: \tfilters_2: 128\n",
      "wandb: \tlearning_rate: 0.001\n"
     ]
    },
    {
     "data": {
      "text/html": [
       "wandb version 0.17.0 is available!  To upgrade, please run:\n",
       " $ pip install wandb --upgrade"
      ],
      "text/plain": [
       "<IPython.core.display.HTML object>"
      ]
     },
     "metadata": {},
     "output_type": "display_data"
    },
    {
     "data": {
      "text/html": [
       "Tracking run with wandb version 0.16.2"
      ],
      "text/plain": [
       "<IPython.core.display.HTML object>"
      ]
     },
     "metadata": {},
     "output_type": "display_data"
    },
    {
     "data": {
      "text/html": [
       "Run data is saved locally in <code>c:\\Mohit\\Imperial\\fyp-hearts\\wandb\\run-20240519_185837-rc0q0mnz</code>"
      ],
      "text/plain": [
       "<IPython.core.display.HTML object>"
      ]
     },
     "metadata": {},
     "output_type": "display_data"
    },
    {
     "data": {
      "text/html": [
       "Syncing run <strong><a href='https://wandb.ai/fyp-hearts/lenet_5_sweep/runs/rc0q0mnz' target=\"_blank\">winter-sweep-15</a></strong> to <a href='https://wandb.ai/fyp-hearts/lenet_5_sweep' target=\"_blank\">Weights & Biases</a> (<a href='https://wandb.me/run' target=\"_blank\">docs</a>)<br/>Sweep page: <a href='https://wandb.ai/fyp-hearts/lenet_5_sweep/sweeps/pj0b3bw9' target=\"_blank\">https://wandb.ai/fyp-hearts/lenet_5_sweep/sweeps/pj0b3bw9</a>"
      ],
      "text/plain": [
       "<IPython.core.display.HTML object>"
      ]
     },
     "metadata": {},
     "output_type": "display_data"
    },
    {
     "data": {
      "text/html": [
       " View project at <a href='https://wandb.ai/fyp-hearts/lenet_5_sweep' target=\"_blank\">https://wandb.ai/fyp-hearts/lenet_5_sweep</a>"
      ],
      "text/plain": [
       "<IPython.core.display.HTML object>"
      ]
     },
     "metadata": {},
     "output_type": "display_data"
    },
    {
     "data": {
      "text/html": [
       " View sweep at <a href='https://wandb.ai/fyp-hearts/lenet_5_sweep/sweeps/pj0b3bw9' target=\"_blank\">https://wandb.ai/fyp-hearts/lenet_5_sweep/sweeps/pj0b3bw9</a>"
      ],
      "text/plain": [
       "<IPython.core.display.HTML object>"
      ]
     },
     "metadata": {},
     "output_type": "display_data"
    },
    {
     "data": {
      "text/html": [
       " View run at <a href='https://wandb.ai/fyp-hearts/lenet_5_sweep/runs/rc0q0mnz' target=\"_blank\">https://wandb.ai/fyp-hearts/lenet_5_sweep/runs/rc0q0mnz</a>"
      ],
      "text/plain": [
       "<IPython.core.display.HTML object>"
      ]
     },
     "metadata": {},
     "output_type": "display_data"
    },
    {
     "name": "stdout",
     "output_type": "stream",
     "text": [
      "Epoch 1/30\n"
     ]
    },
    {
     "data": {
      "text/html": [
       " View run <strong style=\"color:#cdcd00\">winter-sweep-15</strong> at: <a href='https://wandb.ai/fyp-hearts/lenet_5_sweep/runs/rc0q0mnz' target=\"_blank\">https://wandb.ai/fyp-hearts/lenet_5_sweep/runs/rc0q0mnz</a><br/>Synced 5 W&B file(s), 0 media file(s), 0 artifact file(s) and 0 other file(s)"
      ],
      "text/plain": [
       "<IPython.core.display.HTML object>"
      ]
     },
     "metadata": {},
     "output_type": "display_data"
    },
    {
     "data": {
      "text/html": [
       "Find logs at: <code>.\\wandb\\run-20240519_185837-rc0q0mnz\\logs</code>"
      ],
      "text/plain": [
       "<IPython.core.display.HTML object>"
      ]
     },
     "metadata": {},
     "output_type": "display_data"
    },
    {
     "name": "stderr",
     "output_type": "stream",
     "text": [
      "wandb: ERROR Run rc0q0mnz errored: FileNotFoundError(2, 'No such file or directory')\n",
      "wandb: Agent Starting Run: 6n3t0y6d with config:\n",
      "wandb: \tdense_1: 64\n",
      "wandb: \tfilters_1: 32\n",
      "wandb: \tfilters_2: 128\n",
      "wandb: \tlearning_rate: 0.0001\n"
     ]
    },
    {
     "data": {
      "text/html": [
       "wandb version 0.17.0 is available!  To upgrade, please run:\n",
       " $ pip install wandb --upgrade"
      ],
      "text/plain": [
       "<IPython.core.display.HTML object>"
      ]
     },
     "metadata": {},
     "output_type": "display_data"
    },
    {
     "data": {
      "text/html": [
       "Tracking run with wandb version 0.16.2"
      ],
      "text/plain": [
       "<IPython.core.display.HTML object>"
      ]
     },
     "metadata": {},
     "output_type": "display_data"
    },
    {
     "data": {
      "text/html": [
       "Run data is saved locally in <code>c:\\Mohit\\Imperial\\fyp-hearts\\wandb\\run-20240519_185854-6n3t0y6d</code>"
      ],
      "text/plain": [
       "<IPython.core.display.HTML object>"
      ]
     },
     "metadata": {},
     "output_type": "display_data"
    },
    {
     "data": {
      "text/html": [
       "Syncing run <strong><a href='https://wandb.ai/fyp-hearts/lenet_5_sweep/runs/6n3t0y6d' target=\"_blank\">eager-sweep-16</a></strong> to <a href='https://wandb.ai/fyp-hearts/lenet_5_sweep' target=\"_blank\">Weights & Biases</a> (<a href='https://wandb.me/run' target=\"_blank\">docs</a>)<br/>Sweep page: <a href='https://wandb.ai/fyp-hearts/lenet_5_sweep/sweeps/pj0b3bw9' target=\"_blank\">https://wandb.ai/fyp-hearts/lenet_5_sweep/sweeps/pj0b3bw9</a>"
      ],
      "text/plain": [
       "<IPython.core.display.HTML object>"
      ]
     },
     "metadata": {},
     "output_type": "display_data"
    },
    {
     "data": {
      "text/html": [
       " View project at <a href='https://wandb.ai/fyp-hearts/lenet_5_sweep' target=\"_blank\">https://wandb.ai/fyp-hearts/lenet_5_sweep</a>"
      ],
      "text/plain": [
       "<IPython.core.display.HTML object>"
      ]
     },
     "metadata": {},
     "output_type": "display_data"
    },
    {
     "data": {
      "text/html": [
       " View sweep at <a href='https://wandb.ai/fyp-hearts/lenet_5_sweep/sweeps/pj0b3bw9' target=\"_blank\">https://wandb.ai/fyp-hearts/lenet_5_sweep/sweeps/pj0b3bw9</a>"
      ],
      "text/plain": [
       "<IPython.core.display.HTML object>"
      ]
     },
     "metadata": {},
     "output_type": "display_data"
    },
    {
     "data": {
      "text/html": [
       " View run at <a href='https://wandb.ai/fyp-hearts/lenet_5_sweep/runs/6n3t0y6d' target=\"_blank\">https://wandb.ai/fyp-hearts/lenet_5_sweep/runs/6n3t0y6d</a>"
      ],
      "text/plain": [
       "<IPython.core.display.HTML object>"
      ]
     },
     "metadata": {},
     "output_type": "display_data"
    },
    {
     "name": "stdout",
     "output_type": "stream",
     "text": [
      "Epoch 1/30\n"
     ]
    },
    {
     "data": {
      "text/html": [
       " View run <strong style=\"color:#cdcd00\">eager-sweep-16</strong> at: <a href='https://wandb.ai/fyp-hearts/lenet_5_sweep/runs/6n3t0y6d' target=\"_blank\">https://wandb.ai/fyp-hearts/lenet_5_sweep/runs/6n3t0y6d</a><br/>Synced 5 W&B file(s), 0 media file(s), 0 artifact file(s) and 0 other file(s)"
      ],
      "text/plain": [
       "<IPython.core.display.HTML object>"
      ]
     },
     "metadata": {},
     "output_type": "display_data"
    },
    {
     "data": {
      "text/html": [
       "Find logs at: <code>.\\wandb\\run-20240519_185854-6n3t0y6d\\logs</code>"
      ],
      "text/plain": [
       "<IPython.core.display.HTML object>"
      ]
     },
     "metadata": {},
     "output_type": "display_data"
    },
    {
     "name": "stderr",
     "output_type": "stream",
     "text": [
      "wandb: ERROR Run 6n3t0y6d errored: FileNotFoundError(2, 'No such file or directory')\n",
      "wandb: Agent Starting Run: 063pi5n0 with config:\n",
      "wandb: \tdense_1: 64\n",
      "wandb: \tfilters_1: 64\n",
      "wandb: \tfilters_2: 32\n",
      "wandb: \tlearning_rate: 0.001\n"
     ]
    },
    {
     "data": {
      "text/html": [
       "wandb version 0.17.0 is available!  To upgrade, please run:\n",
       " $ pip install wandb --upgrade"
      ],
      "text/plain": [
       "<IPython.core.display.HTML object>"
      ]
     },
     "metadata": {},
     "output_type": "display_data"
    },
    {
     "data": {
      "text/html": [
       "Tracking run with wandb version 0.16.2"
      ],
      "text/plain": [
       "<IPython.core.display.HTML object>"
      ]
     },
     "metadata": {},
     "output_type": "display_data"
    },
    {
     "data": {
      "text/html": [
       "Run data is saved locally in <code>c:\\Mohit\\Imperial\\fyp-hearts\\wandb\\run-20240519_185911-063pi5n0</code>"
      ],
      "text/plain": [
       "<IPython.core.display.HTML object>"
      ]
     },
     "metadata": {},
     "output_type": "display_data"
    },
    {
     "data": {
      "text/html": [
       "Syncing run <strong><a href='https://wandb.ai/fyp-hearts/lenet_5_sweep/runs/063pi5n0' target=\"_blank\">happy-sweep-17</a></strong> to <a href='https://wandb.ai/fyp-hearts/lenet_5_sweep' target=\"_blank\">Weights & Biases</a> (<a href='https://wandb.me/run' target=\"_blank\">docs</a>)<br/>Sweep page: <a href='https://wandb.ai/fyp-hearts/lenet_5_sweep/sweeps/pj0b3bw9' target=\"_blank\">https://wandb.ai/fyp-hearts/lenet_5_sweep/sweeps/pj0b3bw9</a>"
      ],
      "text/plain": [
       "<IPython.core.display.HTML object>"
      ]
     },
     "metadata": {},
     "output_type": "display_data"
    },
    {
     "data": {
      "text/html": [
       " View project at <a href='https://wandb.ai/fyp-hearts/lenet_5_sweep' target=\"_blank\">https://wandb.ai/fyp-hearts/lenet_5_sweep</a>"
      ],
      "text/plain": [
       "<IPython.core.display.HTML object>"
      ]
     },
     "metadata": {},
     "output_type": "display_data"
    },
    {
     "data": {
      "text/html": [
       " View sweep at <a href='https://wandb.ai/fyp-hearts/lenet_5_sweep/sweeps/pj0b3bw9' target=\"_blank\">https://wandb.ai/fyp-hearts/lenet_5_sweep/sweeps/pj0b3bw9</a>"
      ],
      "text/plain": [
       "<IPython.core.display.HTML object>"
      ]
     },
     "metadata": {},
     "output_type": "display_data"
    },
    {
     "data": {
      "text/html": [
       " View run at <a href='https://wandb.ai/fyp-hearts/lenet_5_sweep/runs/063pi5n0' target=\"_blank\">https://wandb.ai/fyp-hearts/lenet_5_sweep/runs/063pi5n0</a>"
      ],
      "text/plain": [
       "<IPython.core.display.HTML object>"
      ]
     },
     "metadata": {},
     "output_type": "display_data"
    },
    {
     "name": "stdout",
     "output_type": "stream",
     "text": [
      "Epoch 1/30\n"
     ]
    },
    {
     "data": {
      "text/html": [
       " View run <strong style=\"color:#cdcd00\">happy-sweep-17</strong> at: <a href='https://wandb.ai/fyp-hearts/lenet_5_sweep/runs/063pi5n0' target=\"_blank\">https://wandb.ai/fyp-hearts/lenet_5_sweep/runs/063pi5n0</a><br/>Synced 5 W&B file(s), 0 media file(s), 0 artifact file(s) and 0 other file(s)"
      ],
      "text/plain": [
       "<IPython.core.display.HTML object>"
      ]
     },
     "metadata": {},
     "output_type": "display_data"
    },
    {
     "data": {
      "text/html": [
       "Find logs at: <code>.\\wandb\\run-20240519_185911-063pi5n0\\logs</code>"
      ],
      "text/plain": [
       "<IPython.core.display.HTML object>"
      ]
     },
     "metadata": {},
     "output_type": "display_data"
    },
    {
     "name": "stderr",
     "output_type": "stream",
     "text": [
      "wandb: ERROR Run 063pi5n0 errored: FileNotFoundError(2, 'No such file or directory')\n",
      "wandb: Agent Starting Run: 0wbaz92d with config:\n",
      "wandb: \tdense_1: 128\n",
      "wandb: \tfilters_1: 32\n",
      "wandb: \tfilters_2: 32\n",
      "wandb: \tlearning_rate: 0.001\n"
     ]
    },
    {
     "data": {
      "text/html": [
       "wandb version 0.17.0 is available!  To upgrade, please run:\n",
       " $ pip install wandb --upgrade"
      ],
      "text/plain": [
       "<IPython.core.display.HTML object>"
      ]
     },
     "metadata": {},
     "output_type": "display_data"
    },
    {
     "data": {
      "text/html": [
       "Tracking run with wandb version 0.16.2"
      ],
      "text/plain": [
       "<IPython.core.display.HTML object>"
      ]
     },
     "metadata": {},
     "output_type": "display_data"
    },
    {
     "data": {
      "text/html": [
       "Run data is saved locally in <code>c:\\Mohit\\Imperial\\fyp-hearts\\wandb\\run-20240519_185932-0wbaz92d</code>"
      ],
      "text/plain": [
       "<IPython.core.display.HTML object>"
      ]
     },
     "metadata": {},
     "output_type": "display_data"
    },
    {
     "data": {
      "text/html": [
       "Syncing run <strong><a href='https://wandb.ai/fyp-hearts/lenet_5_sweep/runs/0wbaz92d' target=\"_blank\">smooth-sweep-18</a></strong> to <a href='https://wandb.ai/fyp-hearts/lenet_5_sweep' target=\"_blank\">Weights & Biases</a> (<a href='https://wandb.me/run' target=\"_blank\">docs</a>)<br/>Sweep page: <a href='https://wandb.ai/fyp-hearts/lenet_5_sweep/sweeps/pj0b3bw9' target=\"_blank\">https://wandb.ai/fyp-hearts/lenet_5_sweep/sweeps/pj0b3bw9</a>"
      ],
      "text/plain": [
       "<IPython.core.display.HTML object>"
      ]
     },
     "metadata": {},
     "output_type": "display_data"
    },
    {
     "data": {
      "text/html": [
       " View project at <a href='https://wandb.ai/fyp-hearts/lenet_5_sweep' target=\"_blank\">https://wandb.ai/fyp-hearts/lenet_5_sweep</a>"
      ],
      "text/plain": [
       "<IPython.core.display.HTML object>"
      ]
     },
     "metadata": {},
     "output_type": "display_data"
    },
    {
     "data": {
      "text/html": [
       " View sweep at <a href='https://wandb.ai/fyp-hearts/lenet_5_sweep/sweeps/pj0b3bw9' target=\"_blank\">https://wandb.ai/fyp-hearts/lenet_5_sweep/sweeps/pj0b3bw9</a>"
      ],
      "text/plain": [
       "<IPython.core.display.HTML object>"
      ]
     },
     "metadata": {},
     "output_type": "display_data"
    },
    {
     "data": {
      "text/html": [
       " View run at <a href='https://wandb.ai/fyp-hearts/lenet_5_sweep/runs/0wbaz92d' target=\"_blank\">https://wandb.ai/fyp-hearts/lenet_5_sweep/runs/0wbaz92d</a>"
      ],
      "text/plain": [
       "<IPython.core.display.HTML object>"
      ]
     },
     "metadata": {},
     "output_type": "display_data"
    },
    {
     "name": "stdout",
     "output_type": "stream",
     "text": [
      "Epoch 1/30\n"
     ]
    },
    {
     "data": {
      "text/html": [
       " View run <strong style=\"color:#cdcd00\">smooth-sweep-18</strong> at: <a href='https://wandb.ai/fyp-hearts/lenet_5_sweep/runs/0wbaz92d' target=\"_blank\">https://wandb.ai/fyp-hearts/lenet_5_sweep/runs/0wbaz92d</a><br/>Synced 5 W&B file(s), 0 media file(s), 0 artifact file(s) and 0 other file(s)"
      ],
      "text/plain": [
       "<IPython.core.display.HTML object>"
      ]
     },
     "metadata": {},
     "output_type": "display_data"
    },
    {
     "data": {
      "text/html": [
       "Find logs at: <code>.\\wandb\\run-20240519_185932-0wbaz92d\\logs</code>"
      ],
      "text/plain": [
       "<IPython.core.display.HTML object>"
      ]
     },
     "metadata": {},
     "output_type": "display_data"
    },
    {
     "name": "stderr",
     "output_type": "stream",
     "text": [
      "wandb: ERROR Run 0wbaz92d errored: FileNotFoundError(2, 'No such file or directory')\n",
      "wandb: Agent Starting Run: l32dk5wf with config:\n",
      "wandb: \tdense_1: 256\n",
      "wandb: \tfilters_1: 32\n",
      "wandb: \tfilters_2: 32\n",
      "wandb: \tlearning_rate: 0.001\n"
     ]
    },
    {
     "data": {
      "text/html": [
       "wandb version 0.17.0 is available!  To upgrade, please run:\n",
       " $ pip install wandb --upgrade"
      ],
      "text/plain": [
       "<IPython.core.display.HTML object>"
      ]
     },
     "metadata": {},
     "output_type": "display_data"
    },
    {
     "data": {
      "text/html": [
       "Tracking run with wandb version 0.16.2"
      ],
      "text/plain": [
       "<IPython.core.display.HTML object>"
      ]
     },
     "metadata": {},
     "output_type": "display_data"
    },
    {
     "data": {
      "text/html": [
       "Run data is saved locally in <code>c:\\Mohit\\Imperial\\fyp-hearts\\wandb\\run-20240519_185948-l32dk5wf</code>"
      ],
      "text/plain": [
       "<IPython.core.display.HTML object>"
      ]
     },
     "metadata": {},
     "output_type": "display_data"
    },
    {
     "data": {
      "text/html": [
       "Syncing run <strong><a href='https://wandb.ai/fyp-hearts/lenet_5_sweep/runs/l32dk5wf' target=\"_blank\">vibrant-sweep-19</a></strong> to <a href='https://wandb.ai/fyp-hearts/lenet_5_sweep' target=\"_blank\">Weights & Biases</a> (<a href='https://wandb.me/run' target=\"_blank\">docs</a>)<br/>Sweep page: <a href='https://wandb.ai/fyp-hearts/lenet_5_sweep/sweeps/pj0b3bw9' target=\"_blank\">https://wandb.ai/fyp-hearts/lenet_5_sweep/sweeps/pj0b3bw9</a>"
      ],
      "text/plain": [
       "<IPython.core.display.HTML object>"
      ]
     },
     "metadata": {},
     "output_type": "display_data"
    },
    {
     "data": {
      "text/html": [
       " View project at <a href='https://wandb.ai/fyp-hearts/lenet_5_sweep' target=\"_blank\">https://wandb.ai/fyp-hearts/lenet_5_sweep</a>"
      ],
      "text/plain": [
       "<IPython.core.display.HTML object>"
      ]
     },
     "metadata": {},
     "output_type": "display_data"
    },
    {
     "data": {
      "text/html": [
       " View sweep at <a href='https://wandb.ai/fyp-hearts/lenet_5_sweep/sweeps/pj0b3bw9' target=\"_blank\">https://wandb.ai/fyp-hearts/lenet_5_sweep/sweeps/pj0b3bw9</a>"
      ],
      "text/plain": [
       "<IPython.core.display.HTML object>"
      ]
     },
     "metadata": {},
     "output_type": "display_data"
    },
    {
     "data": {
      "text/html": [
       " View run at <a href='https://wandb.ai/fyp-hearts/lenet_5_sweep/runs/l32dk5wf' target=\"_blank\">https://wandb.ai/fyp-hearts/lenet_5_sweep/runs/l32dk5wf</a>"
      ],
      "text/plain": [
       "<IPython.core.display.HTML object>"
      ]
     },
     "metadata": {},
     "output_type": "display_data"
    },
    {
     "name": "stdout",
     "output_type": "stream",
     "text": [
      "Epoch 1/30\n"
     ]
    },
    {
     "data": {
      "text/html": [
       " View run <strong style=\"color:#cdcd00\">vibrant-sweep-19</strong> at: <a href='https://wandb.ai/fyp-hearts/lenet_5_sweep/runs/l32dk5wf' target=\"_blank\">https://wandb.ai/fyp-hearts/lenet_5_sweep/runs/l32dk5wf</a><br/>Synced 5 W&B file(s), 0 media file(s), 0 artifact file(s) and 0 other file(s)"
      ],
      "text/plain": [
       "<IPython.core.display.HTML object>"
      ]
     },
     "metadata": {},
     "output_type": "display_data"
    },
    {
     "data": {
      "text/html": [
       "Find logs at: <code>.\\wandb\\run-20240519_185948-l32dk5wf\\logs</code>"
      ],
      "text/plain": [
       "<IPython.core.display.HTML object>"
      ]
     },
     "metadata": {},
     "output_type": "display_data"
    },
    {
     "name": "stderr",
     "output_type": "stream",
     "text": [
      "wandb: ERROR Run l32dk5wf errored: FileNotFoundError(2, 'No such file or directory')\n",
      "wandb: Agent Starting Run: ndfh95nx with config:\n",
      "wandb: \tdense_1: 256\n",
      "wandb: \tfilters_1: 16\n",
      "wandb: \tfilters_2: 128\n",
      "wandb: \tlearning_rate: 0.001\n"
     ]
    },
    {
     "data": {
      "text/html": [
       "wandb version 0.17.0 is available!  To upgrade, please run:\n",
       " $ pip install wandb --upgrade"
      ],
      "text/plain": [
       "<IPython.core.display.HTML object>"
      ]
     },
     "metadata": {},
     "output_type": "display_data"
    },
    {
     "data": {
      "text/html": [
       "Tracking run with wandb version 0.16.2"
      ],
      "text/plain": [
       "<IPython.core.display.HTML object>"
      ]
     },
     "metadata": {},
     "output_type": "display_data"
    },
    {
     "data": {
      "text/html": [
       "Run data is saved locally in <code>c:\\Mohit\\Imperial\\fyp-hearts\\wandb\\run-20240519_190003-ndfh95nx</code>"
      ],
      "text/plain": [
       "<IPython.core.display.HTML object>"
      ]
     },
     "metadata": {},
     "output_type": "display_data"
    },
    {
     "data": {
      "text/html": [
       "Syncing run <strong><a href='https://wandb.ai/fyp-hearts/lenet_5_sweep/runs/ndfh95nx' target=\"_blank\">worldly-sweep-20</a></strong> to <a href='https://wandb.ai/fyp-hearts/lenet_5_sweep' target=\"_blank\">Weights & Biases</a> (<a href='https://wandb.me/run' target=\"_blank\">docs</a>)<br/>Sweep page: <a href='https://wandb.ai/fyp-hearts/lenet_5_sweep/sweeps/pj0b3bw9' target=\"_blank\">https://wandb.ai/fyp-hearts/lenet_5_sweep/sweeps/pj0b3bw9</a>"
      ],
      "text/plain": [
       "<IPython.core.display.HTML object>"
      ]
     },
     "metadata": {},
     "output_type": "display_data"
    },
    {
     "data": {
      "text/html": [
       " View project at <a href='https://wandb.ai/fyp-hearts/lenet_5_sweep' target=\"_blank\">https://wandb.ai/fyp-hearts/lenet_5_sweep</a>"
      ],
      "text/plain": [
       "<IPython.core.display.HTML object>"
      ]
     },
     "metadata": {},
     "output_type": "display_data"
    },
    {
     "data": {
      "text/html": [
       " View sweep at <a href='https://wandb.ai/fyp-hearts/lenet_5_sweep/sweeps/pj0b3bw9' target=\"_blank\">https://wandb.ai/fyp-hearts/lenet_5_sweep/sweeps/pj0b3bw9</a>"
      ],
      "text/plain": [
       "<IPython.core.display.HTML object>"
      ]
     },
     "metadata": {},
     "output_type": "display_data"
    },
    {
     "data": {
      "text/html": [
       " View run at <a href='https://wandb.ai/fyp-hearts/lenet_5_sweep/runs/ndfh95nx' target=\"_blank\">https://wandb.ai/fyp-hearts/lenet_5_sweep/runs/ndfh95nx</a>"
      ],
      "text/plain": [
       "<IPython.core.display.HTML object>"
      ]
     },
     "metadata": {},
     "output_type": "display_data"
    },
    {
     "name": "stdout",
     "output_type": "stream",
     "text": [
      "Epoch 1/30\n"
     ]
    },
    {
     "data": {
      "text/html": [
       " View run <strong style=\"color:#cdcd00\">worldly-sweep-20</strong> at: <a href='https://wandb.ai/fyp-hearts/lenet_5_sweep/runs/ndfh95nx' target=\"_blank\">https://wandb.ai/fyp-hearts/lenet_5_sweep/runs/ndfh95nx</a><br/>Synced 5 W&B file(s), 0 media file(s), 0 artifact file(s) and 0 other file(s)"
      ],
      "text/plain": [
       "<IPython.core.display.HTML object>"
      ]
     },
     "metadata": {},
     "output_type": "display_data"
    },
    {
     "data": {
      "text/html": [
       "Find logs at: <code>.\\wandb\\run-20240519_190003-ndfh95nx\\logs</code>"
      ],
      "text/plain": [
       "<IPython.core.display.HTML object>"
      ]
     },
     "metadata": {},
     "output_type": "display_data"
    },
    {
     "name": "stderr",
     "output_type": "stream",
     "text": [
      "wandb: ERROR Run ndfh95nx errored: FileNotFoundError(2, 'No such file or directory')\n"
     ]
    },
    {
     "name": "stdout",
     "output_type": "stream",
     "text": [
      "Error in callback <bound method _WandbInit._pause_backend of <wandb.sdk.wandb_init._WandbInit object at 0x0000029C1EC834F0>> (for post_run_cell):\n"
     ]
    },
    {
     "ename": "ConnectionResetError",
     "evalue": "[WinError 10054] An existing connection was forcibly closed by the remote host",
     "output_type": "error",
     "traceback": [
      "\u001b[1;31m---------------------------------------------------------------------------\u001b[0m",
      "\u001b[1;31mConnectionResetError\u001b[0m                      Traceback (most recent call last)",
      "File \u001b[1;32mc:\\Users\\agarw\\AppData\\Local\\Programs\\Python\\Python310\\lib\\site-packages\\wandb\\sdk\\wandb_init.py:438\u001b[0m, in \u001b[0;36m_WandbInit._pause_backend\u001b[1;34m(self, *args, **kwargs)\u001b[0m\n\u001b[0;32m    436\u001b[0m \u001b[38;5;28;01mif\u001b[39;00m \u001b[38;5;28mself\u001b[39m\u001b[38;5;241m.\u001b[39mbackend\u001b[38;5;241m.\u001b[39minterface \u001b[38;5;129;01mis\u001b[39;00m \u001b[38;5;129;01mnot\u001b[39;00m \u001b[38;5;28;01mNone\u001b[39;00m:\n\u001b[0;32m    437\u001b[0m     logger\u001b[38;5;241m.\u001b[39minfo(\u001b[38;5;124m\"\u001b[39m\u001b[38;5;124mpausing backend\u001b[39m\u001b[38;5;124m\"\u001b[39m)  \u001b[38;5;66;03m# type: ignore\u001b[39;00m\n\u001b[1;32m--> 438\u001b[0m     \u001b[38;5;28;43mself\u001b[39;49m\u001b[38;5;241;43m.\u001b[39;49m\u001b[43mbackend\u001b[49m\u001b[38;5;241;43m.\u001b[39;49m\u001b[43minterface\u001b[49m\u001b[38;5;241;43m.\u001b[39;49m\u001b[43mpublish_pause\u001b[49m\u001b[43m(\u001b[49m\u001b[43m)\u001b[49m\n",
      "File \u001b[1;32mc:\\Users\\agarw\\AppData\\Local\\Programs\\Python\\Python310\\lib\\site-packages\\wandb\\sdk\\interface\\interface.py:656\u001b[0m, in \u001b[0;36mInterfaceBase.publish_pause\u001b[1;34m(self)\u001b[0m\n\u001b[0;32m    654\u001b[0m \u001b[38;5;28;01mdef\u001b[39;00m \u001b[38;5;21mpublish_pause\u001b[39m(\u001b[38;5;28mself\u001b[39m) \u001b[38;5;241m-\u001b[39m\u001b[38;5;241m>\u001b[39m \u001b[38;5;28;01mNone\u001b[39;00m:\n\u001b[0;32m    655\u001b[0m     pause \u001b[38;5;241m=\u001b[39m pb\u001b[38;5;241m.\u001b[39mPauseRequest()\n\u001b[1;32m--> 656\u001b[0m     \u001b[38;5;28;43mself\u001b[39;49m\u001b[38;5;241;43m.\u001b[39;49m\u001b[43m_publish_pause\u001b[49m\u001b[43m(\u001b[49m\u001b[43mpause\u001b[49m\u001b[43m)\u001b[49m\n",
      "File \u001b[1;32mc:\\Users\\agarw\\AppData\\Local\\Programs\\Python\\Python310\\lib\\site-packages\\wandb\\sdk\\interface\\interface_shared.py:355\u001b[0m, in \u001b[0;36mInterfaceShared._publish_pause\u001b[1;34m(self, pause)\u001b[0m\n\u001b[0;32m    353\u001b[0m \u001b[38;5;28;01mdef\u001b[39;00m \u001b[38;5;21m_publish_pause\u001b[39m(\u001b[38;5;28mself\u001b[39m, pause: pb\u001b[38;5;241m.\u001b[39mPauseRequest) \u001b[38;5;241m-\u001b[39m\u001b[38;5;241m>\u001b[39m \u001b[38;5;28;01mNone\u001b[39;00m:\n\u001b[0;32m    354\u001b[0m     rec \u001b[38;5;241m=\u001b[39m \u001b[38;5;28mself\u001b[39m\u001b[38;5;241m.\u001b[39m_make_request(pause\u001b[38;5;241m=\u001b[39mpause)\n\u001b[1;32m--> 355\u001b[0m     \u001b[38;5;28;43mself\u001b[39;49m\u001b[38;5;241;43m.\u001b[39;49m\u001b[43m_publish\u001b[49m\u001b[43m(\u001b[49m\u001b[43mrec\u001b[49m\u001b[43m)\u001b[49m\n",
      "File \u001b[1;32mc:\\Users\\agarw\\AppData\\Local\\Programs\\Python\\Python310\\lib\\site-packages\\wandb\\sdk\\interface\\interface_sock.py:51\u001b[0m, in \u001b[0;36mInterfaceSock._publish\u001b[1;34m(self, record, local)\u001b[0m\n\u001b[0;32m     49\u001b[0m \u001b[38;5;28;01mdef\u001b[39;00m \u001b[38;5;21m_publish\u001b[39m(\u001b[38;5;28mself\u001b[39m, record: \u001b[38;5;124m\"\u001b[39m\u001b[38;5;124mpb.Record\u001b[39m\u001b[38;5;124m\"\u001b[39m, local: Optional[\u001b[38;5;28mbool\u001b[39m] \u001b[38;5;241m=\u001b[39m \u001b[38;5;28;01mNone\u001b[39;00m) \u001b[38;5;241m-\u001b[39m\u001b[38;5;241m>\u001b[39m \u001b[38;5;28;01mNone\u001b[39;00m:\n\u001b[0;32m     50\u001b[0m     \u001b[38;5;28mself\u001b[39m\u001b[38;5;241m.\u001b[39m_assign(record)\n\u001b[1;32m---> 51\u001b[0m     \u001b[38;5;28;43mself\u001b[39;49m\u001b[38;5;241;43m.\u001b[39;49m\u001b[43m_sock_client\u001b[49m\u001b[38;5;241;43m.\u001b[39;49m\u001b[43msend_record_publish\u001b[49m\u001b[43m(\u001b[49m\u001b[43mrecord\u001b[49m\u001b[43m)\u001b[49m\n",
      "File \u001b[1;32mc:\\Users\\agarw\\AppData\\Local\\Programs\\Python\\Python310\\lib\\site-packages\\wandb\\sdk\\lib\\sock_client.py:221\u001b[0m, in \u001b[0;36mSockClient.send_record_publish\u001b[1;34m(self, record)\u001b[0m\n\u001b[0;32m    219\u001b[0m server_req \u001b[38;5;241m=\u001b[39m spb\u001b[38;5;241m.\u001b[39mServerRequest()\n\u001b[0;32m    220\u001b[0m server_req\u001b[38;5;241m.\u001b[39mrecord_publish\u001b[38;5;241m.\u001b[39mCopyFrom(record)\n\u001b[1;32m--> 221\u001b[0m \u001b[38;5;28;43mself\u001b[39;49m\u001b[38;5;241;43m.\u001b[39;49m\u001b[43msend_server_request\u001b[49m\u001b[43m(\u001b[49m\u001b[43mserver_req\u001b[49m\u001b[43m)\u001b[49m\n",
      "File \u001b[1;32mc:\\Users\\agarw\\AppData\\Local\\Programs\\Python\\Python310\\lib\\site-packages\\wandb\\sdk\\lib\\sock_client.py:155\u001b[0m, in \u001b[0;36mSockClient.send_server_request\u001b[1;34m(self, msg)\u001b[0m\n\u001b[0;32m    154\u001b[0m \u001b[38;5;28;01mdef\u001b[39;00m \u001b[38;5;21msend_server_request\u001b[39m(\u001b[38;5;28mself\u001b[39m, msg: Any) \u001b[38;5;241m-\u001b[39m\u001b[38;5;241m>\u001b[39m \u001b[38;5;28;01mNone\u001b[39;00m:\n\u001b[1;32m--> 155\u001b[0m     \u001b[38;5;28;43mself\u001b[39;49m\u001b[38;5;241;43m.\u001b[39;49m\u001b[43m_send_message\u001b[49m\u001b[43m(\u001b[49m\u001b[43mmsg\u001b[49m\u001b[43m)\u001b[49m\n",
      "File \u001b[1;32mc:\\Users\\agarw\\AppData\\Local\\Programs\\Python\\Python310\\lib\\site-packages\\wandb\\sdk\\lib\\sock_client.py:152\u001b[0m, in \u001b[0;36mSockClient._send_message\u001b[1;34m(self, msg)\u001b[0m\n\u001b[0;32m    150\u001b[0m header \u001b[38;5;241m=\u001b[39m struct\u001b[38;5;241m.\u001b[39mpack(\u001b[38;5;124m\"\u001b[39m\u001b[38;5;124m<BI\u001b[39m\u001b[38;5;124m\"\u001b[39m, \u001b[38;5;28mord\u001b[39m(\u001b[38;5;124m\"\u001b[39m\u001b[38;5;124mW\u001b[39m\u001b[38;5;124m\"\u001b[39m), raw_size)\n\u001b[0;32m    151\u001b[0m \u001b[38;5;28;01mwith\u001b[39;00m \u001b[38;5;28mself\u001b[39m\u001b[38;5;241m.\u001b[39m_lock:\n\u001b[1;32m--> 152\u001b[0m     \u001b[38;5;28;43mself\u001b[39;49m\u001b[38;5;241;43m.\u001b[39;49m\u001b[43m_sendall_with_error_handle\u001b[49m\u001b[43m(\u001b[49m\u001b[43mheader\u001b[49m\u001b[43m \u001b[49m\u001b[38;5;241;43m+\u001b[39;49m\u001b[43m \u001b[49m\u001b[43mdata\u001b[49m\u001b[43m)\u001b[49m\n",
      "File \u001b[1;32mc:\\Users\\agarw\\AppData\\Local\\Programs\\Python\\Python310\\lib\\site-packages\\wandb\\sdk\\lib\\sock_client.py:130\u001b[0m, in \u001b[0;36mSockClient._sendall_with_error_handle\u001b[1;34m(self, data)\u001b[0m\n\u001b[0;32m    128\u001b[0m start_time \u001b[38;5;241m=\u001b[39m time\u001b[38;5;241m.\u001b[39mmonotonic()\n\u001b[0;32m    129\u001b[0m \u001b[38;5;28;01mtry\u001b[39;00m:\n\u001b[1;32m--> 130\u001b[0m     sent \u001b[38;5;241m=\u001b[39m \u001b[38;5;28;43mself\u001b[39;49m\u001b[38;5;241;43m.\u001b[39;49m\u001b[43m_sock\u001b[49m\u001b[38;5;241;43m.\u001b[39;49m\u001b[43msend\u001b[49m\u001b[43m(\u001b[49m\u001b[43mdata\u001b[49m\u001b[43m)\u001b[49m\n\u001b[0;32m    131\u001b[0m     \u001b[38;5;66;03m# sent equal to 0 indicates a closed socket\u001b[39;00m\n\u001b[0;32m    132\u001b[0m     \u001b[38;5;28;01mif\u001b[39;00m sent \u001b[38;5;241m==\u001b[39m \u001b[38;5;241m0\u001b[39m:\n",
      "\u001b[1;31mConnectionResetError\u001b[0m: [WinError 10054] An existing connection was forcibly closed by the remote host"
     ]
    }
   ],
   "source": [
    "def train():\n",
    "    # Initialize a new wandb run\n",
    "    wandb.init()\n",
    "    config = wandb.config\n",
    "\n",
    "    # Define the model\n",
    "    lenet_5_model = Sequential()\n",
    "    lenet_5_model.add(Conv1D(filters=config.filters_1, kernel_size=3, padding='same', input_shape=(1000,1)))\n",
    "    lenet_5_model.add(BatchNormalization())\n",
    "    lenet_5_model.add(Activation('relu'))\n",
    "    lenet_5_model.add(MaxPool1D(pool_size=2, strides=2, padding='same'))\n",
    "    lenet_5_model.add(Conv1D(filters=config.filters_2, strides=1, kernel_size=5))\n",
    "    lenet_5_model.add(BatchNormalization())\n",
    "    lenet_5_model.add(Activation('relu'))\n",
    "    lenet_5_model.add(MaxPool1D(pool_size=2, strides=2, padding='same'))\n",
    "    lenet_5_model.add(GlobalAveragePooling1D())\n",
    "    lenet_5_model.add(Dense(config.dense_1, activation='relu'))\n",
    "    lenet_5_model.add(Dense(config.dense_1, activation='relu'))\n",
    "    lenet_5_model.add(Dense(n_classes, activation='sigmoid'))\n",
    "\n",
    "    # Compile the model\n",
    "    lenet_5_model.compile(optimizer=tf.keras.optimizers.Adam(learning_rate=config.learning_rate), \n",
    "                          loss='binary_crossentropy', \n",
    "                          metrics=['accuracy', AUC(multi_label=True)])\n",
    "\n",
    "\n",
    "    # Train the model\n",
    "    lenet_5_model.fit(X_train, y_train, \n",
    "                      validation_data=(X_val, y_val),\n",
    "                      epochs=30,\n",
    "                      callbacks=[WandbCallback()])\n",
    "\n",
    "# Execute the sweep\n",
    "wandb.agent(sweep_id, train, count=20)"
   ]
  },
  {
   "cell_type": "code",
   "execution_count": null,
   "metadata": {},
   "outputs": [
    {
     "ename": "Error",
     "evalue": "You must call wandb.init() before wandb.config.filters_1",
     "output_type": "error",
     "traceback": [
      "\u001b[1;31m---------------------------------------------------------------------------\u001b[0m",
      "\u001b[1;31mError\u001b[0m                                     Traceback (most recent call last)",
      "Input \u001b[1;32mIn [13]\u001b[0m, in \u001b[0;36m<cell line: 4>\u001b[1;34m()\u001b[0m\n\u001b[0;32m      1\u001b[0m config \u001b[38;5;241m=\u001b[39m wandb\u001b[38;5;241m.\u001b[39mconfig\n\u001b[0;32m      3\u001b[0m lenet_5_model \u001b[38;5;241m=\u001b[39m Sequential()\n\u001b[1;32m----> 4\u001b[0m lenet_5_model\u001b[38;5;241m.\u001b[39madd(Conv1D(filters\u001b[38;5;241m=\u001b[39m\u001b[43mconfig\u001b[49m\u001b[38;5;241;43m.\u001b[39;49m\u001b[43mfilters_1\u001b[49m, kernel_size\u001b[38;5;241m=\u001b[39m\u001b[38;5;241m3\u001b[39m, padding\u001b[38;5;241m=\u001b[39m\u001b[38;5;124m'\u001b[39m\u001b[38;5;124msame\u001b[39m\u001b[38;5;124m'\u001b[39m, input_shape\u001b[38;5;241m=\u001b[39m(\u001b[38;5;241m1000\u001b[39m,\u001b[38;5;241m1\u001b[39m)))\n\u001b[0;32m      5\u001b[0m lenet_5_model\u001b[38;5;241m.\u001b[39madd(BatchNormalization())\n\u001b[0;32m      6\u001b[0m lenet_5_model\u001b[38;5;241m.\u001b[39madd(Activation(\u001b[38;5;124m'\u001b[39m\u001b[38;5;124mrelu\u001b[39m\u001b[38;5;124m'\u001b[39m))\n",
      "File \u001b[1;32mc:\\Users\\agarw\\AppData\\Local\\Programs\\Python\\Python310\\lib\\site-packages\\wandb\\sdk\\lib\\preinit.py:27\u001b[0m, in \u001b[0;36mPreInitObject.__getattr__\u001b[1;34m(self, key)\u001b[0m\n\u001b[0;32m     25\u001b[0m \u001b[38;5;28;01mdef\u001b[39;00m \u001b[38;5;21m__getattr__\u001b[39m(\u001b[38;5;28mself\u001b[39m, key: \u001b[38;5;28mstr\u001b[39m) \u001b[38;5;241m-\u001b[39m\u001b[38;5;241m>\u001b[39m Any:\n\u001b[0;32m     26\u001b[0m     \u001b[38;5;28;01mif\u001b[39;00m \u001b[38;5;129;01mnot\u001b[39;00m key\u001b[38;5;241m.\u001b[39mstartswith(\u001b[38;5;124m\"\u001b[39m\u001b[38;5;124m_\u001b[39m\u001b[38;5;124m\"\u001b[39m):\n\u001b[1;32m---> 27\u001b[0m         \u001b[38;5;28;01mraise\u001b[39;00m wandb\u001b[38;5;241m.\u001b[39mError(\u001b[38;5;124mf\u001b[39m\u001b[38;5;124m\"\u001b[39m\u001b[38;5;124mYou must call wandb.init() before \u001b[39m\u001b[38;5;132;01m{\u001b[39;00m\u001b[38;5;28mself\u001b[39m\u001b[38;5;241m.\u001b[39m_name\u001b[38;5;132;01m}\u001b[39;00m\u001b[38;5;124m.\u001b[39m\u001b[38;5;132;01m{\u001b[39;00mkey\u001b[38;5;132;01m}\u001b[39;00m\u001b[38;5;124m\"\u001b[39m)\n\u001b[0;32m     28\u001b[0m     \u001b[38;5;28;01melse\u001b[39;00m:\n\u001b[0;32m     29\u001b[0m         \u001b[38;5;28;01mraise\u001b[39;00m \u001b[38;5;167;01mAttributeError\u001b[39;00m\n",
      "\u001b[1;31mError\u001b[0m: You must call wandb.init() before wandb.config.filters_1"
     ]
    }
   ],
   "source": [
    "config = wandb.config\n",
    "\n",
    "lenet_5_model = Sequential()\n",
    "lenet_5_model.add(Conv1D(filters=config.filters_1, kernel_size=3, padding='same', input_shape=(1000,1)))\n",
    "lenet_5_model.add(BatchNormalization())\n",
    "lenet_5_model.add(Activation('relu'))\n",
    "lenet_5_model.add(MaxPool1D(pool_size=2, strides=2, padding='same'))\n",
    "lenet_5_model.add(Conv1D(filters=config.filters_2, strides=1, kernel_size=5))\n",
    "lenet_5_model.add(BatchNormalization())\n",
    "lenet_5_model.add(Activation('relu'))\n",
    "lenet_5_model.add(MaxPool1D(pool_size=2, strides=2, padding='same'))\n",
    "lenet_5_model.add(GlobalAveragePooling1D())\n",
    "lenet_5_model.add(Dense(config.dense_1, activation='relu'))\n",
    "lenet_5_model.add(Dense(config.dense_1, activation='relu'))\n",
    "lenet_5_model.add(Dense(n_classes, activation='sigmoid'))\n",
    "\n",
    "# Compile the model\n",
    "lenet_5_model.compile(optimizer=tf.keras.optimizers.Adam(learning_rate=config.learning_rate), \n",
    "                        loss='binary_crossentropy', \n",
    "                        metrics=['accuracy', AUC()])\n",
    "\n",
    "\n",
    "# Train the model\n",
    "lenet_5_model.fit(X_train, y_train, \n",
    "                    validation_data=(X_val, y_val),\n",
    "                    epochs=30,\n",
    "                    callbacks=[WandbCallback()])"
   ]
  }
 ],
 "metadata": {
  "kernelspec": {
   "display_name": "Python 3",
   "language": "python",
   "name": "python3"
  },
  "language_info": {
   "codemirror_mode": {
    "name": "ipython",
    "version": 3
   },
   "file_extension": ".py",
   "mimetype": "text/x-python",
   "name": "python",
   "nbconvert_exporter": "python",
   "pygments_lexer": "ipython3",
   "version": "3.10.4"
  }
 },
 "nbformat": 4,
 "nbformat_minor": 2
}
