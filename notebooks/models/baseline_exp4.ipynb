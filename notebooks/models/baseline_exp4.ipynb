{
 "cells": [
  {
   "cell_type": "code",
   "execution_count": 1,
   "metadata": {},
   "outputs": [],
   "source": [
    "import os\n",
    "import numpy as np\n",
    "import pandas as pd\n",
    "\n",
    "os.chdir(\"../..\")\n",
    "import utils"
   ]
  },
  {
   "cell_type": "code",
   "execution_count": 2,
   "metadata": {},
   "outputs": [],
   "source": [
    "outputfolder = os.getcwd() + '/output/'\n",
    "datafolder = os.getcwd() + '/datasets/PTB-XL/'\n",
    "sampling_rate = 100\n",
    "task = 'priority'\n",
    "experiment_name = 'exp4'\n",
    "\n",
    "data, raw_labels = utils.load_dataset(datafolder, sampling_rate=sampling_rate)\n",
    "labels = utils.compute_label_aggregations(raw_labels, datafolder, task)\n",
    "data, labels, Y, _ = utils.select_data(data, labels, task, 0, outputfolder+experiment_name+'/data/')"
   ]
  },
  {
   "cell_type": "code",
   "execution_count": 3,
   "metadata": {},
   "outputs": [
    {
     "name": "stdout",
     "output_type": "stream",
     "text": [
      "This experiment has 43 classes\n"
     ]
    }
   ],
   "source": [
    "X_test = data[labels.strat_fold == 10]\n",
    "y_test = Y[labels.strat_fold == 10]\n",
    "\n",
    "X_val = data[labels.strat_fold == 9]\n",
    "y_val = Y[labels.strat_fold == 9]\n",
    "\n",
    "X_train = data[labels.strat_fold <= 8]\n",
    "y_train = Y[labels.strat_fold <= 8]\n",
    "\n",
    "n_classes = y_train.shape[1]\n",
    "\n",
    "print(f\"This experiment has {n_classes} classes\")\n",
    "\n",
    "X_train_lead1 = X_train[:,:,0]\n",
    "X_test_lead1 = X_test[:,:,0]\n",
    "X_val_lead1 = X_val[:,:,0]"
   ]
  },
  {
   "cell_type": "code",
   "execution_count": 4,
   "metadata": {},
   "outputs": [],
   "source": [
    "import tensorflow as tf\n",
    "from tensorflow.keras.layers import LSTM, GRU, TimeDistributed, Bidirectional, LeakyReLU\n",
    "from tensorflow.keras.layers import Dense, Dropout, Activation, Flatten,  Input, Reshape\n",
    "from tensorflow.keras.layers import Conv1D, MaxPool1D, GlobalAveragePooling1D,MaxPool1D,AveragePooling1D\n",
    "from tensorflow.keras import initializers, regularizers, constraints\n",
    "from tensorflow.keras.layers import Layer\n",
    "import numpy as np\n",
    "from tensorflow.keras.layers import BatchNormalization\n",
    "from tensorflow.keras import regularizers\n",
    "from tensorflow.keras import backend as K\n",
    "from tensorflow.keras.models import Model, Sequential"
   ]
  },
  {
   "cell_type": "code",
   "execution_count": 6,
   "metadata": {},
   "outputs": [],
   "source": [
    "ann_model = Sequential()\n",
    "ann_model.add(Dense(50, activation=\"relu\", input_shape=(1000,1)))\n",
    "ann_model.add(Dense(50, activation=\"relu\"))\n",
    "ann_model.add(Dense(50, activation=\"relu\"))\n",
    "ann_model.add(Dense(50, activation=\"relu\"))\n",
    "ann_model.add(GlobalAveragePooling1D())\n",
    "ann_model.add(Dense(n_classes, activation=\"sigmoid\"))"
   ]
  },
  {
   "cell_type": "code",
   "execution_count": 9,
   "metadata": {},
   "outputs": [],
   "source": [
    "ann_model.compile(loss=tf.keras.losses.BinaryCrossentropy(),\n",
    "    optimizer=tf.keras.optimizers.Adam(learning_rate=0.01),\n",
    "    metrics=[tf.keras.metrics.AUC(num_thresholds=1000000, multi_label=False),\n",
    "                utils.CustomMetric(beta=0.5)])"
   ]
  },
  {
   "cell_type": "code",
   "execution_count": 10,
   "metadata": {},
   "outputs": [
    {
     "name": "stdout",
     "output_type": "stream",
     "text": [
      "Epoch 1/30\n",
      "534/534 [==============================] - ETA: 0s - loss: 0.1279 - auc: 0.9086 - custom_metric: 0.9382"
     ]
    },
    {
     "name": "stderr",
     "output_type": "stream",
     "text": [
      "c:\\Users\\agarw\\AppData\\Local\\Programs\\Python\\Python310\\lib\\site-packages\\keras\\engine\\training.py:2448: UserWarning: Metric CustomMetric implements a `reset_states()` method; rename it to `reset_state()` (without the final \"s\"). The name `reset_states()` has been deprecated to improve API consistency.\n",
      "  m.reset_state()\n"
     ]
    },
    {
     "name": "stdout",
     "output_type": "stream",
     "text": [
      "534/534 [==============================] - 119s 191ms/step - loss: 0.1279 - auc: 0.9086 - custom_metric: 0.9382 - val_loss: 0.1180 - val_auc: 0.9226 - val_custom_metric: 0.9469\n",
      "Epoch 2/30\n",
      "534/534 [==============================] - 97s 182ms/step - loss: 0.1180 - auc: 0.9221 - custom_metric: 0.9456 - val_loss: 0.1168 - val_auc: 0.9246 - val_custom_metric: 0.9468\n",
      "Epoch 3/30\n",
      "534/534 [==============================] - 101s 190ms/step - loss: 0.1156 - auc: 0.9258 - custom_metric: 0.9479 - val_loss: 0.1146 - val_auc: 0.9275 - val_custom_metric: 0.9482\n",
      "Epoch 4/30\n",
      "534/534 [==============================] - 118s 221ms/step - loss: 0.1136 - auc: 0.9295 - custom_metric: 0.9502 - val_loss: 0.1127 - val_auc: 0.9306 - val_custom_metric: 0.9509\n",
      "Epoch 5/30\n",
      "534/534 [==============================] - 98s 184ms/step - loss: 0.1123 - auc: 0.9315 - custom_metric: 0.9512 - val_loss: 0.1139 - val_auc: 0.9291 - val_custom_metric: 0.9495\n",
      "Epoch 6/30\n",
      "534/534 [==============================] - 75s 140ms/step - loss: 0.1118 - auc: 0.9323 - custom_metric: 0.9516 - val_loss: 0.1127 - val_auc: 0.9303 - val_custom_metric: 0.9502\n",
      "Epoch 7/30\n",
      "534/534 [==============================] - 70s 131ms/step - loss: 0.1118 - auc: 0.9323 - custom_metric: 0.9516 - val_loss: 0.1120 - val_auc: 0.9308 - val_custom_metric: 0.9510\n",
      "Epoch 8/30\n",
      "534/534 [==============================] - 73s 137ms/step - loss: 0.1116 - auc: 0.9328 - custom_metric: 0.9518 - val_loss: 0.1135 - val_auc: 0.9299 - val_custom_metric: 0.9499\n",
      "Epoch 9/30\n",
      "534/534 [==============================] - 62s 116ms/step - loss: 0.1115 - auc: 0.9328 - custom_metric: 0.9518 - val_loss: 0.1129 - val_auc: 0.9306 - val_custom_metric: 0.9521\n",
      "Epoch 10/30\n",
      "534/534 [==============================] - 60s 113ms/step - loss: 0.1114 - auc: 0.9331 - custom_metric: 0.9520 - val_loss: 0.1124 - val_auc: 0.9305 - val_custom_metric: 0.9512\n",
      "Epoch 11/30\n",
      "534/534 [==============================] - 58s 109ms/step - loss: 0.1111 - auc: 0.9334 - custom_metric: 0.9522 - val_loss: 0.1124 - val_auc: 0.9303 - val_custom_metric: 0.9503\n",
      "Epoch 12/30\n",
      "534/534 [==============================] - 47s 88ms/step - loss: 0.1112 - auc: 0.9334 - custom_metric: 0.9522 - val_loss: 0.1121 - val_auc: 0.9307 - val_custom_metric: 0.9508\n",
      "Epoch 13/30\n",
      "534/534 [==============================] - 57s 106ms/step - loss: 0.1110 - auc: 0.9337 - custom_metric: 0.9524 - val_loss: 0.1130 - val_auc: 0.9302 - val_custom_metric: 0.9498\n",
      "Epoch 14/30\n",
      "534/534 [==============================] - 61s 114ms/step - loss: 0.1108 - auc: 0.9339 - custom_metric: 0.9525 - val_loss: 0.1125 - val_auc: 0.9312 - val_custom_metric: 0.9513\n",
      "Epoch 15/30\n",
      "534/534 [==============================] - 79s 149ms/step - loss: 0.1109 - auc: 0.9338 - custom_metric: 0.9525 - val_loss: 0.1115 - val_auc: 0.9316 - val_custom_metric: 0.9515\n",
      "Epoch 16/30\n",
      "534/534 [==============================] - 80s 150ms/step - loss: 0.1108 - auc: 0.9341 - custom_metric: 0.9526 - val_loss: 0.1127 - val_auc: 0.9298 - val_custom_metric: 0.9514\n",
      "Epoch 17/30\n",
      "534/534 [==============================] - 78s 147ms/step - loss: 0.1108 - auc: 0.9340 - custom_metric: 0.9526 - val_loss: 0.1117 - val_auc: 0.9313 - val_custom_metric: 0.9514\n",
      "Epoch 18/30\n",
      "534/534 [==============================] - 77s 145ms/step - loss: 0.1107 - auc: 0.9342 - custom_metric: 0.9527 - val_loss: 0.1135 - val_auc: 0.9305 - val_custom_metric: 0.9498\n",
      "Epoch 19/30\n",
      "534/534 [==============================] - 79s 148ms/step - loss: 0.1107 - auc: 0.9342 - custom_metric: 0.9527 - val_loss: 0.1115 - val_auc: 0.9317 - val_custom_metric: 0.9522\n",
      "Epoch 20/30\n",
      "534/534 [==============================] - 82s 154ms/step - loss: 0.1105 - auc: 0.9345 - custom_metric: 0.9528 - val_loss: 0.1128 - val_auc: 0.9302 - val_custom_metric: 0.9512\n",
      "Epoch 21/30\n",
      "534/534 [==============================] - 82s 153ms/step - loss: 0.1107 - auc: 0.9343 - custom_metric: 0.9526 - val_loss: 0.1114 - val_auc: 0.9316 - val_custom_metric: 0.9517\n",
      "Epoch 22/30\n",
      "534/534 [==============================] - 88s 164ms/step - loss: 0.1105 - auc: 0.9345 - custom_metric: 0.9528 - val_loss: 0.1115 - val_auc: 0.9317 - val_custom_metric: 0.9518\n",
      "Epoch 23/30\n",
      "534/534 [==============================] - 88s 165ms/step - loss: 0.1104 - auc: 0.9347 - custom_metric: 0.9529 - val_loss: 0.1125 - val_auc: 0.9307 - val_custom_metric: 0.9507\n",
      "Epoch 24/30\n",
      "534/534 [==============================] - 75s 140ms/step - loss: 0.1104 - auc: 0.9347 - custom_metric: 0.9529 - val_loss: 0.1122 - val_auc: 0.9312 - val_custom_metric: 0.9513\n",
      "Epoch 25/30\n",
      "534/534 [==============================] - 76s 143ms/step - loss: 0.1104 - auc: 0.9347 - custom_metric: 0.9529 - val_loss: 0.1134 - val_auc: 0.9285 - val_custom_metric: 0.9507\n",
      "Epoch 26/30\n",
      "534/534 [==============================] - 72s 135ms/step - loss: 0.1104 - auc: 0.9347 - custom_metric: 0.9529 - val_loss: 0.1118 - val_auc: 0.9309 - val_custom_metric: 0.9517\n",
      "Epoch 27/30\n",
      "534/534 [==============================] - 69s 130ms/step - loss: 0.1104 - auc: 0.9348 - custom_metric: 0.9530 - val_loss: 0.1115 - val_auc: 0.9314 - val_custom_metric: 0.9513\n",
      "Epoch 28/30\n",
      "534/534 [==============================] - 84s 157ms/step - loss: 0.1103 - auc: 0.9349 - custom_metric: 0.9530 - val_loss: 0.1117 - val_auc: 0.9316 - val_custom_metric: 0.9518\n",
      "Epoch 29/30\n",
      "534/534 [==============================] - 82s 154ms/step - loss: 0.1104 - auc: 0.9348 - custom_metric: 0.9530 - val_loss: 0.1123 - val_auc: 0.9301 - val_custom_metric: 0.9507\n",
      "Epoch 30/30\n",
      "534/534 [==============================] - 76s 143ms/step - loss: 0.1104 - auc: 0.9348 - custom_metric: 0.9529 - val_loss: 0.1122 - val_auc: 0.9310 - val_custom_metric: 0.9514\n"
     ]
    }
   ],
   "source": [
    "history = ann_model.fit(X_train_lead1, y_train, validation_data=(X_val_lead1, y_val), epochs=30)"
   ]
  },
  {
   "cell_type": "code",
   "execution_count": 12,
   "metadata": {},
   "outputs": [
    {
     "name": "stdout",
     "output_type": "stream",
     "text": [
      "68/68 [==============================] - 2s 28ms/step\n",
      "0.6805787356487152\n",
      " 2/68 [..............................] - ETA: 5s - loss: 0.0933 - auc: 0.9445 - custom_metric: 0.9614"
     ]
    },
    {
     "name": "stderr",
     "output_type": "stream",
     "text": [
      "c:\\Users\\agarw\\AppData\\Local\\Programs\\Python\\Python310\\lib\\site-packages\\keras\\engine\\training.py:2448: UserWarning: Metric CustomMetric implements a `reset_states()` method; rename it to `reset_state()` (without the final \"s\"). The name `reset_states()` has been deprecated to improve API consistency.\n",
      "  m.reset_state()\n"
     ]
    },
    {
     "name": "stdout",
     "output_type": "stream",
     "text": [
      "68/68 [==============================] - 6s 83ms/step - loss: 0.1117 - auc: 0.9309 - custom_metric: 0.9511\n",
      "[0.11169098317623138, 0.9308748245239258, 0.9511114358901978]\n"
     ]
    }
   ],
   "source": [
    "from sklearn.metrics import roc_auc_score\n",
    "\n",
    "preds = ann_model.predict(X_test_lead1)\n",
    "\n",
    "print(roc_auc_score(y_test,preds))\n",
    "auc = ann_model.evaluate(X_test_lead1, y_test)\n",
    "print(auc)"
   ]
  },
  {
   "cell_type": "code",
   "execution_count": null,
   "metadata": {},
   "outputs": [],
   "source": []
  }
 ],
 "metadata": {
  "kernelspec": {
   "display_name": "Python 3",
   "language": "python",
   "name": "python3"
  },
  "language_info": {
   "codemirror_mode": {
    "name": "ipython",
    "version": 3
   },
   "file_extension": ".py",
   "mimetype": "text/x-python",
   "name": "python",
   "nbconvert_exporter": "python",
   "pygments_lexer": "ipython3",
   "version": "3.10.4"
  }
 },
 "nbformat": 4,
 "nbformat_minor": 2
}
