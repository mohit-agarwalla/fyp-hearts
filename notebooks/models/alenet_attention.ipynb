{
 "cells": [
  {
   "cell_type": "code",
   "execution_count": 1,
   "metadata": {},
   "outputs": [],
   "source": [
    "import os\n",
    "\n",
    "os.chdir('../..')\n",
    "\n",
    "import utils"
   ]
  },
  {
   "cell_type": "code",
   "execution_count": 2,
   "metadata": {},
   "outputs": [],
   "source": [
    "outputfolder = os.getcwd() + '/output/'\n",
    "datafolder = os.getcwd() + '/datasets/PTB-XL/'\n",
    "sampling_rate = 100\n",
    "task = 'priority'\n",
    "experiment_name = 'exp4'\n",
    "\n",
    "data, raw_labels = utils.load_dataset(datafolder, sampling_rate=sampling_rate)\n",
    "labels = utils.compute_label_aggregations(raw_labels, datafolder, task)\n",
    "data, labels, Y, _ = utils.select_data(data, labels, task, 0, outputfolder+experiment_name+'/data/')"
   ]
  },
  {
   "cell_type": "code",
   "execution_count": 3,
   "metadata": {},
   "outputs": [
    {
     "name": "stdout",
     "output_type": "stream",
     "text": [
      "This experiment has 43 classes\n"
     ]
    }
   ],
   "source": [
    "X_test = data[labels.strat_fold == 10]\n",
    "y_test = Y[labels.strat_fold == 10]\n",
    "\n",
    "X_val = data[labels.strat_fold == 9]\n",
    "y_val = Y[labels.strat_fold == 9]\n",
    "\n",
    "X_train = data[labels.strat_fold <= 8]\n",
    "y_train = Y[labels.strat_fold <= 8]\n",
    "\n",
    "n_classes = y_train.shape[1]\n",
    "\n",
    "print(f\"This experiment has {n_classes} classes\")\n",
    "\n",
    "X_train_lead1 = X_train[:,:,0]\n",
    "X_test_lead1 = X_test[:,:,0]\n",
    "X_val_lead1 = X_val[:,:,0]"
   ]
  },
  {
   "cell_type": "code",
   "execution_count": 4,
   "metadata": {},
   "outputs": [],
   "source": [
    "import tensorflow as tf\n",
    "from tensorflow.keras.layers import LSTM, GRU, TimeDistributed, Bidirectional, LeakyReLU\n",
    "from tensorflow.keras.layers import Dense, Dropout, Activation, Flatten,  Input, Reshape\n",
    "from tensorflow.keras.layers import Conv1D, MaxPool1D, GlobalAveragePooling1D,MaxPool1D,AveragePooling1D\n",
    "from tensorflow.keras import initializers, regularizers, constraints\n",
    "from tensorflow.keras.layers import Layer\n",
    "import numpy as np\n",
    "from tensorflow.keras.layers import BatchNormalization\n",
    "from tensorflow.keras import regularizers\n",
    "from tensorflow.keras import backend as K\n",
    "from tensorflow.keras.models import Model, Sequential"
   ]
  },
  {
   "cell_type": "code",
   "execution_count": 11,
   "metadata": {},
   "outputs": [],
   "source": [
    "def dot_product(x, kernel):\n",
    "    if K.backend() == 'tensorflow':\n",
    "        return K.squeeze(K.dot(x, K.expand_dims(kernel)), axis=-1)\n",
    "    else:\n",
    "        return K.dot(x, kernel)\n",
    "\n",
    "class AttentionWithContext(Layer):\n",
    "    def __init__(self,\n",
    "                 W_regularizer=None, u_regularizer=None, b_regularizer=None,\n",
    "                 W_constraint=None, u_constraint=None, b_constraint=None,\n",
    "                 bias=True, **kwargs): \n",
    "        self.supports_masking = True\n",
    "        self.init = initializers.get('glorot_uniform') \n",
    "        self.W_regularizer = regularizers.get(W_regularizer)\n",
    "        self.u_regularizer = regularizers.get(u_regularizer)\n",
    "        self.b_regularizer = regularizers.get(b_regularizer) \n",
    "        self.W_constraint = constraints.get(W_constraint)\n",
    "        self.u_constraint = constraints.get(u_constraint)\n",
    "        self.b_constraint = constraints.get(b_constraint) \n",
    "        self.bias = bias\n",
    "        super(AttentionWithContext, self).__init__(**kwargs)\n",
    " \n",
    "    def build(self, input_shape):\n",
    "        assert len(input_shape) == 3\n",
    "        self.W = self.add_weight(shape=(input_shape[-1], input_shape[-1],),\n",
    "                                 initializer=self.init,\n",
    "                                 name='{}_W'.format(self.name),\n",
    "                                 regularizer=self.W_regularizer,\n",
    "                                 constraint=self.W_constraint)\n",
    "        if self.bias:\n",
    "            self.b = self.add_weight(shape=(input_shape[-1],),\n",
    "                                     initializer='zero',\n",
    "                                     name='{}_b'.format(self.name),\n",
    "                                     regularizer=self.b_regularizer,\n",
    "                                     constraint=self.b_constraint) \n",
    "            self.u = self.add_weight(shape=(input_shape[-1],),\n",
    "                                 initializer=self.init,\n",
    "                                 name='{}_u'.format(self.name),\n",
    "                                 regularizer=self.u_regularizer,\n",
    "                                 constraint=self.u_constraint) \n",
    "        super(AttentionWithContext, self).build(input_shape)\n",
    " \n",
    "    def compute_mask(self, input, input_mask=None):\n",
    "        return None\n",
    " \n",
    "    def call(self, x, mask=None):\n",
    "        uit = dot_product(x, self.W) \n",
    "        if self.bias:\n",
    "            uit += self.b \n",
    "        uit = K.tanh(uit)\n",
    "        ait = dot_product(uit, self.u) \n",
    "        a = K.exp(ait)\n",
    "        if mask is not None:\n",
    "            a *= K.cast(mask, K.floatx())\n",
    "        a /= K.cast(K.sum(a, axis=1, keepdims=True) + K.epsilon(), K.floatx()) \n",
    "        a = K.expand_dims(a)\n",
    "        weighted_input = x * a\n",
    "        return K.sum(weighted_input, axis=1)\n",
    " \n",
    "    def compute_output_shape(self, input_shape):\n",
    "        return input_shape[0], input_shape[-1]"
   ]
  },
  {
   "cell_type": "code",
   "execution_count": 15,
   "metadata": {},
   "outputs": [],
   "source": [
    "inputs = Input(shape=(1000,1))\n",
    "x = Conv1D(filters=96, kernel_size=11, strides=4)(inputs)\n",
    "x = BatchNormalization()(x)\n",
    "x = Activation('relu')(x)\n",
    "x = MaxPool1D(pool_size=2, strides=2, padding='same')(x)\n",
    "\n",
    "x = Conv1D(filters=256, kernel_size=5)(x)\n",
    "x = BatchNormalization()(x)\n",
    "x = Activation('relu')(x)\n",
    "x = MaxPool1D(pool_size=2, strides=2, padding='same')(x)\n",
    "x = Conv1D(filters=384, padding='same', kernel_size=5)(x)\n",
    "x = BatchNormalization()(x)\n",
    "x = Activation('relu')(x)\n",
    "x = Conv1D(filters=384, padding='same', kernel_size=5)(x)\n",
    "x = BatchNormalization()(x)\n",
    "x = Activation('relu')(x)\n",
    "x = Conv1D(filters=256, kernel_size=3)(x)\n",
    "x = BatchNormalization()(x)\n",
    "x = Activation('relu')(x)\n",
    "x = MaxPool1D(pool_size=2, strides=2, padding='same')(x)\n",
    "\n",
    "x = AttentionWithContext()(x)\n",
    "x = Dense(128, activation='relu')(x)\n",
    "x = Dropout(0.4)(x)\n",
    "x = Dense(128, activation='relu')(x)\n",
    "x = Dropout(0.4)(x)\n",
    "outputs = Dense(43, activation='softmax')(x)\n",
    "\n",
    "model = Model(inputs=inputs, outputs=outputs)"
   ]
  },
  {
   "cell_type": "code",
   "execution_count": 16,
   "metadata": {},
   "outputs": [],
   "source": [
    "model.compile(\n",
    "    loss=tf.keras.losses.BinaryCrossentropy(),\n",
    "    optimizer=tf.keras.optimizers.Adam(learning_rate=0.01),\n",
    "    metrics=[tf.keras.metrics.BinaryAccuracy(name='accuracy',threshold=0.5),\n",
    "            tf.keras.metrics.Recall(name='recall'),\n",
    "            tf.keras.metrics.AUC(num_thresholds=200,\n",
    "                                curve=\"ROC\",\n",
    "                                summation_method='interpolation',\n",
    "                                name=\"AUC\",\n",
    "                                multi_label=True,\n",
    "                                label_weights=None)]\n",
    ")"
   ]
  },
  {
   "cell_type": "code",
   "execution_count": 17,
   "metadata": {},
   "outputs": [
    {
     "name": "stdout",
     "output_type": "stream",
     "text": [
      "Epoch 1/100\n",
      "534/534 [==============================] - 240s 434ms/step - loss: 0.1181 - accuracy: 0.9587 - recall: 0.2701 - AUC: 0.5773 - val_loss: 0.1054 - val_accuracy: 0.9591 - val_recall: 0.2517 - val_AUC: 0.6167\n",
      "Epoch 2/100\n",
      "534/534 [==============================] - 208s 389ms/step - loss: 0.1062 - accuracy: 0.9600 - recall: 0.2803 - AUC: 0.6116 - val_loss: 0.0992 - val_accuracy: 0.9617 - val_recall: 0.2905 - val_AUC: 0.6290\n",
      "Epoch 3/100\n",
      "534/534 [==============================] - 204s 382ms/step - loss: 0.1022 - accuracy: 0.9617 - recall: 0.3001 - AUC: 0.6184 - val_loss: 0.0954 - val_accuracy: 0.9626 - val_recall: 0.3053 - val_AUC: 0.6440\n",
      "Epoch 4/100\n",
      "534/534 [==============================] - 204s 381ms/step - loss: 0.0992 - accuracy: 0.9623 - recall: 0.3097 - AUC: 0.6264 - val_loss: 0.0968 - val_accuracy: 0.9609 - val_recall: 0.2680 - val_AUC: 0.6502\n",
      "Epoch 5/100\n",
      "534/534 [==============================] - 200s 374ms/step - loss: 0.0978 - accuracy: 0.9625 - recall: 0.3144 - AUC: 0.6290 - val_loss: 0.0935 - val_accuracy: 0.9626 - val_recall: 0.3060 - val_AUC: 0.6517\n",
      "Epoch 6/100\n",
      "534/534 [==============================] - 198s 372ms/step - loss: 0.0966 - accuracy: 0.9627 - recall: 0.3182 - AUC: 0.6355 - val_loss: 0.0922 - val_accuracy: 0.9630 - val_recall: 0.3168 - val_AUC: 0.6460\n",
      "Epoch 7/100\n",
      "534/534 [==============================] - 199s 372ms/step - loss: 0.0958 - accuracy: 0.9628 - recall: 0.3210 - AUC: 0.6335 - val_loss: 0.1018 - val_accuracy: 0.9603 - val_recall: 0.2523 - val_AUC: 0.6754\n",
      "Epoch 8/100\n",
      "534/534 [==============================] - 199s 372ms/step - loss: 0.0948 - accuracy: 0.9629 - recall: 0.3199 - AUC: 0.6419 - val_loss: 0.0956 - val_accuracy: 0.9626 - val_recall: 0.3081 - val_AUC: 0.6509\n",
      "Epoch 9/100\n",
      "534/534 [==============================] - 199s 373ms/step - loss: 0.0942 - accuracy: 0.9631 - recall: 0.3253 - AUC: 0.6388 - val_loss: 0.0916 - val_accuracy: 0.9635 - val_recall: 0.3258 - val_AUC: 0.6409\n",
      "Epoch 10/100\n",
      "534/534 [==============================] - 199s 372ms/step - loss: 0.0932 - accuracy: 0.9634 - recall: 0.3315 - AUC: 0.6383 - val_loss: 0.0922 - val_accuracy: 0.9640 - val_recall: 0.3406 - val_AUC: 0.6311\n",
      "Epoch 11/100\n",
      "534/534 [==============================] - 198s 371ms/step - loss: 0.0924 - accuracy: 0.9635 - recall: 0.3333 - AUC: 0.6451 - val_loss: 0.0922 - val_accuracy: 0.9630 - val_recall: 0.3095 - val_AUC: 0.6518\n",
      "Epoch 12/100\n",
      "534/534 [==============================] - 200s 374ms/step - loss: 0.0918 - accuracy: 0.9637 - recall: 0.3373 - AUC: 0.6458 - val_loss: 0.0984 - val_accuracy: 0.9615 - val_recall: 0.2780 - val_AUC: 0.6676\n",
      "Epoch 13/100\n",
      "534/534 [==============================] - 198s 370ms/step - loss: 0.0918 - accuracy: 0.9636 - recall: 0.3341 - AUC: 0.6445 - val_loss: 0.0895 - val_accuracy: 0.9641 - val_recall: 0.3417 - val_AUC: 0.6501\n",
      "Epoch 14/100\n",
      "534/534 [==============================] - 197s 370ms/step - loss: 0.0911 - accuracy: 0.9638 - recall: 0.3394 - AUC: 0.6468 - val_loss: 0.0929 - val_accuracy: 0.9640 - val_recall: 0.3457 - val_AUC: 0.6481\n",
      "Epoch 15/100\n",
      "534/534 [==============================] - 199s 372ms/step - loss: 0.0911 - accuracy: 0.9639 - recall: 0.3403 - AUC: 0.6373 - val_loss: 0.1011 - val_accuracy: 0.9615 - val_recall: 0.2859 - val_AUC: 0.6485\n",
      "Epoch 16/100\n",
      "534/534 [==============================] - 199s 372ms/step - loss: 0.0907 - accuracy: 0.9638 - recall: 0.3394 - AUC: 0.6447 - val_loss: 0.0883 - val_accuracy: 0.9644 - val_recall: 0.3436 - val_AUC: 0.6458\n",
      "Epoch 17/100\n",
      "534/534 [==============================] - 197s 369ms/step - loss: 0.0902 - accuracy: 0.9640 - recall: 0.3429 - AUC: 0.6417 - val_loss: 0.0905 - val_accuracy: 0.9641 - val_recall: 0.3436 - val_AUC: 0.6563\n",
      "Epoch 18/100\n",
      "534/534 [==============================] - 198s 371ms/step - loss: 0.0900 - accuracy: 0.9639 - recall: 0.3424 - AUC: 0.6436 - val_loss: 0.0975 - val_accuracy: 0.9638 - val_recall: 0.3402 - val_AUC: 0.6497\n",
      "Epoch 19/100\n",
      "534/534 [==============================] - 199s 373ms/step - loss: 0.0898 - accuracy: 0.9640 - recall: 0.3438 - AUC: 0.6429 - val_loss: 0.0881 - val_accuracy: 0.9636 - val_recall: 0.3302 - val_AUC: 0.6595\n",
      "Epoch 20/100\n",
      "534/534 [==============================] - 199s 373ms/step - loss: 0.0896 - accuracy: 0.9642 - recall: 0.3469 - AUC: 0.6438 - val_loss: 0.0932 - val_accuracy: 0.9634 - val_recall: 0.3252 - val_AUC: 0.6397\n",
      "Epoch 21/100\n",
      "534/534 [==============================] - 200s 375ms/step - loss: 0.0897 - accuracy: 0.9642 - recall: 0.3469 - AUC: 0.6438 - val_loss: 0.0881 - val_accuracy: 0.9639 - val_recall: 0.3346 - val_AUC: 0.6491\n",
      "Epoch 22/100\n",
      "534/534 [==============================] - 200s 374ms/step - loss: 0.0891 - accuracy: 0.9643 - recall: 0.3480 - AUC: 0.6407 - val_loss: 0.0884 - val_accuracy: 0.9640 - val_recall: 0.3369 - val_AUC: 0.6605\n",
      "Epoch 23/100\n",
      "534/534 [==============================] - 199s 373ms/step - loss: 0.0889 - accuracy: 0.9643 - recall: 0.3489 - AUC: 0.6485 - val_loss: 0.0886 - val_accuracy: 0.9647 - val_recall: 0.3486 - val_AUC: 0.6410\n",
      "Epoch 24/100\n",
      "534/534 [==============================] - 200s 374ms/step - loss: 0.0888 - accuracy: 0.9643 - recall: 0.3483 - AUC: 0.6455 - val_loss: 0.0879 - val_accuracy: 0.9639 - val_recall: 0.3383 - val_AUC: 0.6663\n",
      "Epoch 25/100\n",
      "534/534 [==============================] - 199s 372ms/step - loss: 0.0886 - accuracy: 0.9643 - recall: 0.3491 - AUC: 0.6406 - val_loss: 0.0878 - val_accuracy: 0.9642 - val_recall: 0.3448 - val_AUC: 0.6491\n",
      "Epoch 26/100\n",
      "534/534 [==============================] - 199s 372ms/step - loss: 0.0883 - accuracy: 0.9645 - recall: 0.3522 - AUC: 0.6456 - val_loss: 0.0887 - val_accuracy: 0.9643 - val_recall: 0.3438 - val_AUC: 0.6361\n",
      "Epoch 27/100\n",
      "534/534 [==============================] - 198s 372ms/step - loss: 0.0880 - accuracy: 0.9646 - recall: 0.3535 - AUC: 0.6423 - val_loss: 0.0876 - val_accuracy: 0.9643 - val_recall: 0.3394 - val_AUC: 0.6567\n",
      "Epoch 28/100\n",
      "534/534 [==============================] - 198s 370ms/step - loss: 0.0880 - accuracy: 0.9647 - recall: 0.3548 - AUC: 0.6440 - val_loss: 0.0877 - val_accuracy: 0.9642 - val_recall: 0.3454 - val_AUC: 0.6383\n",
      "Epoch 29/100\n",
      "534/534 [==============================] - 201s 376ms/step - loss: 0.0878 - accuracy: 0.9646 - recall: 0.3538 - AUC: 0.6464 - val_loss: 0.0883 - val_accuracy: 0.9643 - val_recall: 0.3413 - val_AUC: 0.6769\n",
      "Epoch 30/100\n",
      "534/534 [==============================] - 203s 379ms/step - loss: 0.0871 - accuracy: 0.9647 - recall: 0.3558 - AUC: 0.6414 - val_loss: 0.0871 - val_accuracy: 0.9643 - val_recall: 0.3352 - val_AUC: 0.6819\n",
      "Epoch 31/100\n",
      "534/534 [==============================] - 198s 371ms/step - loss: 0.0872 - accuracy: 0.9647 - recall: 0.3562 - AUC: 0.6446 - val_loss: 0.0901 - val_accuracy: 0.9641 - val_recall: 0.3436 - val_AUC: 0.6614\n",
      "Epoch 32/100\n",
      "534/534 [==============================] - 196s 367ms/step - loss: 0.0869 - accuracy: 0.9649 - recall: 0.3584 - AUC: 0.6500 - val_loss: 0.0876 - val_accuracy: 0.9645 - val_recall: 0.3492 - val_AUC: 0.6449\n",
      "Epoch 33/100\n",
      "534/534 [==============================] - 198s 372ms/step - loss: 0.0869 - accuracy: 0.9648 - recall: 0.3571 - AUC: 0.6486 - val_loss: 0.0869 - val_accuracy: 0.9646 - val_recall: 0.3509 - val_AUC: 0.6541\n",
      "Epoch 34/100\n",
      "534/534 [==============================] - 199s 372ms/step - loss: 0.0867 - accuracy: 0.9648 - recall: 0.3562 - AUC: 0.6512 - val_loss: 0.0871 - val_accuracy: 0.9647 - val_recall: 0.3521 - val_AUC: 0.6541\n",
      "Epoch 35/100\n",
      "534/534 [==============================] - 199s 373ms/step - loss: 0.0866 - accuracy: 0.9649 - recall: 0.3596 - AUC: 0.6547 - val_loss: 0.0877 - val_accuracy: 0.9646 - val_recall: 0.3488 - val_AUC: 0.6588\n",
      "Epoch 36/100\n",
      "534/534 [==============================] - 198s 371ms/step - loss: 0.0863 - accuracy: 0.9649 - recall: 0.3587 - AUC: 0.6499 - val_loss: 0.0873 - val_accuracy: 0.9644 - val_recall: 0.3463 - val_AUC: 0.6715\n",
      "Epoch 37/100\n",
      "534/534 [==============================] - 198s 371ms/step - loss: 0.0864 - accuracy: 0.9649 - recall: 0.3580 - AUC: 0.6510 - val_loss: 0.0877 - val_accuracy: 0.9648 - val_recall: 0.3498 - val_AUC: 0.6670\n",
      "Epoch 38/100\n",
      "534/534 [==============================] - 198s 370ms/step - loss: 0.0858 - accuracy: 0.9651 - recall: 0.3611 - AUC: 0.6522 - val_loss: 0.0895 - val_accuracy: 0.9644 - val_recall: 0.3440 - val_AUC: 0.6720\n",
      "Epoch 39/100\n",
      "534/534 [==============================] - 201s 376ms/step - loss: 0.0857 - accuracy: 0.9651 - recall: 0.3599 - AUC: 0.6447 - val_loss: 0.0874 - val_accuracy: 0.9643 - val_recall: 0.3421 - val_AUC: 0.6648\n",
      "Epoch 40/100\n",
      "534/534 [==============================] - 199s 372ms/step - loss: 0.0860 - accuracy: 0.9650 - recall: 0.3600 - AUC: 0.6508 - val_loss: 0.0879 - val_accuracy: 0.9643 - val_recall: 0.3398 - val_AUC: 0.6632\n",
      "Epoch 41/100\n",
      "534/534 [==============================] - 196s 368ms/step - loss: 0.0855 - accuracy: 0.9650 - recall: 0.3607 - AUC: 0.6537 - val_loss: 0.0868 - val_accuracy: 0.9646 - val_recall: 0.3440 - val_AUC: 0.6537\n",
      "Epoch 42/100\n",
      "534/534 [==============================] - 198s 370ms/step - loss: 0.0850 - accuracy: 0.9651 - recall: 0.3616 - AUC: 0.6515 - val_loss: 0.0897 - val_accuracy: 0.9644 - val_recall: 0.3467 - val_AUC: 0.6552\n",
      "Epoch 43/100\n",
      "534/534 [==============================] - 200s 375ms/step - loss: 0.0848 - accuracy: 0.9652 - recall: 0.3628 - AUC: 0.6500 - val_loss: 0.0901 - val_accuracy: 0.9639 - val_recall: 0.3383 - val_AUC: 0.6593\n",
      "Epoch 44/100\n",
      "534/534 [==============================] - 198s 371ms/step - loss: 0.0851 - accuracy: 0.9651 - recall: 0.3620 - AUC: 0.6596 - val_loss: 0.0899 - val_accuracy: 0.9645 - val_recall: 0.3509 - val_AUC: 0.6450\n",
      "Epoch 45/100\n",
      "534/534 [==============================] - 199s 374ms/step - loss: 0.0849 - accuracy: 0.9651 - recall: 0.3606 - AUC: 0.6556 - val_loss: 0.0872 - val_accuracy: 0.9646 - val_recall: 0.3492 - val_AUC: 0.6624\n",
      "Epoch 46/100\n",
      "534/534 [==============================] - 199s 373ms/step - loss: 0.0839 - accuracy: 0.9653 - recall: 0.3634 - AUC: 0.6523 - val_loss: 0.0880 - val_accuracy: 0.9649 - val_recall: 0.3578 - val_AUC: 0.6601\n",
      "Epoch 47/100\n",
      "534/534 [==============================] - 206s 386ms/step - loss: 0.0846 - accuracy: 0.9651 - recall: 0.3615 - AUC: 0.6486 - val_loss: 0.0887 - val_accuracy: 0.9647 - val_recall: 0.3532 - val_AUC: 0.6582\n",
      "Epoch 48/100\n",
      "534/534 [==============================] - 239s 447ms/step - loss: 0.0840 - accuracy: 0.9652 - recall: 0.3611 - AUC: 0.6512 - val_loss: 0.0870 - val_accuracy: 0.9650 - val_recall: 0.3607 - val_AUC: 0.6633\n",
      "Epoch 49/100\n",
      "534/534 [==============================] - 225s 422ms/step - loss: 0.0833 - accuracy: 0.9654 - recall: 0.3664 - AUC: 0.6606 - val_loss: 0.0890 - val_accuracy: 0.9647 - val_recall: 0.3517 - val_AUC: 0.6679\n",
      "Epoch 50/100\n",
      "534/534 [==============================] - 199s 373ms/step - loss: 0.0841 - accuracy: 0.9652 - recall: 0.3624 - AUC: 0.6602 - val_loss: 0.0876 - val_accuracy: 0.9646 - val_recall: 0.3480 - val_AUC: 0.6716\n",
      "Epoch 51/100\n",
      "534/534 [==============================] - 194s 362ms/step - loss: 0.0833 - accuracy: 0.9655 - recall: 0.3683 - AUC: 0.6566 - val_loss: 0.0933 - val_accuracy: 0.9650 - val_recall: 0.3609 - val_AUC: 0.6595\n",
      "Epoch 52/100\n",
      "534/534 [==============================] - 208s 390ms/step - loss: 0.0837 - accuracy: 0.9655 - recall: 0.3672 - AUC: 0.6600 - val_loss: 0.0882 - val_accuracy: 0.9647 - val_recall: 0.3475 - val_AUC: 0.6647\n",
      "Epoch 53/100\n",
      "534/534 [==============================] - 201s 377ms/step - loss: 0.0834 - accuracy: 0.9656 - recall: 0.3687 - AUC: 0.6556 - val_loss: 0.0882 - val_accuracy: 0.9647 - val_recall: 0.3569 - val_AUC: 0.6576\n",
      "Epoch 54/100\n",
      "534/534 [==============================] - 191s 357ms/step - loss: 0.0825 - accuracy: 0.9657 - recall: 0.3704 - AUC: 0.6578 - val_loss: 0.0900 - val_accuracy: 0.9647 - val_recall: 0.3594 - val_AUC: 0.6464\n",
      "Epoch 55/100\n",
      "534/534 [==============================] - 198s 371ms/step - loss: 0.0827 - accuracy: 0.9655 - recall: 0.3682 - AUC: 0.6610 - val_loss: 0.0882 - val_accuracy: 0.9649 - val_recall: 0.3563 - val_AUC: 0.6677\n",
      "Epoch 56/100\n",
      "534/534 [==============================] - 198s 371ms/step - loss: 0.0831 - accuracy: 0.9655 - recall: 0.3673 - AUC: 0.6612 - val_loss: 0.0891 - val_accuracy: 0.9647 - val_recall: 0.3500 - val_AUC: 0.6569\n",
      "Epoch 57/100\n",
      "534/534 [==============================] - 195s 365ms/step - loss: 0.0826 - accuracy: 0.9653 - recall: 0.3648 - AUC: 0.6720 - val_loss: 0.0869 - val_accuracy: 0.9651 - val_recall: 0.3588 - val_AUC: 0.6720\n",
      "Epoch 58/100\n",
      "534/534 [==============================] - 218s 409ms/step - loss: 0.0821 - accuracy: 0.9656 - recall: 0.3695 - AUC: 0.6576 - val_loss: 0.0896 - val_accuracy: 0.9645 - val_recall: 0.3523 - val_AUC: 0.6600\n",
      "Epoch 59/100\n",
      "534/534 [==============================] - 212s 397ms/step - loss: 0.0822 - accuracy: 0.9657 - recall: 0.3706 - AUC: 0.6600 - val_loss: 0.0894 - val_accuracy: 0.9643 - val_recall: 0.3515 - val_AUC: 0.6610\n",
      "Epoch 60/100\n",
      "534/534 [==============================] - 218s 409ms/step - loss: 0.0819 - accuracy: 0.9656 - recall: 0.3689 - AUC: 0.6603 - val_loss: 0.0884 - val_accuracy: 0.9649 - val_recall: 0.3578 - val_AUC: 0.6688\n",
      "Epoch 61/100\n",
      "534/534 [==============================] - 212s 397ms/step - loss: 0.0821 - accuracy: 0.9656 - recall: 0.3689 - AUC: 0.6615 - val_loss: 0.0880 - val_accuracy: 0.9650 - val_recall: 0.3592 - val_AUC: 0.6676\n",
      "Epoch 62/100\n",
      "534/534 [==============================] - 210s 393ms/step - loss: 0.0814 - accuracy: 0.9657 - recall: 0.3701 - AUC: 0.6672 - val_loss: 0.0897 - val_accuracy: 0.9644 - val_recall: 0.3544 - val_AUC: 0.6454\n",
      "Epoch 63/100\n",
      "534/534 [==============================] - 209s 391ms/step - loss: 0.0810 - accuracy: 0.9659 - recall: 0.3725 - AUC: 0.6647 - val_loss: 0.0917 - val_accuracy: 0.9640 - val_recall: 0.3346 - val_AUC: 0.6677\n",
      "Epoch 64/100\n",
      "534/534 [==============================] - 201s 376ms/step - loss: 0.0818 - accuracy: 0.9657 - recall: 0.3703 - AUC: 0.6618 - val_loss: 0.0890 - val_accuracy: 0.9652 - val_recall: 0.3661 - val_AUC: 0.6622\n",
      "Epoch 65/100\n",
      "534/534 [==============================] - 213s 399ms/step - loss: 0.0818 - accuracy: 0.9658 - recall: 0.3717 - AUC: 0.6626 - val_loss: 0.0888 - val_accuracy: 0.9651 - val_recall: 0.3578 - val_AUC: 0.6524\n",
      "Epoch 66/100\n",
      "534/534 [==============================] - 196s 368ms/step - loss: 0.0804 - accuracy: 0.9658 - recall: 0.3721 - AUC: 0.6718 - val_loss: 0.0914 - val_accuracy: 0.9648 - val_recall: 0.3580 - val_AUC: 0.6728\n",
      "Epoch 67/100\n",
      "534/534 [==============================] - 196s 367ms/step - loss: 0.0802 - accuracy: 0.9657 - recall: 0.3708 - AUC: 0.6660 - val_loss: 0.0893 - val_accuracy: 0.9648 - val_recall: 0.3509 - val_AUC: 0.6757\n",
      "Epoch 68/100\n",
      "534/534 [==============================] - 195s 366ms/step - loss: 0.0802 - accuracy: 0.9660 - recall: 0.3734 - AUC: 0.6642 - val_loss: 0.0912 - val_accuracy: 0.9652 - val_recall: 0.3611 - val_AUC: 0.6603\n",
      "Epoch 69/100\n",
      "534/534 [==============================] - 193s 361ms/step - loss: 0.0800 - accuracy: 0.9660 - recall: 0.3739 - AUC: 0.6637 - val_loss: 0.0902 - val_accuracy: 0.9650 - val_recall: 0.3615 - val_AUC: 0.6493\n",
      "Epoch 70/100\n",
      "534/534 [==============================] - 189s 353ms/step - loss: 0.0812 - accuracy: 0.9657 - recall: 0.3705 - AUC: 0.6632 - val_loss: 0.0896 - val_accuracy: 0.9649 - val_recall: 0.3551 - val_AUC: 0.6653\n",
      "Epoch 71/100\n",
      "534/534 [==============================] - 196s 368ms/step - loss: 0.0798 - accuracy: 0.9660 - recall: 0.3739 - AUC: 0.6741 - val_loss: 0.0957 - val_accuracy: 0.9638 - val_recall: 0.3473 - val_AUC: 0.6565\n",
      "Epoch 72/100\n",
      "534/534 [==============================] - 195s 365ms/step - loss: 0.0795 - accuracy: 0.9660 - recall: 0.3753 - AUC: 0.6706 - val_loss: 0.0908 - val_accuracy: 0.9652 - val_recall: 0.3628 - val_AUC: 0.6647\n",
      "Epoch 73/100\n",
      "534/534 [==============================] - 196s 367ms/step - loss: 0.0791 - accuracy: 0.9660 - recall: 0.3747 - AUC: 0.6748 - val_loss: 0.0908 - val_accuracy: 0.9652 - val_recall: 0.3615 - val_AUC: 0.6464\n",
      "Epoch 74/100\n",
      "534/534 [==============================] - 211s 396ms/step - loss: 0.0791 - accuracy: 0.9661 - recall: 0.3756 - AUC: 0.6637 - val_loss: 0.0903 - val_accuracy: 0.9646 - val_recall: 0.3511 - val_AUC: 0.6436\n",
      "Epoch 75/100\n",
      "534/534 [==============================] - 217s 407ms/step - loss: 0.0793 - accuracy: 0.9660 - recall: 0.3743 - AUC: 0.6732 - val_loss: 0.0929 - val_accuracy: 0.9648 - val_recall: 0.3557 - val_AUC: 0.6509\n",
      "Epoch 76/100\n",
      "534/534 [==============================] - 214s 400ms/step - loss: 0.0785 - accuracy: 0.9661 - recall: 0.3757 - AUC: 0.6609 - val_loss: 0.0919 - val_accuracy: 0.9646 - val_recall: 0.3574 - val_AUC: 0.6553\n",
      "Epoch 77/100\n",
      "534/534 [==============================] - 207s 387ms/step - loss: 0.0786 - accuracy: 0.9661 - recall: 0.3769 - AUC: 0.6643 - val_loss: 0.0909 - val_accuracy: 0.9650 - val_recall: 0.3626 - val_AUC: 0.6435\n",
      "Epoch 78/100\n",
      "534/534 [==============================] - 201s 377ms/step - loss: 0.0783 - accuracy: 0.9660 - recall: 0.3754 - AUC: 0.6730 - val_loss: 0.0907 - val_accuracy: 0.9650 - val_recall: 0.3594 - val_AUC: 0.6751\n",
      "Epoch 79/100\n",
      "534/534 [==============================] - 219s 410ms/step - loss: 0.0782 - accuracy: 0.9662 - recall: 0.3773 - AUC: 0.6712 - val_loss: 0.0946 - val_accuracy: 0.9645 - val_recall: 0.3540 - val_AUC: 0.6759\n",
      "Epoch 80/100\n",
      "534/534 [==============================] - 247s 463ms/step - loss: 0.0781 - accuracy: 0.9661 - recall: 0.3763 - AUC: 0.6695 - val_loss: 0.0921 - val_accuracy: 0.9647 - val_recall: 0.3496 - val_AUC: 0.6738\n",
      "Epoch 81/100\n",
      "534/534 [==============================] - 255s 478ms/step - loss: 0.0779 - accuracy: 0.9661 - recall: 0.3759 - AUC: 0.6709 - val_loss: 0.0892 - val_accuracy: 0.9649 - val_recall: 0.3559 - val_AUC: 0.6793\n",
      "Epoch 82/100\n",
      "534/534 [==============================] - 261s 489ms/step - loss: 0.0776 - accuracy: 0.9661 - recall: 0.3758 - AUC: 0.6742 - val_loss: 0.0925 - val_accuracy: 0.9647 - val_recall: 0.3561 - val_AUC: 0.6733\n",
      "Epoch 83/100\n",
      "534/534 [==============================] - 263s 492ms/step - loss: 0.0761 - accuracy: 0.9663 - recall: 0.3780 - AUC: 0.6693 - val_loss: 0.0932 - val_accuracy: 0.9647 - val_recall: 0.3525 - val_AUC: 0.6947\n",
      "Epoch 84/100\n",
      "534/534 [==============================] - 259s 486ms/step - loss: 0.0770 - accuracy: 0.9661 - recall: 0.3748 - AUC: 0.6710 - val_loss: 0.0927 - val_accuracy: 0.9651 - val_recall: 0.3640 - val_AUC: 0.6584\n",
      "Epoch 85/100\n",
      "534/534 [==============================] - 266s 497ms/step - loss: 0.0771 - accuracy: 0.9661 - recall: 0.3755 - AUC: 0.6725 - val_loss: 0.0914 - val_accuracy: 0.9651 - val_recall: 0.3630 - val_AUC: 0.6583\n",
      "Epoch 86/100\n",
      "534/534 [==============================] - 271s 508ms/step - loss: 0.0772 - accuracy: 0.9662 - recall: 0.3765 - AUC: 0.6751 - val_loss: 0.0978 - val_accuracy: 0.9646 - val_recall: 0.3513 - val_AUC: 0.6586\n",
      "Epoch 87/100\n",
      "534/534 [==============================] - 312s 584ms/step - loss: 0.0770 - accuracy: 0.9662 - recall: 0.3759 - AUC: 0.6682 - val_loss: 0.0944 - val_accuracy: 0.9648 - val_recall: 0.3571 - val_AUC: 0.6463\n",
      "Epoch 88/100\n",
      "534/534 [==============================] - 233s 436ms/step - loss: 0.0762 - accuracy: 0.9662 - recall: 0.3773 - AUC: 0.6740 - val_loss: 0.0969 - val_accuracy: 0.9640 - val_recall: 0.3457 - val_AUC: 0.6839\n",
      "Epoch 89/100\n",
      "534/534 [==============================] - 226s 423ms/step - loss: 0.0761 - accuracy: 0.9663 - recall: 0.3786 - AUC: 0.6744 - val_loss: 0.0954 - val_accuracy: 0.9649 - val_recall: 0.3588 - val_AUC: 0.6731\n",
      "Epoch 90/100\n",
      "534/534 [==============================] - 209s 391ms/step - loss: 0.0757 - accuracy: 0.9664 - recall: 0.3783 - AUC: 0.6678 - val_loss: 0.0915 - val_accuracy: 0.9651 - val_recall: 0.3617 - val_AUC: 0.6376\n",
      "Epoch 91/100\n",
      "534/534 [==============================] - 25706s 48s/step - loss: 0.0749 - accuracy: 0.9664 - recall: 0.3791 - AUC: 0.6727 - val_loss: 0.0960 - val_accuracy: 0.9648 - val_recall: 0.3603 - val_AUC: 0.6564\n",
      "Epoch 92/100\n",
      "534/534 [==============================] - 239s 448ms/step - loss: 0.0757 - accuracy: 0.9663 - recall: 0.3793 - AUC: 0.6737 - val_loss: 0.0910 - val_accuracy: 0.9652 - val_recall: 0.3586 - val_AUC: 0.6792\n",
      "Epoch 93/100\n",
      "534/534 [==============================] - 195s 365ms/step - loss: 0.0755 - accuracy: 0.9662 - recall: 0.3775 - AUC: 0.6675 - val_loss: 0.0933 - val_accuracy: 0.9644 - val_recall: 0.3538 - val_AUC: 0.6672\n",
      "Epoch 94/100\n",
      "534/534 [==============================] - 211s 395ms/step - loss: 0.0749 - accuracy: 0.9665 - recall: 0.3810 - AUC: 0.6787 - val_loss: 0.0964 - val_accuracy: 0.9643 - val_recall: 0.3517 - val_AUC: 0.6768\n",
      "Epoch 95/100\n",
      "534/534 [==============================] - 196s 367ms/step - loss: 0.0755 - accuracy: 0.9662 - recall: 0.3777 - AUC: 0.6796 - val_loss: 0.0943 - val_accuracy: 0.9648 - val_recall: 0.3565 - val_AUC: 0.6753\n",
      "Epoch 96/100\n",
      "534/534 [==============================] - 196s 367ms/step - loss: 0.0745 - accuracy: 0.9663 - recall: 0.3780 - AUC: 0.6776 - val_loss: 0.0966 - val_accuracy: 0.9646 - val_recall: 0.3630 - val_AUC: 0.6587\n",
      "Epoch 97/100\n",
      "534/534 [==============================] - 214s 401ms/step - loss: 0.0749 - accuracy: 0.9664 - recall: 0.3811 - AUC: 0.6710 - val_loss: 0.0951 - val_accuracy: 0.9648 - val_recall: 0.3605 - val_AUC: 0.6728\n",
      "Epoch 98/100\n",
      "534/534 [==============================] - 209s 391ms/step - loss: 0.0745 - accuracy: 0.9664 - recall: 0.3802 - AUC: 0.6761 - val_loss: 0.0953 - val_accuracy: 0.9644 - val_recall: 0.3519 - val_AUC: 0.6773\n",
      "Epoch 99/100\n",
      "534/534 [==============================] - 191s 357ms/step - loss: 0.0745 - accuracy: 0.9663 - recall: 0.3787 - AUC: 0.6785 - val_loss: 0.0953 - val_accuracy: 0.9650 - val_recall: 0.3634 - val_AUC: 0.6600\n",
      "Epoch 100/100\n",
      "534/534 [==============================] - 188s 352ms/step - loss: 0.0735 - accuracy: 0.9666 - recall: 0.3830 - AUC: 0.6752 - val_loss: 0.0987 - val_accuracy: 0.9647 - val_recall: 0.3626 - val_AUC: 0.6549\n"
     ]
    }
   ],
   "source": [
    "history = model.fit(X_train_lead1, y_train, validation_data=(X_val_lead1, y_val), epochs=100)"
   ]
  },
  {
   "cell_type": "code",
   "execution_count": 18,
   "metadata": {},
   "outputs": [
    {
     "data": {
      "text/plain": [
       "<matplotlib.legend.Legend at 0x28628ddc790>"
      ]
     },
     "execution_count": 18,
     "metadata": {},
     "output_type": "execute_result"
    },
    {
     "data": {
      "image/png": "[encoded data removed]",
      "text/plain": [
       "<Figure size 432x288 with 1 Axes>"
      ]
     },
     "metadata": {
      "needs_background": "light"
     },
     "output_type": "display_data"
    }
   ],
   "source": [
    "import matplotlib.pyplot as plt\n",
    "\n",
    "plt.plot(history.history['val_AUC'],label='val')\n",
    "plt.plot(history.history['AUC'],label='train')\n",
    "plt.xlabel(\"Epochs\")\n",
    "plt.ylabel(\"AUC\")\n",
    "plt.legend()"
   ]
  },
  {
   "cell_type": "code",
   "execution_count": 19,
   "metadata": {},
   "outputs": [
    {
     "name": "stdout",
     "output_type": "stream",
     "text": [
      "534/534 [==============================] - 46s 84ms/step\n"
     ]
    },
    {
     "data": {
      "text/plain": [
       "0.856443706524591"
      ]
     },
     "execution_count": 19,
     "metadata": {},
     "output_type": "execute_result"
    }
   ],
   "source": [
    "from sklearn.metrics import roc_auc_score\n",
    "\n",
    "preds = model.predict(X_train_lead1)\n",
    "\n",
    "roc_auc_score(y_train,preds)"
   ]
  },
  {
   "cell_type": "code",
   "execution_count": 20,
   "metadata": {},
   "outputs": [
    {
     "name": "stdout",
     "output_type": "stream",
     "text": [
      "68/68 [==============================] - 7s 96ms/step\n"
     ]
    },
    {
     "data": {
      "text/plain": [
       "0.8027187783693546"
      ]
     },
     "execution_count": 20,
     "metadata": {},
     "output_type": "execute_result"
    }
   ],
   "source": [
    "from sklearn.metrics import roc_auc_score\n",
    "\n",
    "preds = model.predict(X_test_lead1)\n",
    "\n",
    "roc_auc_score(y_test,preds)"
   ]
  },
  {
   "cell_type": "code",
   "execution_count": 21,
   "metadata": {},
   "outputs": [
    {
     "name": "stdout",
     "output_type": "stream",
     "text": [
      "67/67 [==============================] - 3s 43ms/step\n"
     ]
    },
    {
     "data": {
      "text/plain": [
       "0.7971845135925308"
      ]
     },
     "execution_count": 21,
     "metadata": {},
     "output_type": "execute_result"
    }
   ],
   "source": [
    "preds = model.predict(X_val_lead1)\n",
    "\n",
    "roc_auc_score(y_val,preds)"
   ]
  },
  {
   "cell_type": "code",
   "execution_count": 22,
   "metadata": {},
   "outputs": [
    {
     "name": "stdout",
     "output_type": "stream",
     "text": [
      "668/668 [==============================] - 57s 85ms/step\n"
     ]
    },
    {
     "data": {
      "text/plain": [
       "0.8451306213611584"
      ]
     },
     "execution_count": 22,
     "metadata": {},
     "output_type": "execute_result"
    }
   ],
   "source": [
    "import numpy as np\n",
    "y = np.concatenate([y_train,y_val, y_test])\n",
    "X = np.concatenate([X_train_lead1, X_val_lead1,X_test_lead1])\n",
    "\n",
    "preds = model.predict(X)\n",
    "\n",
    "roc_auc_score(y,preds)"
   ]
  },
  {
   "cell_type": "code",
   "execution_count": null,
   "metadata": {},
   "outputs": [],
   "source": []
  },
  {
   "cell_type": "code",
   "execution_count": 23,
   "metadata": {},
   "outputs": [
    {
     "ename": "AssertionError",
     "evalue": "",
     "output_type": "error",
     "traceback": [
      "\u001b[1;31m---------------------------------------------------------------------------\u001b[0m",
      "\u001b[1;31mAssertionError\u001b[0m                            Traceback (most recent call last)",
      "Input \u001b[1;32mIn [23]\u001b[0m, in \u001b[0;36m<cell line: 21>\u001b[1;34m()\u001b[0m\n\u001b[0;32m     19\u001b[0m model\u001b[38;5;241m.\u001b[39madd(MaxPool1D(pool_size\u001b[38;5;241m=\u001b[39m\u001b[38;5;241m2\u001b[39m, strides\u001b[38;5;241m=\u001b[39m\u001b[38;5;241m2\u001b[39m, padding\u001b[38;5;241m=\u001b[39m\u001b[38;5;124m'\u001b[39m\u001b[38;5;124msame\u001b[39m\u001b[38;5;124m'\u001b[39m))\n\u001b[0;32m     20\u001b[0m model\u001b[38;5;241m.\u001b[39madd(GlobalAveragePooling1D())\n\u001b[1;32m---> 21\u001b[0m \u001b[43mmodel\u001b[49m\u001b[38;5;241;43m.\u001b[39;49m\u001b[43madd\u001b[49m\u001b[43m(\u001b[49m\u001b[43mAttentionWithContext\u001b[49m\u001b[43m(\u001b[49m\u001b[43m)\u001b[49m\u001b[43m)\u001b[49m\n\u001b[0;32m     22\u001b[0m model\u001b[38;5;241m.\u001b[39madd(Dense(\u001b[38;5;241m128\u001b[39m, activation\u001b[38;5;241m=\u001b[39m\u001b[38;5;124m'\u001b[39m\u001b[38;5;124mrelu\u001b[39m\u001b[38;5;124m'\u001b[39m))\n\u001b[0;32m     23\u001b[0m model\u001b[38;5;241m.\u001b[39madd(Dropout(\u001b[38;5;241m0.4\u001b[39m))\n",
      "File \u001b[1;32mc:\\Users\\agarw\\AppData\\Local\\Programs\\Python\\Python310\\lib\\site-packages\\tensorflow\\python\\trackable\\base.py:205\u001b[0m, in \u001b[0;36mno_automatic_dependency_tracking.<locals>._method_wrapper\u001b[1;34m(self, *args, **kwargs)\u001b[0m\n\u001b[0;32m    203\u001b[0m \u001b[38;5;28mself\u001b[39m\u001b[38;5;241m.\u001b[39m_self_setattr_tracking \u001b[38;5;241m=\u001b[39m \u001b[38;5;28;01mFalse\u001b[39;00m  \u001b[38;5;66;03m# pylint: disable=protected-access\u001b[39;00m\n\u001b[0;32m    204\u001b[0m \u001b[38;5;28;01mtry\u001b[39;00m:\n\u001b[1;32m--> 205\u001b[0m   result \u001b[38;5;241m=\u001b[39m method(\u001b[38;5;28mself\u001b[39m, \u001b[38;5;241m*\u001b[39margs, \u001b[38;5;241m*\u001b[39m\u001b[38;5;241m*\u001b[39mkwargs)\n\u001b[0;32m    206\u001b[0m \u001b[38;5;28;01mfinally\u001b[39;00m:\n\u001b[0;32m    207\u001b[0m   \u001b[38;5;28mself\u001b[39m\u001b[38;5;241m.\u001b[39m_self_setattr_tracking \u001b[38;5;241m=\u001b[39m previous_value  \u001b[38;5;66;03m# pylint: disable=protected-access\u001b[39;00m\n",
      "File \u001b[1;32mc:\\Users\\agarw\\AppData\\Local\\Programs\\Python\\Python310\\lib\\site-packages\\keras\\utils\\traceback_utils.py:70\u001b[0m, in \u001b[0;36mfilter_traceback.<locals>.error_handler\u001b[1;34m(*args, **kwargs)\u001b[0m\n\u001b[0;32m     67\u001b[0m     filtered_tb \u001b[38;5;241m=\u001b[39m _process_traceback_frames(e\u001b[38;5;241m.\u001b[39m__traceback__)\n\u001b[0;32m     68\u001b[0m     \u001b[38;5;66;03m# To get the full stack trace, call:\u001b[39;00m\n\u001b[0;32m     69\u001b[0m     \u001b[38;5;66;03m# `tf.debugging.disable_traceback_filtering()`\u001b[39;00m\n\u001b[1;32m---> 70\u001b[0m     \u001b[38;5;28;01mraise\u001b[39;00m e\u001b[38;5;241m.\u001b[39mwith_traceback(filtered_tb) \u001b[38;5;28;01mfrom\u001b[39;00m \u001b[38;5;28mNone\u001b[39m\n\u001b[0;32m     71\u001b[0m \u001b[38;5;28;01mfinally\u001b[39;00m:\n\u001b[0;32m     72\u001b[0m     \u001b[38;5;28;01mdel\u001b[39;00m filtered_tb\n",
      "Input \u001b[1;32mIn [11]\u001b[0m, in \u001b[0;36mAttentionWithContext.build\u001b[1;34m(self, input_shape)\u001b[0m\n\u001b[0;32m     23\u001b[0m \u001b[38;5;28;01mdef\u001b[39;00m \u001b[38;5;21mbuild\u001b[39m(\u001b[38;5;28mself\u001b[39m, input_shape):\n\u001b[1;32m---> 24\u001b[0m     \u001b[38;5;28;01massert\u001b[39;00m \u001b[38;5;28mlen\u001b[39m(input_shape) \u001b[38;5;241m==\u001b[39m \u001b[38;5;241m3\u001b[39m\n\u001b[0;32m     25\u001b[0m     \u001b[38;5;28mself\u001b[39m\u001b[38;5;241m.\u001b[39mW \u001b[38;5;241m=\u001b[39m \u001b[38;5;28mself\u001b[39m\u001b[38;5;241m.\u001b[39madd_weight(shape\u001b[38;5;241m=\u001b[39m(input_shape[\u001b[38;5;241m-\u001b[39m\u001b[38;5;241m1\u001b[39m], input_shape[\u001b[38;5;241m-\u001b[39m\u001b[38;5;241m1\u001b[39m],),\n\u001b[0;32m     26\u001b[0m                              initializer\u001b[38;5;241m=\u001b[39m\u001b[38;5;28mself\u001b[39m\u001b[38;5;241m.\u001b[39minit,\n\u001b[0;32m     27\u001b[0m                              name\u001b[38;5;241m=\u001b[39m\u001b[38;5;124m'\u001b[39m\u001b[38;5;132;01m{}\u001b[39;00m\u001b[38;5;124m_W\u001b[39m\u001b[38;5;124m'\u001b[39m\u001b[38;5;241m.\u001b[39mformat(\u001b[38;5;28mself\u001b[39m\u001b[38;5;241m.\u001b[39mname),\n\u001b[0;32m     28\u001b[0m                              regularizer\u001b[38;5;241m=\u001b[39m\u001b[38;5;28mself\u001b[39m\u001b[38;5;241m.\u001b[39mW_regularizer,\n\u001b[0;32m     29\u001b[0m                              constraint\u001b[38;5;241m=\u001b[39m\u001b[38;5;28mself\u001b[39m\u001b[38;5;241m.\u001b[39mW_constraint)\n\u001b[0;32m     30\u001b[0m     \u001b[38;5;28;01mif\u001b[39;00m \u001b[38;5;28mself\u001b[39m\u001b[38;5;241m.\u001b[39mbias:\n",
      "\u001b[1;31mAssertionError\u001b[0m: "
     ]
    }
   ],
   "source": [
    "model = Sequential()\n",
    "model.add(Conv1D(filters=96, kernel_size=11, strides=4, input_shape=(1000,1)))\n",
    "model.add(BatchNormalization())\n",
    "model.add(Activation('relu'))\n",
    "model.add(MaxPool1D(pool_size=2, strides=2, padding='same'))\n",
    "model.add(Conv1D(filters=256, kernel_size=5))\n",
    "model.add(BatchNormalization())\n",
    "model.add(Activation('relu'))\n",
    "model.add(MaxPool1D(pool_size=2, strides=2, padding='same'))\n",
    "model.add(Conv1D(filters=384, padding='same', kernel_size=3))\n",
    "model.add(BatchNormalization())\n",
    "model.add(Activation('relu'))\n",
    "model.add(Conv1D(filters=384, padding='same', kernel_size=3))\n",
    "model.add(BatchNormalization())\n",
    "model.add(Activation('relu'))\n",
    "model.add(Conv1D(filters=256, kernel_size=3))\n",
    "model.add(BatchNormalization())\n",
    "model.add(Activation('relu'))\n",
    "model.add(MaxPool1D(pool_size=2, strides=2, padding='same'))\n",
    "model.add(GlobalAveragePooling1D())\n",
    "model.add(AttentionWithContext())\n",
    "model.add(Dense(128, activation='relu'))\n",
    "model.add(Dropout(0.4))\n",
    "model.add(Dense(128, activation='relu'))\n",
    "model.add(Dropout(0.4))\n",
    "model.add(Dense(43, activation='sigmoid'))"
   ]
  },
  {
   "cell_type": "code",
   "execution_count": null,
   "metadata": {},
   "outputs": [],
   "source": []
  }
 ],
 "metadata": {
  "kernelspec": {
   "display_name": "Python 3",
   "language": "python",
   "name": "python3"
  },
  "language_info": {
   "codemirror_mode": {
    "name": "ipython",
    "version": 3
   },
   "file_extension": ".py",
   "mimetype": "text/x-python",
   "name": "python",
   "nbconvert_exporter": "python",
   "pygments_lexer": "ipython3",
   "version": "3.10.4"
  }
 },
 "nbformat": 4,
 "nbformat_minor": 2
}
